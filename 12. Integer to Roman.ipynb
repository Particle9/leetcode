{
 "cells": [
  {
   "cell_type": "code",
   "execution_count": 1,
   "id": "f273a40f-bdf1-4ec6-9557-31e1ac5fd38f",
   "metadata": {},
   "outputs": [],
   "source": [
    "class Solution:\n",
    "    def intToRoman(self, num: int) -> str:\n",
    "        conversion_dct = {\n",
    "            1: 'I',\n",
    "            4: 'IV',\n",
    "            5: 'V',\n",
    "            9: 'IX',\n",
    "            10: 'X',\n",
    "            40: 'XL',\n",
    "            50: 'L',\n",
    "            90: 'XC',\n",
    "            100: 'C',\n",
    "            400: 'CD',\n",
    "            500: 'D',\n",
    "            900: 'CM',\n",
    "            1000: 'M'\n",
    "        }\n",
    "\n",
    "        order_lst = reversed([x for x in conversion_dct])\n",
    "        strx = \"\"\n",
    "        numx = num\n",
    "        for largest_val, sym in reversed(conversion_dct.items()):\n",
    "            while numx - largest_val >= 0:\n",
    "                numx -= largest_val\n",
    "                strx += sym\n",
    "        return strx\n",
    "\n",
    "                \n",
    "        "
   ]
  },
  {
   "cell_type": "code",
   "execution_count": null,
   "id": "c7993e54-4467-4ec3-bac0-1c9d9e113cc1",
   "metadata": {},
   "outputs": [],
   "source": []
  }
 ],
 "metadata": {
  "kernelspec": {
   "display_name": "Python 3 (ipykernel)",
   "language": "python",
   "name": "python3"
  },
  "language_info": {
   "codemirror_mode": {
    "name": "ipython",
    "version": 3
   },
   "file_extension": ".py",
   "mimetype": "text/x-python",
   "name": "python",
   "nbconvert_exporter": "python",
   "pygments_lexer": "ipython3",
   "version": "3.9.16"
  }
 },
 "nbformat": 4,
 "nbformat_minor": 5
}
