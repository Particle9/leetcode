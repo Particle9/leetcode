{
 "cells": [
  {
   "cell_type": "code",
   "execution_count": 1,
   "id": "f273a40f-bdf1-4ec6-9557-31e1ac5fd38f",
   "metadata": {},
   "outputs": [],
   "source": [
    "class Solution:\n",
    "    def intToRoman(self, num: int) -> str:\n",
    "        conversion_dct = {\n",
    "            1: 'I',\n",
    "            4: 'IV',\n",
    "            5: 'V',\n",
    "            9: 'IX',\n",
    "            10: 'X',\n",
    "            40: 'XL',\n",
    "            50: 'L',\n",
    "            90: 'XC',\n",
    "            100: 'C',\n",
    "            400: 'CD',\n",
    "            500: 'D',\n",
    "            900: 'CM',\n",
    "            1000: 'M'\n",
    "        }\n",
    "\n",
    "        order_lst = reversed([x for x in conversion_dct])\n",
    "        strx = \"\"\n",
    "        numx = num\n",
    "        for largest_val, sym in reversed(conversion_dct.items()):\n",
    "            while numx - largest_val >= 0:\n",
    "                numx -= largest_val\n",
    "                strx += sym\n",
    "        return strx\n",
    "\n",
    "                \n",
    "        "
   ]
  },
  {
   "cell_type": "code",
   "execution_count": null,
   "id": "c7993e54-4467-4ec3-bac0-1c9d9e113cc1",
   "metadata": {},
   "outputs": [],
   "source": []
  },
  {
   "cell_type": "code",
   "execution_count": 3,
   "id": "e00f84f9-868d-464d-a79b-3e4514f5fc95",
   "metadata": {},
   "outputs": [],
   "source": [
    "sol = Solution()"
   ]
  },
  {
   "cell_type": "code",
   "execution_count": 4,
   "id": "f62c3896-f7e1-4072-bda9-3c1427fe0960",
   "metadata": {},
   "outputs": [
    {
     "data": {
      "text/plain": [
       "'MMMDCCXLIX'"
      ]
     },
     "execution_count": 4,
     "metadata": {},
     "output_type": "execute_result"
    }
   ],
   "source": [
    "sol.intToRoman(3749)"
   ]
  },
  {
   "cell_type": "code",
   "execution_count": 5,
   "id": "b920a2a7-53ff-4cc2-bdd9-3aaa5f115453",
   "metadata": {},
   "outputs": [
    {
     "data": {
      "text/plain": [
       "'LVIII'"
      ]
     },
     "execution_count": 5,
     "metadata": {},
     "output_type": "execute_result"
    }
   ],
   "source": [
    "sol.intToRoman(58)"
   ]
  },
  {
   "cell_type": "code",
   "execution_count": 6,
   "id": "75a5fcec-73ad-41ee-a99e-96483e91e17a",
   "metadata": {},
   "outputs": [
    {
     "data": {
      "text/plain": [
       "'MCMXCIV'"
      ]
     },
     "execution_count": 6,
     "metadata": {},
     "output_type": "execute_result"
    }
   ],
   "source": [
    "sol.intToRoman(1994)"
   ]
  },
  {
   "cell_type": "code",
   "execution_count": null,
   "id": "14933a69-6a55-48f3-9401-e5ac7a4bb189",
   "metadata": {},
   "outputs": [],
   "source": []
  }
 ],
 "metadata": {
  "kernelspec": {
   "display_name": "Python 3 (ipykernel)",
   "language": "python",
   "name": "python3"
  },
  "language_info": {
   "codemirror_mode": {
    "name": "ipython",
    "version": 3
   },
   "file_extension": ".py",
   "mimetype": "text/x-python",
   "name": "python",
   "nbconvert_exporter": "python",
   "pygments_lexer": "ipython3",
   "version": "3.9.16"
  }
 },
 "nbformat": 4,
 "nbformat_minor": 5
}
