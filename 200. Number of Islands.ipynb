{
 "cells": [
  {
   "cell_type": "code",
   "execution_count": null,
   "id": "23d73cb6-3271-4df2-a9df-9d89b53a62e5",
   "metadata": {},
   "outputs": [],
   "source": [
    "class Solution:\n",
    "    def numIslands(self, grid: List[List[str]]) -> int:\n",
    "        candidates = []\n",
    "        for i in range(0, len(grid)):\n",
    "            for j in range(0, len(grid[0])):\n",
    "                if grid[i][j] == \"1\":\n",
    "                    candidates += [(i,j, True)]\n",
    "\n",
    "        stack = list(reversed(candidates))\n",
    "        num_islands = 0\n",
    "        visited = set()\n",
    "        while stack:\n",
    "            i,j, isStart = stack.pop()\n",
    "            if ((i,j) in visited):\n",
    "                continue\n",
    "            elif isStart:\n",
    "                num_islands += 1\n",
    "            visited.add((i,j))\n",
    "            \n",
    "            checkDirection = [(i+1, j), (i, j+1), (i-1, j), (i, j-1)]\n",
    "            for it,jt in checkDirection:\n",
    "                if 0 <= it < len(grid) and 0 <= jt < len(grid[0]) and (it,jt) not in visited:\n",
    "                    if  grid[it][jt] == \"1\":\n",
    "                        stack += [(it,jt, False)]\n",
    "                    \n",
    "        return num_islands\n",
    "\n",
    "\n",
    "        "
   ]
  }
 ],
 "metadata": {
  "kernelspec": {
   "display_name": "Python 3 (ipykernel)",
   "language": "python",
   "name": "python3"
  },
  "language_info": {
   "codemirror_mode": {
    "name": "ipython",
    "version": 3
   },
   "file_extension": ".py",
   "mimetype": "text/x-python",
   "name": "python",
   "nbconvert_exporter": "python",
   "pygments_lexer": "ipython3",
   "version": "3.9.16"
  }
 },
 "nbformat": 4,
 "nbformat_minor": 5
}
