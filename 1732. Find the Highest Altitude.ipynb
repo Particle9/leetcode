{
 "cells": [
  {
   "cell_type": "code",
   "execution_count": null,
   "id": "74ac1a5b-7552-4838-a0a4-a9814f066d3d",
   "metadata": {},
   "outputs": [],
   "source": [
    "class Solution:\n",
    "    def largestAltitude(self, gain: List[int]) -> int:\n",
    "        currAltitude = 0\n",
    "        maxAltitude = 0\n",
    "        for g in gain:\n",
    "            currAltitude += g\n",
    "            maxAltitude = max(maxAltitude, currAltitude)\n",
    "        return maxAltitude\n",
    "        "
   ]
  }
 ],
 "metadata": {
  "kernelspec": {
   "display_name": "Python 3 (ipykernel)",
   "language": "python",
   "name": "python3"
  },
  "language_info": {
   "codemirror_mode": {
    "name": "ipython",
    "version": 3
   },
   "file_extension": ".py",
   "mimetype": "text/x-python",
   "name": "python",
   "nbconvert_exporter": "python",
   "pygments_lexer": "ipython3",
   "version": "3.9.16"
  }
 },
 "nbformat": 4,
 "nbformat_minor": 5
}
