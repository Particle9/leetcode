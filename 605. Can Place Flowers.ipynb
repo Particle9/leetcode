{
 "cells": [
  {
   "cell_type": "code",
   "execution_count": null,
   "id": "13373040-17f0-4ce1-9cdd-27df96bac153",
   "metadata": {},
   "outputs": [],
   "source": [
    "class Solution:\n",
    "    def canPlaceFlowers(self, flowerbed: List[int], n: int) -> bool:\n",
    "        prev_p = 0\n",
    "        countPossFlower = 0\n",
    "        for p in flowerbed:\n",
    "            if prev_p == 0 and p == 0:\n",
    "                countPossFlower += 1\n",
    "                prev_p = 1\n",
    "            elif prev_p == 1 and p == 0:\n",
    "                prev_p = 0\n",
    "            elif p == 1 and prev_p == 1:\n",
    "                countPossFlower -= 1\n",
    "                prev_p = 1\n",
    "            elif p == 1:\n",
    "                prev_p = 1\n",
    "        return countPossFlower >= n\n",
    "            \n",
    "        "
   ]
  }
 ],
 "metadata": {
  "kernelspec": {
   "display_name": "Python 3 (ipykernel)",
   "language": "python",
   "name": "python3"
  },
  "language_info": {
   "codemirror_mode": {
    "name": "ipython",
    "version": 3
   },
   "file_extension": ".py",
   "mimetype": "text/x-python",
   "name": "python",
   "nbconvert_exporter": "python",
   "pygments_lexer": "ipython3",
   "version": "3.9.16"
  }
 },
 "nbformat": 4,
 "nbformat_minor": 5
}
