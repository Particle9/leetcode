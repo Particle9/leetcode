{
 "cells": [
  {
   "cell_type": "code",
   "execution_count": 1,
   "id": "4e4f5f4d-c815-41a0-a5e2-5ab0fbb9a03c",
   "metadata": {},
   "outputs": [],
   "source": [
    "from typing import Optional, List\n",
    "\n",
    "class TreeNode:\n",
    "    def __init__(self, val=0, left=None, right=None):\n",
    "        self.val = val\n",
    "        self.left = left\n",
    "        self.right = right"
   ]
  },
  {
   "cell_type": "code",
   "execution_count": 2,
   "id": "d7447346-f62f-4cb8-b3fd-db404a4f163a",
   "metadata": {},
   "outputs": [],
   "source": [
    "class Solution:\n",
    "    def buildTree(self, inorder: List[int], postorder: List[int]) -> Optional[TreeNode]:\n",
    "        if not(inorder):\n",
    "            return None\n",
    "        \n",
    "        root_val = postorder.pop()\n",
    "        root_idx = 0\n",
    "        for i in range(0,len(inorder)):\n",
    "            if inorder[i] == root_val:\n",
    "                root_idx = i\n",
    "                break\n",
    "        \n",
    "        tree = TreeNode(val=root_val)\n",
    "        tree.right = self.buildTree(inorder[root_idx+1:], postorder)\n",
    "        tree.left = self.buildTree(inorder[:root_idx], postorder)\n",
    "        return tree"
   ]
  },
  {
   "cell_type": "code",
   "execution_count": null,
   "id": "9cad84f9-c757-4af2-a3f7-7780f96e3022",
   "metadata": {},
   "outputs": [],
   "source": []
  }
 ],
 "metadata": {
  "kernelspec": {
   "display_name": "Python 3 (ipykernel)",
   "language": "python",
   "name": "python3"
  },
  "language_info": {
   "codemirror_mode": {
    "name": "ipython",
    "version": 3
   },
   "file_extension": ".py",
   "mimetype": "text/x-python",
   "name": "python",
   "nbconvert_exporter": "python",
   "pygments_lexer": "ipython3",
   "version": "3.9.16"
  }
 },
 "nbformat": 4,
 "nbformat_minor": 5
}
