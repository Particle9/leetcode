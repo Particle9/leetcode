{
 "cells": [
  {
   "cell_type": "code",
   "execution_count": 3,
   "id": "6bfbdab5-016a-4019-b47e-157a66051eea",
   "metadata": {},
   "outputs": [],
   "source": [
    "from typing import Optional\n",
    "\n",
    "class TreeNode:\n",
    "    def __init__(self, val=0, left=None, right=None):\n",
    "        self.val = val\n",
    "        self.left = left\n",
    "        self.right = right"
   ]
  },
  {
   "cell_type": "code",
   "execution_count": 4,
   "id": "35044406-95c1-45f6-bfbd-3ba642dfd7c4",
   "metadata": {},
   "outputs": [],
   "source": [
    "class Solution:\n",
    "    def isSymmetric(self, root: Optional[TreeNode]) -> bool:\n",
    "        is_reversed = True\n",
    "        is_end = False\n",
    "        tree_stack = [(root.left, root.right)]\n",
    "        while not(is_end) and tree_stack:\n",
    "            t1,t2 = tree_stack.pop()\n",
    "            if not(t1) and not(t2):\n",
    "                continue\n",
    "            elif not(t1) or not(t2):\n",
    "                return False\n",
    "\n",
    "            if t1.val != t2.val:\n",
    "                return False\n",
    "            tree_stack += [(t1.left, t2.right), (t1.right,t2.left)]\n",
    "            is_reversed = not(is_reversed)\n",
    "        return True\n",
    "\n",
    "        "
   ]
  },
  {
   "cell_type": "code",
   "execution_count": null,
   "id": "758830da-05ba-4a1a-9771-6677a7ca1f75",
   "metadata": {},
   "outputs": [],
   "source": []
  }
 ],
 "metadata": {
  "kernelspec": {
   "display_name": "Python 3 (ipykernel)",
   "language": "python",
   "name": "python3"
  },
  "language_info": {
   "codemirror_mode": {
    "name": "ipython",
    "version": 3
   },
   "file_extension": ".py",
   "mimetype": "text/x-python",
   "name": "python",
   "nbconvert_exporter": "python",
   "pygments_lexer": "ipython3",
   "version": "3.9.16"
  }
 },
 "nbformat": 4,
 "nbformat_minor": 5
}
