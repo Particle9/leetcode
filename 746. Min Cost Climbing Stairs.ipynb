{
 "cells": [
  {
   "cell_type": "code",
   "execution_count": 1,
   "id": "1db765fc-514e-4eb3-a3fc-86a3fb8aee32",
   "metadata": {},
   "outputs": [],
   "source": [
    "from typing import List\n",
    "\n",
    "class Solution:\n",
    "    def minCostClimbingStairs(self, cost: List[int]) -> int:\n",
    "        n = len(cost)\n",
    "        dp = [float('inf')] * (n+1)\n",
    "        dp[0], dp[1] = 0,0\n",
    "        for i in range(2, n+1):\n",
    "            dp[i] = min(dp[i-1] + cost[i-1], dp[i-2] + cost[i-2])\n",
    "        return dp[n]\n",
    "        "
   ]
  },
  {
   "cell_type": "code",
   "execution_count": null,
   "id": "76b0b05d-6f2e-401d-8a1d-a7e3face93af",
   "metadata": {},
   "outputs": [],
   "source": []
  }
 ],
 "metadata": {
  "kernelspec": {
   "display_name": "Python 3 (ipykernel)",
   "language": "python",
   "name": "python3"
  },
  "language_info": {
   "codemirror_mode": {
    "name": "ipython",
    "version": 3
   },
   "file_extension": ".py",
   "mimetype": "text/x-python",
   "name": "python",
   "nbconvert_exporter": "python",
   "pygments_lexer": "ipython3",
   "version": "3.9.16"
  }
 },
 "nbformat": 4,
 "nbformat_minor": 5
}
