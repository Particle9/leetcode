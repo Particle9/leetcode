{
 "cells": [
  {
   "cell_type": "code",
   "execution_count": 1,
   "id": "94aba2c8-fd56-48c0-bda2-399316269be9",
   "metadata": {},
   "outputs": [],
   "source": [
    "from typing import List\n",
    "\n",
    "class Solution:\n",
    "    def threeSum(self, nums: List[int]) -> List[List[int]]:\n",
    "        nums = sorted(nums)\n",
    "        dctx = {}\n",
    "        nums_lst = []\n",
    "        for x in nums:\n",
    "            if x in dctx:\n",
    "                if dctx[x] < 3:\n",
    "                    nums_lst += [x]\n",
    "                dctx[x] += 1\n",
    "            else:\n",
    "                nums_lst += [x]\n",
    "                dctx[x] = 1\n",
    "        nums = nums_lst\n",
    "                \n",
    "\n",
    "        n = len(nums)\n",
    "        lst_res = set()\n",
    "        for k in range(0,n-2):\n",
    "            i, j = k+1, n-1\n",
    "            while i < j:\n",
    "                temp_sum = nums[i] + nums[j] + nums[k]\n",
    "                if temp_sum == 0:\n",
    "                    tup = (nums[i],nums[j],nums[k])\n",
    "                    lst_res.add(tup)\n",
    "                    i += 1\n",
    "                    j -= 1            \n",
    "                elif (temp_sum > 0):\n",
    "                    j -= 1\n",
    "                else:\n",
    "                    i += 1\n",
    "\n",
    "        return lst_res\n",
    "\n",
    "        "
   ]
  },
  {
   "cell_type": "code",
   "execution_count": null,
   "id": "4ea41c01-a285-4b1a-913b-1776232ad68d",
   "metadata": {},
   "outputs": [],
   "source": []
  }
 ],
 "metadata": {
  "kernelspec": {
   "display_name": "Python 3 (ipykernel)",
   "language": "python",
   "name": "python3"
  },
  "language_info": {
   "codemirror_mode": {
    "name": "ipython",
    "version": 3
   },
   "file_extension": ".py",
   "mimetype": "text/x-python",
   "name": "python",
   "nbconvert_exporter": "python",
   "pygments_lexer": "ipython3",
   "version": "3.9.16"
  }
 },
 "nbformat": 4,
 "nbformat_minor": 5
}
