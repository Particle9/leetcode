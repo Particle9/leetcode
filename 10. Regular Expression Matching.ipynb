{
 "cells": [
  {
   "cell_type": "code",
   "execution_count": 1,
   "id": "9172e3dd-add3-4548-9b66-849f7487a4de",
   "metadata": {},
   "outputs": [],
   "source": [
    "class Solution:\n",
    "    def normalMatch(self,s, p):\n",
    "        if len(s) != len(p):\n",
    "            return False\n",
    "        \n",
    "        for c1,c2 in zip(s,p):\n",
    "            if c2 != '.' and c1 != c2:\n",
    "                return False\n",
    "        return True\n",
    "\n",
    "    def starMatch(self, s, p):\n",
    "        dp = [[False] * (len(s) + 1) for _ in range(len(p) + 1)]\n",
    "        dp[0][0] = True \n",
    "\n",
    "        for i in range(2, len(p) + 1):\n",
    "            if p[i - 1] == '*':\n",
    "                dp[i][0] = dp[i - 2][0]\n",
    "\n",
    "        for i in range(1, len(p) + 1):\n",
    "            for j in range(1, len(s) + 1):\n",
    "                if p[i - 1] == s[j - 1] or p[i - 1] == '.':\n",
    "                    dp[i][j] = dp[i - 1][j - 1]\n",
    "                elif p[i - 1] == '*':\n",
    "                    dp[i][j] = dp[i - 2][j] \n",
    "                    if p[i - 2] == s[j - 1] or p[i - 2] == '.':\n",
    "                        dp[i][j] = dp[i][j] or dp[i][j - 1]\n",
    "        \n",
    "        return dp[len(p)][len(s)]\n",
    "\n",
    "\n",
    "    def isMatch(self, s: str, p: str) -> bool:\n",
    "        if '*' not in p:\n",
    "            return self.normalMatch(s, p)\n",
    "        \n",
    "        return self.starMatch(s,p)\n",
    "        \n",
    "        "
   ]
  },
  {
   "cell_type": "code",
   "execution_count": null,
   "id": "cc40e54f-f4dd-4451-9bd0-02c16660898f",
   "metadata": {},
   "outputs": [],
   "source": []
  }
 ],
 "metadata": {
  "kernelspec": {
   "display_name": "Python 3 (ipykernel)",
   "language": "python",
   "name": "python3"
  },
  "language_info": {
   "codemirror_mode": {
    "name": "ipython",
    "version": 3
   },
   "file_extension": ".py",
   "mimetype": "text/x-python",
   "name": "python",
   "nbconvert_exporter": "python",
   "pygments_lexer": "ipython3",
   "version": "3.9.16"
  }
 },
 "nbformat": 4,
 "nbformat_minor": 5
}
