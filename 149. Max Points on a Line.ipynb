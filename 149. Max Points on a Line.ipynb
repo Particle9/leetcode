{
 "cells": [
  {
   "cell_type": "code",
   "execution_count": 2,
   "id": "1be36c55-20fd-4914-8373-5229b27ed8d8",
   "metadata": {},
   "outputs": [],
   "source": [
    "from typing import Optional, List\n",
    "\n",
    "class Solution:\n",
    "    def get_a_c(self,point1, point2):\n",
    "        x1,y1 = point1\n",
    "        x2,y2 = point2\n",
    "\n",
    "        if x1-x2 == 0:\n",
    "            return None, x1\n",
    "\n",
    "        dy = y1-y2 \n",
    "        dx = x1-x2\n",
    "\n",
    "        a = (y1-y2) / (x1-x2)\n",
    "        b = y1 - a * x1\n",
    "\n",
    "        return a,b\n",
    "    \n",
    "    def check_in_line(self,ab, point):\n",
    "        x,y = point\n",
    "        a,b = ab\n",
    "        if a == None:\n",
    "            if x == b:\n",
    "                return True\n",
    "            else:\n",
    "                return False\n",
    "        if abs((a*x + b) - y) < 0.00001:\n",
    "            return True\n",
    "        else:\n",
    "            return False\n",
    "\n",
    "    def maxPoints(self, points: List[List[int]]) -> int:\n",
    "        visited = set()\n",
    "\n",
    "        max_point = 1\n",
    "\n",
    "        for i in range(0,len(points)):\n",
    "            for j in range(i+1, len(points)):\n",
    "                ab = self.get_a_c(points[i],points[j])\n",
    "                if ab not in visited:\n",
    "                    temp_count = 2\n",
    "                    for k in range(j+1, len(points)):\n",
    "                        if self.check_in_line(ab, points[k]):\n",
    "                            temp_count += 1\n",
    "                    if temp_count > max_point:\n",
    "                        max_point =  temp_count\n",
    "                    visited.add(ab)\n",
    "        \n",
    "        return max_point"
   ]
  },
  {
   "cell_type": "code",
   "execution_count": 3,
   "id": "555147b1-eeb7-4f69-8743-32a7fdc0eb1d",
   "metadata": {},
   "outputs": [],
   "source": [
    "sol = Solution()"
   ]
  },
  {
   "cell_type": "code",
   "execution_count": 4,
   "id": "fdffdbe9-d648-4d36-8a06-c6854f420f29",
   "metadata": {},
   "outputs": [
    {
     "data": {
      "text/plain": [
       "3"
      ]
     },
     "execution_count": 4,
     "metadata": {},
     "output_type": "execute_result"
    }
   ],
   "source": [
    "sol.maxPoints([[1,1],[2,2],[3,3]])"
   ]
  },
  {
   "cell_type": "code",
   "execution_count": 5,
   "id": "d1fc55bc-2c52-4b26-8a1f-957709eace5f",
   "metadata": {},
   "outputs": [
    {
     "data": {
      "text/plain": [
       "4"
      ]
     },
     "execution_count": 5,
     "metadata": {},
     "output_type": "execute_result"
    }
   ],
   "source": [
    "sol.maxPoints([[1,1],[3,2],[5,3],[4,1],[2,3],[1,4]])"
   ]
  },
  {
   "cell_type": "code",
   "execution_count": null,
   "id": "190240f8-9b73-4439-97c6-038c4e675ab8",
   "metadata": {},
   "outputs": [],
   "source": []
  }
 ],
 "metadata": {
  "kernelspec": {
   "display_name": "Python 3 (ipykernel)",
   "language": "python",
   "name": "python3"
  },
  "language_info": {
   "codemirror_mode": {
    "name": "ipython",
    "version": 3
   },
   "file_extension": ".py",
   "mimetype": "text/x-python",
   "name": "python",
   "nbconvert_exporter": "python",
   "pygments_lexer": "ipython3",
   "version": "3.9.16"
  }
 },
 "nbformat": 4,
 "nbformat_minor": 5
}
