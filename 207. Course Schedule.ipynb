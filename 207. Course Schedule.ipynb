{
 "cells": [
  {
   "cell_type": "code",
   "execution_count": 2,
   "id": "527505e6-fc38-4705-bb59-64556f3b9e46",
   "metadata": {},
   "outputs": [],
   "source": [
    "from typing import List\n",
    "\n",
    "class Solution:\n",
    "    def checkPrerequisites(self, curr, graph, visited, recorded):\n",
    "        if curr in visited:\n",
    "            return False\n",
    "        elif curr in recorded:\n",
    "            return True\n",
    "\n",
    "        recorded.add(curr)\n",
    "        isPossible = True\n",
    "        for node in graph[curr]:\n",
    "            isPossible = isPossible and self.checkPrerequisites(node, graph, visited | {curr},recorded)\n",
    "            if not(isPossible):\n",
    "                return False\n",
    "        \n",
    "        return isPossible\n",
    "\n",
    "\n",
    "    def canFinish(self, numCourses: int, prerequisites: List[List[int]]) -> bool:\n",
    "        if not(prerequisites):\n",
    "            return True\n",
    "        graph = {}\n",
    "        for x, y in prerequisites:\n",
    "            if y in graph:\n",
    "                graph[y] += [x]\n",
    "            else:\n",
    "                graph[y] = [x]\n",
    "            \n",
    "            if x not in graph:\n",
    "                graph[x] = []\n",
    "        \n",
    "        noReq = set([x for x in graph])\n",
    "        for k, lv in graph.items():\n",
    "            for v in lv:\n",
    "                if v in noReq:\n",
    "                    noReq.remove(v)\n",
    "        if not(noReq):\n",
    "            return False\n",
    "        \n",
    "        sortedGraph = sorted([k for k in graph], key = lambda x: len(graph[x]))\n",
    "\n",
    "        recorded = set()\n",
    "        isPossible = True\n",
    "        for start in sortedGraph:\n",
    "            if start not in recorded:\n",
    "                isPossible = isPossible and self.checkPrerequisites(start, graph, set(), recorded)\n",
    "            if not(isPossible):\n",
    "                return False\n",
    "        return isPossible\n"
   ]
  },
  {
   "cell_type": "code",
   "execution_count": 3,
   "id": "6fbee046-09ee-4eef-abcd-4caab6c82d10",
   "metadata": {},
   "outputs": [],
   "source": [
    "sol = Solution()"
   ]
  },
  {
   "cell_type": "code",
   "execution_count": 4,
   "id": "502305aa-d860-4e2f-b8f6-3e653a6d7f6a",
   "metadata": {},
   "outputs": [
    {
     "data": {
      "text/plain": [
       "False"
      ]
     },
     "execution_count": 4,
     "metadata": {},
     "output_type": "execute_result"
    }
   ],
   "source": [
    "sol.canFinish(2, [[1,0],[0,1]])"
   ]
  },
  {
   "cell_type": "code",
   "execution_count": null,
   "id": "684d5352-1ab7-429b-bf11-4175cf73e34e",
   "metadata": {},
   "outputs": [],
   "source": []
  }
 ],
 "metadata": {
  "kernelspec": {
   "display_name": "Python 3 (ipykernel)",
   "language": "python",
   "name": "python3"
  },
  "language_info": {
   "codemirror_mode": {
    "name": "ipython",
    "version": 3
   },
   "file_extension": ".py",
   "mimetype": "text/x-python",
   "name": "python",
   "nbconvert_exporter": "python",
   "pygments_lexer": "ipython3",
   "version": "3.9.16"
  }
 },
 "nbformat": 4,
 "nbformat_minor": 5
}
