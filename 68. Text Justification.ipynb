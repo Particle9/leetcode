{
 "cells": [
  {
   "cell_type": "code",
   "execution_count": 1,
   "id": "11a09428-8dc4-48bd-8d13-ebf69c5769f0",
   "metadata": {},
   "outputs": [],
   "source": [
    "from typing import List\n",
    "\n",
    "class Solution:\n",
    "    def fullJustify(self, words: List[str], maxWidth: int) -> List[str]:\n",
    "        words_length = [len(x) for x in words]\n",
    "\n",
    "        lst = [[]]\n",
    "        lst_space = []\n",
    "        i = 0\n",
    "        avail_space = maxWidth+1\n",
    "        for w, n in zip(words,words_length):\n",
    "            if n < avail_space:\n",
    "                lst[i] += [w]  \n",
    "                avail_space -= n+1\n",
    "            else:\n",
    "                i += 1\n",
    "                lst += [[w]]\n",
    "                lst_space += [avail_space]\n",
    "                avail_space = maxWidth - n\n",
    "\n",
    "        for i in range(0, len(lst_space)):\n",
    "            ls_words = lst[i]\n",
    "            n_space = lst_space[i]\n",
    "\n",
    "            if n_space == 0:\n",
    "                continue\n",
    "            if len(ls_words) == 1:\n",
    "                ls_words[0] += \" \" * n_space\n",
    "                continue\n",
    "            n_words = len(ls_words)-1\n",
    "\n",
    "            ne_space = n_space\n",
    "            ratio_space = ne_space // n_words\n",
    "            left_space = ne_space % n_words\n",
    "\n",
    "            for j in range(0,n_words):\n",
    "                if left_space:\n",
    "                    ls_words[j] += \" \" * (ratio_space + 1)\n",
    "                    left_space -= 1\n",
    "                else:\n",
    "                    ls_words[j] += \" \" * ratio_space\n",
    "        \n",
    "        lst[-1][-1] += \" \" * avail_space\n",
    "        res = [' '.join(lw) for lw in lst]\n",
    "            \n",
    "        return res "
   ]
  },
  {
   "cell_type": "code",
   "execution_count": null,
   "id": "d2eb4085-5fab-4af7-b867-fc268bcc388c",
   "metadata": {},
   "outputs": [],
   "source": []
  }
 ],
 "metadata": {
  "kernelspec": {
   "display_name": "Python 3 (ipykernel)",
   "language": "python",
   "name": "python3"
  },
  "language_info": {
   "codemirror_mode": {
    "name": "ipython",
    "version": 3
   },
   "file_extension": ".py",
   "mimetype": "text/x-python",
   "name": "python",
   "nbconvert_exporter": "python",
   "pygments_lexer": "ipython3",
   "version": "3.9.16"
  }
 },
 "nbformat": 4,
 "nbformat_minor": 5
}
