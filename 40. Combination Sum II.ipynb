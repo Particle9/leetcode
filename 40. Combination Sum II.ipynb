{
 "cells": [
  {
   "cell_type": "code",
   "execution_count": 2,
   "id": "c37eda21-4ad0-4e88-956b-1b5c7cb00823",
   "metadata": {},
   "outputs": [],
   "source": [
    "from typing import List\n",
    "\n",
    "class Solution:\n",
    "    def combinationSumRecurse(self, candidates, target, start):\n",
    "        if target == 0:\n",
    "            return [[]]\n",
    "        \n",
    "        lPoss = []\n",
    "        visited = set()\n",
    "        for i in range(start, len(candidates)):\n",
    "            x = candidates[i]\n",
    "            if target - x >= 0 and x not in visited:\n",
    "                prevLst = self.combinationSumRecurse(candidates, target-x, i+1)\n",
    "                lPoss += [[x] + l for l in prevLst]\n",
    "            visited.add(x)\n",
    "        return lPoss\n",
    "    def combinationSum2(self, candidates: List[int], target: int) -> List[List[int]]:\n",
    "        sortedCandidates = sorted(candidates)\n",
    "        return self.combinationSumRecurse(sortedCandidates, target, 0)\n",
    "        "
   ]
  },
  {
   "cell_type": "code",
   "execution_count": 3,
   "id": "a5e47d09-9b1d-4699-bfa9-d010545e9e43",
   "metadata": {},
   "outputs": [],
   "source": [
    "sol = Solution()"
   ]
  },
  {
   "cell_type": "code",
   "execution_count": 5,
   "id": "466f8447-a197-4e70-bfb3-66f445a5330a",
   "metadata": {},
   "outputs": [
    {
     "data": {
      "text/plain": [
       "[[1, 5], [6]]"
      ]
     },
     "execution_count": 5,
     "metadata": {},
     "output_type": "execute_result"
    }
   ],
   "source": [
    "sol.combinationSum2([10,1,2,7,6,1,5], 6)"
   ]
  },
  {
   "cell_type": "code",
   "execution_count": null,
   "id": "1621249b-017f-4b73-8dd8-5dea55005a93",
   "metadata": {},
   "outputs": [],
   "source": []
  }
 ],
 "metadata": {
  "kernelspec": {
   "display_name": "Python 3 (ipykernel)",
   "language": "python",
   "name": "python3"
  },
  "language_info": {
   "codemirror_mode": {
    "name": "ipython",
    "version": 3
   },
   "file_extension": ".py",
   "mimetype": "text/x-python",
   "name": "python",
   "nbconvert_exporter": "python",
   "pygments_lexer": "ipython3",
   "version": "3.9.16"
  }
 },
 "nbformat": 4,
 "nbformat_minor": 5
}
