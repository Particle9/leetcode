{
 "cells": [
  {
   "cell_type": "code",
   "execution_count": 1,
   "id": "1ddbc89a-1739-4381-be24-47958cac0178",
   "metadata": {},
   "outputs": [],
   "source": [
    "from typing import List\n",
    "\n",
    "class Solution:\n",
    "    def productExceptSelf(self, nums: List[int]) -> List[int]:\n",
    "        n = len(nums)\n",
    "        ans = [1 for _ in range(0,n)]\n",
    "        \n",
    "        cum_product = 1\n",
    "        \n",
    "        for i in range(0, n):\n",
    "            ans[i] = ans[i] * cum_product\n",
    "            cum_product *= nums[i]\n",
    "\n",
    "        cum_product = 1\n",
    "        for i in reversed(range(0,n)):\n",
    "            ans[i] = ans[i] * cum_product\n",
    "            cum_product *= nums[i]\n",
    "        \n",
    "        return ans\n",
    "\n",
    "        "
   ]
  },
  {
   "cell_type": "code",
   "execution_count": null,
   "id": "a55912d2-e04d-49a1-be6a-72325ae9dc37",
   "metadata": {},
   "outputs": [],
   "source": []
  }
 ],
 "metadata": {
  "kernelspec": {
   "display_name": "Python 3 (ipykernel)",
   "language": "python",
   "name": "python3"
  },
  "language_info": {
   "codemirror_mode": {
    "name": "ipython",
    "version": 3
   },
   "file_extension": ".py",
   "mimetype": "text/x-python",
   "name": "python",
   "nbconvert_exporter": "python",
   "pygments_lexer": "ipython3",
   "version": "3.9.16"
  }
 },
 "nbformat": 4,
 "nbformat_minor": 5
}
