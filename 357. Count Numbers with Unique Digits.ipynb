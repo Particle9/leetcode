{
 "cells": [
  {
   "cell_type": "code",
   "execution_count": 1,
   "id": "4f676368-e109-44d3-a53a-aab5607d6126",
   "metadata": {},
   "outputs": [],
   "source": [
    "class Solution:\n",
    "    def countNumbersWithUniqueDigits(self, n: int) -> int:\n",
    "        if n == 0:\n",
    "            return 1\n",
    "\n",
    "        res = 1\n",
    "\n",
    "        for i in range(1, n + 1):\n",
    "            if i == 1:\n",
    "                u = 9\n",
    "            else:\n",
    "                u *= (11 - i)\n",
    "            res += u\n",
    "\n",
    "        return res\n"
   ]
  },
  {
   "cell_type": "code",
   "execution_count": null,
   "id": "c7fd0c2c-67bb-4482-a6bf-ee4198be81d5",
   "metadata": {},
   "outputs": [],
   "source": []
  }
 ],
 "metadata": {
  "kernelspec": {
   "display_name": "Python 3 (ipykernel)",
   "language": "python",
   "name": "python3"
  },
  "language_info": {
   "codemirror_mode": {
    "name": "ipython",
    "version": 3
   },
   "file_extension": ".py",
   "mimetype": "text/x-python",
   "name": "python",
   "nbconvert_exporter": "python",
   "pygments_lexer": "ipython3",
   "version": "3.9.16"
  }
 },
 "nbformat": 4,
 "nbformat_minor": 5
}
