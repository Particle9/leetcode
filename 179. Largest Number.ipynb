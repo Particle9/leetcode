{
 "cells": [
  {
   "cell_type": "code",
   "execution_count": 1,
   "id": "9b458889-086c-4cd3-8060-40dad4f28c09",
   "metadata": {},
   "outputs": [],
   "source": [
    "from typing import List\n",
    "\n",
    "class Solution:\n",
    "    def largestNumber(self, nums: List[int]) -> str:\n",
    "        # Convert numbers to strings\n",
    "        nums = list(map(str, nums))\n",
    "        \n",
    "        # Sort the numbers by their value when concatenated with others\n",
    "        sortedNums = sorted(nums, key=lambda x: x * 10, reverse=True)\n",
    "        \n",
    "        # Join the sorted list into a single string\n",
    "        result = \"\".join(sortedNums)\n",
    "        \n",
    "        # Handle the edge case where all numbers are zero\n",
    "        return \"0\" if result[0] == \"0\" else result"
   ]
  },
  {
   "cell_type": "code",
   "execution_count": null,
   "id": "ae78dfc9-fe55-473c-9039-7ac7eb6612c4",
   "metadata": {},
   "outputs": [],
   "source": []
  }
 ],
 "metadata": {
  "kernelspec": {
   "display_name": "Python 3 (ipykernel)",
   "language": "python",
   "name": "python3"
  },
  "language_info": {
   "codemirror_mode": {
    "name": "ipython",
    "version": 3
   },
   "file_extension": ".py",
   "mimetype": "text/x-python",
   "name": "python",
   "nbconvert_exporter": "python",
   "pygments_lexer": "ipython3",
   "version": "3.9.16"
  }
 },
 "nbformat": 4,
 "nbformat_minor": 5
}
