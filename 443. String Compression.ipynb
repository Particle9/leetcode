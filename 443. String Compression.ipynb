{
 "cells": [
  {
   "cell_type": "code",
   "execution_count": null,
   "id": "09f4aa17-c7d6-44db-8abc-9fe04f567246",
   "metadata": {},
   "outputs": [],
   "source": [
    "class Solution:\n",
    "    def compress(self, chars: List[str]) -> int:\n",
    "        n = len(chars)\n",
    "        i = 0  # Start of the current sequence\n",
    "        j = 0  # Pointer for traversing the list\n",
    "        k = 0  # Pointer for writing the compressed result\n",
    "        while j < n:\n",
    "            currLen = 1\n",
    "            while j + 1 < n and chars[j + 1] == chars[i]:\n",
    "                currLen += 1\n",
    "                j += 1\n",
    "            chars[k] = chars[i]  # Write the character\n",
    "            k += 1\n",
    "            if currLen > 1:\n",
    "                for digit in str(currLen):\n",
    "                    chars[k] = digit  # Write the count\n",
    "                    k += 1\n",
    "            j += 1  # Move to the next character sequence\n",
    "            i = j  # Set i to start of new sequence\n",
    "        return k"
   ]
  }
 ],
 "metadata": {
  "kernelspec": {
   "display_name": "Python 3 (ipykernel)",
   "language": "python",
   "name": "python3"
  },
  "language_info": {
   "codemirror_mode": {
    "name": "ipython",
    "version": 3
   },
   "file_extension": ".py",
   "mimetype": "text/x-python",
   "name": "python",
   "nbconvert_exporter": "python",
   "pygments_lexer": "ipython3",
   "version": "3.9.16"
  }
 },
 "nbformat": 4,
 "nbformat_minor": 5
}
