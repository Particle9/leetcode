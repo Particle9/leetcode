{
 "cells": [
  {
   "cell_type": "code",
   "execution_count": null,
   "id": "87fa3a94-c05e-409d-92a1-9cc94fea37aa",
   "metadata": {},
   "outputs": [],
   "source": [
    "class Solution:\n",
    "    def snakesAndLadders(self, board: List[List[int]]) -> int:\n",
    "        flattenedBoard = []\n",
    "        for i in reversed(range(len(board))):\n",
    "            if (len(board) - i - 1) % 2 == 0:\n",
    "                flattenedBoard += board[i]\n",
    "            else:\n",
    "                flattenedBoard += list(reversed(board[i]))\n",
    "        \n",
    "        n = len(flattenedBoard)\n",
    "        visited = set()\n",
    "        \n",
    "        queue = [(0,0)]\n",
    "        while queue:\n",
    "            i,step = queue.pop(0)\n",
    "            if i in visited or i >= n:\n",
    "                continue\n",
    "            elif i == n-1:\n",
    "                return step\n",
    "            \n",
    "            for j in reversed(range(i+1,min(i+7, n))):\n",
    "                if flattenedBoard[j] == -1:\n",
    "                    queue += [(j,step+1)]\n",
    "                else:\n",
    "                    queue += [(flattenedBoard[j] - 1, step+1)]\n",
    "\n",
    "            visited.add(i)\n",
    "        return -1\n",
    "            "
   ]
  }
 ],
 "metadata": {
  "kernelspec": {
   "display_name": "Python 3 (ipykernel)",
   "language": "python",
   "name": "python3"
  },
  "language_info": {
   "codemirror_mode": {
    "name": "ipython",
    "version": 3
   },
   "file_extension": ".py",
   "mimetype": "text/x-python",
   "name": "python",
   "nbconvert_exporter": "python",
   "pygments_lexer": "ipython3",
   "version": "3.9.16"
  }
 },
 "nbformat": 4,
 "nbformat_minor": 5
}
