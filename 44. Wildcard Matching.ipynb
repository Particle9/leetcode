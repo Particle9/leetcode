{
 "cells": [
  {
   "cell_type": "code",
   "execution_count": 1,
   "id": "d9bbb3e4-93ab-4c49-80ae-2514f3f2c41f",
   "metadata": {},
   "outputs": [],
   "source": [
    "class Solution:\n",
    "    def isMatch(self, s: str, p: str) -> bool:\n",
    "        si, pi = 0, 0\n",
    "        starMatch = 0\n",
    "        starIdx = -1\n",
    "        while si < len(s):\n",
    "            if pi < len(p) and (p[pi] == '?' or s[si] == p[pi]):\n",
    "                si += 1\n",
    "                pi += 1\n",
    "            elif pi < len(p) and  p[pi] == '*':\n",
    "                starIdx = pi\n",
    "                starMatch = si\n",
    "                pi += 1\n",
    "            elif starIdx != -1:\n",
    "                pi = starIdx + 1\n",
    "                starMatch += 1\n",
    "                si = starMatch\n",
    "            else:\n",
    "                return False\n",
    "\n",
    "        while pi < len(p) and p[pi] == '*':\n",
    "            pi += 1\n",
    "        \n",
    "        return pi == len(p)"
   ]
  },
  {
   "cell_type": "code",
   "execution_count": 2,
   "id": "a8df72ce-54b4-4066-bc81-ce5f8a88b194",
   "metadata": {},
   "outputs": [],
   "source": [
    "sol = Solution()"
   ]
  },
  {
   "cell_type": "code",
   "execution_count": 3,
   "id": "2af1f376-3097-48d1-8c5f-062b0f230f06",
   "metadata": {},
   "outputs": [
    {
     "data": {
      "text/plain": [
       "True"
      ]
     },
     "execution_count": 3,
     "metadata": {},
     "output_type": "execute_result"
    }
   ],
   "source": [
    "sol.isMatch(\"Absasbasabsa\", \"Ab*sa\")"
   ]
  },
  {
   "cell_type": "code",
   "execution_count": null,
   "id": "266d4d51-4b53-42a9-8f26-e87c7733f7e2",
   "metadata": {},
   "outputs": [],
   "source": []
  }
 ],
 "metadata": {
  "kernelspec": {
   "display_name": "Python 3 (ipykernel)",
   "language": "python",
   "name": "python3"
  },
  "language_info": {
   "codemirror_mode": {
    "name": "ipython",
    "version": 3
   },
   "file_extension": ".py",
   "mimetype": "text/x-python",
   "name": "python",
   "nbconvert_exporter": "python",
   "pygments_lexer": "ipython3",
   "version": "3.9.16"
  }
 },
 "nbformat": 4,
 "nbformat_minor": 5
}
