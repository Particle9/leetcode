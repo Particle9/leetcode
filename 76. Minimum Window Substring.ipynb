{
 "cells": [
  {
   "cell_type": "code",
   "execution_count": 1,
   "id": "409c835d-0a3b-44e1-8bdc-e7de81bb2031",
   "metadata": {},
   "outputs": [],
   "source": [
    "class Solution:\n",
    "    def checkValid(self, dct):\n",
    "        for k,v in dct.items():\n",
    "            if v > 0:\n",
    "                return False\n",
    "        return True\n",
    "\n",
    "    def minWindow(self, s: str, t: str) -> str:\n",
    "        charBank = {}\n",
    "        for c in t:\n",
    "            if c in charBank:\n",
    "                charBank[c] += 1\n",
    "            else:\n",
    "                charBank[c] = 1\n",
    "        m = len(t)\n",
    "        n = len(s)\n",
    "        \n",
    "        i,j = 0, 0\n",
    "        required = 0\n",
    "        currStr = \"\"\n",
    "        minStr = \"\"\n",
    "        while j <= n:\n",
    "            if required >= m:\n",
    "                if not(minStr):\n",
    "                    minStr = currStr\n",
    "                else:\n",
    "                    minStr = min(minStr, currStr, key=len)\n",
    "                if s[i] in charBank:\n",
    "                    charBank[s[i]] += 1\n",
    "                    if charBank[s[i]] > 0:\n",
    "                        required -= 1\n",
    "                currStr = currStr[1:]\n",
    "                i += 1\n",
    "            else:\n",
    "                if j < n:\n",
    "                    currStr += s[j]\n",
    "                    if s[j] in charBank:\n",
    "                        charBank[s[j]] -= 1\n",
    "                        if charBank[s[j]] >= 0:\n",
    "                            required += 1\n",
    "                j += 1\n",
    "        if required >= m:\n",
    "            minStr = min(minStr, currStr, key=len)\n",
    "        return minStr\n",
    "                    \n",
    "        \n",
    "\n",
    "        "
   ]
  },
  {
   "cell_type": "code",
   "execution_count": null,
   "id": "6d084a43-d479-4863-bcac-cd27a30ec61a",
   "metadata": {},
   "outputs": [],
   "source": []
  }
 ],
 "metadata": {
  "kernelspec": {
   "display_name": "Python 3 (ipykernel)",
   "language": "python",
   "name": "python3"
  },
  "language_info": {
   "codemirror_mode": {
    "name": "ipython",
    "version": 3
   },
   "file_extension": ".py",
   "mimetype": "text/x-python",
   "name": "python",
   "nbconvert_exporter": "python",
   "pygments_lexer": "ipython3",
   "version": "3.9.16"
  }
 },
 "nbformat": 4,
 "nbformat_minor": 5
}
