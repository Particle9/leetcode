{
 "cells": [
  {
   "cell_type": "code",
   "execution_count": null,
   "id": "fd5aa97a-7ded-4e57-8b95-94ca499f836b",
   "metadata": {},
   "outputs": [],
   "source": [
    "class Solution:\n",
    "    def ways(self, pizza: List[str], k: int) -> int:\n",
    "        MOD = 10**9 + 7\n",
    "        m, n = len(pizza), len(pizza[0])\n",
    "\n",
    "        # Create a prefix sum array to count apples in any sub-pizza\n",
    "        prefix = [[0] * (n + 1) for _ in range(m + 1)]\n",
    "        \n",
    "        for i in range(m - 1, -1, -1):\n",
    "            for j in range(n - 1, -1, -1):\n",
    "                prefix[i][j] = (1 if pizza[i][j] == 'A' else 0) + prefix[i + 1][j] + prefix[i][j + 1] - prefix[i + 1][j + 1]\n",
    "\n",
    "        # dp[i][j][k]: number of ways to cut the pizza from (i,j) into k pieces\n",
    "        dp = [[[0] * (k + 1) for _ in range(n)] for _ in range(m)]\n",
    "        \n",
    "        # Base case: k = 1, no more cuts to be made, just check if there's at least one apple\n",
    "        for i in range(m):\n",
    "            for j in range(n):\n",
    "                if prefix[i][j] > 0:\n",
    "                    dp[i][j][1] = 1\n",
    "\n",
    "        # Fill dp for k cuts\n",
    "        for cuts in range(2, k + 1):\n",
    "            for i in range(m):\n",
    "                for j in range(n):\n",
    "                    # Try horizontal cuts\n",
    "                    for x in range(i + 1, m):\n",
    "                        if prefix[i][j] - prefix[x][j] > 0:\n",
    "                            dp[i][j][cuts] = (dp[i][j][cuts] + dp[x][j][cuts - 1]) % MOD\n",
    "                    # Try vertical cuts\n",
    "                    for y in range(j + 1, n):\n",
    "                        if prefix[i][j] - prefix[i][y] > 0:\n",
    "                            dp[i][j][cuts] = (dp[i][j][cuts] + dp[i][y][cuts - 1]) % MOD\n",
    "\n",
    "        return dp[0][0][k]\n",
    "\n",
    "        "
   ]
  }
 ],
 "metadata": {
  "kernelspec": {
   "display_name": "Python 3 (ipykernel)",
   "language": "python",
   "name": "python3"
  },
  "language_info": {
   "codemirror_mode": {
    "name": "ipython",
    "version": 3
   },
   "file_extension": ".py",
   "mimetype": "text/x-python",
   "name": "python",
   "nbconvert_exporter": "python",
   "pygments_lexer": "ipython3",
   "version": "3.9.16"
  }
 },
 "nbformat": 4,
 "nbformat_minor": 5
}
