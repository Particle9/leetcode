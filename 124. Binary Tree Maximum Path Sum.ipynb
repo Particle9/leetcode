{
 "cells": [
  {
   "cell_type": "code",
   "execution_count": null,
   "id": "1d57acbf-ab7a-4c0c-bd09-ccf364694e67",
   "metadata": {},
   "outputs": [],
   "source": [
    "# Definition for a binary tree node.\n",
    "class TreeNode:\n",
    "    def __init__(self, val=0, left=None, right=None):\n",
    "        self.val = val\n",
    "        self.left = left\n",
    "        self.right = right\n",
    "class Solution:\n",
    "    \n",
    "    def maxPathSumRecurse(self, root: Optional[TreeNode]) -> int:\n",
    "        if not(root):\n",
    "            return - float('inf')\n",
    "        \n",
    "        leftSum = self.maxPathSumRecurse(root.left)\n",
    "        rightSum = self.maxPathSumRecurse(root.right)\n",
    "\n",
    "        self.maxRes = max(self.maxRes, root.val + leftSum + rightSum, root.val)\n",
    "        self.maxRes = max(self.maxRes, max(leftSum, rightSum))\n",
    "\n",
    "        return max(root.val, root.val + max(leftSum, rightSum))\n",
    "\n",
    "    def maxPathSum(self, root: Optional[TreeNode]) -> int:\n",
    "        self.maxRes = root.val\n",
    "        recursePath = self.maxPathSumRecurse(root)\n",
    "        self.maxRes = max(self.maxRes, recursePath)\n",
    "\n",
    "        return self.maxRes\n"
   ]
  }
 ],
 "metadata": {
  "kernelspec": {
   "display_name": "Python 3 (ipykernel)",
   "language": "python",
   "name": "python3"
  },
  "language_info": {
   "codemirror_mode": {
    "name": "ipython",
    "version": 3
   },
   "file_extension": ".py",
   "mimetype": "text/x-python",
   "name": "python",
   "nbconvert_exporter": "python",
   "pygments_lexer": "ipython3",
   "version": "3.9.16"
  }
 },
 "nbformat": 4,
 "nbformat_minor": 5
}
