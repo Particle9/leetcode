{
 "cells": [
  {
   "cell_type": "code",
   "execution_count": null,
   "id": "dab4afe4-02b7-4014-99c3-26c06720547e",
   "metadata": {},
   "outputs": [],
   "source": [
    "class Solution:\n",
    "    def isAnagram(self, s: str, t: str) -> bool:\n",
    "        dctx = {}\n",
    "        if len(s) != len(t):\n",
    "            return False\n",
    "\n",
    "        for i in range(0,len(s)):\n",
    "            if s[i] in dctx:\n",
    "                dctx[s[i]] += 1\n",
    "            else:\n",
    "                dctx[s[i]] = 1\n",
    "\n",
    "        for c in t:\n",
    "            if c not in dctx:\n",
    "                return False\n",
    "            elif dctx[c] == 0:\n",
    "                return False\n",
    "            dctx[c] -= 1\n",
    "        \n",
    "        return True\n"
   ]
  }
 ],
 "metadata": {
  "kernelspec": {
   "display_name": "Python 3 (ipykernel)",
   "language": "python",
   "name": "python3"
  },
  "language_info": {
   "codemirror_mode": {
    "name": "ipython",
    "version": 3
   },
   "file_extension": ".py",
   "mimetype": "text/x-python",
   "name": "python",
   "nbconvert_exporter": "python",
   "pygments_lexer": "ipython3",
   "version": "3.9.16"
  }
 },
 "nbformat": 4,
 "nbformat_minor": 5
}
