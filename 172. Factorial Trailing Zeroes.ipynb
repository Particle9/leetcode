{
 "cells": [
  {
   "cell_type": "code",
   "execution_count": 1,
   "id": "a27dd97d-052c-487f-852e-a02757de3c0a",
   "metadata": {},
   "outputs": [],
   "source": [
    "class Solution:\n",
    "    def trailingZeroes(self, n: int) -> int:\n",
    "        countX = 0\n",
    "        while n >= 5:\n",
    "            n //= 5\n",
    "            countX += n\n",
    "        return countX"
   ]
  },
  {
   "cell_type": "code",
   "execution_count": 3,
   "id": "769d32f2-32b6-43c1-a372-c201a9340863",
   "metadata": {},
   "outputs": [],
   "source": [
    "sol = Solution()"
   ]
  },
  {
   "cell_type": "code",
   "execution_count": 4,
   "id": "7cef767e-fad1-43d6-aca7-87d1e9c71a8c",
   "metadata": {},
   "outputs": [
    {
     "data": {
      "text/plain": [
       "499993"
      ]
     },
     "execution_count": 4,
     "metadata": {},
     "output_type": "execute_result"
    }
   ],
   "source": [
    "sol.trailingZeroes(1999999)"
   ]
  },
  {
   "cell_type": "code",
   "execution_count": null,
   "id": "c703e634-e9ed-4340-903a-a8effddb410a",
   "metadata": {},
   "outputs": [],
   "source": []
  }
 ],
 "metadata": {
  "kernelspec": {
   "display_name": "Python 3 (ipykernel)",
   "language": "python",
   "name": "python3"
  },
  "language_info": {
   "codemirror_mode": {
    "name": "ipython",
    "version": 3
   },
   "file_extension": ".py",
   "mimetype": "text/x-python",
   "name": "python",
   "nbconvert_exporter": "python",
   "pygments_lexer": "ipython3",
   "version": "3.9.16"
  }
 },
 "nbformat": 4,
 "nbformat_minor": 5
}
