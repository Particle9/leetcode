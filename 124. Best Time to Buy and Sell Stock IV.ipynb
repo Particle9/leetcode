{
 "cells": [
  {
   "cell_type": "code",
   "execution_count": 21,
   "id": "b6df5baf-aa23-4c70-b601-7403604b2ebb",
   "metadata": {},
   "outputs": [],
   "source": [
    "from typing import Optional, List\n",
    "\n",
    "\n",
    "class Solution:\n",
    "    def maxProfit(self, k: int, prices: List[int]) -> int:\n",
    "        days = len(prices)\n",
    "        steps = k*2\n",
    "        dp = [[0] * (days+2) for x in range(0,steps+2)]\n",
    "        for i in range(0,steps+1):\n",
    "            for j in range(1,days+1):\n",
    "                if i % 2 == 1:\n",
    "                    change = prices[j-1]\n",
    "                else:\n",
    "                    change = -prices[j-1]\n",
    "                    \n",
    "                dp[i+1][j] = dp[i][j] + change\n",
    "                dp[i][j+1] = max(dp[i][j+1], dp[i][j])\n",
    "                \n",
    "        return dp[steps][days]"
   ]
  },
  {
   "cell_type": "code",
   "execution_count": null,
   "id": "935c38c8-e49f-4404-ab8f-dfec20116f0e",
   "metadata": {},
   "outputs": [],
   "source": []
  },
  {
   "cell_type": "code",
   "execution_count": 22,
   "id": "2edb9d62-ceca-4a84-ba61-07db2f8d5678",
   "metadata": {},
   "outputs": [],
   "source": [
    "sol = Solution()"
   ]
  },
  {
   "cell_type": "code",
   "execution_count": 23,
   "id": "7bcfc781-7597-4a5e-822f-471dde7da839",
   "metadata": {},
   "outputs": [
    {
     "data": {
      "text/plain": [
       "2"
      ]
     },
     "execution_count": 23,
     "metadata": {},
     "output_type": "execute_result"
    }
   ],
   "source": [
    "sol.maxProfit(2, [2,4,1])"
   ]
  },
  {
   "cell_type": "code",
   "execution_count": 24,
   "id": "166b9e3a-0af9-4d1c-b543-be70c39e64ae",
   "metadata": {},
   "outputs": [
    {
     "data": {
      "text/plain": [
       "7"
      ]
     },
     "execution_count": 24,
     "metadata": {},
     "output_type": "execute_result"
    }
   ],
   "source": [
    "sol.maxProfit(2,[3,2,6,5,0,3])"
   ]
  },
  {
   "cell_type": "code",
   "execution_count": 25,
   "id": "6dff55d8-a2cd-4338-aba2-e23273639b93",
   "metadata": {},
   "outputs": [
    {
     "data": {
      "text/plain": [
       "10"
      ]
     },
     "execution_count": 25,
     "metadata": {},
     "output_type": "execute_result"
    }
   ],
   "source": [
    "sol.maxProfit(3,[7, 10,6,4,3,10,9,1])"
   ]
  },
  {
   "cell_type": "code",
   "execution_count": null,
   "id": "1e661c85-999d-4012-b3e1-fd586fb4241b",
   "metadata": {},
   "outputs": [],
   "source": []
  }
 ],
 "metadata": {
  "kernelspec": {
   "display_name": "Python 3 (ipykernel)",
   "language": "python",
   "name": "python3"
  },
  "language_info": {
   "codemirror_mode": {
    "name": "ipython",
    "version": 3
   },
   "file_extension": ".py",
   "mimetype": "text/x-python",
   "name": "python",
   "nbconvert_exporter": "python",
   "pygments_lexer": "ipython3",
   "version": "3.9.16"
  }
 },
 "nbformat": 4,
 "nbformat_minor": 5
}
