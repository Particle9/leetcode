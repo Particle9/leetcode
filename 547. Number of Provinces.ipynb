{
 "cells": [
  {
   "cell_type": "code",
   "execution_count": null,
   "id": "341e67d0-a335-458d-8c08-2c5f4efab3eb",
   "metadata": {},
   "outputs": [],
   "source": [
    "class Solution:\n",
    "    def findCircleNum(self, isConnected: List[List[int]]) -> int:\n",
    "        listEdges = []\n",
    "        \n",
    "        visited = set()\n",
    "        listParent = [i for i in range(0,len(isConnected))]\n",
    "        countProvince = 0\n",
    "        for i in range(0, len(isConnected)):\n",
    "            if i not in visited:\n",
    "                countProvince += 1\n",
    "                stack = [i]\n",
    "                visited.add(i)\n",
    "                while stack:\n",
    "                    ix = stack.pop()\n",
    "                    for j in range(0,len(isConnected)):\n",
    "                        if ix != j and isConnected[ix][j] == 1 and j not in visited:\n",
    "                            listParent[j] = i\n",
    "                            visited.add(j)\n",
    "                            stack += [j]\n",
    "            \n",
    "        return countProvince"
   ]
  }
 ],
 "metadata": {
  "kernelspec": {
   "display_name": "Python 3 (ipykernel)",
   "language": "python",
   "name": "python3"
  },
  "language_info": {
   "codemirror_mode": {
    "name": "ipython",
    "version": 3
   },
   "file_extension": ".py",
   "mimetype": "text/x-python",
   "name": "python",
   "nbconvert_exporter": "python",
   "pygments_lexer": "ipython3",
   "version": "3.9.16"
  }
 },
 "nbformat": 4,
 "nbformat_minor": 5
}
