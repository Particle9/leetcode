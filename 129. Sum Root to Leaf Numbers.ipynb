{
 "cells": [
  {
   "cell_type": "code",
   "execution_count": 1,
   "id": "2276afea-9e8a-400d-80eb-bd8a0583d75f",
   "metadata": {},
   "outputs": [],
   "source": [
    "from typing import Optional, List\n",
    "\n",
    "class TreeNode:\n",
    "    def __init__(self, val=0, left=None, right=None):\n",
    "        self.val = val\n",
    "        self.left = left\n",
    "        self.right = right"
   ]
  },
  {
   "cell_type": "code",
   "execution_count": 2,
   "id": "82fbc540-1863-4f09-a20f-e42620819c87",
   "metadata": {},
   "outputs": [],
   "source": [
    "class Solution:\n",
    "    def sumNumbersRecurse(self, root):\n",
    "        if not(root):\n",
    "            return []\n",
    "        elif not(root.left) and not(root.right):\n",
    "            return [str(root.val)]\n",
    "        \n",
    "        lst = []\n",
    "        node_lst = self.sumNumbersRecurse(root.left)\n",
    "        node_lst += self.sumNumbersRecurse(root.right)\n",
    "        for x in node_lst:\n",
    "            temp_str = str(root.val) + x\n",
    "            lst += [temp_str]\n",
    "        return lst\n",
    "\n",
    "    def sumNumbers(self, root: Optional[TreeNode]) -> int:\n",
    "        lst = self.sumNumbersRecurse(root)\n",
    "\n",
    "        sumNums = 0\n",
    "        for x in lst:\n",
    "            sumNums += int(x)\n",
    "\n",
    "        return sumNums"
   ]
  },
  {
   "cell_type": "code",
   "execution_count": null,
   "id": "99820028-d806-421e-a7d4-c6b741cef845",
   "metadata": {},
   "outputs": [],
   "source": []
  }
 ],
 "metadata": {
  "kernelspec": {
   "display_name": "Python 3 (ipykernel)",
   "language": "python",
   "name": "python3"
  },
  "language_info": {
   "codemirror_mode": {
    "name": "ipython",
    "version": 3
   },
   "file_extension": ".py",
   "mimetype": "text/x-python",
   "name": "python",
   "nbconvert_exporter": "python",
   "pygments_lexer": "ipython3",
   "version": "3.9.16"
  }
 },
 "nbformat": 4,
 "nbformat_minor": 5
}
