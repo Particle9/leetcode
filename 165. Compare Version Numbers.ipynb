{
 "cells": [
  {
   "cell_type": "code",
   "execution_count": 1,
   "id": "99384ce3-83a3-4903-9b62-5d2f517b23b2",
   "metadata": {},
   "outputs": [],
   "source": [
    "class Solution:\n",
    "    def compareVersion(self, version1: str, version2: str) -> int:\n",
    "        lv1 = version1.split('.')\n",
    "        lv2 = version2.split('.')\n",
    "\n",
    "        if len(lv1) > len(lv2):\n",
    "            lv2 += [\"0\"] * (len(lv1) - len(lv2))\n",
    "        elif len(lv2) > len(lv1):\n",
    "            lv1 += [\"0\"] * (len(lv2) - len(lv1))\n",
    "\n",
    "        for v1, v2 in zip(lv1,lv2):\n",
    "            if int(v1) > int(v2):\n",
    "                return 1\n",
    "            elif int(v2) > int(v1):\n",
    "                return -1\n",
    "        return 0\n",
    "        "
   ]
  },
  {
   "cell_type": "code",
   "execution_count": null,
   "id": "0f825724-2d42-4ae5-8523-9de33014f647",
   "metadata": {},
   "outputs": [],
   "source": []
  }
 ],
 "metadata": {
  "kernelspec": {
   "display_name": "Python 3 (ipykernel)",
   "language": "python",
   "name": "python3"
  },
  "language_info": {
   "codemirror_mode": {
    "name": "ipython",
    "version": 3
   },
   "file_extension": ".py",
   "mimetype": "text/x-python",
   "name": "python",
   "nbconvert_exporter": "python",
   "pygments_lexer": "ipython3",
   "version": "3.9.16"
  }
 },
 "nbformat": 4,
 "nbformat_minor": 5
}
