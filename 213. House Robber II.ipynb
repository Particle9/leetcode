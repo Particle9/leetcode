{
 "cells": [
  {
   "cell_type": "code",
   "execution_count": 2,
   "id": "2d41b13a-0092-4237-919b-9dbda2b8cc46",
   "metadata": {},
   "outputs": [],
   "source": [
    "from typing import List\n",
    "\n",
    "class Solution:\n",
    "    def rob_dp(self, nums):\n",
    "        if not(nums):\n",
    "            return 0\n",
    "        n = len(nums)\n",
    "        dp = [0] * max(2,(n+1))\n",
    "        dp[1] = nums[0]\n",
    "\n",
    "        for i in range(2,n+1):\n",
    "            dp[i] = max(dp[i-1], dp[i-2] + nums[i-1])\n",
    "        \n",
    "        return dp[n]\n",
    "\n",
    "    def rob(self, nums: List[int]) -> int:\n",
    "        if not(nums):\n",
    "            return 0\n",
    "        elif len(nums) == 1:\n",
    "            return max(sum(nums), 0)\n",
    "        \n",
    "        return max(self.rob_dp(nums[1:]), self.rob_dp(nums[:len(nums)-1]))"
   ]
  },
  {
   "cell_type": "code",
   "execution_count": null,
   "id": "a04a879f-07af-4ea2-89a2-373b5b3d59cc",
   "metadata": {},
   "outputs": [],
   "source": []
  }
 ],
 "metadata": {
  "kernelspec": {
   "display_name": "Python 3 (ipykernel)",
   "language": "python",
   "name": "python3"
  },
  "language_info": {
   "codemirror_mode": {
    "name": "ipython",
    "version": 3
   },
   "file_extension": ".py",
   "mimetype": "text/x-python",
   "name": "python",
   "nbconvert_exporter": "python",
   "pygments_lexer": "ipython3",
   "version": "3.9.16"
  }
 },
 "nbformat": 4,
 "nbformat_minor": 5
}
