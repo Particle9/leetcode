{
 "cells": [
  {
   "cell_type": "code",
   "execution_count": 1,
   "id": "ad9a8a0d-3110-4bb7-ae3f-1488d0eb0007",
   "metadata": {},
   "outputs": [],
   "source": [
    "from typing import List\n",
    "\n",
    "class Solution:\n",
    "    def longestSubarray(self, nums: List[int]) -> int:\n",
    "        n = len(nums)\n",
    "        curr1 = 0\n",
    "        curr0 = 0\n",
    "        max1 = 0\n",
    "        i,j = 0, 0\n",
    "        while j < n:\n",
    "            if nums[j] == 1:\n",
    "                curr1 += 1\n",
    "                j += 1\n",
    "            elif curr0 < 1:\n",
    "                curr0 += 1\n",
    "                j += 1\n",
    "            elif nums[i] == 1:\n",
    "                curr1 -= 1\n",
    "                i += 1\n",
    "            else:\n",
    "                curr0 -= 1\n",
    "                i += 1\n",
    "            max1 = max(max1,curr1)\n",
    "        \n",
    "        if max1 == len(nums):\n",
    "            return max1 - 1\n",
    "        else:\n",
    "            return max1\n",
    "\n",
    "        "
   ]
  },
  {
   "cell_type": "code",
   "execution_count": null,
   "id": "2c4756f8-b458-4072-bd4b-750b65431a80",
   "metadata": {},
   "outputs": [],
   "source": []
  }
 ],
 "metadata": {
  "kernelspec": {
   "display_name": "Python 3 (ipykernel)",
   "language": "python",
   "name": "python3"
  },
  "language_info": {
   "codemirror_mode": {
    "name": "ipython",
    "version": 3
   },
   "file_extension": ".py",
   "mimetype": "text/x-python",
   "name": "python",
   "nbconvert_exporter": "python",
   "pygments_lexer": "ipython3",
   "version": "3.9.16"
  }
 },
 "nbformat": 4,
 "nbformat_minor": 5
}
