{
 "cells": [
  {
   "cell_type": "code",
   "execution_count": null,
   "id": "70a37628-614c-47c0-8c75-fd95edfc61b2",
   "metadata": {},
   "outputs": [],
   "source": [
    "class Node:\n",
    "    def __init__(self, x: int, next: 'Node' = None, random: 'Node' = None):\n",
    "        self.val = int(x)\n",
    "        self.next = next\n",
    "        self.random = random\n",
    "\n",
    "class Solution:\n",
    "    def copyRandomList(self, head: 'Optional[Node]') -> 'Optional[Node]':\n",
    "        if not(head):\n",
    "            return None\n",
    "        \n",
    "        stack = [head]\n",
    "        lst = []\n",
    "        prev = None\n",
    "\n",
    "        dctx = {}\n",
    "        \n",
    "        while stack:\n",
    "            elmt = stack.pop()\n",
    "            if elmt:\n",
    "                newNode = Node(x = elmt.val)\n",
    "                newNode.random = elmt.random\n",
    "                stack += [elmt.next]\n",
    "                if not(prev):\n",
    "                    prev = newNode\n",
    "                    lst += [newNode]\n",
    "                else:\n",
    "                    prev.next = newNode\n",
    "                    lst += [newNode]\n",
    "                prev = newNode\n",
    "                if elmt not in dctx:\n",
    "                    dctx[elmt] = newNode\n",
    "        \n",
    "        for x in lst:\n",
    "            if x.random:\n",
    "                x.random = dctx[x.random]\n",
    "        \n",
    "        return lst[0]\n",
    "        "
   ]
  }
 ],
 "metadata": {
  "kernelspec": {
   "display_name": "Python 3 (ipykernel)",
   "language": "python",
   "name": "python3"
  },
  "language_info": {
   "codemirror_mode": {
    "name": "ipython",
    "version": 3
   },
   "file_extension": ".py",
   "mimetype": "text/x-python",
   "name": "python",
   "nbconvert_exporter": "python",
   "pygments_lexer": "ipython3",
   "version": "3.9.16"
  }
 },
 "nbformat": 4,
 "nbformat_minor": 5
}
