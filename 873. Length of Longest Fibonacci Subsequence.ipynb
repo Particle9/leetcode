{
 "cells": [
  {
   "cell_type": "code",
   "execution_count": 1,
   "id": "384564c1-23de-4138-a09c-b7ecc64b1292",
   "metadata": {},
   "outputs": [],
   "source": [
    "from typing import List\n",
    "\n",
    "class Solution:\n",
    "\n",
    "    def lenLongestFibSubseq(self, arr: List[int]) -> int:\n",
    "        index = {x: i for i, x in enumerate(arr)}  \n",
    "        dp = {}  \n",
    "        max_len = 0\n",
    "        \n",
    "        for k in range(len(arr)):\n",
    "            for j in range(k):\n",
    "                i = index.get(arr[k] - arr[j], -1)\n",
    "                if i >= 0 and i < j:\n",
    "                    dp[(j, k)] = dp.get((i, j), 2) + 1\n",
    "                    max_len = max(max_len, dp[(j, k)])\n",
    "        \n",
    "        return max_len if max_len >= 3 else 0"
   ]
  },
  {
   "cell_type": "code",
   "execution_count": null,
   "id": "b30903cc-91bd-47e0-82f4-0e185c58cd2c",
   "metadata": {},
   "outputs": [],
   "source": []
  }
 ],
 "metadata": {
  "kernelspec": {
   "display_name": "Python 3 (ipykernel)",
   "language": "python",
   "name": "python3"
  },
  "language_info": {
   "codemirror_mode": {
    "name": "ipython",
    "version": 3
   },
   "file_extension": ".py",
   "mimetype": "text/x-python",
   "name": "python",
   "nbconvert_exporter": "python",
   "pygments_lexer": "ipython3",
   "version": "3.9.16"
  }
 },
 "nbformat": 4,
 "nbformat_minor": 5
}
