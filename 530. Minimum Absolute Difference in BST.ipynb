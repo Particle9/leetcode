{
 "cells": [
  {
   "cell_type": "code",
   "execution_count": null,
   "id": "bf87006c-8a44-4546-96b2-1b735fc7f8f2",
   "metadata": {},
   "outputs": [],
   "source": [
    "# Definition for a binary tree node.\n",
    "class TreeNode:\n",
    "    def __init__(self, val=0, left=None, right=None):\n",
    "        self.val = val\n",
    "        self.left = left\n",
    "        self.right = right\n",
    "class Solution:\n",
    "\n",
    "    def getInOrder(self,root):\n",
    "        if not(root):\n",
    "            return []\n",
    "        return self.getInOrder(root.left) + [root.val] + self.getInOrder(root.right)\n",
    "\n",
    "    def getMinimumDifference(self, root: Optional[TreeNode]) -> int:\n",
    "        lst = self.getInOrder(root)\n",
    "        minDiff = float('inf')\n",
    "        prev = float('inf')\n",
    "        for x in lst:\n",
    "            minDiff = min(abs(x-prev), minDiff)\n",
    "            prev = x\n",
    "        return minDiff"
   ]
  }
 ],
 "metadata": {
  "kernelspec": {
   "display_name": "Python 3 (ipykernel)",
   "language": "python",
   "name": "python3"
  },
  "language_info": {
   "codemirror_mode": {
    "name": "ipython",
    "version": 3
   },
   "file_extension": ".py",
   "mimetype": "text/x-python",
   "name": "python",
   "nbconvert_exporter": "python",
   "pygments_lexer": "ipython3",
   "version": "3.9.16"
  }
 },
 "nbformat": 4,
 "nbformat_minor": 5
}
