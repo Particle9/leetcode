{
 "cells": [
  {
   "cell_type": "code",
   "execution_count": 2,
   "id": "3d9234b9-4621-40fc-a4b3-adfab66b9544",
   "metadata": {},
   "outputs": [],
   "source": [
    "from typing import Optional,List\n",
    "\n",
    "\n",
    "# Definition for a binary tree node.\n",
    "class TreeNode:\n",
    "    def __init__(self, val=0, left=None, right=None):\n",
    "        self.val = val\n",
    "        self.left = left\n",
    "        self.right = right\n",
    "        \n",
    "class Solution:\n",
    "    def minDepth(self, root: Optional[TreeNode]) -> int:\n",
    "        if not(root):\n",
    "            return 0\n",
    "        elif not(root.left) and not(root.right):\n",
    "            return 1\n",
    "        \n",
    "        leftDepth, rightDepth = float('inf'), float('inf')\n",
    "        if root.left:\n",
    "            leftDepth = self.minDepth(root.left)\n",
    "\n",
    "        if root.right:\n",
    "            rightDepth = self.minDepth(root.right)\n",
    "            \n",
    "\n",
    "        return 1 + min(leftDepth,rightDepth)"
   ]
  },
  {
   "cell_type": "code",
   "execution_count": null,
   "id": "b1155fcd-3277-4123-84ba-ccd34a626cee",
   "metadata": {},
   "outputs": [],
   "source": []
  },
  {
   "cell_type": "code",
   "execution_count": null,
   "id": "7e120054-ba31-4e10-88de-d21868814843",
   "metadata": {},
   "outputs": [],
   "source": []
  }
 ],
 "metadata": {
  "kernelspec": {
   "display_name": "Python 3 (ipykernel)",
   "language": "python",
   "name": "python3"
  },
  "language_info": {
   "codemirror_mode": {
    "name": "ipython",
    "version": 3
   },
   "file_extension": ".py",
   "mimetype": "text/x-python",
   "name": "python",
   "nbconvert_exporter": "python",
   "pygments_lexer": "ipython3",
   "version": "3.9.16"
  }
 },
 "nbformat": 4,
 "nbformat_minor": 5
}
