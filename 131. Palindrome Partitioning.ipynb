{
 "cells": [
  {
   "cell_type": "code",
   "execution_count": 1,
   "id": "6f86b8d8-94df-4a83-99f7-3010f36dac0f",
   "metadata": {},
   "outputs": [],
   "source": [
    "from typing import List\n",
    "\n",
    "class Solution:\n",
    "\n",
    "    def isPalindrome(self, s):\n",
    "        return s == s[::-1]\n",
    "\n",
    "    def partition(self, s: str) -> List[List[str]]:\n",
    "        try:\n",
    "            if s in self.memo:\n",
    "                return self.memo[s]\n",
    "        except:\n",
    "            self.memo = {}\n",
    "\n",
    "        if not s:\n",
    "            return []\n",
    "        elif len(s) == 1:\n",
    "            return [[s]]\n",
    "\n",
    "        outLst = []\n",
    "        for i in range(1, len(s) + 1):\n",
    "            cs1 = s[:i]\n",
    "            cs2 = s[i:]\n",
    "\n",
    "            if self.isPalindrome(cs1):\n",
    "                if cs2 == \"\":\n",
    "                    outLst.append([cs1])\n",
    "                else:\n",
    "                    cs2Pal = self.partition(cs2)\n",
    "                    for x in cs2Pal:\n",
    "                        outLst.append([cs1] + x)\n",
    "\n",
    "        self.memo[s] = outLst\n",
    "        return outLst\n"
   ]
  },
  {
   "cell_type": "code",
   "execution_count": 2,
   "id": "a9c9b404-d3e9-4e61-8a09-8ae19f544938",
   "metadata": {},
   "outputs": [],
   "source": [
    "sol = Solution()"
   ]
  },
  {
   "cell_type": "code",
   "execution_count": 3,
   "id": "12d0eebf-6690-46e9-a6d2-faa5acc1c8fa",
   "metadata": {},
   "outputs": [
    {
     "data": {
      "text/plain": [
       "[['a', 'b', 'a', 'a', 'b', 'b', 'a'],\n",
       " ['a', 'b', 'a', 'a', 'bb', 'a'],\n",
       " ['a', 'b', 'a', 'abba'],\n",
       " ['a', 'b', 'aa', 'b', 'b', 'a'],\n",
       " ['a', 'b', 'aa', 'bb', 'a'],\n",
       " ['a', 'baab', 'b', 'a'],\n",
       " ['aba', 'a', 'b', 'b', 'a'],\n",
       " ['aba', 'a', 'bb', 'a'],\n",
       " ['aba', 'abba']]"
      ]
     },
     "execution_count": 3,
     "metadata": {},
     "output_type": "execute_result"
    }
   ],
   "source": [
    "sol.partition(\"abaabba\")"
   ]
  },
  {
   "cell_type": "code",
   "execution_count": null,
   "id": "3eb964f2-80ab-4ac6-b619-fc292443cce9",
   "metadata": {},
   "outputs": [],
   "source": []
  }
 ],
 "metadata": {
  "kernelspec": {
   "display_name": "Python 3 (ipykernel)",
   "language": "python",
   "name": "python3"
  },
  "language_info": {
   "codemirror_mode": {
    "name": "ipython",
    "version": 3
   },
   "file_extension": ".py",
   "mimetype": "text/x-python",
   "name": "python",
   "nbconvert_exporter": "python",
   "pygments_lexer": "ipython3",
   "version": "3.9.16"
  }
 },
 "nbformat": 4,
 "nbformat_minor": 5
}
