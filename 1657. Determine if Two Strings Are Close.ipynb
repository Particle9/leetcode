{
 "cells": [
  {
   "cell_type": "code",
   "execution_count": null,
   "id": "e765201c-2557-4be2-83ca-55e9367bdc72",
   "metadata": {},
   "outputs": [],
   "source": [
    "class Solution:\n",
    "    def closeStrings(self, word1: str, word2: str) -> bool:\n",
    "        if len(word1) != len(word2):\n",
    "            return False\n",
    "        elif set(word1) != set(word2):\n",
    "            return False\n",
    "        \n",
    "        dct1, dct2 = {}, {}\n",
    "        for x in word1:\n",
    "            dct1[x] = dct1.get(x, 0) + 1\n",
    "        \n",
    "        for x in word2:\n",
    "            dct2[x] = dct2.get(x, 0) + 1\n",
    "        \n",
    "        dctx1, dctx2 = {}, {}\n",
    "        for k,v in dct1.items():\n",
    "            dctx1[v] = dctx1.get(v, 0) + 1\n",
    "\n",
    "        for k,v in dct2.items():\n",
    "            dctx2[v] = dctx2.get(v, 0) + 1\n",
    "        \n",
    "        return dctx1 == dctx2\n",
    "        \n",
    "\n",
    "        \n",
    "        \n",
    "                \n",
    "\n",
    "        "
   ]
  }
 ],
 "metadata": {
  "kernelspec": {
   "display_name": "Python 3 (ipykernel)",
   "language": "python",
   "name": "python3"
  },
  "language_info": {
   "codemirror_mode": {
    "name": "ipython",
    "version": 3
   },
   "file_extension": ".py",
   "mimetype": "text/x-python",
   "name": "python",
   "nbconvert_exporter": "python",
   "pygments_lexer": "ipython3",
   "version": "3.9.16"
  }
 },
 "nbformat": 4,
 "nbformat_minor": 5
}
