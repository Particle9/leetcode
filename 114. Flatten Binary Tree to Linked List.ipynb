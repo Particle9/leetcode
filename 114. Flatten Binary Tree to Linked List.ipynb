{
 "cells": [
  {
   "cell_type": "code",
   "execution_count": 1,
   "id": "96f48141-79f5-4489-8652-a0a33716032c",
   "metadata": {},
   "outputs": [],
   "source": [
    "from typing import Optional, List\n",
    "\n",
    "class TreeNode:\n",
    "    def __init__(self, val=0, left=None, right=None):\n",
    "        self.val = val\n",
    "        self.left = left\n",
    "        self.right = right"
   ]
  },
  {
   "cell_type": "code",
   "execution_count": 2,
   "id": "c22c7b6c-870d-4518-9205-06b9c048b8f9",
   "metadata": {},
   "outputs": [],
   "source": [
    "class Solution:\n",
    "    def flatten(self, root: Optional[TreeNode]) -> None:\n",
    "        \"\"\"\n",
    "        Do not return anything, modify root in-place instead.\n",
    "        \"\"\"\n",
    "\n",
    "        lst = []\n",
    "        tree_stack = [root]\n",
    "        while tree_stack:\n",
    "            tr = tree_stack.pop()\n",
    "            if tr:\n",
    "                lst += [tr]\n",
    "                tree_stack += [tr.right,tr.left]\n",
    "\n",
    "        lst = lst + [None]\n",
    "        for i in range(0,len(lst)-1):\n",
    "            lst[i].left = None\n",
    "            lst[i].right = lst[i+1]\n",
    "        return lst\n",
    "\n",
    "        "
   ]
  },
  {
   "cell_type": "code",
   "execution_count": null,
   "id": "1e1f6529-897f-4034-8d00-128711a799c0",
   "metadata": {},
   "outputs": [],
   "source": []
  }
 ],
 "metadata": {
  "kernelspec": {
   "display_name": "Python 3 (ipykernel)",
   "language": "python",
   "name": "python3"
  },
  "language_info": {
   "codemirror_mode": {
    "name": "ipython",
    "version": 3
   },
   "file_extension": ".py",
   "mimetype": "text/x-python",
   "name": "python",
   "nbconvert_exporter": "python",
   "pygments_lexer": "ipython3",
   "version": "3.9.16"
  }
 },
 "nbformat": 4,
 "nbformat_minor": 5
}
