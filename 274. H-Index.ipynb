{
 "cells": [
  {
   "cell_type": "code",
   "execution_count": 1,
   "id": "3029b216-2550-4cb0-8845-71f45b31a1f9",
   "metadata": {},
   "outputs": [],
   "source": [
    "from typing import List\n",
    "\n",
    "class Solution:\n",
    "    def hIndex(self, citations: List[int]) -> int:\n",
    "        dct = {}\n",
    "        max_citations = 0\n",
    "        for x in citations:\n",
    "            if max_citations < x:\n",
    "                max_citations = x\n",
    "            if x in dct:\n",
    "                for i in range(1,x+1):\n",
    "                    dct[i] += 1\n",
    "            else:\n",
    "                dct[x] = 1\n",
    "                for i in range(1,x):\n",
    "                    if i in dct:\n",
    "                        dct[i] += 1\n",
    "                    else:\n",
    "                        dct[i] = 1\n",
    "\n",
    "        h_index = 0\n",
    "        for i in range(1,max_citations+1):\n",
    "            if dct[i] >= i:\n",
    "                h_index = i\n",
    "        return h_index\n",
    "        "
   ]
  },
  {
   "cell_type": "code",
   "execution_count": null,
   "id": "52222528-cb00-46ef-8d06-ee3fa4918b81",
   "metadata": {},
   "outputs": [],
   "source": []
  }
 ],
 "metadata": {
  "kernelspec": {
   "display_name": "Python 3 (ipykernel)",
   "language": "python",
   "name": "python3"
  },
  "language_info": {
   "codemirror_mode": {
    "name": "ipython",
    "version": 3
   },
   "file_extension": ".py",
   "mimetype": "text/x-python",
   "name": "python",
   "nbconvert_exporter": "python",
   "pygments_lexer": "ipython3",
   "version": "3.9.16"
  }
 },
 "nbformat": 4,
 "nbformat_minor": 5
}
