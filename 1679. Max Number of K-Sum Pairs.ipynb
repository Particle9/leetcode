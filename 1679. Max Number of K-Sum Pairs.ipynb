{
 "cells": [
  {
   "cell_type": "code",
   "execution_count": 1,
   "id": "effa8c3a-7b23-4b6a-b98e-a9a70d52533d",
   "metadata": {},
   "outputs": [],
   "source": [
    "from typing import List\n",
    "\n",
    "class Solution:\n",
    "    def maxOperations(self, nums: List[int], k: int) -> int:\n",
    "        dctNums = {}\n",
    "        countOp = 0\n",
    "        for x in nums:\n",
    "            if (k-x) in dctNums and dctNums[k-x] > 0:\n",
    "                countOp += 1\n",
    "                dctNums[k-x] -= 1\n",
    "            elif x in dctNums:\n",
    "                dctNums[x] += 1\n",
    "            else:\n",
    "                dctNums[x] = 1\n",
    "        return countOp\n",
    "        "
   ]
  },
  {
   "cell_type": "code",
   "execution_count": null,
   "id": "d1e5e313-491a-46c8-86fd-1e90c577167a",
   "metadata": {},
   "outputs": [],
   "source": []
  }
 ],
 "metadata": {
  "kernelspec": {
   "display_name": "Python 3 (ipykernel)",
   "language": "python",
   "name": "python3"
  },
  "language_info": {
   "codemirror_mode": {
    "name": "ipython",
    "version": 3
   },
   "file_extension": ".py",
   "mimetype": "text/x-python",
   "name": "python",
   "nbconvert_exporter": "python",
   "pygments_lexer": "ipython3",
   "version": "3.9.16"
  }
 },
 "nbformat": 4,
 "nbformat_minor": 5
}
