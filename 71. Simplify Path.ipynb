{
 "cells": [
  {
   "cell_type": "code",
   "execution_count": null,
   "id": "c6e51d69-fe06-4d62-a445-7264cb3d3b99",
   "metadata": {},
   "outputs": [],
   "source": [
    "class Solution:\n",
    "    def simplifyPath(self, path: str) -> str:\n",
    "        path_lst = path.split('/')\n",
    "        stack_path = []\n",
    "        for w in path_lst:\n",
    "            if not(w) or w == '.':\n",
    "                continue\n",
    "            elif (w == '..'):\n",
    "                if (stack_path):\n",
    "                    stack_path.pop()\n",
    "            else:\n",
    "                stack_path += [w]\n",
    "        return '/' + '/'.join(stack_path)\n",
    "\n",
    "\n",
    "        "
   ]
  }
 ],
 "metadata": {
  "kernelspec": {
   "display_name": "Python 3 (ipykernel)",
   "language": "python",
   "name": "python3"
  },
  "language_info": {
   "codemirror_mode": {
    "name": "ipython",
    "version": 3
   },
   "file_extension": ".py",
   "mimetype": "text/x-python",
   "name": "python",
   "nbconvert_exporter": "python",
   "pygments_lexer": "ipython3",
   "version": "3.9.16"
  }
 },
 "nbformat": 4,
 "nbformat_minor": 5
}
