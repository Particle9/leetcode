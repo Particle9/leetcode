{
 "cells": [
  {
   "cell_type": "code",
   "execution_count": 1,
   "id": "ffed402f-d2aa-44e0-a15f-5a808cab076c",
   "metadata": {},
   "outputs": [],
   "source": [
    "from typing import List\n",
    "\n",
    "class Solution:\n",
    "    def dailyTemperatures(self, temperatures: List[int]) -> List[int]:\n",
    "        stack = []\n",
    "        outLst = [0 for _ in temperatures]\n",
    "        for i, x in enumerate(temperatures):\n",
    "            if not(stack):\n",
    "                stack += [(x,i)]\n",
    "            else:\n",
    "                while stack and stack[-1][0] < x:\n",
    "                    ex, ei = stack.pop()\n",
    "                    outLst[ei] = i - ei\n",
    "                stack += [(x,i)]\n",
    "        \n",
    "        return outLst\n",
    "\n",
    "                "
   ]
  },
  {
   "cell_type": "code",
   "execution_count": null,
   "id": "13864cd3-b90f-4bef-9202-290705ca3781",
   "metadata": {},
   "outputs": [],
   "source": []
  }
 ],
 "metadata": {
  "kernelspec": {
   "display_name": "Python 3 (ipykernel)",
   "language": "python",
   "name": "python3"
  },
  "language_info": {
   "codemirror_mode": {
    "name": "ipython",
    "version": 3
   },
   "file_extension": ".py",
   "mimetype": "text/x-python",
   "name": "python",
   "nbconvert_exporter": "python",
   "pygments_lexer": "ipython3",
   "version": "3.9.16"
  }
 },
 "nbformat": 4,
 "nbformat_minor": 5
}
