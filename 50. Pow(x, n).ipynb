{
 "cells": [
  {
   "cell_type": "code",
   "execution_count": 106,
   "id": "5173c1a4-32db-4fa7-a452-7aa7fdba734f",
   "metadata": {},
   "outputs": [],
   "source": [
    "class Solution:\n",
    "    \n",
    "    def myPow(self, x: float, n: int):\n",
    "        if n == 0:\n",
    "            return 1\n",
    "        elif n == 1:\n",
    "            return x\n",
    "        elif n == -1:\n",
    "            return 1/x\n",
    "\n",
    "        n_abs = abs(n)\n",
    "        p = n_abs - (n_abs%2)\n",
    "        res = 1\n",
    "        curr_ratio = x\n",
    "        while p > 0:\n",
    "            if p % 2 == 1:\n",
    "                res *= curr_ratio\n",
    "            curr_ratio *= curr_ratio\n",
    "            p = p//2\n",
    "\n",
    "        if (n_abs%2) == 1:\n",
    "            res *= x\n",
    "            \n",
    "        if n < 0:\n",
    "            return 1/res\n",
    "        else:\n",
    "            return res\n",
    "        "
   ]
  },
  {
   "cell_type": "code",
   "execution_count": 107,
   "id": "0ffd4d6b-bfe6-4049-a287-c502fdea45fd",
   "metadata": {},
   "outputs": [],
   "source": [
    "sol = Solution()"
   ]
  },
  {
   "cell_type": "code",
   "execution_count": 108,
   "id": "62d51fd9-27e7-4a2f-b876-62705db2626d",
   "metadata": {},
   "outputs": [
    {
     "data": {
      "text/plain": [
       "54097.21653049768"
      ]
     },
     "execution_count": 108,
     "metadata": {},
     "output_type": "execute_result"
    }
   ],
   "source": [
    "sol.myPow(8.84372, 5)"
   ]
  },
  {
   "cell_type": "code",
   "execution_count": 109,
   "id": "fc7b5e27-4340-4529-8db4-0ba9d082f374",
   "metadata": {},
   "outputs": [
    {
     "data": {
      "text/plain": [
       "1.8485239428839063e-05"
      ]
     },
     "execution_count": 109,
     "metadata": {},
     "output_type": "execute_result"
    }
   ],
   "source": [
    "sol.myPow(8.84372, -5)"
   ]
  },
  {
   "cell_type": "code",
   "execution_count": 110,
   "id": "2a3ea135-a817-43c5-bf4c-e0201f60edce",
   "metadata": {},
   "outputs": [
    {
     "data": {
      "text/plain": [
       "2.090210842138723e-06"
      ]
     },
     "execution_count": 110,
     "metadata": {},
     "output_type": "execute_result"
    }
   ],
   "source": [
    "1/478420.6357750929"
   ]
  },
  {
   "cell_type": "code",
   "execution_count": 111,
   "id": "4a663101-257f-45ff-ae9d-e9e880d2c635",
   "metadata": {},
   "outputs": [
    {
     "data": {
      "text/plain": [
       "1.8485239428839063e-05"
      ]
     },
     "execution_count": 111,
     "metadata": {},
     "output_type": "execute_result"
    }
   ],
   "source": [
    "8.84372 ** -5"
   ]
  },
  {
   "cell_type": "code",
   "execution_count": 112,
   "id": "64272edc-80dc-4acf-b418-e30693377be2",
   "metadata": {},
   "outputs": [
    {
     "data": {
      "text/plain": [
       "32"
      ]
     },
     "execution_count": 112,
     "metadata": {},
     "output_type": "execute_result"
    }
   ],
   "source": [
    "sol.myPow(2,5)"
   ]
  },
  {
   "cell_type": "code",
   "execution_count": 113,
   "id": "512bcfab-d913-49bf-9f2c-8aaf2fec8224",
   "metadata": {},
   "outputs": [
    {
     "data": {
      "text/plain": [
       "9.162476446700507e-05"
      ]
     },
     "execution_count": 113,
     "metadata": {},
     "output_type": "execute_result"
    }
   ],
   "source": [
    "4.70975 ** -6"
   ]
  },
  {
   "cell_type": "code",
   "execution_count": 114,
   "id": "171308e4-7839-4447-b844-d5790f65442f",
   "metadata": {},
   "outputs": [
    {
     "data": {
      "text/plain": [
       "9.162476446700508e-05"
      ]
     },
     "execution_count": 114,
     "metadata": {},
     "output_type": "execute_result"
    }
   ],
   "source": [
    "sol.myPow(4.70975, -6)"
   ]
  },
  {
   "cell_type": "code",
   "execution_count": 115,
   "id": "86a105ce-658a-4e47-a76d-afcc09f85d39",
   "metadata": {},
   "outputs": [
    {
     "data": {
      "text/plain": [
       "1024"
      ]
     },
     "execution_count": 115,
     "metadata": {},
     "output_type": "execute_result"
    }
   ],
   "source": [
    "sol.myPow(2, 10)"
   ]
  },
  {
   "cell_type": "code",
   "execution_count": 117,
   "id": "7abeacd2-0481-4f0d-adb2-128700420355",
   "metadata": {},
   "outputs": [
    {
     "data": {
      "text/plain": [
       "1024"
      ]
     },
     "execution_count": 117,
     "metadata": {},
     "output_type": "execute_result"
    }
   ],
   "source": [
    "sol.myPow(2, 10)"
   ]
  },
  {
   "cell_type": "code",
   "execution_count": null,
   "id": "36663afe-3c90-4758-bbde-95dc7a0b2ee1",
   "metadata": {},
   "outputs": [],
   "source": []
  }
 ],
 "metadata": {
  "kernelspec": {
   "display_name": "Python 3 (ipykernel)",
   "language": "python",
   "name": "python3"
  },
  "language_info": {
   "codemirror_mode": {
    "name": "ipython",
    "version": 3
   },
   "file_extension": ".py",
   "mimetype": "text/x-python",
   "name": "python",
   "nbconvert_exporter": "python",
   "pygments_lexer": "ipython3",
   "version": "3.9.16"
  }
 },
 "nbformat": 4,
 "nbformat_minor": 5
}
