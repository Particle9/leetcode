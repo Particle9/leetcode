{
 "cells": [
  {
   "cell_type": "code",
   "execution_count": 1,
   "id": "e49a8685-6aa2-4b63-b2f9-e3199ebba5b1",
   "metadata": {},
   "outputs": [],
   "source": [
    "from typing import Optional, List\n",
    "\n",
    "class Solution:\n",
    "    def plusOne(self, digits: List[int]) -> List[int]:\n",
    "        reach_end = True\n",
    "        for i in reversed(range(0,len(digits))):\n",
    "            if digits[i] != 9:\n",
    "                digits[i] += 1\n",
    "                reach_end = False\n",
    "                break\n",
    "            else:\n",
    "                digits[i] = 0\n",
    "        if reach_end:\n",
    "            digits = [1] + digits\n",
    "        return digits\n",
    "        \n",
    "\n",
    "        "
   ]
  },
  {
   "cell_type": "code",
   "execution_count": 2,
   "id": "4cc75f54-c596-4dc4-afeb-4b6852d208eb",
   "metadata": {},
   "outputs": [],
   "source": [
    "sol = Solution()"
   ]
  },
  {
   "cell_type": "code",
   "execution_count": 3,
   "id": "ed3f4419-0207-47de-b148-e7cd720858cc",
   "metadata": {},
   "outputs": [
    {
     "data": {
      "text/plain": [
       "[1, 2, 2]"
      ]
     },
     "execution_count": 3,
     "metadata": {},
     "output_type": "execute_result"
    }
   ],
   "source": [
    "sol.plusOne([1,2,1])"
   ]
  },
  {
   "cell_type": "code",
   "execution_count": 4,
   "id": "5866f028-d240-4c06-9372-7bd9adc49fdd",
   "metadata": {},
   "outputs": [
    {
     "data": {
      "text/plain": [
       "[1, 0, 0, 0]"
      ]
     },
     "execution_count": 4,
     "metadata": {},
     "output_type": "execute_result"
    }
   ],
   "source": [
    "sol.plusOne([9,9,9])"
   ]
  },
  {
   "cell_type": "code",
   "execution_count": null,
   "id": "9179bd09-3e94-4007-8de5-cdc4ca5f8429",
   "metadata": {},
   "outputs": [],
   "source": []
  }
 ],
 "metadata": {
  "kernelspec": {
   "display_name": "Python 3 (ipykernel)",
   "language": "python",
   "name": "python3"
  },
  "language_info": {
   "codemirror_mode": {
    "name": "ipython",
    "version": 3
   },
   "file_extension": ".py",
   "mimetype": "text/x-python",
   "name": "python",
   "nbconvert_exporter": "python",
   "pygments_lexer": "ipython3",
   "version": "3.9.16"
  }
 },
 "nbformat": 4,
 "nbformat_minor": 5
}
