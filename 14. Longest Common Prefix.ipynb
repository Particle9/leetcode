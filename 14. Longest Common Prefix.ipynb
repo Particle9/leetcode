{
 "cells": [
  {
   "cell_type": "code",
   "execution_count": 1,
   "id": "1383c0bc-8bf5-4caf-8d17-d0ad7cd56bc5",
   "metadata": {},
   "outputs": [],
   "source": [
    "from typing import List\n",
    "\n",
    "class Solution:\n",
    "    def longestCommonPrefix(self, strs: List[str]) -> str:\n",
    "        min_str = min(strs, key=len)\n",
    "        min_length = len(min_str)\n",
    "\n",
    "        res_str = \"\"\n",
    "        for i in range(0,min_length):\n",
    "            c_anchor = min_str[i]\n",
    "            is_diff = False\n",
    "            for s in strs:\n",
    "                if s[i] != c_anchor:\n",
    "                    is_diff = True\n",
    "                    break\n",
    "            if is_diff:\n",
    "                return res_str\n",
    "            res_str += c_anchor\n",
    "        return res_str"
   ]
  },
  {
   "cell_type": "code",
   "execution_count": null,
   "id": "f9491b0c-1667-4302-88c6-12eb755dc932",
   "metadata": {},
   "outputs": [],
   "source": []
  }
 ],
 "metadata": {
  "kernelspec": {
   "display_name": "Python 3 (ipykernel)",
   "language": "python",
   "name": "python3"
  },
  "language_info": {
   "codemirror_mode": {
    "name": "ipython",
    "version": 3
   },
   "file_extension": ".py",
   "mimetype": "text/x-python",
   "name": "python",
   "nbconvert_exporter": "python",
   "pygments_lexer": "ipython3",
   "version": "3.9.16"
  }
 },
 "nbformat": 4,
 "nbformat_minor": 5
}
