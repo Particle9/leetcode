{
 "cells": [
  {
   "cell_type": "code",
   "execution_count": 1,
   "id": "63cbe7cb-1718-41f9-871a-71415e9e87fe",
   "metadata": {},
   "outputs": [],
   "source": [
    "from typing import List\n",
    "\n",
    "class Solution:\n",
    "    def numRescueBoats(self, people: List[int], limit: int) -> int:\n",
    "        sortedPeople = sorted(people, reverse=True)\n",
    "        i, j = 0, len(people) - 1\n",
    "        num_boats = 0\n",
    "        while i <= j:\n",
    "            if sortedPeople[i] + sortedPeople[j] <= limit:\n",
    "                num_boats += 1\n",
    "                i += 1\n",
    "                j -= 1\n",
    "            else:\n",
    "                num_boats += 1\n",
    "                i += 1\n",
    "        return num_boats\n"
   ]
  },
  {
   "cell_type": "code",
   "execution_count": 2,
   "id": "546d7bbc-8589-4507-8cd4-e1e799e37135",
   "metadata": {},
   "outputs": [],
   "source": [
    "sol = Solution()"
   ]
  },
  {
   "cell_type": "code",
   "execution_count": 4,
   "id": "0cad894f-2246-459b-9def-1ef8be341612",
   "metadata": {},
   "outputs": [
    {
     "data": {
      "text/plain": [
       "3"
      ]
     },
     "execution_count": 4,
     "metadata": {},
     "output_type": "execute_result"
    }
   ],
   "source": [
    "sol.numRescueBoats([3,2,2,1], 3)"
   ]
  },
  {
   "cell_type": "code",
   "execution_count": null,
   "id": "276113e9-bd06-49ce-b2b9-fa90c2851372",
   "metadata": {},
   "outputs": [],
   "source": []
  }
 ],
 "metadata": {
  "kernelspec": {
   "display_name": "Python 3 (ipykernel)",
   "language": "python",
   "name": "python3"
  },
  "language_info": {
   "codemirror_mode": {
    "name": "ipython",
    "version": 3
   },
   "file_extension": ".py",
   "mimetype": "text/x-python",
   "name": "python",
   "nbconvert_exporter": "python",
   "pygments_lexer": "ipython3",
   "version": "3.9.16"
  }
 },
 "nbformat": 4,
 "nbformat_minor": 5
}
