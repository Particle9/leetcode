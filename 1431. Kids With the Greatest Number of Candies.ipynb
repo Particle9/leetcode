{
 "cells": [
  {
   "cell_type": "code",
   "execution_count": null,
   "id": "5c2c5bc5-f11d-40f6-ae8b-cd9bbb1cf773",
   "metadata": {},
   "outputs": [],
   "source": [
    "class Solution:\n",
    "    def kidsWithCandies(self, candies: List[int], extraCandies: int) -> List[bool]:\n",
    "        maxCandy = max(candies)\n",
    "        outLst = []\n",
    "        for i in range(0,len(candies)):\n",
    "            if candies[i] + extraCandies >= maxCandy:\n",
    "                outLst += [True]\n",
    "            else:\n",
    "                outLst += [False]\n",
    "        return outLst"
   ]
  }
 ],
 "metadata": {
  "kernelspec": {
   "display_name": "Python 3 (ipykernel)",
   "language": "python",
   "name": "python3"
  },
  "language_info": {
   "codemirror_mode": {
    "name": "ipython",
    "version": 3
   },
   "file_extension": ".py",
   "mimetype": "text/x-python",
   "name": "python",
   "nbconvert_exporter": "python",
   "pygments_lexer": "ipython3",
   "version": "3.9.16"
  }
 },
 "nbformat": 4,
 "nbformat_minor": 5
}
