{
 "cells": [
  {
   "cell_type": "code",
   "execution_count": 3,
   "id": "8fcea542-e4f9-4000-ae55-38ad09215b90",
   "metadata": {},
   "outputs": [],
   "source": [
    "from typing import Optional\n",
    "\n",
    "class TreeNode:\n",
    "    def __init__(self, val=0, left=None, right=None):\n",
    "        self.val = val\n",
    "        self.left = left\n",
    "        self.right = right"
   ]
  },
  {
   "cell_type": "code",
   "execution_count": 4,
   "id": "ab46c22e-96bd-4d62-8168-11e41c145cc6",
   "metadata": {},
   "outputs": [],
   "source": [
    "class Solution:\n",
    "\n",
    "    def maxDepth(self, root: Optional[TreeNode]) -> int:\n",
    "        if not(root):\n",
    "            return 0\n",
    "        else:\n",
    "            return max(1 + self.maxDepth(root.left), 1 + self.maxDepth(root.right)) "
   ]
  },
  {
   "cell_type": "code",
   "execution_count": null,
   "id": "a63bcdd1-d439-4d47-80b6-267b84c23257",
   "metadata": {},
   "outputs": [],
   "source": []
  }
 ],
 "metadata": {
  "kernelspec": {
   "display_name": "Python 3 (ipykernel)",
   "language": "python",
   "name": "python3"
  },
  "language_info": {
   "codemirror_mode": {
    "name": "ipython",
    "version": 3
   },
   "file_extension": ".py",
   "mimetype": "text/x-python",
   "name": "python",
   "nbconvert_exporter": "python",
   "pygments_lexer": "ipython3",
   "version": "3.9.16"
  }
 },
 "nbformat": 4,
 "nbformat_minor": 5
}
