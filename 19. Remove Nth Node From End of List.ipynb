{
 "cells": [
  {
   "cell_type": "code",
   "execution_count": 2,
   "id": "880d3a7e-dcb9-4272-a110-a95639c03718",
   "metadata": {},
   "outputs": [],
   "source": [
    "from typing import Optional\n",
    "\n",
    "# Definition for singly-linked list.\n",
    "class ListNode:\n",
    "    def __init__(self, val=0, next=None):\n",
    "        self.val = val\n",
    "        self.next = next\n",
    "class Solution:\n",
    "    def removeNthFromEnd(self, head: Optional[ListNode], n: int) -> Optional[ListNode]:\n",
    "        if not(head) or not(head.next):\n",
    "            return None\n",
    "        curr = head\n",
    "        lst = []\n",
    "        while curr:\n",
    "            lst += [curr]\n",
    "            curr = curr.next\n",
    "        if n == 1:\n",
    "            lst[-2].next = None\n",
    "        elif n == len(lst):\n",
    "            return lst[1]\n",
    "        else:\n",
    "            lst[-n-1].next = lst[-n+1] \n",
    "        return head\n",
    "        "
   ]
  },
  {
   "cell_type": "code",
   "execution_count": null,
   "id": "31ca77fd-d3ab-41f6-936f-6d0eabd16d03",
   "metadata": {},
   "outputs": [],
   "source": []
  }
 ],
 "metadata": {
  "kernelspec": {
   "display_name": "Python 3 (ipykernel)",
   "language": "python",
   "name": "python3"
  },
  "language_info": {
   "codemirror_mode": {
    "name": "ipython",
    "version": 3
   },
   "file_extension": ".py",
   "mimetype": "text/x-python",
   "name": "python",
   "nbconvert_exporter": "python",
   "pygments_lexer": "ipython3",
   "version": "3.9.16"
  }
 },
 "nbformat": 4,
 "nbformat_minor": 5
}
