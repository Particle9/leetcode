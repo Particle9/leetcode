{
 "cells": [
  {
   "cell_type": "code",
   "execution_count": null,
   "id": "c253c9bc-1262-440d-ab16-4a6f63256359",
   "metadata": {},
   "outputs": [],
   "source": [
    "class Solution:\n",
    "    def evalRPN(self, tokens: List[str]) -> int:\n",
    "        stack = []\n",
    "        for t in tokens:\n",
    "            if t in ['+','-','*','/']:\n",
    "                y = stack.pop()\n",
    "                x = stack.pop()\n",
    "                if t == '+':\n",
    "                    stack += [x+y]\n",
    "                elif t == '-':\n",
    "                    stack += [x-y]\n",
    "                elif t == '*':\n",
    "                    stack += [x*y]\n",
    "                else:\n",
    "                    stack += [int(x/y)]\n",
    "            else:\n",
    "                stack += [int(t)]\n",
    "        return stack[0]\n",
    "        \n",
    "\n",
    "        "
   ]
  }
 ],
 "metadata": {
  "kernelspec": {
   "display_name": "Python 3 (ipykernel)",
   "language": "python",
   "name": "python3"
  },
  "language_info": {
   "codemirror_mode": {
    "name": "ipython",
    "version": 3
   },
   "file_extension": ".py",
   "mimetype": "text/x-python",
   "name": "python",
   "nbconvert_exporter": "python",
   "pygments_lexer": "ipython3",
   "version": "3.9.16"
  }
 },
 "nbformat": 4,
 "nbformat_minor": 5
}
