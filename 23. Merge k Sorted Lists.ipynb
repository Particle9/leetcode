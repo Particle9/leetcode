{
 "cells": [
  {
   "cell_type": "code",
   "execution_count": 2,
   "id": "4d1303e2-8c33-422c-84b0-bc4fbcf66397",
   "metadata": {},
   "outputs": [],
   "source": [
    "from typing import Optional, List\n",
    "\n",
    "# Definition for singly-linked list.\n",
    "class ListNode:\n",
    "    def __init__(self, val=0, next=None):\n",
    "        self.val = val\n",
    "        self.next = next\n",
    "        \n",
    "        \n",
    "class Solution:\n",
    "    def mergeKLists(self, lists: List[Optional[ListNode]]) -> Optional[ListNode]:\n",
    "        lstx = [x for x in lists if x]\n",
    "        outLst = []\n",
    "        while lstx:\n",
    "            empty = []\n",
    "            minVal = float('inf')\n",
    "            minNode = None\n",
    "            minIdx = -1\n",
    "            for i in range(0, len(lstx)):\n",
    "                if lstx[i].val < minVal:\n",
    "                    minNode = lstx[i]\n",
    "                    minVal = lstx[i].val\n",
    "                    minIdx = i\n",
    "            lstx[minIdx] = lstx[minIdx].next\n",
    "            outLst += [minNode]\n",
    "            if not(lstx[minIdx]):\n",
    "                lstx = lstx[:minIdx] + lstx[minIdx+1:]\n",
    "        \n",
    "        if not(outLst):\n",
    "            return None\n",
    "        outLst += [None]\n",
    "        for i in range(0,len(outLst)-1):\n",
    "            outLst[i].next = outLst[i+1]\n",
    "        return outLst[0]\n",
    "\n",
    "\n",
    "\n",
    "\n"
   ]
  },
  {
   "cell_type": "code",
   "execution_count": null,
   "id": "9bfb2448-0499-44ee-a6ff-a0593cb4b49d",
   "metadata": {},
   "outputs": [],
   "source": []
  }
 ],
 "metadata": {
  "kernelspec": {
   "display_name": "Python 3 (ipykernel)",
   "language": "python",
   "name": "python3"
  },
  "language_info": {
   "codemirror_mode": {
    "name": "ipython",
    "version": 3
   },
   "file_extension": ".py",
   "mimetype": "text/x-python",
   "name": "python",
   "nbconvert_exporter": "python",
   "pygments_lexer": "ipython3",
   "version": "3.9.16"
  }
 },
 "nbformat": 4,
 "nbformat_minor": 5
}
