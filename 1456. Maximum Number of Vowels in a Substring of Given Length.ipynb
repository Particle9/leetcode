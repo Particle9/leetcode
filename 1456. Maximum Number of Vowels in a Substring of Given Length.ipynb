{
 "cells": [
  {
   "cell_type": "code",
   "execution_count": 1,
   "id": "04395bc9-1eda-454d-86fb-d54d7df34302",
   "metadata": {},
   "outputs": [],
   "source": [
    "class Solution:\n",
    "    def maxVowels(self, s: str, k: int) -> int:\n",
    "        vowelSet = set(\"aiueo\")\n",
    "        currVowel = sum([1 for x in s[:k] if x in vowelSet])\n",
    "        maxVowel = currVowel\n",
    "        for i in range(0,len(s)-k):\n",
    "            if s[i] in vowelSet:\n",
    "                currVowel -= 1\n",
    "            if s[i+k] in vowelSet:\n",
    "                currVowel += 1\n",
    "            maxVowel = max(maxVowel,currVowel)\n",
    "        return maxVowel\n",
    "\n",
    "        "
   ]
  },
  {
   "cell_type": "code",
   "execution_count": null,
   "id": "2d46deb5-5a01-44cc-a4ab-d4e409db2779",
   "metadata": {},
   "outputs": [],
   "source": []
  }
 ],
 "metadata": {
  "kernelspec": {
   "display_name": "Python 3 (ipykernel)",
   "language": "python",
   "name": "python3"
  },
  "language_info": {
   "codemirror_mode": {
    "name": "ipython",
    "version": 3
   },
   "file_extension": ".py",
   "mimetype": "text/x-python",
   "name": "python",
   "nbconvert_exporter": "python",
   "pygments_lexer": "ipython3",
   "version": "3.9.16"
  }
 },
 "nbformat": 4,
 "nbformat_minor": 5
}
