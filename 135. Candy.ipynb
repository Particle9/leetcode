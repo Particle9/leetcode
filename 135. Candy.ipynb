{
 "cells": [
  {
   "cell_type": "code",
   "execution_count": 1,
   "id": "91419150-bf1e-40c4-ac70-c7dcf83d8177",
   "metadata": {},
   "outputs": [],
   "source": [
    "from typing import List\n",
    "\n",
    "class Solution:\n",
    "    def candy(self, ratings: List[int]) -> int:\n",
    "        n = len(ratings)\n",
    "        candies = [1 for _ in ratings]\n",
    "        for i in range(0,n-1):\n",
    "            if ratings[i+1] > ratings[i]:\n",
    "                candies[i+1] = max(candies[i] + 1, candies[i+1])\n",
    "            else:\n",
    "                candies[i+1] = 1\n",
    "        \n",
    "        for i in reversed(range(1,n)):\n",
    "            if ratings[i-1] > ratings[i]:\n",
    "                candies[i-1] = max(candies[i] + 1, candies[i-1])\n",
    "        \n",
    "        return sum(candies)"
   ]
  },
  {
   "cell_type": "code",
   "execution_count": null,
   "id": "0f055791-6943-4015-b8e7-77368d6e42e8",
   "metadata": {},
   "outputs": [],
   "source": []
  }
 ],
 "metadata": {
  "kernelspec": {
   "display_name": "Python 3 (ipykernel)",
   "language": "python",
   "name": "python3"
  },
  "language_info": {
   "codemirror_mode": {
    "name": "ipython",
    "version": 3
   },
   "file_extension": ".py",
   "mimetype": "text/x-python",
   "name": "python",
   "nbconvert_exporter": "python",
   "pygments_lexer": "ipython3",
   "version": "3.9.16"
  }
 },
 "nbformat": 4,
 "nbformat_minor": 5
}
