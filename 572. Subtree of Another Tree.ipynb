{
 "cells": [
  {
   "cell_type": "code",
   "execution_count": null,
   "id": "0e28de54-6cde-4777-878b-b3aea42e96a8",
   "metadata": {},
   "outputs": [],
   "source": [
    "# Definition for a binary tree node.\n",
    "class TreeNode:\n",
    "    def __init__(self, val=0, left=None, right=None):\n",
    "        self.val = val\n",
    "        self.left = left\n",
    "        self.right = right\n",
    "class Solution:\n",
    "    def isSameTree(self, p: Optional[TreeNode], q: Optional[TreeNode]) -> bool:\n",
    "        if not(p) and not(q):\n",
    "            return True\n",
    "        elif not(p) or not(q):\n",
    "            return False\n",
    "        elif p.val != q.val:\n",
    "            return False\n",
    "        \n",
    "        return self.isSameTree(p.left,q.left) and self.isSameTree(p.right,q.right)\n",
    "        \n",
    "    def isSubtree(self, root: Optional[TreeNode], subRoot: Optional[TreeNode]) -> bool:\n",
    "        if not(root):\n",
    "            return False\n",
    "        isEqual = self.isSameTree(root,subRoot)\n",
    "        if isEqual:\n",
    "            return True\n",
    "        return self.isSubtree(root.left,subRoot) or self.isSubtree(root.right, subRoot)\n",
    "        "
   ]
  }
 ],
 "metadata": {
  "kernelspec": {
   "display_name": "Python 3 (ipykernel)",
   "language": "python",
   "name": "python3"
  },
  "language_info": {
   "codemirror_mode": {
    "name": "ipython",
    "version": 3
   },
   "file_extension": ".py",
   "mimetype": "text/x-python",
   "name": "python",
   "nbconvert_exporter": "python",
   "pygments_lexer": "ipython3",
   "version": "3.9.16"
  }
 },
 "nbformat": 4,
 "nbformat_minor": 5
}
