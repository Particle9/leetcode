{
 "cells": [
  {
   "cell_type": "code",
   "execution_count": 1,
   "id": "4b3d378c-56fc-42dc-8b2a-3cdda1a51f36",
   "metadata": {},
   "outputs": [],
   "source": [
    "from typing import List\n",
    "\n",
    "class Solution:\n",
    "    def removeNonAlphanumeric(self,strx):\n",
    "        vocab = \"abcdefghijklmnopqrstuvwxyz1234567809\"\n",
    "        return ''.join([x for x in strx if x in vocab])\n",
    "\n",
    "    def isPalindrome(self, s: str) -> bool:\n",
    "        strx = self.removeNonAlphanumeric(s.lower())\n",
    "        n = len(strx)\n",
    "        for i in range(0,n//2):\n",
    "            if strx[i] != strx[n-i-1]:\n",
    "                return False\n",
    "        return True\n",
    "        \n"
   ]
  },
  {
   "cell_type": "code",
   "execution_count": null,
   "id": "80ae2ef2-183f-4af5-a830-cb7f960083a8",
   "metadata": {},
   "outputs": [],
   "source": []
  }
 ],
 "metadata": {
  "kernelspec": {
   "display_name": "Python 3 (ipykernel)",
   "language": "python",
   "name": "python3"
  },
  "language_info": {
   "codemirror_mode": {
    "name": "ipython",
    "version": 3
   },
   "file_extension": ".py",
   "mimetype": "text/x-python",
   "name": "python",
   "nbconvert_exporter": "python",
   "pygments_lexer": "ipython3",
   "version": "3.9.16"
  }
 },
 "nbformat": 4,
 "nbformat_minor": 5
}
