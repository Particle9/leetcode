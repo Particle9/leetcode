{
 "cells": [
  {
   "cell_type": "code",
   "execution_count": null,
   "id": "ebd47090-a371-4fc0-8ddb-1fa0a1ad871f",
   "metadata": {},
   "outputs": [],
   "source": [
    "class Solution:\n",
    "    def findTargetSum(self, nums, target, visited):\n",
    "        if not(nums):\n",
    "            if target == 0:\n",
    "                return 1\n",
    "            else:\n",
    "                return 0\n",
    "        elif (tuple(nums), target) in visited:\n",
    "            return visited[(tuple(nums), target)]\n",
    "        pos = self.findTargetSum(nums[1:], target - nums[0], visited)\n",
    "        neg = self.findTargetSum(nums[1:], target + nums[0], visited)\n",
    "        visited[(tuple(nums), target)] = pos + neg\n",
    "        return pos + neg\n",
    "\n",
    "    def findTargetSumWays(self, nums: List[int], target: int) -> int:\n",
    "        visited = {}\n",
    "        return self.findTargetSum(nums,target, visited)\n"
   ]
  }
 ],
 "metadata": {
  "kernelspec": {
   "display_name": "Python 3 (ipykernel)",
   "language": "python",
   "name": "python3"
  },
  "language_info": {
   "codemirror_mode": {
    "name": "ipython",
    "version": 3
   },
   "file_extension": ".py",
   "mimetype": "text/x-python",
   "name": "python",
   "nbconvert_exporter": "python",
   "pygments_lexer": "ipython3",
   "version": "3.9.16"
  }
 },
 "nbformat": 4,
 "nbformat_minor": 5
}
