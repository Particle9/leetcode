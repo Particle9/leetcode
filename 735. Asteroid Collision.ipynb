{
 "cells": [
  {
   "cell_type": "code",
   "execution_count": 1,
   "id": "556436af-b5f8-4903-96a5-122fe1f7d5dd",
   "metadata": {},
   "outputs": [],
   "source": [
    "from typing import List\n",
    "\n",
    "class Solution:\n",
    "    def asteroidCollision(self, asteroids: List[int]) -> List[int]:\n",
    "        stack = []\n",
    "        for x in asteroids:\n",
    "            if not(stack):\n",
    "                stack += [x]\n",
    "            elif x < 0:\n",
    "                isDestroyed = False\n",
    "                if stack[-1] > 0:\n",
    "                    while not(isDestroyed) and stack:\n",
    "                        y = stack.pop()\n",
    "                        if y < 0:\n",
    "                            stack += [y]\n",
    "                            break\n",
    "                        elif abs(y) > abs(x):\n",
    "                            isDestroyed = True\n",
    "                            stack += [y]\n",
    "                        elif abs(y) == abs(x):\n",
    "                            isDestroyed = True\n",
    "                if not(isDestroyed):\n",
    "                    stack += [x]\n",
    "            else:\n",
    "                stack += [x]\n",
    "        return stack\n",
    "                "
   ]
  },
  {
   "cell_type": "code",
   "execution_count": null,
   "id": "3891a8e3-5631-4256-b53d-0bada3c8a279",
   "metadata": {},
   "outputs": [],
   "source": []
  }
 ],
 "metadata": {
  "kernelspec": {
   "display_name": "Python 3 (ipykernel)",
   "language": "python",
   "name": "python3"
  },
  "language_info": {
   "codemirror_mode": {
    "name": "ipython",
    "version": 3
   },
   "file_extension": ".py",
   "mimetype": "text/x-python",
   "name": "python",
   "nbconvert_exporter": "python",
   "pygments_lexer": "ipython3",
   "version": "3.9.16"
  }
 },
 "nbformat": 4,
 "nbformat_minor": 5
}
