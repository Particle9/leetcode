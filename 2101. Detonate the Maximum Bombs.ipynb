{
 "cells": [
  {
   "cell_type": "code",
   "execution_count": 1,
   "id": "b916cb87-8f12-4b44-892a-b2f392ed2fdf",
   "metadata": {},
   "outputs": [],
   "source": [
    "from typing import List"
   ]
  },
  {
   "cell_type": "code",
   "execution_count": 2,
   "id": "551bb653-8bf1-4f7d-a701-b98391206d92",
   "metadata": {},
   "outputs": [],
   "source": [
    "class Solution:\n",
    "    def maximumDetonation(self, bombs: List[List[int]]) -> int:\n",
    "        # Build the graph (adjacency list)\n",
    "        graph = {i: [] for i in range(len(bombs))}\n",
    "        \n",
    "        for i in range(len(bombs)):\n",
    "            x1, y1, r1 = bombs[i]\n",
    "            for j in range(len(bombs)):\n",
    "                if i != j:\n",
    "                    x2, y2, r2 = bombs[j]\n",
    "                    distance = ((x1 - x2) ** 2 + (y1 - y2) ** 2) ** 0.5\n",
    "                    if distance <= r1:\n",
    "                        graph[i].append(j)\n",
    "\n",
    "        # DFS to count detonations from each bomb\n",
    "        def megumin(bomb_index, visited):\n",
    "            visited.add(bomb_index)\n",
    "            stack = [bomb_index]\n",
    "            countExplosion = 0\n",
    "            while stack:\n",
    "                bomb = stack.pop()\n",
    "                countExplosion += 1\n",
    "                for x in graph[bomb]:\n",
    "                    if x not in visited:\n",
    "                        stack += [x]\n",
    "                        visited.add(x)\n",
    "            return countExplosion\n",
    "\n",
    "        \n",
    "        # Try detonating each bomb and track the max detonation\n",
    "        max_detonation = 0\n",
    "        for i in range(len(bombs)):\n",
    "            visited = set()\n",
    "            max_detonation = max(max_detonation, megumin(i, visited))\n",
    "        \n",
    "        return max_detonation"
   ]
  },
  {
   "cell_type": "code",
   "execution_count": 3,
   "id": "643b4da8-fc32-45c6-8129-d8bf1cd3c893",
   "metadata": {},
   "outputs": [],
   "source": [
    "sol = Solution()"
   ]
  },
  {
   "cell_type": "code",
   "execution_count": 4,
   "id": "6ea9807b-b9a6-4a0b-ab52-17359cd329da",
   "metadata": {},
   "outputs": [
    {
     "data": {
      "text/plain": [
       "2"
      ]
     },
     "execution_count": 4,
     "metadata": {},
     "output_type": "execute_result"
    }
   ],
   "source": [
    "sol.maximumDetonation([[2,1,3],[6,1,4]])"
   ]
  },
  {
   "cell_type": "code",
   "execution_count": null,
   "id": "9d69dc77-9018-4ce9-a4a6-c47431367607",
   "metadata": {},
   "outputs": [],
   "source": []
  }
 ],
 "metadata": {
  "kernelspec": {
   "display_name": "Python 3 (ipykernel)",
   "language": "python",
   "name": "python3"
  },
  "language_info": {
   "codemirror_mode": {
    "name": "ipython",
    "version": 3
   },
   "file_extension": ".py",
   "mimetype": "text/x-python",
   "name": "python",
   "nbconvert_exporter": "python",
   "pygments_lexer": "ipython3",
   "version": "3.9.16"
  }
 },
 "nbformat": 4,
 "nbformat_minor": 5
}
