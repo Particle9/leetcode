{
 "cells": [
  {
   "cell_type": "code",
   "execution_count": null,
   "id": "00e18662-da5a-4fa9-8977-b963994ca3cf",
   "metadata": {},
   "outputs": [],
   "source": [
    "class Solution:\n",
    "    def uniqueOccurrences(self, arr: List[int]) -> bool:\n",
    "        dctx = {}\n",
    "        for x in arr:\n",
    "            if x in dctx:\n",
    "                dctx[x] += 1\n",
    "            else:\n",
    "                dctx[x] = 1\n",
    "        \n",
    "        setOcc = set()\n",
    "        for k, v in dctx.items():\n",
    "            if v in setOcc:\n",
    "                return False\n",
    "            setOcc.add(v)\n",
    "        \n",
    "        return True\n",
    "        "
   ]
  }
 ],
 "metadata": {
  "kernelspec": {
   "display_name": "Python 3 (ipykernel)",
   "language": "python",
   "name": "python3"
  },
  "language_info": {
   "codemirror_mode": {
    "name": "ipython",
    "version": 3
   },
   "file_extension": ".py",
   "mimetype": "text/x-python",
   "name": "python",
   "nbconvert_exporter": "python",
   "pygments_lexer": "ipython3",
   "version": "3.9.16"
  }
 },
 "nbformat": 4,
 "nbformat_minor": 5
}
