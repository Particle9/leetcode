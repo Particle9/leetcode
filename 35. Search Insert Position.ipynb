{
 "cells": [
  {
   "cell_type": "code",
   "execution_count": null,
   "id": "da7d7f8e-dfd2-41e5-98c0-a14d548965bb",
   "metadata": {},
   "outputs": [],
   "source": [
    "class Solution:\n",
    "    def searchInsert(self, nums: List[int], target: int) -> int:\n",
    "        lower, upper = 0, len(nums)-1\n",
    "        while lower <= upper:\n",
    "            mid = (upper + lower) // 2\n",
    "            if nums[mid] == target:\n",
    "                return mid\n",
    "            elif nums[upper] == target:\n",
    "                return upper\n",
    "            elif nums[lower] == target:\n",
    "                return lower\n",
    "            \n",
    "            if nums[mid] > target:\n",
    "                upper = mid -1\n",
    "            else:\n",
    "                lower = mid + 1\n",
    "        return lower\n",
    "\n",
    "        \n",
    "        "
   ]
  }
 ],
 "metadata": {
  "kernelspec": {
   "display_name": "Python 3 (ipykernel)",
   "language": "python",
   "name": "python3"
  },
  "language_info": {
   "codemirror_mode": {
    "name": "ipython",
    "version": 3
   },
   "file_extension": ".py",
   "mimetype": "text/x-python",
   "name": "python",
   "nbconvert_exporter": "python",
   "pygments_lexer": "ipython3",
   "version": "3.9.16"
  }
 },
 "nbformat": 4,
 "nbformat_minor": 5
}
