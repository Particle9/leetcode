{
 "cells": [
  {
   "cell_type": "code",
   "execution_count": 4,
   "id": "588a2c04-3ac6-4841-bc9f-f591845045ab",
   "metadata": {},
   "outputs": [],
   "source": [
    "class Solution:\n",
    "    def soupServingRecurse(self, na, nb, memo):\n",
    "        if na <= 0 and nb <= 0:\n",
    "            return 0.5\n",
    "        elif na <= 0:\n",
    "            return 1\n",
    "        elif nb <= 0:\n",
    "            return 0\n",
    "        elif (na,nb) in memo:\n",
    "            return memo[(na,nb)]\n",
    "        \n",
    "        prob1 = 0.25 * self.soupServingRecurse(na - 100, nb, memo)\n",
    "        prob2 = 0.25 * self.soupServingRecurse(na - 75, nb - 25, memo)\n",
    "        prob3 = 0.25 * self.soupServingRecurse(na - 50, nb - 50, memo)\n",
    "        prob4 = 0.25 * self.soupServingRecurse(na - 25, nb - 75, memo)\n",
    "\n",
    "        fullProb = prob1 + prob2 + prob3 + prob4\n",
    "        memo[(na,nb)] = fullProb\n",
    "        return fullProb\n",
    "\n",
    "    def soupServings(self, n: int) -> float:\n",
    "        if (n > 5000): \n",
    "            return 1\n",
    "        dctx = {}\n",
    "        return self.soupServingRecurse(n,n,dctx)"
   ]
  },
  {
   "cell_type": "code",
   "execution_count": 5,
   "id": "a225d674-3807-4c78-b34c-04719e825287",
   "metadata": {},
   "outputs": [],
   "source": [
    "sol = Solution()"
   ]
  },
  {
   "cell_type": "code",
   "execution_count": 6,
   "id": "edb2f92e-7f71-4f64-bfc3-8796703cf152",
   "metadata": {},
   "outputs": [
    {
     "data": {
      "text/plain": [
       "0.9765650521094358"
      ]
     },
     "execution_count": 6,
     "metadata": {},
     "output_type": "execute_result"
    }
   ],
   "source": [
    "sol.soupServings(1000)"
   ]
  },
  {
   "cell_type": "code",
   "execution_count": null,
   "id": "1f9f7869-7b9c-4b75-aeb6-51c0c90ce88c",
   "metadata": {},
   "outputs": [],
   "source": []
  }
 ],
 "metadata": {
  "kernelspec": {
   "display_name": "Python 3 (ipykernel)",
   "language": "python",
   "name": "python3"
  },
  "language_info": {
   "codemirror_mode": {
    "name": "ipython",
    "version": 3
   },
   "file_extension": ".py",
   "mimetype": "text/x-python",
   "name": "python",
   "nbconvert_exporter": "python",
   "pygments_lexer": "ipython3",
   "version": "3.9.16"
  }
 },
 "nbformat": 4,
 "nbformat_minor": 5
}
