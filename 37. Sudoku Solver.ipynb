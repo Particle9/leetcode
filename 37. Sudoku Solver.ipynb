{
 "cells": [
  {
   "cell_type": "code",
   "execution_count": 1,
   "id": "514f2688-3e41-475d-93d8-66719ec91e8d",
   "metadata": {},
   "outputs": [],
   "source": [
    "from typing import List\n",
    "\n",
    "class Solution:\n",
    "    def solveSudokuRecurse(self, candidateLst, board, restricted):\n",
    "        if not(candidateLst):\n",
    "            return True\n",
    "        \n",
    "        ci, cj = candidateLst[0]\n",
    "        cs = self.sudokuSquare[(ci//3,cj//3)]\n",
    "        \n",
    "        candidates = restricted[0][ci] & restricted[1][cj] & restricted[2][cs]\n",
    "        isSolved = False\n",
    "        for x in candidates:\n",
    "            board[ci][cj] = x\n",
    "            restricted[0][ci].remove(x)\n",
    "            restricted[1][cj].remove(x)\n",
    "            restricted[2][cs].remove(x)\n",
    "            isSolved = self.solveSudokuRecurse(candidateLst[1:], board, restricted)\n",
    "            if not(isSolved):\n",
    "                restricted[0][ci].add(x)\n",
    "                restricted[1][cj].add(x)\n",
    "                restricted[2][cs].add(x)\n",
    "                board[ci][cj] = \".\"\n",
    "            else:\n",
    "                break\n",
    "        return isSolved\n",
    "        \n",
    "\n",
    "\n",
    "\n",
    "    def solveSudoku(self, board: List[List[str]]) -> None:\n",
    "        \"\"\"\n",
    "        Do not return anything, modify board in-place instead.\n",
    "        \"\"\"\n",
    "        possH = [set(\"123456789\") for _ in range(9)]\n",
    "        possV = [set(\"123456789\") for _ in range(9)]\n",
    "        possS = [set(\"123456789\") for _ in range(9)]\n",
    "        setNum = set(\"123456789\")\n",
    "\n",
    "        sudokuSquare = [(0,0), (0,1), (0,2), (1,0), (1,1), (1,2), (2,0), (2,1), (2,2)]\n",
    "        self.sudokuSquare = {k:i for i,k in enumerate(sudokuSquare)}\n",
    "        for i in range(0,9):\n",
    "            for j in range(0,9):\n",
    "                if board[i][j] in possH[i]:\n",
    "                    possH[i].remove(board[i][j])\n",
    "                if board[i][j] in possV[j]:\n",
    "                    possV[j].remove(board[i][j])\n",
    "                i_s = i//3\n",
    "                j_s = j//3\n",
    "                si = self.sudokuSquare[(i_s,j_s)]\n",
    "                if board[i][j] in possS[si]:\n",
    "                    possS[si].remove(board[i][j])\n",
    "        \n",
    "        candidates = {}\n",
    "        for i in range(0,9):\n",
    "            for j in range(0,9):\n",
    "                if board[i][j] not in setNum:\n",
    "                    i_s = i//3\n",
    "                    j_s = j//3\n",
    "                    si = self.sudokuSquare[(i_s,j_s)]\n",
    "                    candidates[(i,j)] = possH[i] & possV[i] & possS[si]\n",
    "        \n",
    "        candidateList = sorted([k for k in candidates], key=lambda k: len(candidates[k]))\n",
    "        self.solveSudokuRecurse(candidateList, board, [possH, possV, possS])\n"
   ]
  },
  {
   "cell_type": "code",
   "execution_count": 7,
   "id": "1f0b982d-9515-48c6-8433-8bfe7f2d12aa",
   "metadata": {},
   "outputs": [],
   "source": [
    "sol = Solution()"
   ]
  },
  {
   "cell_type": "code",
   "execution_count": 8,
   "id": "8c386b6a-f174-4de7-abf2-35ce5c39752f",
   "metadata": {},
   "outputs": [],
   "source": [
    "board = [[\"5\",\"3\",\".\",\".\",\"7\",\".\",\".\",\".\",\".\"],[\"6\",\".\",\".\",\"1\",\"9\",\"5\",\".\",\".\",\".\"],[\".\",\"9\",\"8\",\".\",\".\",\".\",\".\",\"6\",\".\"],[\"8\",\".\",\".\",\".\",\"6\",\".\",\".\",\".\",\"3\"],[\"4\",\".\",\".\",\"8\",\".\",\"3\",\".\",\".\",\"1\"],[\"7\",\".\",\".\",\".\",\"2\",\".\",\".\",\".\",\"6\"],[\".\",\"6\",\".\",\".\",\".\",\".\",\"2\",\"8\",\".\"],[\".\",\".\",\".\",\"4\",\"1\",\"9\",\".\",\".\",\"5\"],[\".\",\".\",\".\",\".\",\"8\",\".\",\".\",\"7\",\"9\"]]"
   ]
  },
  {
   "cell_type": "code",
   "execution_count": 9,
   "id": "4063b15c-5f73-4026-ad71-6c95a1bff7a7",
   "metadata": {},
   "outputs": [
    {
     "data": {
      "text/plain": [
       "[['5', '3', '.', '.', '7', '.', '.', '.', '.'],\n",
       " ['6', '.', '.', '1', '9', '5', '.', '.', '.'],\n",
       " ['.', '9', '8', '.', '.', '.', '.', '6', '.'],\n",
       " ['8', '.', '.', '.', '6', '.', '.', '.', '3'],\n",
       " ['4', '.', '.', '8', '.', '3', '.', '.', '1'],\n",
       " ['7', '.', '.', '.', '2', '.', '.', '.', '6'],\n",
       " ['.', '6', '.', '.', '.', '.', '2', '8', '.'],\n",
       " ['.', '.', '.', '4', '1', '9', '.', '.', '5'],\n",
       " ['.', '.', '.', '.', '8', '.', '.', '7', '9']]"
      ]
     },
     "execution_count": 9,
     "metadata": {},
     "output_type": "execute_result"
    }
   ],
   "source": [
    "board"
   ]
  },
  {
   "cell_type": "code",
   "execution_count": 10,
   "id": "873e411a-eef2-4a88-a565-ab45d80da302",
   "metadata": {},
   "outputs": [],
   "source": [
    "sol.solveSudoku(board)"
   ]
  },
  {
   "cell_type": "code",
   "execution_count": 11,
   "id": "468055a4-63b2-4111-a634-411221445f3a",
   "metadata": {},
   "outputs": [
    {
     "data": {
      "text/plain": [
       "[['5', '3', '4', '6', '7', '8', '9', '1', '2'],\n",
       " ['6', '7', '2', '1', '9', '5', '3', '4', '8'],\n",
       " ['1', '9', '8', '3', '4', '2', '5', '6', '7'],\n",
       " ['8', '5', '9', '7', '6', '1', '4', '2', '3'],\n",
       " ['4', '2', '6', '8', '5', '3', '7', '9', '1'],\n",
       " ['7', '1', '3', '9', '2', '4', '8', '5', '6'],\n",
       " ['9', '6', '1', '5', '3', '7', '2', '8', '4'],\n",
       " ['2', '8', '7', '4', '1', '9', '6', '3', '5'],\n",
       " ['3', '4', '5', '2', '8', '6', '1', '7', '9']]"
      ]
     },
     "execution_count": 11,
     "metadata": {},
     "output_type": "execute_result"
    }
   ],
   "source": [
    "board"
   ]
  },
  {
   "cell_type": "code",
   "execution_count": null,
   "id": "822f91fb-a8e7-4d4a-a740-a603b88ef99a",
   "metadata": {},
   "outputs": [],
   "source": []
  }
 ],
 "metadata": {
  "kernelspec": {
   "display_name": "Python 3 (ipykernel)",
   "language": "python",
   "name": "python3"
  },
  "language_info": {
   "codemirror_mode": {
    "name": "ipython",
    "version": 3
   },
   "file_extension": ".py",
   "mimetype": "text/x-python",
   "name": "python",
   "nbconvert_exporter": "python",
   "pygments_lexer": "ipython3",
   "version": "3.9.16"
  }
 },
 "nbformat": 4,
 "nbformat_minor": 5
}
