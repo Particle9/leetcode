{
 "cells": [
  {
   "cell_type": "code",
   "execution_count": 1,
   "id": "2f578ade-d5ad-4afa-a6f5-d67cb8827e76",
   "metadata": {},
   "outputs": [],
   "source": [
    "class Solution:\n",
    "    def isScramble(self, s1: str, s2: str, dctx = {}) -> bool:\n",
    "        if (s1,s2) in dctx:\n",
    "            return dctx[(s1,s2)]\n",
    "        if len(s1) != len(s2):\n",
    "            return False\n",
    "        elif s1 == s2:\n",
    "            return True\n",
    "        else:\n",
    "            countCharS1 = {}\n",
    "            countCharS2 = {}\n",
    "            for x1, x2 in zip(s1,s2):\n",
    "                countCharS1[x1] = countCharS1.get(x1,0) + 1\n",
    "                countCharS2[x2] = countCharS2.get(x2,0) + 1\n",
    "            if countCharS1 != countCharS2:\n",
    "                return False\n",
    "        \n",
    "        for i in range(1,len(s1)):\n",
    "            # No Swap\n",
    "            a = self.isScramble(s1[:i], s2[:i], dctx)\n",
    "            b = self.isScramble(s1[i:], s2[i:], dctx)\n",
    "            if a and b:\n",
    "                dctx[(s1,s2)] = True\n",
    "                return True\n",
    "\n",
    "            # With Swap\n",
    "            # print(s1[i:] + \" \" +  s1[:i])\n",
    "            # print(s2[:len(s1)-i] + \" \" + s2[len(s1)-i:])\n",
    "            a = self.isScramble(s1[i:], s2[:len(s1)-i], dctx)\n",
    "            b = self.isScramble(s1[:i], s2[len(s1)-i:], dctx)\n",
    "            if a and b:\n",
    "                dctx[(s1,s2)] = True\n",
    "                return True\n",
    "        dctx[(s1,s2)] = False\n",
    "        return False"
   ]
  },
  {
   "cell_type": "code",
   "execution_count": 2,
   "id": "fce8d7d3-3c22-4269-a391-ea6973fb9071",
   "metadata": {},
   "outputs": [],
   "source": [
    "sol = Solution()"
   ]
  },
  {
   "cell_type": "code",
   "execution_count": 3,
   "id": "aa73de8b-cf13-496e-a430-e9a190e0bc0f",
   "metadata": {},
   "outputs": [
    {
     "data": {
      "text/plain": [
       "True"
      ]
     },
     "execution_count": 3,
     "metadata": {},
     "output_type": "execute_result"
    }
   ],
   "source": [
    "sol.isScramble(\"great\", \"rgeat\")"
   ]
  },
  {
   "cell_type": "code",
   "execution_count": null,
   "id": "09874e29-e995-4bc9-81a4-f8858f34d081",
   "metadata": {},
   "outputs": [],
   "source": []
  }
 ],
 "metadata": {
  "kernelspec": {
   "display_name": "Python 3 (ipykernel)",
   "language": "python",
   "name": "python3"
  },
  "language_info": {
   "codemirror_mode": {
    "name": "ipython",
    "version": 3
   },
   "file_extension": ".py",
   "mimetype": "text/x-python",
   "name": "python",
   "nbconvert_exporter": "python",
   "pygments_lexer": "ipython3",
   "version": "3.9.16"
  }
 },
 "nbformat": 4,
 "nbformat_minor": 5
}
