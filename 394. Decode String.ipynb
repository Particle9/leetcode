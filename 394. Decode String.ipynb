{
 "cells": [
  {
   "cell_type": "code",
   "execution_count": 1,
   "id": "05227c52-3c52-4a73-9c04-4ec8b990d82e",
   "metadata": {},
   "outputs": [],
   "source": [
    "class Solution:\n",
    "    def decodeString(self, s: str) -> str:\n",
    "        digits = \"0123456789\"\n",
    "        stack = []\n",
    "        outStr = \"\"\n",
    "        for c in s:\n",
    "            if c == ']':\n",
    "                mult = \"\"\n",
    "                strl = \"\"\n",
    "                cx = ''\n",
    "                while stack and cx != '[':\n",
    "                    cx = stack.pop()\n",
    "                    if cx == '[':\n",
    "                        while stack and stack[-1] in digits:\n",
    "                            cy = stack.pop()\n",
    "                            mult = cy + mult\n",
    "                    else:\n",
    "                        strl = cx + strl\n",
    "                    \n",
    "                multInt = int(mult) if mult else 1\n",
    "                stack += [strl * multInt]\n",
    "            else:\n",
    "                stack += [c]\n",
    "\n",
    "        lastStr = \"\"\n",
    "        while stack:\n",
    "            lastStr = stack.pop() + lastStr\n",
    "        outStr += lastStr\n",
    "        return outStr"
   ]
  },
  {
   "cell_type": "code",
   "execution_count": null,
   "id": "5add3d41-f218-4fd6-b131-c05dd39a817a",
   "metadata": {},
   "outputs": [],
   "source": []
  }
 ],
 "metadata": {
  "kernelspec": {
   "display_name": "Python 3 (ipykernel)",
   "language": "python",
   "name": "python3"
  },
  "language_info": {
   "codemirror_mode": {
    "name": "ipython",
    "version": 3
   },
   "file_extension": ".py",
   "mimetype": "text/x-python",
   "name": "python",
   "nbconvert_exporter": "python",
   "pygments_lexer": "ipython3",
   "version": "3.9.16"
  }
 },
 "nbformat": 4,
 "nbformat_minor": 5
}
