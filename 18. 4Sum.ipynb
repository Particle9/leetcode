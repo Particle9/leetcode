{
 "cells": [
  {
   "cell_type": "code",
   "execution_count": 2,
   "id": "e8653b2e-3871-45f2-80bd-cf1bfdcca4ed",
   "metadata": {},
   "outputs": [],
   "source": [
    "from typing import List\n",
    "\n",
    "class Solution:\n",
    "    def twoSum(self,nums, si, target):\n",
    "        dctx = {}\n",
    "        outLst = []\n",
    "        for i in range(si,len(nums)):\n",
    "            if target - nums[i] in dctx:\n",
    "                outLst += [[nums[dctx[target - nums[i]]],nums[i]]]\n",
    "            dctx[nums[i]] = i\n",
    "        return outLst\n",
    "\n",
    "    def fourSum(self, nums: List[int], target: int) -> List[List[int]]:\n",
    "        outLst = []\n",
    "        for i in range(0, len(nums)):\n",
    "            for j in range(i+1, len(nums)):\n",
    "                sumIn = self.twoSum(nums, j+1, target - nums[i] - nums[j])\n",
    "                outLst += [[nums[i],nums[j]] + lx for lx in sumIn]\n",
    "        outSet = set([tuple(sorted(lx)) for lx in outLst])\n",
    "        outLst = list(outSet)\n",
    "        return outLst\n",
    "        "
   ]
  },
  {
   "cell_type": "code",
   "execution_count": null,
   "id": "e060f267-382d-44a7-aa46-e1bcdaf69def",
   "metadata": {},
   "outputs": [],
   "source": []
  },
  {
   "cell_type": "code",
   "execution_count": null,
   "id": "ae42a72b-e67b-4b8f-9c3b-02494484da00",
   "metadata": {},
   "outputs": [],
   "source": []
  }
 ],
 "metadata": {
  "kernelspec": {
   "display_name": "Python 3 (ipykernel)",
   "language": "python",
   "name": "python3"
  },
  "language_info": {
   "codemirror_mode": {
    "name": "ipython",
    "version": 3
   },
   "file_extension": ".py",
   "mimetype": "text/x-python",
   "name": "python",
   "nbconvert_exporter": "python",
   "pygments_lexer": "ipython3",
   "version": "3.9.16"
  }
 },
 "nbformat": 4,
 "nbformat_minor": 5
}
