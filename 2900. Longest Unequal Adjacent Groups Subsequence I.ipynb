{
 "cells": [
  {
   "cell_type": "code",
   "execution_count": 2,
   "id": "5b1929b9-fb17-4043-ba44-15191e2bb266",
   "metadata": {},
   "outputs": [],
   "source": [
    "from typing import List\n",
    "\n",
    "class Solution:\n",
    "    def getLongestSubsequence(self, words: List[str], groups: List[int]) -> List[str]:\n",
    "        lst = []\n",
    "        prev_i = -1\n",
    "        for i, x in zip(groups,words):\n",
    "            if i != prev_i:\n",
    "                lst += [x]\n",
    "            prev_i = i\n",
    "        return lst\n",
    "        "
   ]
  },
  {
   "cell_type": "code",
   "execution_count": 3,
   "id": "bc76b0f9-30a0-4379-b93a-4586ec663a70",
   "metadata": {},
   "outputs": [],
   "source": [
    "sol = Solution()"
   ]
  },
  {
   "cell_type": "code",
   "execution_count": 4,
   "id": "081a392d-8990-472e-aae1-dcffc9559335",
   "metadata": {},
   "outputs": [
    {
     "data": {
      "text/plain": [
       "['e', 'b']"
      ]
     },
     "execution_count": 4,
     "metadata": {},
     "output_type": "execute_result"
    }
   ],
   "source": [
    "sol.getLongestSubsequence([\"e\",\"a\",\"b\"], [0,0,1])"
   ]
  },
  {
   "cell_type": "code",
   "execution_count": null,
   "id": "af9962c2-a5c1-4850-ba28-b95559075641",
   "metadata": {},
   "outputs": [],
   "source": []
  }
 ],
 "metadata": {
  "kernelspec": {
   "display_name": "Python 3 (ipykernel)",
   "language": "python",
   "name": "python3"
  },
  "language_info": {
   "codemirror_mode": {
    "name": "ipython",
    "version": 3
   },
   "file_extension": ".py",
   "mimetype": "text/x-python",
   "name": "python",
   "nbconvert_exporter": "python",
   "pygments_lexer": "ipython3",
   "version": "3.9.16"
  }
 },
 "nbformat": 4,
 "nbformat_minor": 5
}
