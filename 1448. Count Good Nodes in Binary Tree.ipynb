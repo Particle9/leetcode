{
 "cells": [
  {
   "cell_type": "code",
   "execution_count": null,
   "id": "b017e934-c50a-4703-8dd7-0079b72370ea",
   "metadata": {},
   "outputs": [],
   "source": [
    "# Definition for a binary tree node.\n",
    "class TreeNode:\n",
    "    def __init__(self, val=0, left=None, right=None):\n",
    "        self.val = val\n",
    "        self.left = left\n",
    "        self.right = right\n",
    "\n",
    "class Solution:\n",
    "    def goodNodesRecurse(self, root,maxVal):\n",
    "        if not(root):\n",
    "            return 0\n",
    "        newMaxVal = max(root.val, maxVal)\n",
    "        if root.val >= maxVal:\n",
    "            return 1 + self.goodNodesRecurse(root.left, newMaxVal) + self.goodNodesRecurse(root.right, newMaxVal)\n",
    "        else:\n",
    "            return self.goodNodesRecurse(root.left, newMaxVal) + self.goodNodesRecurse(root.right, newMaxVal)\n",
    "        \n",
    "    def goodNodes(self, root: TreeNode) -> int:\n",
    "        x = self.goodNodesRecurse(root, -1000000)\n",
    "        return x\n",
    "        "
   ]
  }
 ],
 "metadata": {
  "kernelspec": {
   "display_name": "Python 3 (ipykernel)",
   "language": "python",
   "name": "python3"
  },
  "language_info": {
   "codemirror_mode": {
    "name": "ipython",
    "version": 3
   },
   "file_extension": ".py",
   "mimetype": "text/x-python",
   "name": "python",
   "nbconvert_exporter": "python",
   "pygments_lexer": "ipython3",
   "version": "3.9.16"
  }
 },
 "nbformat": 4,
 "nbformat_minor": 5
}
