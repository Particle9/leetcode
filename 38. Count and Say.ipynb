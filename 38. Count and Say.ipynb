{
 "cells": [
  {
   "cell_type": "code",
   "execution_count": 1,
   "id": "5085f9f4-6724-4d45-a274-165c2f7f95ac",
   "metadata": {},
   "outputs": [],
   "source": [
    "class Solution:\n",
    "    def rle(self,s):\n",
    "        newS = \"\"\n",
    "        currc, currCount = \"\", 0\n",
    "        for c in s:\n",
    "            if currc == c:\n",
    "                currCount += 1\n",
    "            else:\n",
    "                if currc:\n",
    "                    newS += str(currCount) + currc\n",
    "                currCount = 1\n",
    "                currc = c\n",
    "        newS += str(currCount) + currc\n",
    "        return newS\n",
    "    def countAndSay(self, n: int) -> str:\n",
    "        if n == 1:\n",
    "            return \"1\"\n",
    "        \n",
    "        return self.rle(self.countAndSay(n-1))\n"
   ]
  },
  {
   "cell_type": "code",
   "execution_count": 2,
   "id": "7583cb81-dc41-4975-90ce-35681be566f8",
   "metadata": {},
   "outputs": [],
   "source": [
    "sol = Solution()"
   ]
  },
  {
   "cell_type": "code",
   "execution_count": 5,
   "id": "adb16f16-7c6d-4e57-b5e1-90bed78c053f",
   "metadata": {},
   "outputs": [
    {
     "data": {
      "text/plain": [
       "'311311222113111231131112132112311321322112111312211312111322212311322113212221'"
      ]
     },
     "execution_count": 5,
     "metadata": {},
     "output_type": "execute_result"
    }
   ],
   "source": [
    "sol.countAndSay(15)"
   ]
  },
  {
   "cell_type": "code",
   "execution_count": null,
   "id": "73b122f4-d67d-4d60-82e0-a83dd15be184",
   "metadata": {},
   "outputs": [],
   "source": []
  }
 ],
 "metadata": {
  "kernelspec": {
   "display_name": "Python 3 (ipykernel)",
   "language": "python",
   "name": "python3"
  },
  "language_info": {
   "codemirror_mode": {
    "name": "ipython",
    "version": 3
   },
   "file_extension": ".py",
   "mimetype": "text/x-python",
   "name": "python",
   "nbconvert_exporter": "python",
   "pygments_lexer": "ipython3",
   "version": "3.9.16"
  }
 },
 "nbformat": 4,
 "nbformat_minor": 5
}
