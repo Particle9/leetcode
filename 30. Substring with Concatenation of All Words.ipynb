{
 "cells": [
  {
   "cell_type": "code",
   "execution_count": 1,
   "id": "dc1c0a85-45a5-41e0-b4fd-b6f6f689ae41",
   "metadata": {},
   "outputs": [],
   "source": [
    "from typing import List\n",
    "\n",
    "class Solution:\n",
    "    def checkPermutations(self, s, wordBank, lw):\n",
    "        possWords = {k:v for k, v in wordBank.items()}\n",
    "        for i in range(0, len(s), lw):\n",
    "            checkedSub = s[i:i+lw]\n",
    "            if checkedSub not in possWords:\n",
    "                return False\n",
    "            elif possWords[checkedSub] == 0:\n",
    "                return False\n",
    "            else:\n",
    "                possWords[checkedSub] -= 1\n",
    "        if sum([v for v in possWords.values()]) == 0:\n",
    "            return True\n",
    "        return False\n",
    "        \n",
    "    def findSubstring(self, s: str, words: List[str]) -> List[int]:\n",
    "        \n",
    "        ln = sum([len(w) for w in words])\n",
    "        lw = len(words[0])\n",
    "        wordBank = {}\n",
    "        for w in words:\n",
    "            if w not in s:\n",
    "                return []\n",
    "            if w not in wordBank:\n",
    "                wordBank[w] = 1\n",
    "            else:\n",
    "                wordBank[w] += 1\n",
    "\n",
    "        i, j = 0, ln\n",
    "        currStr = s[:ln]\n",
    "        resLst = []\n",
    "        while j < len(s):\n",
    "            if self.checkPermutations(currStr, wordBank, lw):\n",
    "                resLst += [i]\n",
    "            currStr = currStr[1:] + s[j]\n",
    "            i += 1\n",
    "            j += 1\n",
    "        if self.checkPermutations(currStr, wordBank, lw):\n",
    "            resLst += [i]\n",
    "        return resLst\n",
    "        "
   ]
  },
  {
   "cell_type": "code",
   "execution_count": null,
   "id": "a05e38b6-e049-493b-86ce-fd4a35f28d10",
   "metadata": {},
   "outputs": [],
   "source": []
  }
 ],
 "metadata": {
  "kernelspec": {
   "display_name": "Python 3 (ipykernel)",
   "language": "python",
   "name": "python3"
  },
  "language_info": {
   "codemirror_mode": {
    "name": "ipython",
    "version": 3
   },
   "file_extension": ".py",
   "mimetype": "text/x-python",
   "name": "python",
   "nbconvert_exporter": "python",
   "pygments_lexer": "ipython3",
   "version": "3.9.16"
  }
 },
 "nbformat": 4,
 "nbformat_minor": 5
}
