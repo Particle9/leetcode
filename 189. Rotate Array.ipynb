{
 "cells": [
  {
   "cell_type": "code",
   "execution_count": 1,
   "id": "3c0c99b8-be67-4860-a5f5-af287e8032dc",
   "metadata": {},
   "outputs": [],
   "source": [
    "from typing import List\n",
    "\n",
    "class Solution:\n",
    "    def rotate(self, nums: List[int], k: int) -> None:\n",
    "        \"\"\"\n",
    "        Do not return anything, modify nums in-place instead.\n",
    "        \"\"\"\n",
    "\n",
    "        n = len(nums)\n",
    "        n_rotation = n - (k % n)\n",
    "\n",
    "        lstx = nums[n_rotation:] + nums[:n_rotation]\n",
    "\n",
    "        for i in range(0,len(nums)):\n",
    "            nums[i] = lstx[i]"
   ]
  },
  {
   "cell_type": "code",
   "execution_count": null,
   "id": "fd4f13b4-3ec9-4831-a67e-44c2b892091e",
   "metadata": {},
   "outputs": [],
   "source": []
  }
 ],
 "metadata": {
  "kernelspec": {
   "display_name": "Python 3 (ipykernel)",
   "language": "python",
   "name": "python3"
  },
  "language_info": {
   "codemirror_mode": {
    "name": "ipython",
    "version": 3
   },
   "file_extension": ".py",
   "mimetype": "text/x-python",
   "name": "python",
   "nbconvert_exporter": "python",
   "pygments_lexer": "ipython3",
   "version": "3.9.16"
  }
 },
 "nbformat": 4,
 "nbformat_minor": 5
}
