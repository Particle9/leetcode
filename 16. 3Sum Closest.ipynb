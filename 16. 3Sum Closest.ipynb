{
 "cells": [
  {
   "cell_type": "code",
   "execution_count": 1,
   "id": "285066c1-bec5-4c95-ac65-dcbd900fedc3",
   "metadata": {},
   "outputs": [],
   "source": [
    "from typing import List\n",
    "\n",
    "class Solution:\n",
    "    def threeSumClosest(self, nums: List[int], target: int) -> int:\n",
    "        minDiff = float('inf')\n",
    "        minIdx = (-1,-1,-1)\n",
    "        minSum = 0\n",
    "        sortedNums = sorted(nums)\n",
    "        for i in range(0,len(sortedNums)):\n",
    "            j = i+1\n",
    "            k = len(nums) - 1\n",
    "            miniTarget = target - sortedNums[i]\n",
    "            while j < k:\n",
    "                if sortedNums[j] + sortedNums[k] == miniTarget:\n",
    "                    return target\n",
    "                else:\n",
    "                    if abs(miniTarget - (sortedNums[j] + sortedNums[k])) < minDiff:\n",
    "                        minDiff = abs(miniTarget - (sortedNums[j] + sortedNums[k]))\n",
    "                        minSum = sortedNums[i] + sortedNums[j] + sortedNums[k]\n",
    "                        minIdx = (i,j,k)\n",
    "                    \n",
    "                    if sortedNums[j] + sortedNums[k] > miniTarget:\n",
    "                        k -= 1\n",
    "                    else:\n",
    "                        j += 1\n",
    "        return minSum\n",
    "                    \n",
    "\n",
    "        "
   ]
  },
  {
   "cell_type": "code",
   "execution_count": null,
   "id": "ed7f2d79-d3a8-4f2c-8e89-c95db505e09a",
   "metadata": {},
   "outputs": [],
   "source": []
  }
 ],
 "metadata": {
  "kernelspec": {
   "display_name": "Python 3 (ipykernel)",
   "language": "python",
   "name": "python3"
  },
  "language_info": {
   "codemirror_mode": {
    "name": "ipython",
    "version": 3
   },
   "file_extension": ".py",
   "mimetype": "text/x-python",
   "name": "python",
   "nbconvert_exporter": "python",
   "pygments_lexer": "ipython3",
   "version": "3.9.16"
  }
 },
 "nbformat": 4,
 "nbformat_minor": 5
}
