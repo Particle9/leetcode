{
 "cells": [
  {
   "cell_type": "code",
   "execution_count": 1,
   "id": "a14f7d33-4234-4b3c-a43d-9bdbd74c2841",
   "metadata": {},
   "outputs": [],
   "source": [
    "from typing import List\n",
    "\n",
    "class Solution:\n",
    "    def heuristic(self, timeStr):\n",
    "        timeLst = timeStr.split(':')\n",
    "        return int(timeLst[0]) * 60 + int(timeLst[1])\n",
    "    \n",
    "    def getNextDay(self, timeStr):\n",
    "        timeLst = timeStr.split(':')\n",
    "        t1 = str(int(timeLst[0]) + 24)\n",
    "        t2 = timeLst[1]\n",
    "        return t1 + \":\" + t2\n",
    "\n",
    "    def findMinDifference(self, timePoints: List[str]) -> int:\n",
    "        orderedTime = sorted(timePoints, key = self.heuristic)\n",
    "        secondOrderedTime = [self.getNextDay(x) for x in orderedTime]\n",
    "        orderedTime += secondOrderedTime\n",
    "\n",
    "        minDiff = float('inf')\n",
    "        prevTime = orderedTime[0]\n",
    "        for t in orderedTime[1:]:\n",
    "            diff = self.heuristic(t) - self.heuristic(prevTime)\n",
    "            minDiff = min(minDiff, diff)\n",
    "            prevTime = t\n",
    "        return minDiff\n",
    "\n"
   ]
  },
  {
   "cell_type": "code",
   "execution_count": 2,
   "id": "cfe75a0c-719c-48b6-819a-7b2bbcbf420f",
   "metadata": {},
   "outputs": [],
   "source": [
    "sol = Solution()"
   ]
  },
  {
   "cell_type": "code",
   "execution_count": 4,
   "id": "396238d0-26a4-4e5d-90a4-de88196ab63d",
   "metadata": {},
   "outputs": [
    {
     "data": {
      "text/plain": [
       "0"
      ]
     },
     "execution_count": 4,
     "metadata": {},
     "output_type": "execute_result"
    }
   ],
   "source": [
    "sol.findMinDifference([\"00:00\",\"23:59\",\"00:00\"])"
   ]
  },
  {
   "cell_type": "code",
   "execution_count": 5,
   "id": "1cd8ba54-7139-4fb3-bb99-f5b1250e2ddc",
   "metadata": {},
   "outputs": [
    {
     "data": {
      "text/plain": [
       "1"
      ]
     },
     "execution_count": 5,
     "metadata": {},
     "output_type": "execute_result"
    }
   ],
   "source": [
    "sol.findMinDifference([\"23:59\",\"00:00\"])"
   ]
  },
  {
   "cell_type": "code",
   "execution_count": 3,
   "id": "6950aa3d-e2c2-4838-9bbd-04eaeda55b63",
   "metadata": {},
   "outputs": [
    {
     "data": {
      "text/plain": [
       "147"
      ]
     },
     "execution_count": 3,
     "metadata": {},
     "output_type": "execute_result"
    }
   ],
   "source": [
    "sol.findMinDifference([\"05:31\",\"22:08\",\"00:35\"])"
   ]
  },
  {
   "cell_type": "code",
   "execution_count": null,
   "id": "e5c98d01-3cfd-4c41-ad27-eb36cb27d442",
   "metadata": {},
   "outputs": [],
   "source": []
  }
 ],
 "metadata": {
  "kernelspec": {
   "display_name": "Python 3 (ipykernel)",
   "language": "python",
   "name": "python3"
  },
  "language_info": {
   "codemirror_mode": {
    "name": "ipython",
    "version": 3
   },
   "file_extension": ".py",
   "mimetype": "text/x-python",
   "name": "python",
   "nbconvert_exporter": "python",
   "pygments_lexer": "ipython3",
   "version": "3.9.16"
  }
 },
 "nbformat": 4,
 "nbformat_minor": 5
}
