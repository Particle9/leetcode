{
 "cells": [
  {
   "cell_type": "code",
   "execution_count": 1,
   "id": "cea55785-49ee-4409-9577-2a86a32cd30d",
   "metadata": {},
   "outputs": [],
   "source": [
    "from typing import List\n",
    "\n",
    "class Solution:\n",
    "    def maxSubarraySumCircular(self, nums: List[int]) -> int:\n",
    "        if len(nums) <= 1:\n",
    "            return sum(nums)\n",
    "        fullSum = sum(nums)\n",
    "        currMax = nums[0]\n",
    "        currMin = nums[0]\n",
    "        resMax = nums[0]\n",
    "        resMin = nums[0]\n",
    "        lastIdx = 0\n",
    "        for i in range(1, len(nums)):\n",
    "            currMax = max(nums[i], nums[i] + currMax)\n",
    "            currMin = min(nums[i], nums[i] + currMin)\n",
    "            resMax = max(currMax, resMax)\n",
    "            resMin = min(currMin, resMin)\n",
    "        maxElmt = max(nums)\n",
    "        \n",
    "        if fullSum == resMin:\n",
    "            return resMax\n",
    "        else:\n",
    "            return max(resMax, fullSum - resMin)"
   ]
  },
  {
   "cell_type": "code",
   "execution_count": null,
   "id": "d0be0d9b-6b8c-4659-b6fe-e13ce59e17bc",
   "metadata": {},
   "outputs": [],
   "source": []
  }
 ],
 "metadata": {
  "kernelspec": {
   "display_name": "Python 3 (ipykernel)",
   "language": "python",
   "name": "python3"
  },
  "language_info": {
   "codemirror_mode": {
    "name": "ipython",
    "version": 3
   },
   "file_extension": ".py",
   "mimetype": "text/x-python",
   "name": "python",
   "nbconvert_exporter": "python",
   "pygments_lexer": "ipython3",
   "version": "3.9.16"
  }
 },
 "nbformat": 4,
 "nbformat_minor": 5
}
