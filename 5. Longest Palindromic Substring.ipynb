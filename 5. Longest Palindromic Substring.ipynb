{
 "cells": [
  {
   "cell_type": "code",
   "execution_count": 1,
   "id": "5be1f7e3-ce59-41aa-bc31-a63713c9f3bb",
   "metadata": {},
   "outputs": [],
   "source": [
    "class Solution:\n",
    "    def printMat(self, mtrx):\n",
    "        for lx in mtrx:\n",
    "            print(lx)\n",
    "\n",
    "    def longestPalindrome(self, s: str) -> str:\n",
    "        n = len(s)\n",
    "        if n <= 1:\n",
    "            return s\n",
    "\n",
    "        dp = [[(0, 0) for _ in range(n)] for _ in range(n)]\n",
    "        longest_palindrome = (0, 0)  # start, end indices of the longest palindrome\n",
    "\n",
    "        for i in range(n):\n",
    "            dp[i][i] = (i, i)  # Every single character is a palindrome\n",
    "            if i < n - 1 and s[i] == s[i + 1]:  # Check two consecutive characters\n",
    "                dp[i][i + 1] = (i, i + 1)\n",
    "                longest_palindrome = (i, i + 1)\n",
    "\n",
    "        for length in range(3, n + 1):  # Substring lengths from 3 to n\n",
    "            for i in range(n - length + 1):\n",
    "                j = i + length - 1  # Ending index of the substring\n",
    "                if s[i] == s[j] and dp[i + 1][j - 1][0] == i + 1 and dp[i + 1][j - 1][1] == j - 1:\n",
    "                    dp[i][j] = (i, j)\n",
    "                    longest_palindrome = (i, j)\n",
    "                else:\n",
    "                    dp[i][j] = dp[i + 1][j] if (dp[i + 1][j][1] - dp[i + 1][j][0]) > (dp[i][j - 1][1] - dp[i][j - 1][0]) else dp[i][j - 1]\n",
    "                \n",
    "                print(i,j)\n",
    "                self.printMat(dp)\n",
    "                print()\n",
    "\n",
    "        start, end = longest_palindrome\n",
    "        return s[start:end + 1]"
   ]
  },
  {
   "cell_type": "code",
   "execution_count": null,
   "id": "daf4fa31-95ed-485b-9671-560f19e2d7db",
   "metadata": {},
   "outputs": [],
   "source": []
  }
 ],
 "metadata": {
  "kernelspec": {
   "display_name": "Python 3 (ipykernel)",
   "language": "python",
   "name": "python3"
  },
  "language_info": {
   "codemirror_mode": {
    "name": "ipython",
    "version": 3
   },
   "file_extension": ".py",
   "mimetype": "text/x-python",
   "name": "python",
   "nbconvert_exporter": "python",
   "pygments_lexer": "ipython3",
   "version": "3.9.16"
  }
 },
 "nbformat": 4,
 "nbformat_minor": 5
}
