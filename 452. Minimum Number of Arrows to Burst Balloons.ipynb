{
 "cells": [
  {
   "cell_type": "code",
   "execution_count": null,
   "id": "89a935c6-8796-4d09-b179-437abb74af64",
   "metadata": {},
   "outputs": [],
   "source": [
    "class Solution:\n",
    "    def findMinArrowShots(self, points: List[List[int]]) -> int:\n",
    "        if not points:\n",
    "            return 0\n",
    "        \n",
    "        # Sort the intervals by their end points\n",
    "        points.sort(key=lambda x: x[1])\n",
    "        \n",
    "        # Initialize the count of arrows and the end point of the first arrow\n",
    "        arrows = 1\n",
    "        current_end = points[0][1]\n",
    "        \n",
    "        for x, y in points[1:]:\n",
    "            # If the current interval starts after the end of the last arrow, we need a new arrow\n",
    "            if x > current_end:\n",
    "                arrows += 1\n",
    "                current_end = y\n",
    "        \n",
    "        return arrows"
   ]
  }
 ],
 "metadata": {
  "kernelspec": {
   "display_name": "Python 3 (ipykernel)",
   "language": "python",
   "name": "python3"
  },
  "language_info": {
   "codemirror_mode": {
    "name": "ipython",
    "version": 3
   },
   "file_extension": ".py",
   "mimetype": "text/x-python",
   "name": "python",
   "nbconvert_exporter": "python",
   "pygments_lexer": "ipython3",
   "version": "3.9.16"
  }
 },
 "nbformat": 4,
 "nbformat_minor": 5
}
