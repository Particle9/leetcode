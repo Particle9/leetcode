{
 "cells": [
  {
   "cell_type": "code",
   "execution_count": 1,
   "id": "82f4f86a-c3db-4157-be39-2e6c49b9c884",
   "metadata": {},
   "outputs": [],
   "source": [
    "from typing import List\n",
    "\n",
    "class Solution:\n",
    "    def combinationSumRecurse(self, candidates: List[int], target: int, start:int) -> List[List[int]]:\n",
    "        if target == 0:\n",
    "            return [[]]\n",
    "        \n",
    "        possLst = []\n",
    "        for i in range(start,len(candidates)):\n",
    "            if target - candidates[i] >= 0:\n",
    "                prevLst = self.combinationSumRecurse(candidates, target-candidates[i], i)\n",
    "                possLst += [[candidates[i]] + l for l in prevLst]\n",
    "        return possLst\n",
    "\n",
    "    def combinationSum(self, candidates: List[int], target: int) -> List[List[int]]:\n",
    "        return self.combinationSumRecurse(candidates,target, 0)\n",
    "\n",
    "\n",
    "        "
   ]
  },
  {
   "cell_type": "code",
   "execution_count": 2,
   "id": "6042136d-ab28-4b24-8a89-0f4265e31c5c",
   "metadata": {},
   "outputs": [],
   "source": [
    "sol = Solution()"
   ]
  },
  {
   "cell_type": "code",
   "execution_count": 4,
   "id": "474d3517-57c9-451c-98c4-a65cf0416bec",
   "metadata": {},
   "outputs": [
    {
     "data": {
      "text/plain": [
       "[[2, 2, 3], [7]]"
      ]
     },
     "execution_count": 4,
     "metadata": {},
     "output_type": "execute_result"
    }
   ],
   "source": [
    "sol.combinationSum([2,3,6,7], 7)"
   ]
  },
  {
   "cell_type": "code",
   "execution_count": null,
   "id": "a1bb9d2c-3200-4378-b67d-66a8a2b7c8c4",
   "metadata": {},
   "outputs": [],
   "source": []
  }
 ],
 "metadata": {
  "kernelspec": {
   "display_name": "Python 3 (ipykernel)",
   "language": "python",
   "name": "python3"
  },
  "language_info": {
   "codemirror_mode": {
    "name": "ipython",
    "version": 3
   },
   "file_extension": ".py",
   "mimetype": "text/x-python",
   "name": "python",
   "nbconvert_exporter": "python",
   "pygments_lexer": "ipython3",
   "version": "3.9.16"
  }
 },
 "nbformat": 4,
 "nbformat_minor": 5
}
