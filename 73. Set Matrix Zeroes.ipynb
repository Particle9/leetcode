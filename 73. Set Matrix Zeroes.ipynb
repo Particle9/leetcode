{
 "cells": [
  {
   "cell_type": "code",
   "execution_count": 2,
   "id": "7ac6c2c3-c8fa-45bf-bdc3-3e974eabb300",
   "metadata": {},
   "outputs": [],
   "source": [
    "from typing import List\n",
    "import copy\n",
    "\n",
    "class Solution:\n",
    "    def printMat(self,matrix):\n",
    "        for x in matrix:\n",
    "            print(x)\n",
    "\n",
    "    def rotate(self, matrix: List[List[int]]) -> None:\n",
    "        \"\"\"\n",
    "        Do not return anything, modify matrix in-place instead.\n",
    "        \"\"\"\n",
    "        n = len(matrix)\n",
    "        mat_ori = copy.deepcopy(matrix)\n",
    "        for i in range(0,n//2):\n",
    "            for j in reversed(range(0,n)):\n",
    "                temp_val = mat_ori[i][j]\n",
    "                matrix[i][j] = mat_ori[n-1-j][i]\n",
    "                matrix[n-1-j][i] = mat_ori[n-1-i][n-1-j]\n",
    "                matrix[n-1-i][n-1-j] = mat_ori[j][n-1-i]\n",
    "                matrix[j][n-1-i] = mat_ori[i][j]\n",
    "        "
   ]
  },
  {
   "cell_type": "code",
   "execution_count": null,
   "id": "728f6cf4-ab8c-4205-a7bb-b6db58de11bf",
   "metadata": {},
   "outputs": [],
   "source": [
    "# Formula:\n",
    "### M[i][j]         = M[n-1-j][i]\n",
    "### M[n-1-j][i]     = M[n-1-i][n-1-j]\n",
    "### M[n-1-i][n-1-j] = M[j][n-1-i]\n",
    "### M[j][n-1-i]     = M[i][j]"
   ]
  }
 ],
 "metadata": {
  "kernelspec": {
   "display_name": "Python 3 (ipykernel)",
   "language": "python",
   "name": "python3"
  },
  "language_info": {
   "codemirror_mode": {
    "name": "ipython",
    "version": 3
   },
   "file_extension": ".py",
   "mimetype": "text/x-python",
   "name": "python",
   "nbconvert_exporter": "python",
   "pygments_lexer": "ipython3",
   "version": "3.9.16"
  }
 },
 "nbformat": 4,
 "nbformat_minor": 5
}
