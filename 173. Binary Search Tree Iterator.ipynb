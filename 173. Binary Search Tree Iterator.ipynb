{
 "cells": [
  {
   "cell_type": "code",
   "execution_count": null,
   "id": "53356f1a-b587-497b-8197-b4d6bf74b6ad",
   "metadata": {},
   "outputs": [],
   "source": [
    "# Definition for a binary tree node.\n",
    "class TreeNode:\n",
    "    def __init__(self, val=0, left=None, right=None):\n",
    "        self.val = val\n",
    "        self.left = left\n",
    "        self.right = right\n",
    "\n",
    "\n",
    "class BSTIterator:\n",
    "    def traverseTree(self,root):\n",
    "        if not(root):\n",
    "            return []\n",
    "        return self.traverseTree(root.left) + [root] + self.traverseTree(root.right)\n",
    "\n",
    "    def __init__(self, root: Optional[TreeNode]):\n",
    "        if not(root):\n",
    "            return\n",
    "        self.pointer = -1\n",
    "        self.lst = self.traverseTree(root)\n",
    "\n",
    "    def next(self) -> int:\n",
    "        self.pointer += 1\n",
    "        return self.lst[self.pointer].val\n",
    "        \n",
    "\n",
    "    def hasNext(self) -> bool:\n",
    "        return self.pointer+1 < len(self.lst)\n",
    "        \n",
    "\n",
    "\n",
    "# Your BSTIterator object will be instantiated and called as such:\n",
    "# obj = BSTIterator(root)\n",
    "# param_1 = obj.next()\n",
    "# param_2 = obj.hasNext()"
   ]
  }
 ],
 "metadata": {
  "kernelspec": {
   "display_name": "Python 3 (ipykernel)",
   "language": "python",
   "name": "python3"
  },
  "language_info": {
   "codemirror_mode": {
    "name": "ipython",
    "version": 3
   },
   "file_extension": ".py",
   "mimetype": "text/x-python",
   "name": "python",
   "nbconvert_exporter": "python",
   "pygments_lexer": "ipython3",
   "version": "3.9.16"
  }
 },
 "nbformat": 4,
 "nbformat_minor": 5
}
