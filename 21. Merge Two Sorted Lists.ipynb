{
 "cells": [
  {
   "cell_type": "code",
   "execution_count": null,
   "id": "7f3b9e52-54ce-45a3-8f00-2c58b3571768",
   "metadata": {},
   "outputs": [],
   "source": [
    "# Definition for singly-linked list.\n",
    "class ListNode:\n",
    "    def __init__(self, val=0, next=None):\n",
    "        self.val = val\n",
    "        self.next = next\n",
    "class Solution:\n",
    "    def mergeTwoLists(self, list1: Optional[ListNode], list2: Optional[ListNode]) -> Optional[ListNode]:\n",
    "        if not(list1):\n",
    "            return list2\n",
    "        elif not(list2):\n",
    "            return list1\n",
    "        \n",
    "        if list1.val > list2.val:\n",
    "            newList = ListNode(val = list2.val)\n",
    "            newList.next = self.mergeTwoLists(list1,list2.next)\n",
    "        else:\n",
    "            newList = ListNode(val = list1.val)\n",
    "            newList.next = self.mergeTwoLists(list1.next,list2)\n",
    "        \n",
    "        return newList\n",
    "\n",
    "        "
   ]
  }
 ],
 "metadata": {
  "kernelspec": {
   "display_name": "Python 3 (ipykernel)",
   "language": "python",
   "name": "python3"
  },
  "language_info": {
   "codemirror_mode": {
    "name": "ipython",
    "version": 3
   },
   "file_extension": ".py",
   "mimetype": "text/x-python",
   "name": "python",
   "nbconvert_exporter": "python",
   "pygments_lexer": "ipython3",
   "version": "3.9.16"
  }
 },
 "nbformat": 4,
 "nbformat_minor": 5
}
