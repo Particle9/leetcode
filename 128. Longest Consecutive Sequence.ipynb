{
 "cells": [
  {
   "cell_type": "code",
   "execution_count": null,
   "id": "387ff78c-3c57-41a5-9865-764c6a5f557a",
   "metadata": {},
   "outputs": [],
   "source": [
    "class Solution:\n",
    "    def longestConsecutive(self, nums: List[int]) -> int:\n",
    "        if not(nums):\n",
    "            return 0\n",
    "        dctx = {}\n",
    "        for i in range(0,len(nums)):\n",
    "            if nums[i] in dctx:\n",
    "                continue\n",
    "            elif (nums[i] - 1 in dctx) and (nums[i] + 1 in dctx):\n",
    "                x1,y1 = dctx[nums[i] - 1]\n",
    "                x2,y2 = dctx[nums[i] + 1]\n",
    "                dctx[x1] = (x1,y2)\n",
    "                dctx[y2] = (x1,y2)\n",
    "                dctx[nums[i]] = (x1,y2)\n",
    "            elif (nums[i] - 1 in dctx):\n",
    "                x,y = dctx[nums[i] - 1]\n",
    "                dctx[nums[i]] = (x,nums[i])\n",
    "                dctx[x] = (x,nums[i])\n",
    "            elif (nums[i] + 1 in dctx):\n",
    "                x,y = dctx[nums[i] + 1]\n",
    "                dctx[nums[i]] = (nums[i],y)\n",
    "                dctx[y] = (nums[i],y)\n",
    "            else:\n",
    "                dctx[nums[i]] = (nums[i],nums[i])\n",
    "\n",
    "        x,y = max(dctx.values(), key=lambda x: x[1] - x[0])\n",
    "\n",
    "        return y-x + 1"
   ]
  }
 ],
 "metadata": {
  "kernelspec": {
   "display_name": "Python 3 (ipykernel)",
   "language": "python",
   "name": "python3"
  },
  "language_info": {
   "codemirror_mode": {
    "name": "ipython",
    "version": 3
   },
   "file_extension": ".py",
   "mimetype": "text/x-python",
   "name": "python",
   "nbconvert_exporter": "python",
   "pygments_lexer": "ipython3",
   "version": "3.9.16"
  }
 },
 "nbformat": 4,
 "nbformat_minor": 5
}
