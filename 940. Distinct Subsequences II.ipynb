{
 "cells": [
  {
   "cell_type": "code",
   "execution_count": 17,
   "id": "e4202723-9093-4ba0-abad-6410501bf907",
   "metadata": {},
   "outputs": [],
   "source": [
    "class Solution:\n",
    "    def distinctSubseqII(self, s: str) -> int:\n",
    "        MOD = 7 + 10 ** 9\n",
    "        n = len(s)\n",
    "        dp = [0] * (n+1)\n",
    "        dp[0] = 1\n",
    "        dct = {}\n",
    "        \n",
    "        for i in range(1, n+1):\n",
    "            dp[i] = (dp[i-1]*2 ) % MOD\n",
    "            if s[i-1] in dct:\n",
    "                dp[i] -= dp[dct[s[i-1]] -1] \n",
    "            dct[s[i-1]] = i\n",
    "        \n",
    "        return (dp[n] - 1) % MOD\n",
    "        "
   ]
  },
  {
   "cell_type": "code",
   "execution_count": 18,
   "id": "e4af3660-a280-4b62-bad1-ac56c74e1f8b",
   "metadata": {},
   "outputs": [],
   "source": [
    "sol = Solution()"
   ]
  },
  {
   "cell_type": "code",
   "execution_count": 19,
   "id": "c7ed0db6-a180-4bb1-95bb-6aea0c037d65",
   "metadata": {},
   "outputs": [
    {
     "data": {
      "text/plain": [
       "7"
      ]
     },
     "execution_count": 19,
     "metadata": {},
     "output_type": "execute_result"
    }
   ],
   "source": [
    "sol.distinctSubseqII('abc')"
   ]
  },
  {
   "cell_type": "code",
   "execution_count": null,
   "id": "423c7ed5-b5f9-4d0e-8d79-21b60f988c01",
   "metadata": {},
   "outputs": [],
   "source": []
  }
 ],
 "metadata": {
  "kernelspec": {
   "display_name": "Python 3 (ipykernel)",
   "language": "python",
   "name": "python3"
  },
  "language_info": {
   "codemirror_mode": {
    "name": "ipython",
    "version": 3
   },
   "file_extension": ".py",
   "mimetype": "text/x-python",
   "name": "python",
   "nbconvert_exporter": "python",
   "pygments_lexer": "ipython3",
   "version": "3.9.16"
  }
 },
 "nbformat": 4,
 "nbformat_minor": 5
}
