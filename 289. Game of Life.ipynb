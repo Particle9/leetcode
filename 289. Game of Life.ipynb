{
 "cells": [
  {
   "cell_type": "code",
   "execution_count": null,
   "id": "0180c812-f2ed-4ec3-9167-c01cf9435e42",
   "metadata": {},
   "outputs": [],
   "source": [
    "class Solution:\n",
    "    def gameOfLife(self, board: List[List[int]]) -> None:\n",
    "        \"\"\"\n",
    "        Do not return anything, modify board in-place instead.\n",
    "        \"\"\"\n",
    "        n = len(board)\n",
    "        if n:\n",
    "            m = len(board[0])\n",
    "        else:\n",
    "            return board\n",
    "\n",
    "        state_change = []\n",
    "        for i in range(0,n):\n",
    "            for j in range(0,m):\n",
    "                count_live = 0\n",
    "                for k in range(max(0,i-1),min(n,i+2)):\n",
    "                    for l in range(max(0,j-1),min(m,j+2)):\n",
    "                        if k == i and l == j:\n",
    "                            continue\n",
    "                        if board[k][l]:\n",
    "                            count_live += 1\n",
    "                if board[i][j]:\n",
    "                    if count_live < 2:\n",
    "                        state_change += [(i,j)]\n",
    "                    elif count_live > 3:\n",
    "                        state_change += [(i,j)]\n",
    "                else:\n",
    "                    if count_live == 3:\n",
    "                        state_change += [(i,j)]\n",
    "\n",
    "        for i,j in state_change:\n",
    "            board[i][j] = 1 if not(board[i][j]) else 0\n",
    "        \n",
    "        return board\n",
    "                            \n",
    "        "
   ]
  }
 ],
 "metadata": {
  "kernelspec": {
   "display_name": "Python 3 (ipykernel)",
   "language": "python",
   "name": "python3"
  },
  "language_info": {
   "codemirror_mode": {
    "name": "ipython",
    "version": 3
   },
   "file_extension": ".py",
   "mimetype": "text/x-python",
   "name": "python",
   "nbconvert_exporter": "python",
   "pygments_lexer": "ipython3",
   "version": "3.9.16"
  }
 },
 "nbformat": 4,
 "nbformat_minor": 5
}
