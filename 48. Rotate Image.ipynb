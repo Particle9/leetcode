{
 "cells": [
  {
   "cell_type": "code",
   "execution_count": 2,
   "id": "7ac6c2c3-c8fa-45bf-bdc3-3e974eabb300",
   "metadata": {},
   "outputs": [],
   "source": [
    "from typing import List\n",
    "\n",
    "class Solution:\n",
    "    def setZeroes(self, matrix: List[List[int]]) -> None:\n",
    "        \"\"\"\n",
    "        Do not return anything, modify matrix in-place instead.\n",
    "        \"\"\"\n",
    "\n",
    "        n = len(matrix)\n",
    "        if n:\n",
    "            m = len(matrix[0])\n",
    "\n",
    "        null_set_i = set()\n",
    "        null_set_j = set()\n",
    "\n",
    "        for i in range(0,n):\n",
    "            for j in range(0,m):\n",
    "                if matrix[i][j] == 0:\n",
    "                    null_set_i.add(i)\n",
    "                    null_set_j.add(j)\n",
    "        \n",
    "        for k in null_set_j:\n",
    "            if k < m:\n",
    "                for i in range(0,n):\n",
    "                    matrix[i][k] = 0\n",
    "        \n",
    "        for k in null_set_i:\n",
    "            if k < n:\n",
    "                for j in range(0,m):\n",
    "                    matrix[k][j] = 0\n",
    "        return matrix\n",
    "        "
   ]
  },
  {
   "cell_type": "code",
   "execution_count": null,
   "id": "728f6cf4-ab8c-4205-a7bb-b6db58de11bf",
   "metadata": {},
   "outputs": [],
   "source": [
    "# Formula:\n",
    "### M[i][j]         = M[n-1-j][i]\n",
    "### M[n-1-j][i]     = M[n-1-i][n-1-j]\n",
    "### M[n-1-i][n-1-j] = M[j][n-1-i]\n",
    "### M[j][n-1-i]     = M[i][j]"
   ]
  },
  {
   "cell_type": "code",
   "execution_count": 5,
   "id": "ebf34294-4561-4d6d-a439-d533bb4abe28",
   "metadata": {},
   "outputs": [
    {
     "data": {
      "text/plain": [
       "'aaabghs'"
      ]
     },
     "execution_count": 5,
     "metadata": {},
     "output_type": "execute_result"
    }
   ],
   "source": [
    "''.join(sorted('ahgasab'))"
   ]
  },
  {
   "cell_type": "code",
   "execution_count": null,
   "id": "25cd572d-5921-45be-b966-8567bead3118",
   "metadata": {},
   "outputs": [],
   "source": [
    "1 -> 1\n",
    "2 -> False\n",
    "3 -> 16+1 49+1 50 25 54 "
   ]
  },
  {
   "cell_type": "code",
   "execution_count": 6,
   "id": "441929a0-3e12-4753-8763-34b9521edd91",
   "metadata": {},
   "outputs": [
    {
     "data": {
      "text/plain": [
       "4"
      ]
     },
     "execution_count": 6,
     "metadata": {},
     "output_type": "execute_result"
    }
   ],
   "source": [
    "[1,2,3,4].pop()"
   ]
  },
  {
   "cell_type": "code",
   "execution_count": 8,
   "id": "c4b452df-708d-4c5c-a317-1fd43c017c65",
   "metadata": {},
   "outputs": [
    {
     "data": {
      "text/plain": [
       "['', 'home', 'xsa', '', 'kdad']"
      ]
     },
     "execution_count": 8,
     "metadata": {},
     "output_type": "execute_result"
    }
   ],
   "source": [
    "'/home/xsa//kdad'.split('/')"
   ]
  },
  {
   "cell_type": "code",
   "execution_count": 12,
   "id": "5fee33a0-3e14-4a96-a794-bcc613649284",
   "metadata": {},
   "outputs": [
    {
     "data": {
      "text/plain": [
       "0"
      ]
     },
     "execution_count": 12,
     "metadata": {},
     "output_type": "execute_result"
    }
   ],
   "source": [
    "int(6 / -132)"
   ]
  },
  {
   "cell_type": "code",
   "execution_count": 14,
   "id": "71ee923a-b79e-41ac-8a2a-58ffd5747350",
   "metadata": {},
   "outputs": [
    {
     "data": {
      "text/plain": [
       "['abc']"
      ]
     },
     "execution_count": 14,
     "metadata": {},
     "output_type": "execute_result"
    }
   ],
   "source": [
    "'abc'.split()"
   ]
  },
  {
   "cell_type": "code",
   "execution_count": 15,
   "id": "81ce97eb-e7c2-4f8e-b342-3cd32ec28ec2",
   "metadata": {},
   "outputs": [
    {
     "data": {
      "text/plain": [
       "0"
      ]
     },
     "execution_count": 15,
     "metadata": {},
     "output_type": "execute_result"
    }
   ],
   "source": [
    "9//10"
   ]
  },
  {
   "cell_type": "code",
   "execution_count": 16,
   "id": "08af6c8e-d068-4d92-8c08-6523b2fb8664",
   "metadata": {},
   "outputs": [
    {
     "data": {
      "text/plain": [
       "[1, 2]"
      ]
     },
     "execution_count": 16,
     "metadata": {},
     "output_type": "execute_result"
    }
   ],
   "source": [
    "[1,2,3][:2]"
   ]
  },
  {
   "cell_type": "code",
   "execution_count": 20,
   "id": "1703e59f-4bd2-4d31-9547-236547898a78",
   "metadata": {},
   "outputs": [
    {
     "data": {
      "text/plain": [
       "[2, 3]"
      ]
     },
     "execution_count": 20,
     "metadata": {},
     "output_type": "execute_result"
    }
   ],
   "source": [
    "[1,2,3,4,5][1:3]"
   ]
  },
  {
   "cell_type": "code",
   "execution_count": null,
   "id": "b0ed9ef7-592a-485f-999b-4dbc9e47f1e1",
   "metadata": {},
   "outputs": [],
   "source": []
  }
 ],
 "metadata": {
  "kernelspec": {
   "display_name": "Python 3 (ipykernel)",
   "language": "python",
   "name": "python3"
  },
  "language_info": {
   "codemirror_mode": {
    "name": "ipython",
    "version": 3
   },
   "file_extension": ".py",
   "mimetype": "text/x-python",
   "name": "python",
   "nbconvert_exporter": "python",
   "pygments_lexer": "ipython3",
   "version": "3.9.16"
  }
 },
 "nbformat": 4,
 "nbformat_minor": 5
}
