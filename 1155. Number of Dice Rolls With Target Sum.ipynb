{
 "cells": [
  {
   "cell_type": "code",
   "execution_count": 1,
   "id": "bf353167-7d6b-42a9-9761-63f2d8796201",
   "metadata": {},
   "outputs": [],
   "source": [
    "class Solution:\n",
    "    def numRollsToTarget(self, n: int, k: int, target: int) -> int:\n",
    "        MOD = 7 + 10 ** 9\n",
    "        if not(target) or not(n):\n",
    "            return 0\n",
    "        \n",
    "        dp = [[0] * max(2,(target+1)) for _ in range(max(2,n+1))]\n",
    "\n",
    "        for i in range(1, min(target+1, k+1)):\n",
    "            dp[1][i] = 1\n",
    "        \n",
    "        for i in range(2,n+1):\n",
    "            for j in range(1,target+1):\n",
    "                for x in reversed(range(1,k+1)):\n",
    "                    if (j - x) > 0:\n",
    "                        dp[i][j] = (dp[i][j] + dp[i-1][j-x]) % MOD\n",
    "        return dp[n][target] % MOD"
   ]
  },
  {
   "cell_type": "code",
   "execution_count": null,
   "id": "a9c6cd15-32a2-4ae5-9f9a-acd2387413eb",
   "metadata": {},
   "outputs": [],
   "source": []
  }
 ],
 "metadata": {
  "kernelspec": {
   "display_name": "Python 3 (ipykernel)",
   "language": "python",
   "name": "python3"
  },
  "language_info": {
   "codemirror_mode": {
    "name": "ipython",
    "version": 3
   },
   "file_extension": ".py",
   "mimetype": "text/x-python",
   "name": "python",
   "nbconvert_exporter": "python",
   "pygments_lexer": "ipython3",
   "version": "3.9.16"
  }
 },
 "nbformat": 4,
 "nbformat_minor": 5
}
