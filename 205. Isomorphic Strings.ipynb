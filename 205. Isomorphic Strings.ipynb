{
 "cells": [
  {
   "cell_type": "code",
   "execution_count": null,
   "id": "2102f37d-f5fa-4889-ade7-a02721b40aa1",
   "metadata": {},
   "outputs": [],
   "source": [
    "class Solution:\n",
    "    def isIsomorphic(self, s: str, t: str) -> bool:\n",
    "        if len(s) != len(t):\n",
    "            return False\n",
    "\n",
    "        dctx = {}\n",
    "        mapped_t = set()\n",
    "\n",
    "        curr_s = s[0]\n",
    "        curr_t = t[0]\n",
    "\n",
    "        for i in range(0,len(s)):\n",
    "            if s[i] not in dctx:\n",
    "                dctx[s[i]] = t[i]\n",
    "                if t[i] in mapped_t:\n",
    "                    return False\n",
    "                mapped_t.add(t[i])\n",
    "            elif dctx[s[i]] != t[i]:\n",
    "                return False\n",
    "\n",
    "        return True\n",
    "\n",
    "        "
   ]
  }
 ],
 "metadata": {
  "kernelspec": {
   "display_name": "Python 3 (ipykernel)",
   "language": "python",
   "name": "python3"
  },
  "language_info": {
   "codemirror_mode": {
    "name": "ipython",
    "version": 3
   },
   "file_extension": ".py",
   "mimetype": "text/x-python",
   "name": "python",
   "nbconvert_exporter": "python",
   "pygments_lexer": "ipython3",
   "version": "3.9.16"
  }
 },
 "nbformat": 4,
 "nbformat_minor": 5
}
