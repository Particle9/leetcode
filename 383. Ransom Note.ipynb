{
 "cells": [
  {
   "cell_type": "code",
   "execution_count": null,
   "id": "c74d1e2c-7f65-4698-a1ec-e8cfa14cb481",
   "metadata": {},
   "outputs": [],
   "source": [
    "class Solution:\n",
    "    def canConstruct(self, ransomNote: str, magazine: str) -> bool:\n",
    "        dct_letter = {}\n",
    "        poss_let = set(magazine)\n",
    "        for w in magazine:\n",
    "            if w in dct_letter:\n",
    "                dct_letter[w] += 1\n",
    "            else:\n",
    "                dct_letter[w] = 1\n",
    "\n",
    "        for x in ransomNote:\n",
    "            if x not in dct_letter:\n",
    "                return False\n",
    "            elif not(dct_letter[x]):\n",
    "                return False\n",
    "            else:\n",
    "                dct_letter[x] -=1\n",
    "        return True\n",
    "        "
   ]
  }
 ],
 "metadata": {
  "kernelspec": {
   "display_name": "Python 3 (ipykernel)",
   "language": "python",
   "name": "python3"
  },
  "language_info": {
   "codemirror_mode": {
    "name": "ipython",
    "version": 3
   },
   "file_extension": ".py",
   "mimetype": "text/x-python",
   "name": "python",
   "nbconvert_exporter": "python",
   "pygments_lexer": "ipython3",
   "version": "3.9.16"
  }
 },
 "nbformat": 4,
 "nbformat_minor": 5
}
