{
 "cells": [
  {
   "cell_type": "code",
   "execution_count": 4,
   "id": "e30a1d0c-a9f3-4411-96af-c103e2b0cc35",
   "metadata": {},
   "outputs": [],
   "source": [
    "from typing import List\n",
    "\n",
    "class Solution:\n",
    "    def firstMissingPositive(self, nums: List[int]) -> int:\n",
    "        maxVal = max(nums)\n",
    "        minVal = min(nums)\n",
    "        if minVal > 1:\n",
    "            return 1\n",
    "        setNum = set(nums)\n",
    "        for i in range(1,maxVal):\n",
    "            if i not in setNum:\n",
    "                return i\n",
    "        return max(1, maxVal + 1)"
   ]
  },
  {
   "cell_type": "code",
   "execution_count": 5,
   "id": "9610bcd9-ccea-4efc-b72d-85929e88a524",
   "metadata": {},
   "outputs": [],
   "source": [
    "sol = Solution()"
   ]
  },
  {
   "cell_type": "code",
   "execution_count": 7,
   "id": "81a5c4a5-feb2-4282-abe0-e609fc79a085",
   "metadata": {},
   "outputs": [
    {
     "data": {
      "text/plain": [
       "2"
      ]
     },
     "execution_count": 7,
     "metadata": {},
     "output_type": "execute_result"
    }
   ],
   "source": [
    "sol.firstMissingPositive([1,7,8,9,11,12])"
   ]
  },
  {
   "cell_type": "code",
   "execution_count": null,
   "id": "078a975c-dc7c-4f14-872e-843f470829f3",
   "metadata": {},
   "outputs": [],
   "source": []
  }
 ],
 "metadata": {
  "kernelspec": {
   "display_name": "Python 3 (ipykernel)",
   "language": "python",
   "name": "python3"
  },
  "language_info": {
   "codemirror_mode": {
    "name": "ipython",
    "version": 3
   },
   "file_extension": ".py",
   "mimetype": "text/x-python",
   "name": "python",
   "nbconvert_exporter": "python",
   "pygments_lexer": "ipython3",
   "version": "3.9.16"
  }
 },
 "nbformat": 4,
 "nbformat_minor": 5
}
