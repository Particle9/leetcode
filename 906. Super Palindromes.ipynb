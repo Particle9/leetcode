{
 "cells": [
  {
   "cell_type": "code",
   "execution_count": null,
   "id": "fcdc5579-9bc3-47f0-a869-07c0b88665b0",
   "metadata": {},
   "outputs": [],
   "source": [
    "class Solution:\n",
    "    def isPalindrome(x):\n",
    "        if len(x) == 1:\n",
    "            return True\n",
    "        elif len(x) == 2:\n",
    "            return x[0] == x[1]\n",
    "        for i in range(0,len(x)//2):\n",
    "            if x[i] != x[n-i-1]:\n",
    "                return False\n",
    "        return True \n",
    "\n",
    "    def getAllPalindromes(start,end):\n",
    "        if len(end) > len(start):\n",
    "            nstart = \"0\" * (len(end)- len(start))\n",
    "        else:\n",
    "            nstart = start\n",
    "        \n",
    "        lst = []\n",
    "        for lst \n",
    "    def superpalindromesInRange(self, left: str, right: str) -> int:\n",
    "\n",
    "\n",
    "        "
   ]
  }
 ],
 "metadata": {
  "kernelspec": {
   "display_name": "Python 3 (ipykernel)",
   "language": "python",
   "name": "python3"
  },
  "language_info": {
   "codemirror_mode": {
    "name": "ipython",
    "version": 3
   },
   "file_extension": ".py",
   "mimetype": "text/x-python",
   "name": "python",
   "nbconvert_exporter": "python",
   "pygments_lexer": "ipython3",
   "version": "3.9.16"
  }
 },
 "nbformat": 4,
 "nbformat_minor": 5
}
