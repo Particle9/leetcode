{
 "cells": [
  {
   "cell_type": "code",
   "execution_count": 2,
   "id": "c92b9b96-0283-4795-bf53-2d6ba7f41729",
   "metadata": {},
   "outputs": [],
   "source": [
    "from typing import List\n",
    "\n",
    "class Solution:\n",
    "    def getOrder(self, curr, graph, recorded, visited):\n",
    "        if curr in visited:\n",
    "            return False, []\n",
    "        elif curr in recorded:\n",
    "            return True, []\n",
    "        \n",
    "        resLst = []\n",
    "        visited.add(curr)\n",
    "        for i in graph[curr]:\n",
    "            isNotCyclic, lst = self.getOrder(i, graph, recorded, visited)\n",
    "            if not(isNotCyclic):\n",
    "                return False, []\n",
    "            resLst += lst\n",
    "        visited.remove(curr)\n",
    "        recorded.add(curr)\n",
    "        resLst += [curr]\n",
    "        return True, resLst\n",
    "\n",
    "\n",
    "    def findOrder(self, numCourses: int, prerequisites: List[List[int]]) -> List[int]:\n",
    "        noReq = set(i for i in range(0,numCourses))\n",
    "        graph = {i:[] for i in range(0,numCourses)}\n",
    "        for t in prerequisites:\n",
    "            x, y = t\n",
    "            graph[x] += [y]\n",
    "            noReq.discard(y)\n",
    "        \n",
    "        resOrder = []\n",
    "        recorded = set()\n",
    "        for i in noReq:\n",
    "            isPossible, order = self.getOrder(i,graph,recorded,set())\n",
    "            if not(isPossible):\n",
    "                return []\n",
    "            resOrder += order\n",
    "        if len(resOrder) < numCourses:\n",
    "            return []\n",
    "        return resOrder"
   ]
  },
  {
   "cell_type": "code",
   "execution_count": 3,
   "id": "d546175d-f457-4b9c-ba9f-ef635cee8325",
   "metadata": {},
   "outputs": [],
   "source": [
    "sol = Solution()"
   ]
  },
  {
   "cell_type": "code",
   "execution_count": 5,
   "id": "646971f8-ce20-4b0c-ba4b-4714fb592332",
   "metadata": {},
   "outputs": [
    {
     "data": {
      "text/plain": [
       "[0, 1, 2, 3]"
      ]
     },
     "execution_count": 5,
     "metadata": {},
     "output_type": "execute_result"
    }
   ],
   "source": [
    "sol.findOrder(4, [[1,0],[2,0],[3,1],[3,2]])"
   ]
  },
  {
   "cell_type": "code",
   "execution_count": null,
   "id": "64fca311-e2cd-45b7-b283-df5ab66685d9",
   "metadata": {},
   "outputs": [],
   "source": []
  }
 ],
 "metadata": {
  "kernelspec": {
   "display_name": "Python 3 (ipykernel)",
   "language": "python",
   "name": "python3"
  },
  "language_info": {
   "codemirror_mode": {
    "name": "ipython",
    "version": 3
   },
   "file_extension": ".py",
   "mimetype": "text/x-python",
   "name": "python",
   "nbconvert_exporter": "python",
   "pygments_lexer": "ipython3",
   "version": "3.9.16"
  }
 },
 "nbformat": 4,
 "nbformat_minor": 5
}
