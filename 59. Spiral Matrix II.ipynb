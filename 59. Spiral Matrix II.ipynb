{
 "cells": [
  {
   "cell_type": "code",
   "execution_count": 1,
   "id": "00508315-a734-4f4f-9965-320dddccc15a",
   "metadata": {},
   "outputs": [],
   "source": [
    "from typing import List\n",
    "\n",
    "\n",
    "class Solution:\n",
    "    def generateMatrix(self, n: int) -> List[List[int]]:\n",
    "        tab = [[0] * n for _ in range(0,n)]\n",
    "        i, j = 0, 0\n",
    "        directions = [(0,1), (1,0), (0,-1), (-1,0)]\n",
    "        d = 0\n",
    "        visited = set()\n",
    "        for k in range(0,n*n):\n",
    "            tab[i][j] = k+1\n",
    "            visited.add((i,j))\n",
    "            di,dj = directions[d]\n",
    "            if i + di >= n or j + dj >= n or i + di < 0 or j + dj < 0 or (i+di, j+dj) in visited:\n",
    "                d = (d + 1) % 4\n",
    "                di,dj = directions[d]\n",
    "            i += di\n",
    "            j += dj\n",
    "        return tab\n",
    "\n",
    "            \n",
    "\n",
    "        "
   ]
  },
  {
   "cell_type": "code",
   "execution_count": null,
   "id": "61ac1ea1-8fae-495e-9e59-50f40baf3487",
   "metadata": {},
   "outputs": [],
   "source": []
  }
 ],
 "metadata": {
  "kernelspec": {
   "display_name": "Python 3 (ipykernel)",
   "language": "python",
   "name": "python3"
  },
  "language_info": {
   "codemirror_mode": {
    "name": "ipython",
    "version": 3
   },
   "file_extension": ".py",
   "mimetype": "text/x-python",
   "name": "python",
   "nbconvert_exporter": "python",
   "pygments_lexer": "ipython3",
   "version": "3.9.16"
  }
 },
 "nbformat": 4,
 "nbformat_minor": 5
}
