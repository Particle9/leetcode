{
 "cells": [
  {
   "cell_type": "code",
   "execution_count": 1,
   "id": "b26e3a1a-2314-4fff-8651-2d97faf7538a",
   "metadata": {},
   "outputs": [],
   "source": [
    "class Node:\n",
    "    def __init__(self, val: int = 0, left: 'Node' = None, right: 'Node' = None, next: 'Node' = None):\n",
    "        self.val = val\n",
    "        self.left = left\n",
    "        self.right = right\n",
    "        self.next = next"
   ]
  },
  {
   "cell_type": "code",
   "execution_count": 2,
   "id": "f9a90c03-2d34-4378-b6c1-e20138d66113",
   "metadata": {},
   "outputs": [],
   "source": [
    "class Solution:\n",
    "    def connect(self, root: 'Node') -> 'Node':\n",
    "        tree_stack = [[root]]\n",
    "        while tree_stack:\n",
    "            tl = tree_stack.pop(0)\n",
    "            node_level_lst = []\n",
    "            for i in range(0,len(tl)):\n",
    "                if tl[i]:\n",
    "                    for j in range(i+1, len(tl)):\n",
    "                        if tl[j]:\n",
    "                            tl[i].next = tl[j]\n",
    "                            break\n",
    "                    node_level_lst += [tl[i].left, tl[i].right]\n",
    "            if node_level_lst:\n",
    "                tree_stack += [node_level_lst]\n",
    "        return root\n",
    "        "
   ]
  },
  {
   "cell_type": "code",
   "execution_count": null,
   "id": "2a954ac6-6c9f-4f93-b043-e3f6540f9206",
   "metadata": {},
   "outputs": [],
   "source": []
  }
 ],
 "metadata": {
  "kernelspec": {
   "display_name": "Python 3 (ipykernel)",
   "language": "python",
   "name": "python3"
  },
  "language_info": {
   "codemirror_mode": {
    "name": "ipython",
    "version": 3
   },
   "file_extension": ".py",
   "mimetype": "text/x-python",
   "name": "python",
   "nbconvert_exporter": "python",
   "pygments_lexer": "ipython3",
   "version": "3.9.16"
  }
 },
 "nbformat": 4,
 "nbformat_minor": 5
}
