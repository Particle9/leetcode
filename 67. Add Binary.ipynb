{
 "cells": [
  {
   "cell_type": "code",
   "execution_count": 1,
   "id": "8845eea8-29e0-45af-bc70-73024f12fb91",
   "metadata": {},
   "outputs": [],
   "source": [
    "class Solution:\n",
    "    def addBinary(self, a: str, b: str) -> str:\n",
    "        int_a = int(a)\n",
    "        int_b = int(b)\n",
    "        c = str(int_a+int_b)\n",
    "\n",
    "        res = \"\"\n",
    "        prev = \"0\"\n",
    "        for x in reversed(c):\n",
    "            if x == \"0\":\n",
    "                res = prev + res\n",
    "                prev = \"0\"\n",
    "            elif x == \"2\":\n",
    "                res = prev + res\n",
    "                prev = \"1\"\n",
    "            elif prev == \"0\":\n",
    "                res = x + res\n",
    "                prev = \"0\"\n",
    "            else:\n",
    "                res = \"0\" + res\n",
    "                prev = \"1\"\n",
    "        if prev == \"1\":\n",
    "            res = prev + res\n",
    "        return res"
   ]
  },
  {
   "cell_type": "code",
   "execution_count": null,
   "id": "d531b1b8-fecc-4a96-b658-4abbfe32f7e8",
   "metadata": {},
   "outputs": [],
   "source": []
  }
 ],
 "metadata": {
  "kernelspec": {
   "display_name": "Python 3 (ipykernel)",
   "language": "python",
   "name": "python3"
  },
  "language_info": {
   "codemirror_mode": {
    "name": "ipython",
    "version": 3
   },
   "file_extension": ".py",
   "mimetype": "text/x-python",
   "name": "python",
   "nbconvert_exporter": "python",
   "pygments_lexer": "ipython3",
   "version": "3.9.16"
  }
 },
 "nbformat": 4,
 "nbformat_minor": 5
}
