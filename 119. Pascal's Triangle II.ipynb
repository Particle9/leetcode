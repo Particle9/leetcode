{
 "cells": [
  {
   "cell_type": "code",
   "execution_count": 2,
   "id": "b27bdd6b-40fd-4d50-b813-60d1fd7fee3f",
   "metadata": {},
   "outputs": [],
   "source": [
    "from typing import List\n",
    "\n",
    "class Solution:\n",
    "    def getRow(self, rowIndex: int) -> List[int]:\n",
    "        if rowIndex == 0:\n",
    "            return [1]\n",
    "        dp = [[] for _ in range(rowIndex+1)]\n",
    "        dp[0] = [1]\n",
    "        dp[1] = [1,1]\n",
    "\n",
    "        for i in range(2,rowIndex+1):\n",
    "            lvlLst = [1]\n",
    "            for j in range(0,i-1):\n",
    "                lvlLst += [dp[i-1][j] + dp[i-1][j+1]]\n",
    "            lvlLst += [1]\n",
    "            dp[i] = lvlLst\n",
    "        return dp[rowIndex]\n",
    "        "
   ]
  },
  {
   "cell_type": "code",
   "execution_count": null,
   "id": "dd1bb393-a12c-4550-9547-9e036c8a8924",
   "metadata": {},
   "outputs": [],
   "source": []
  }
 ],
 "metadata": {
  "kernelspec": {
   "display_name": "Python 3 (ipykernel)",
   "language": "python",
   "name": "python3"
  },
  "language_info": {
   "codemirror_mode": {
    "name": "ipython",
    "version": 3
   },
   "file_extension": ".py",
   "mimetype": "text/x-python",
   "name": "python",
   "nbconvert_exporter": "python",
   "pygments_lexer": "ipython3",
   "version": "3.9.16"
  }
 },
 "nbformat": 4,
 "nbformat_minor": 5
}
