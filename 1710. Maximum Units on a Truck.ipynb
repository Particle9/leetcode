{
 "cells": [
  {
   "cell_type": "code",
   "execution_count": 1,
   "id": "5e87f293-4d72-4d00-a901-4395b3004521",
   "metadata": {},
   "outputs": [],
   "source": [
    "from typing import List\n",
    "class Solution:\n",
    "    def maximumUnits(self, boxTypes: List[List[int]], truckSize: int) -> int:\n",
    "        sortedBox = sorted(boxTypes, key= lambda x: x[1], reverse = True)\n",
    "        resUnit = 0\n",
    "        remainTruck = truckSize\n",
    "        for x in sortedBox:\n",
    "            resUnit += min(remainTruck, x[0]) * x[1]\n",
    "            remainTruck -= x[0]\n",
    "            if remainTruck < 0:\n",
    "                break\n",
    "        return resUnit"
   ]
  },
  {
   "cell_type": "code",
   "execution_count": null,
   "id": "411af96e-e124-4b56-a2e1-552798d57f90",
   "metadata": {},
   "outputs": [],
   "source": []
  }
 ],
 "metadata": {
  "kernelspec": {
   "display_name": "Python 3 (ipykernel)",
   "language": "python",
   "name": "python3"
  },
  "language_info": {
   "codemirror_mode": {
    "name": "ipython",
    "version": 3
   },
   "file_extension": ".py",
   "mimetype": "text/x-python",
   "name": "python",
   "nbconvert_exporter": "python",
   "pygments_lexer": "ipython3",
   "version": "3.9.16"
  }
 },
 "nbformat": 4,
 "nbformat_minor": 5
}
