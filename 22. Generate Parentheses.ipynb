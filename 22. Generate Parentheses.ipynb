{
 "cells": [
  {
   "cell_type": "code",
   "execution_count": null,
   "id": "5a6bac59-4a67-4743-aefb-fba1e7972afb",
   "metadata": {},
   "outputs": [],
   "source": [
    "class Solution:\n",
    "    def generateParenthesis(self, n: int) -> List[str]:\n",
    "        stack = [(\"\",0,0)]\n",
    "        lstOut = []\n",
    "        while stack:\n",
    "            s, left,right = stack.pop()\n",
    "            if left == n and right == n:\n",
    "                lstOut += [s]\n",
    "            else:\n",
    "                if left < n:\n",
    "                    stack += [(s + \"(\", left+1, right)]\n",
    "                if right < left:\n",
    "                    stack += [(s + \")\", left, right+1)]\n",
    "            \n",
    "        return lstOut"
   ]
  }
 ],
 "metadata": {
  "kernelspec": {
   "display_name": "Python 3 (ipykernel)",
   "language": "python",
   "name": "python3"
  },
  "language_info": {
   "codemirror_mode": {
    "name": "ipython",
    "version": 3
   },
   "file_extension": ".py",
   "mimetype": "text/x-python",
   "name": "python",
   "nbconvert_exporter": "python",
   "pygments_lexer": "ipython3",
   "version": "3.9.16"
  }
 },
 "nbformat": 4,
 "nbformat_minor": 5
}
