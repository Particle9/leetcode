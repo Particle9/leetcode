{
 "cells": [
  {
   "cell_type": "code",
   "execution_count": null,
   "id": "2e92a158-919d-4258-82fc-b035ca9ce263",
   "metadata": {},
   "outputs": [],
   "source": [
    "class Solution:\n",
    "    def visitNotSurrounded(self,i, j, board, visited):\n",
    "        if i >= len(board) or i < 0:\n",
    "            return []\n",
    "        elif j >= len(board[0]) or j < 0:\n",
    "            return []\n",
    "        elif board[i][j] == 'X':\n",
    "            return []\n",
    "        \n",
    "        visited.add((i,j))\n",
    "        directions = [(i+1, j), (i, j+1), (i-1, j), (i, j-1)]\n",
    "        m,n = len(board), len(board[0])\n",
    "        lst = [(i,j)]\n",
    "        for x in directions:\n",
    "            ix,jx = x\n",
    "            if (ix,jx) not in visited:\n",
    "                lst += self.visitNotSurrounded(ix,jx, board, visited)\n",
    "        \n",
    "        return lst\n",
    "        \n",
    "    def solve(self, board: List[List[str]]) -> None:\n",
    "        \"\"\"\n",
    "        Do not return anything, modify board in-place instead.\n",
    "        \"\"\"\n",
    "        visited = set()\n",
    "        lst = []\n",
    "        for i in [0, len(board)-1]:\n",
    "            for j in range(0,len(board[0])):\n",
    "                if board[i][j] == 'O':\n",
    "                    lst += self.visitNotSurrounded(i,j,board,visited)\n",
    "        \n",
    "        for j in [0, len(board[0])-1]:\n",
    "            for i in range(0,len(board)):\n",
    "                if board[i][j] == 'O':\n",
    "                    lst += self.visitNotSurrounded(i,j,board,visited)\n",
    "        \n",
    "        notSurrounded = set(lst)\n",
    "\n",
    "        for i in range(1,len(board)-1):\n",
    "            for j in range(1,len(board[0])-1):\n",
    "                if (i,j) not in notSurrounded:\n",
    "                    board[i][j] = 'X'\n"
   ]
  }
 ],
 "metadata": {
  "kernelspec": {
   "display_name": "Python 3 (ipykernel)",
   "language": "python",
   "name": "python3"
  },
  "language_info": {
   "codemirror_mode": {
    "name": "ipython",
    "version": 3
   },
   "file_extension": ".py",
   "mimetype": "text/x-python",
   "name": "python",
   "nbconvert_exporter": "python",
   "pygments_lexer": "ipython3",
   "version": "3.9.16"
  }
 },
 "nbformat": 4,
 "nbformat_minor": 5
}
