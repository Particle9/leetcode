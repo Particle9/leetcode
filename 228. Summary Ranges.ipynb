{
 "cells": [
  {
   "cell_type": "code",
   "execution_count": null,
   "id": "d1d27400-ae49-4072-bb5e-9109daf9a97f",
   "metadata": {},
   "outputs": [],
   "source": [
    "class Solution:\n",
    "    def summaryRanges(self, nums: List[int]) -> List[str]:\n",
    "        if not(nums):\n",
    "            return nums\n",
    "\n",
    "        x_start = nums[0]\n",
    "        x_end = nums[0]\n",
    "        lst = []\n",
    "        for i in range(1,len(nums)):\n",
    "            if nums[i] - x_end == 1:\n",
    "                x_end = nums[i]\n",
    "            else:\n",
    "                lst += [(x_start,x_end)]\n",
    "                x_start = nums[i]\n",
    "                x_end = nums[i]\n",
    "\n",
    "        lst += [(x_start,x_end)]\n",
    "\n",
    "        lst_s = []\n",
    "        for x, y in lst:\n",
    "            if x == y:\n",
    "                lst_s += [str(x)]\n",
    "            else:\n",
    "                lst_s += [str(x) + '->' + str(y)]\n",
    "        \n",
    "        return lst_s"
   ]
  }
 ],
 "metadata": {
  "kernelspec": {
   "display_name": "Python 3 (ipykernel)",
   "language": "python",
   "name": "python3"
  },
  "language_info": {
   "codemirror_mode": {
    "name": "ipython",
    "version": 3
   },
   "file_extension": ".py",
   "mimetype": "text/x-python",
   "name": "python",
   "nbconvert_exporter": "python",
   "pygments_lexer": "ipython3",
   "version": "3.9.16"
  }
 },
 "nbformat": 4,
 "nbformat_minor": 5
}
