{
 "cells": [
  {
   "cell_type": "code",
   "execution_count": null,
   "id": "37519ec5-10fd-47b8-87b8-5ba53d6b7a6b",
   "metadata": {},
   "outputs": [],
   "source": [
    "# Definition for a binary tree node.\n",
    "class TreeNode:\n",
    "    def __init__(self, val=0, left=None, right=None):\n",
    "        self.val = val\n",
    "        self.left = left\n",
    "        self.right = right\n",
    "class Solution:\n",
    "    def sortedArrayToBST(self, nums: List[int]) -> Optional[TreeNode]:\n",
    "        if not(nums):\n",
    "            return None\n",
    "        elif len(nums) == 1:\n",
    "            return TreeNode(val=nums[0])\n",
    "        \n",
    "        mid_i = len(nums) // 2\n",
    "        mid_val = nums[mid_i]\n",
    "        leftTree = self.sortedArrayToBST(nums[:mid_i])\n",
    "        rightTree = self.sortedArrayToBST(nums[mid_i + 1:])\n",
    "        return TreeNode(val = mid_val, left = leftTree, right = rightTree)\n",
    "        "
   ]
  }
 ],
 "metadata": {
  "kernelspec": {
   "display_name": "Python 3 (ipykernel)",
   "language": "python",
   "name": "python3"
  },
  "language_info": {
   "codemirror_mode": {
    "name": "ipython",
    "version": 3
   },
   "file_extension": ".py",
   "mimetype": "text/x-python",
   "name": "python",
   "nbconvert_exporter": "python",
   "pygments_lexer": "ipython3",
   "version": "3.9.16"
  }
 },
 "nbformat": 4,
 "nbformat_minor": 5
}
