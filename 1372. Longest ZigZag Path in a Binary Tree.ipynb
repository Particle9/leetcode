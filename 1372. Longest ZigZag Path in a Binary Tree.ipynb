{
 "cells": [
  {
   "cell_type": "code",
   "execution_count": 2,
   "id": "df340331-2b74-45c0-8ebc-8c0dbd4a9cf4",
   "metadata": {},
   "outputs": [],
   "source": [
    "from typing import Optional\n",
    "\n",
    "\n",
    "# Definition for a binary tree node.\n",
    "class TreeNode:\n",
    "    def __init__(self, val=0, left=None, right=None):\n",
    "        self.val = val\n",
    "        self.left = left\n",
    "        self.right = right\n",
    "class Solution:\n",
    "    def getZigZag(self, node, direction, currLen):\n",
    "        if not(node):\n",
    "            return 0\n",
    "        \n",
    "        self.maxZigZag = max(self.maxZigZag, currLen)\n",
    "\n",
    "        left = self.getZigZag(node.left,'r', currLen + 1 if direction == 'l' else 1)\n",
    "        right = self.getZigZag(node.right,'l', currLen + 1 if direction == 'r' else 1)\n",
    "        return max(left, right)\n",
    "    def longestZigZag(self, root: Optional[TreeNode]) -> int:\n",
    "        self.maxZigZag = 0\n",
    "        self.getZigZag(root, '', 0)\n",
    "        return self.maxZigZag\n",
    "        "
   ]
  },
  {
   "cell_type": "code",
   "execution_count": null,
   "id": "65fdc153-0363-4bf9-8cb1-1520aeda2c36",
   "metadata": {},
   "outputs": [],
   "source": []
  }
 ],
 "metadata": {
  "kernelspec": {
   "display_name": "Python 3 (ipykernel)",
   "language": "python",
   "name": "python3"
  },
  "language_info": {
   "codemirror_mode": {
    "name": "ipython",
    "version": 3
   },
   "file_extension": ".py",
   "mimetype": "text/x-python",
   "name": "python",
   "nbconvert_exporter": "python",
   "pygments_lexer": "ipython3",
   "version": "3.9.16"
  }
 },
 "nbformat": 4,
 "nbformat_minor": 5
}
