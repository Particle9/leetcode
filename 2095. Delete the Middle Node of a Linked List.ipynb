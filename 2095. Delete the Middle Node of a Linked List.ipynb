{
 "cells": [
  {
   "cell_type": "code",
   "execution_count": 1,
   "id": "fd6831c9-86dc-4db3-b2b8-5e77f0788d28",
   "metadata": {},
   "outputs": [],
   "source": [
    "from typing import List, Optional\n",
    "\n",
    "# Definition for singly-linked list.\n",
    "class ListNode:\n",
    "    def __init__(self, val=0, next=None):\n",
    "        self.val = val\n",
    "        self.next = next\n",
    "class Solution:\n",
    "    def deleteMiddle(self, head: Optional[ListNode]) -> Optional[ListNode]:\n",
    "        if not(head):\n",
    "            return None\n",
    "        elif not(head.next):\n",
    "            return None\n",
    "        linkListLength = 0\n",
    "        currNode = head\n",
    "        while currNode:\n",
    "            currNode = currNode.next\n",
    "            linkListLength += 1\n",
    "        \n",
    "        ind = linkListLength//2- 1\n",
    "        currNode = head\n",
    "        while currNode and ind:\n",
    "            ind -= 1\n",
    "            currNode = currNode.next\n",
    "        currNode.next = currNode.next.next\n",
    "\n",
    "        return head        "
   ]
  },
  {
   "cell_type": "code",
   "execution_count": null,
   "id": "32878c6e-b1a0-431e-b8d2-98dea404388a",
   "metadata": {},
   "outputs": [],
   "source": []
  }
 ],
 "metadata": {
  "kernelspec": {
   "display_name": "Python 3 (ipykernel)",
   "language": "python",
   "name": "python3"
  },
  "language_info": {
   "codemirror_mode": {
    "name": "ipython",
    "version": 3
   },
   "file_extension": ".py",
   "mimetype": "text/x-python",
   "name": "python",
   "nbconvert_exporter": "python",
   "pygments_lexer": "ipython3",
   "version": "3.9.16"
  }
 },
 "nbformat": 4,
 "nbformat_minor": 5
}
