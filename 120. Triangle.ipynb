{
 "cells": [
  {
   "cell_type": "code",
   "execution_count": 2,
   "id": "0de82e6f-967a-463d-a864-99eafc0b1274",
   "metadata": {},
   "outputs": [],
   "source": [
    "from typing import Optional, List\n",
    "\n",
    "\n",
    "class Solution:\n",
    "    def printMat(self, mtrx):\n",
    "        for lx in mtrx:\n",
    "            print(lx)\n",
    "\n",
    "    def minimumTotal(self, triangle: List[List[int]]) -> int:\n",
    "        height = len(triangle)\n",
    "        dp = [[1000000] * (ih+2) for ih in range(0,height+2)]\n",
    "        dp[0][0] = triangle[0][0]\n",
    "\n",
    "        for i in range(0,height):\n",
    "            if i+1 < height:\n",
    "                for j in range(0,i+1):\n",
    "                    dp[i+1][j] = min(dp[i][j] + triangle[i+1][j], dp[i+1][j])\n",
    "                    dp[i+1][j+1] = min(dp[i][j] + triangle[i+1][j+1], dp[i+1][j+1])\n",
    "            \n",
    "        return min(dp[height-1])\n",
    "        "
   ]
  },
  {
   "cell_type": "code",
   "execution_count": null,
   "id": "ccf7726d-7434-4a20-b0fb-70326fdfe2e2",
   "metadata": {},
   "outputs": [],
   "source": []
  }
 ],
 "metadata": {
  "kernelspec": {
   "display_name": "Python 3 (ipykernel)",
   "language": "python",
   "name": "python3"
  },
  "language_info": {
   "codemirror_mode": {
    "name": "ipython",
    "version": 3
   },
   "file_extension": ".py",
   "mimetype": "text/x-python",
   "name": "python",
   "nbconvert_exporter": "python",
   "pygments_lexer": "ipython3",
   "version": "3.9.16"
  }
 },
 "nbformat": 4,
 "nbformat_minor": 5
}
