{
 "cells": [
  {
   "cell_type": "code",
   "execution_count": 3,
   "id": "0de82e6f-967a-463d-a864-99eafc0b1274",
   "metadata": {},
   "outputs": [],
   "source": [
    "from typing import Optional, List\n",
    "\n",
    "\n",
    "class Solution:\n",
    "    def printMat(self, mtrx):\n",
    "        for lx in mtrx:\n",
    "            print(lx)\n",
    "\n",
    "    def minimumTotal(self, triangle: List[List[int]]) -> int:\n",
    "        height = len(triangle)\n",
    "        dp = [[1000000] * (ih+2) for ih in range(0,height+2)]\n",
    "        dp[0][0] = triangle[0][0]\n",
    "\n",
    "        for i in range(0,height):\n",
    "            if i+1 < height:\n",
    "                for j in range(0,i+1):\n",
    "                    dp[i+1][j] = min(dp[i][j] + triangle[i+1][j], dp[i+1][j])\n",
    "                    dp[i+1][j+1] = min(dp[i][j] + triangle[i+1][j+1], dp[i+1][j+1])\n",
    "            \n",
    "        return min(dp[height-1])\n",
    "        "
   ]
  },
  {
   "cell_type": "code",
   "execution_count": null,
   "id": "ccf7726d-7434-4a20-b0fb-70326fdfe2e2",
   "metadata": {},
   "outputs": [],
   "source": []
  },
  {
   "cell_type": "code",
   "execution_count": 4,
   "id": "1d6bcdb7-25cd-4d32-8f6b-920bc838864f",
   "metadata": {},
   "outputs": [],
   "source": [
    "sol = Solution()"
   ]
  },
  {
   "cell_type": "code",
   "execution_count": 5,
   "id": "a41cc483-f488-403d-85f3-86bfcc87bdbd",
   "metadata": {},
   "outputs": [
    {
     "data": {
      "text/plain": [
       "11"
      ]
     },
     "execution_count": 5,
     "metadata": {},
     "output_type": "execute_result"
    }
   ],
   "source": [
    "sol.minimumTotal([[2],[3,4],[6,5,7],[4,1,8,3]])"
   ]
  },
  {
   "cell_type": "code",
   "execution_count": 6,
   "id": "efa03ffa-66cc-487c-82d5-7d2a05fc7381",
   "metadata": {},
   "outputs": [
    {
     "data": {
      "text/plain": [
       "-10"
      ]
     },
     "execution_count": 6,
     "metadata": {},
     "output_type": "execute_result"
    }
   ],
   "source": [
    "sol.minimumTotal([[-10]])"
   ]
  },
  {
   "cell_type": "code",
   "execution_count": null,
   "id": "185f2e9a-2e66-41a6-86f9-4510988e7969",
   "metadata": {},
   "outputs": [],
   "source": []
  }
 ],
 "metadata": {
  "kernelspec": {
   "display_name": "Python 3 (ipykernel)",
   "language": "python",
   "name": "python3"
  },
  "language_info": {
   "codemirror_mode": {
    "name": "ipython",
    "version": 3
   },
   "file_extension": ".py",
   "mimetype": "text/x-python",
   "name": "python",
   "nbconvert_exporter": "python",
   "pygments_lexer": "ipython3",
   "version": "3.9.16"
  }
 },
 "nbformat": 4,
 "nbformat_minor": 5
}
