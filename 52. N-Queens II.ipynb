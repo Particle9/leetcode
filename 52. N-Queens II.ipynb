{
 "cells": [
  {
   "cell_type": "code",
   "execution_count": null,
   "id": "c3d1a049-828d-456f-b040-baf4f94e3200",
   "metadata": {},
   "outputs": [],
   "source": [
    "class Solution:\n",
    "    def isCoorValid(self, qCoor, currQueens):\n",
    "        q1, q2 = qCoor \n",
    "        for t1,t2 in currQueens:\n",
    "            if q1 == t1:\n",
    "                return False\n",
    "            if q2 == t2:\n",
    "                return False\n",
    "            if abs(q2-t2) == abs(q1-t1):\n",
    "                return False\n",
    "        return True\n",
    "\n",
    "    def nQueensRecurse(self, qi, k, currQueens):\n",
    "        if qi >= k:\n",
    "            return 1\n",
    "        \n",
    "        sumPoss = 0\n",
    "        for j in range(0, k):\n",
    "            qCoor = (qi, j)\n",
    "            if self.isCoorValid(qCoor, currQueens):\n",
    "                nextQueenCoors = self.nQueensRecurse(qi + 1, k, currQueens + [qCoor])\n",
    "                sumPoss += nextQueenCoors\n",
    "        return sumPoss\n",
    "\n",
    "    \n",
    "    def nQueensStack(self,n):\n",
    "        stack = [(0,[])]\n",
    "        sumPoss = 0\n",
    "        while stack:\n",
    "            qi, currQueens = stack.pop()\n",
    "            if qi >= n :\n",
    "                sumPoss += 1\n",
    "            else:\n",
    "                for j in range(0,n):\n",
    "                    qCoor = (qi,j)\n",
    "                    if self.isCoorValid(qCoor, currQueens):\n",
    "                        stack += [(qi+1, currQueens + [qCoor])]\n",
    "        return sumPoss\n",
    "\n",
    "\n",
    "    def totalNQueens(self, n: int) -> List[List[str]]:\n",
    "        # nQueen = self.nQueensRecurse(0,n,[])\n",
    "        nQueen = self.nQueensStack(n)\n",
    "        return nQueen"
   ]
  }
 ],
 "metadata": {
  "kernelspec": {
   "display_name": "Python 3 (ipykernel)",
   "language": "python",
   "name": "python3"
  },
  "language_info": {
   "codemirror_mode": {
    "name": "ipython",
    "version": 3
   },
   "file_extension": ".py",
   "mimetype": "text/x-python",
   "name": "python",
   "nbconvert_exporter": "python",
   "pygments_lexer": "ipython3",
   "version": "3.9.16"
  }
 },
 "nbformat": 4,
 "nbformat_minor": 5
}
