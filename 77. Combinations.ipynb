{
 "cells": [
  {
   "cell_type": "code",
   "execution_count": null,
   "id": "ddbf622e-2c50-47aa-9de4-fb7a906ca141",
   "metadata": {},
   "outputs": [],
   "source": [
    "class Solution:\n",
    "    def combineRecurse(self, rangeLst, k):\n",
    "        if not(k):\n",
    "            return []\n",
    "        elif k == 1:\n",
    "            return [[x] for x in rangeLst]\n",
    "\n",
    "        possLst =[]\n",
    "        for i in range(0,len(rangeLst)):\n",
    "            prevPoss = self.combineRecurse(rangeLst[i+1:], k-1)\n",
    "            for lv in prevPoss:\n",
    "                possLst += [[rangeLst[i]] + lv]\n",
    "            \n",
    "        return possLst\n",
    "\n",
    "    def combine(self, n: int, k: int) -> List[List[int]]:\n",
    "        rangeLst = list(range(1,n+1))\n",
    "        return self.combineRecurse(rangeLst, k)"
   ]
  }
 ],
 "metadata": {
  "kernelspec": {
   "display_name": "Python 3 (ipykernel)",
   "language": "python",
   "name": "python3"
  },
  "language_info": {
   "codemirror_mode": {
    "name": "ipython",
    "version": 3
   },
   "file_extension": ".py",
   "mimetype": "text/x-python",
   "name": "python",
   "nbconvert_exporter": "python",
   "pygments_lexer": "ipython3",
   "version": "3.9.16"
  }
 },
 "nbformat": 4,
 "nbformat_minor": 5
}
