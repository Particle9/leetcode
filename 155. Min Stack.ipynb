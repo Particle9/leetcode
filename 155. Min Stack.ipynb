{
 "cells": [
  {
   "cell_type": "code",
   "execution_count": null,
   "id": "64be0c18-b9fd-4cf9-b670-96486c11d2eb",
   "metadata": {},
   "outputs": [],
   "source": [
    "class MinStack:\n",
    "\n",
    "    def __init__(self):\n",
    "        self.stack = []\n",
    "        self.minStack = []\n",
    "        \n",
    "\n",
    "    def push(self, val: int) -> None:\n",
    "        self.stack += [val]\n",
    "        if not(self.minStack):\n",
    "            self.minStack += [val]\n",
    "        elif val <= self.minStack[-1]:\n",
    "            self.minStack += [val]\n",
    "        else:\n",
    "            self.minStack = [val] + self.minStack\n",
    "\n",
    "        \n",
    "\n",
    "    def pop(self) -> None:\n",
    "        val = self.stack.pop()\n",
    "        if val == self.minStack[-1]:\n",
    "            self.minStack.pop()\n",
    "        \n",
    "\n",
    "    def top(self) -> int:\n",
    "        return self.stack[-1]\n",
    "        \n",
    "\n",
    "    def getMin(self) -> int:\n",
    "        return self.minStack[-1]\n",
    "        "
   ]
  }
 ],
 "metadata": {
  "kernelspec": {
   "display_name": "Python 3 (ipykernel)",
   "language": "python",
   "name": "python3"
  },
  "language_info": {
   "codemirror_mode": {
    "name": "ipython",
    "version": 3
   },
   "file_extension": ".py",
   "mimetype": "text/x-python",
   "name": "python",
   "nbconvert_exporter": "python",
   "pygments_lexer": "ipython3",
   "version": "3.9.16"
  }
 },
 "nbformat": 4,
 "nbformat_minor": 5
}
