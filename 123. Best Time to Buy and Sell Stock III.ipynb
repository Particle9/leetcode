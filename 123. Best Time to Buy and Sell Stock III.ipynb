{
 "cells": [
  {
   "cell_type": "code",
   "execution_count": 1,
   "id": "b6df5baf-aa23-4c70-b601-7403604b2ebb",
   "metadata": {},
   "outputs": [],
   "source": [
    "from typing import Optional, List\n",
    "\n",
    "\n",
    "class Solution:\n",
    "\n",
    "    def maxProfit(self, prices: List[int]) -> int:\n",
    "        days = len(prices)\n",
    "        steps = 4\n",
    "        dp = [[0] * (days+2) for x in range(0,steps+2)]\n",
    "        for i in range(0,steps+1):\n",
    "            for j in range(1,days+1):\n",
    "                if i % 2 == 1:\n",
    "                    change = prices[j-1]\n",
    "                else:\n",
    "                    change = -prices[j-1]\n",
    "                    \n",
    "                dp[i+1][j] = dp[i][j] + change\n",
    "                dp[i][j+1] = max(dp[i][j+1], dp[i][j])\n",
    "                \n",
    "        return dp[steps][days]"
   ]
  },
  {
   "cell_type": "code",
   "execution_count": null,
   "id": "935c38c8-e49f-4404-ab8f-dfec20116f0e",
   "metadata": {},
   "outputs": [],
   "source": []
  }
 ],
 "metadata": {
  "kernelspec": {
   "display_name": "Python 3 (ipykernel)",
   "language": "python",
   "name": "python3"
  },
  "language_info": {
   "codemirror_mode": {
    "name": "ipython",
    "version": 3
   },
   "file_extension": ".py",
   "mimetype": "text/x-python",
   "name": "python",
   "nbconvert_exporter": "python",
   "pygments_lexer": "ipython3",
   "version": "3.9.16"
  }
 },
 "nbformat": 4,
 "nbformat_minor": 5
}
