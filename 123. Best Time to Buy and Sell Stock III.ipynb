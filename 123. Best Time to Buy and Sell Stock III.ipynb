{
 "cells": [
  {
   "cell_type": "code",
   "execution_count": 1,
   "id": "b6df5baf-aa23-4c70-b601-7403604b2ebb",
   "metadata": {},
   "outputs": [],
   "source": [
    "from typing import Optional, List\n",
    "\n",
    "\n",
    "class Solution:\n",
    "\n",
    "    def maxProfit(self, prices: List[int]) -> int:\n",
    "        days = len(prices)\n",
    "        steps = 4\n",
    "        dp = [[0] * (days+2) for x in range(0,steps+2)]\n",
    "        for i in range(0,steps+1):\n",
    "            for j in range(1,days+1):\n",
    "                if i % 2 == 1:\n",
    "                    change = prices[j-1]\n",
    "                else:\n",
    "                    change = -prices[j-1]\n",
    "                    \n",
    "                dp[i+1][j] = dp[i][j] + change\n",
    "                dp[i][j+1] = max(dp[i][j+1], dp[i][j])\n",
    "                \n",
    "        return dp[steps][days]"
   ]
  },
  {
   "cell_type": "code",
   "execution_count": null,
   "id": "935c38c8-e49f-4404-ab8f-dfec20116f0e",
   "metadata": {},
   "outputs": [],
   "source": []
  },
  {
   "cell_type": "code",
   "execution_count": 2,
   "id": "2edb9d62-ceca-4a84-ba61-07db2f8d5678",
   "metadata": {},
   "outputs": [],
   "source": [
    "sol = Solution()"
   ]
  },
  {
   "cell_type": "code",
   "execution_count": 3,
   "id": "7bcfc781-7597-4a5e-822f-471dde7da839",
   "metadata": {},
   "outputs": [
    {
     "data": {
      "text/plain": [
       "6"
      ]
     },
     "execution_count": 3,
     "metadata": {},
     "output_type": "execute_result"
    }
   ],
   "source": [
    "sol.maxProfit([3,3,5,0,0,3,1,4])"
   ]
  },
  {
   "cell_type": "code",
   "execution_count": 4,
   "id": "166b9e3a-0af9-4d1c-b543-be70c39e64ae",
   "metadata": {},
   "outputs": [
    {
     "data": {
      "text/plain": [
       "4"
      ]
     },
     "execution_count": 4,
     "metadata": {},
     "output_type": "execute_result"
    }
   ],
   "source": [
    "sol.maxProfit([1,2,3,4,5])"
   ]
  },
  {
   "cell_type": "code",
   "execution_count": 5,
   "id": "6dff55d8-a2cd-4338-aba2-e23273639b93",
   "metadata": {},
   "outputs": [
    {
     "data": {
      "text/plain": [
       "0"
      ]
     },
     "execution_count": 5,
     "metadata": {},
     "output_type": "execute_result"
    }
   ],
   "source": [
    "sol.maxProfit([7,6,4,3,1])"
   ]
  },
  {
   "cell_type": "code",
   "execution_count": 6,
   "id": "1e661c85-999d-4012-b3e1-fd586fb4241b",
   "metadata": {},
   "outputs": [
    {
     "data": {
      "text/plain": [
       "0"
      ]
     },
     "execution_count": 6,
     "metadata": {},
     "output_type": "execute_result"
    }
   ],
   "source": [
    "1//3"
   ]
  },
  {
   "cell_type": "code",
   "execution_count": null,
   "id": "9cd76293-4781-4047-be72-904d1e455c83",
   "metadata": {},
   "outputs": [],
   "source": []
  }
 ],
 "metadata": {
  "kernelspec": {
   "display_name": "Python 3 (ipykernel)",
   "language": "python",
   "name": "python3"
  },
  "language_info": {
   "codemirror_mode": {
    "name": "ipython",
    "version": 3
   },
   "file_extension": ".py",
   "mimetype": "text/x-python",
   "name": "python",
   "nbconvert_exporter": "python",
   "pygments_lexer": "ipython3",
   "version": "3.9.16"
  }
 },
 "nbformat": 4,
 "nbformat_minor": 5
}
