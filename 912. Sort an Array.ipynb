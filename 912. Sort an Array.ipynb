{
 "cells": [
  {
   "cell_type": "code",
   "execution_count": null,
   "id": "17b285f0-1bc5-4c0f-8384-07c5dfe644f7",
   "metadata": {},
   "outputs": [],
   "source": [
    "class Solution:\n",
    "    def countingSort09(self, lst, exp=1):\n",
    "        occLst = [[] for x in range(10)]\n",
    "        outLst = []\n",
    "        \n",
    "        for x in lst:\n",
    "            idx = x // exp\n",
    "            occLst[idx % 10] += [x]\n",
    "        \n",
    "        for x in occLst:\n",
    "            outLst += x\n",
    "        \n",
    "        return outLst\n",
    "\n",
    "    def radixSort(self,lst):\n",
    "        if not(lst):\n",
    "            return lst\n",
    "        maxVal = max(lst)\n",
    "        if maxVal // 1 == 0:\n",
    "            return lst\n",
    "        \n",
    "        exp = 1\n",
    "        outLst = []\n",
    "        lstx = lst\n",
    "        while maxVal // exp > 0:\n",
    "            lstx = self.countingSort09(lstx, exp)\n",
    "            exp = exp * 10\n",
    "            tempLst = []\n",
    "            for x in lstx:\n",
    "                if x // exp == 0:\n",
    "                    outLst += [x]\n",
    "                else:\n",
    "                    tempLst += [x]\n",
    "            lstx = tempLst\n",
    "        \n",
    "        return  outLst\n",
    "\n",
    "    def sortArray(self, nums: List[int]) -> List[int]:\n",
    "        posNums, negNums, zeroes = [], [], []\n",
    "        for x in nums:\n",
    "            if x > 0:\n",
    "                posNums += [x]\n",
    "            elif x < 0:\n",
    "                negNums += [abs(x)]\n",
    "            else:\n",
    "                zeroes += [x]\n",
    "\n",
    "        sortedPos =  self.radixSort(posNums)\n",
    "        sortedNeg = list(reversed([-x for x in self.radixSort(negNums)]))\n",
    "        return  sortedNeg + zeroes + sortedPos\n",
    "        "
   ]
  }
 ],
 "metadata": {
  "kernelspec": {
   "display_name": "Python 3 (ipykernel)",
   "language": "python",
   "name": "python3"
  },
  "language_info": {
   "codemirror_mode": {
    "name": "ipython",
    "version": 3
   },
   "file_extension": ".py",
   "mimetype": "text/x-python",
   "name": "python",
   "nbconvert_exporter": "python",
   "pygments_lexer": "ipython3",
   "version": "3.9.16"
  }
 },
 "nbformat": 4,
 "nbformat_minor": 5
}
