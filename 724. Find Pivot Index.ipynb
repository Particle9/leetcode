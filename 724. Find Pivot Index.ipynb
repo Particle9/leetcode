{
 "cells": [
  {
   "cell_type": "code",
   "execution_count": 2,
   "id": "aeea9057-ad5e-407a-9b7c-8d623a1f5720",
   "metadata": {},
   "outputs": [],
   "source": [
    "from typing import List\n",
    "\n",
    "class Solution:\n",
    "    def pivotIndex(self, nums: List[int]) -> int:\n",
    "        fullSum = sum(nums)\n",
    "        currSum = 0\n",
    "        for i in range(0,len(nums)):\n",
    "            if fullSum - currSum - nums[i] == currSum:\n",
    "                return i\n",
    "            currSum += nums[i]\n",
    "        return -1"
   ]
  },
  {
   "cell_type": "code",
   "execution_count": null,
   "id": "5766759a-04c9-4ac8-a696-9046d4390883",
   "metadata": {},
   "outputs": [],
   "source": []
  }
 ],
 "metadata": {
  "kernelspec": {
   "display_name": "Python 3 (ipykernel)",
   "language": "python",
   "name": "python3"
  },
  "language_info": {
   "codemirror_mode": {
    "name": "ipython",
    "version": 3
   },
   "file_extension": ".py",
   "mimetype": "text/x-python",
   "name": "python",
   "nbconvert_exporter": "python",
   "pygments_lexer": "ipython3",
   "version": "3.9.16"
  }
 },
 "nbformat": 4,
 "nbformat_minor": 5
}
