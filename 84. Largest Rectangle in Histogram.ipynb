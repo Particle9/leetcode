{
 "cells": [
  {
   "cell_type": "code",
   "execution_count": 1,
   "id": "1e74af63-bb3b-41fd-89c7-5fd85bc320cf",
   "metadata": {},
   "outputs": [],
   "source": [
    "from typing import List\n",
    "\n",
    "class Solution:\n",
    "    def largestRectangleArea(self, heights: List[int]) -> int:\n",
    "        maxArea = - float('inf')\n",
    "        stack = []\n",
    "        for i, h in enumerate(heights):\n",
    "            w = i\n",
    "            while stack and stack[-1][0] > h:\n",
    "                xh, xi = stack.pop()\n",
    "                maxArea = max(maxArea, xh * (i - xi))\n",
    "                w = xi\n",
    "            stack += [(h,w)]\n",
    "        while stack:\n",
    "            xh, xi = stack.pop()\n",
    "            maxArea = max(maxArea, xh * (len(heights) - xi))\n",
    "\n",
    "        return maxArea\n"
   ]
  },
  {
   "cell_type": "code",
   "execution_count": 2,
   "id": "390d179c-9299-488c-bcba-35707f4ae5be",
   "metadata": {},
   "outputs": [],
   "source": [
    "sol = Solution()"
   ]
  },
  {
   "cell_type": "code",
   "execution_count": 3,
   "id": "a56d9f6e-c9f1-4400-8dac-0789f432272f",
   "metadata": {},
   "outputs": [
    {
     "data": {
      "text/plain": [
       "10"
      ]
     },
     "execution_count": 3,
     "metadata": {},
     "output_type": "execute_result"
    }
   ],
   "source": [
    "sol.largestRectangleArea([2,1,5,6,2,3])"
   ]
  },
  {
   "cell_type": "code",
   "execution_count": null,
   "id": "6f87ebce-401e-4a03-9d93-50d0e65e2aab",
   "metadata": {},
   "outputs": [],
   "source": []
  }
 ],
 "metadata": {
  "kernelspec": {
   "display_name": "Python 3 (ipykernel)",
   "language": "python",
   "name": "python3"
  },
  "language_info": {
   "codemirror_mode": {
    "name": "ipython",
    "version": 3
   },
   "file_extension": ".py",
   "mimetype": "text/x-python",
   "name": "python",
   "nbconvert_exporter": "python",
   "pygments_lexer": "ipython3",
   "version": "3.9.16"
  }
 },
 "nbformat": 4,
 "nbformat_minor": 5
}
