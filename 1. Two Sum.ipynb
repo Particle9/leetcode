{
 "cells": [
  {
   "cell_type": "code",
   "execution_count": null,
   "id": "06f26e00-1aa1-49a4-baf3-67225d2f9ae9",
   "metadata": {},
   "outputs": [],
   "source": [
    "class Solution:\n",
    "    def twoSum(self, nums: List[int], target: int) -> List[int]:\n",
    "        dctx = {}\n",
    "        for i in range(0,len(nums)):\n",
    "            if (target - nums[i]) in dctx:\n",
    "                return i, dctx[(target - nums[i])]\n",
    "            if nums[i] not in dctx:\n",
    "                dctx[nums[i]] = i\n",
    "            "
   ]
  }
 ],
 "metadata": {
  "kernelspec": {
   "display_name": "Python 3 (ipykernel)",
   "language": "python",
   "name": "python3"
  },
  "language_info": {
   "codemirror_mode": {
    "name": "ipython",
    "version": 3
   },
   "file_extension": ".py",
   "mimetype": "text/x-python",
   "name": "python",
   "nbconvert_exporter": "python",
   "pygments_lexer": "ipython3",
   "version": "3.9.16"
  }
 },
 "nbformat": 4,
 "nbformat_minor": 5
}
