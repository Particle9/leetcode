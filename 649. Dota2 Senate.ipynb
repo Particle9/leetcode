{
 "cells": [
  {
   "cell_type": "code",
   "execution_count": 1,
   "id": "25adea05-58a5-4038-a5d9-a744b6137459",
   "metadata": {},
   "outputs": [],
   "source": [
    "class Solution:\n",
    "    def predictPartyVictory(self, senate: str) -> str:\n",
    "        queue = [x for x in senate]\n",
    "        banR = 0\n",
    "        banD = 0\n",
    "        while 'R' in queue and 'D' in queue:\n",
    "            x = queue.pop(0)\n",
    "            if x == 'R':\n",
    "                if banR > 0:\n",
    "                    banR -= 1\n",
    "                else:\n",
    "                    banD += 1\n",
    "                    queue += [x]\n",
    "            elif x == 'D':\n",
    "                if banD > 0:\n",
    "                    banD -= 1\n",
    "                else:\n",
    "                    banR += 1\n",
    "                    queue += [x]\n",
    "        x = queue.pop(0)\n",
    "        return 'Dire' if x == 'D' else 'Radiant'\n",
    "\n",
    "\n",
    "\n",
    "        "
   ]
  },
  {
   "cell_type": "code",
   "execution_count": null,
   "id": "f05c18d8-288b-4434-aa24-270fad1e85ee",
   "metadata": {},
   "outputs": [],
   "source": []
  }
 ],
 "metadata": {
  "kernelspec": {
   "display_name": "Python 3 (ipykernel)",
   "language": "python",
   "name": "python3"
  },
  "language_info": {
   "codemirror_mode": {
    "name": "ipython",
    "version": 3
   },
   "file_extension": ".py",
   "mimetype": "text/x-python",
   "name": "python",
   "nbconvert_exporter": "python",
   "pygments_lexer": "ipython3",
   "version": "3.9.16"
  }
 },
 "nbformat": 4,
 "nbformat_minor": 5
}
