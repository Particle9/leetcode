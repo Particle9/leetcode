{
 "cells": [
  {
   "cell_type": "code",
   "execution_count": null,
   "id": "f0740961-8e8c-4967-889f-00f6860d225b",
   "metadata": {},
   "outputs": [],
   "source": [
    "class Solution:\n",
    "    def getEatingHours(self, piles, k):\n",
    "        timeList = [(p+k-1)//k for p in piles]\n",
    "        return sum(timeList)\n",
    "\n",
    "    def minEatingSpeed(self, piles: List[int], h: int) -> int:\n",
    "        if h == len(piles):\n",
    "            return max(piles)\n",
    "        \n",
    "        lower, upper = 1, max(piles)\n",
    "        minK = upper\n",
    "        while lower < upper:\n",
    "            mid = (upper + lower) // 2\n",
    "\n",
    "            hoursEating = self.getEatingHours(piles, mid)\n",
    "\n",
    "            if hoursEating > h:\n",
    "                lower = mid+1\n",
    "            else:\n",
    "                upper = mid\n",
    "        return lower\n",
    "        "
   ]
  }
 ],
 "metadata": {
  "kernelspec": {
   "display_name": "Python 3 (ipykernel)",
   "language": "python",
   "name": "python3"
  },
  "language_info": {
   "codemirror_mode": {
    "name": "ipython",
    "version": 3
   },
   "file_extension": ".py",
   "mimetype": "text/x-python",
   "name": "python",
   "nbconvert_exporter": "python",
   "pygments_lexer": "ipython3",
   "version": "3.9.16"
  }
 },
 "nbformat": 4,
 "nbformat_minor": 5
}
