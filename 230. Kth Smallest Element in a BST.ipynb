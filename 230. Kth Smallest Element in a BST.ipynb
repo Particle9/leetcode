{
 "cells": [
  {
   "cell_type": "code",
   "execution_count": null,
   "id": "4641e7d4-e85e-4641-b6a4-fa8b98ab151d",
   "metadata": {},
   "outputs": [],
   "source": [
    "# class TreeNode:\n",
    "    def __init__(self, val=0, left=None, right=None):\n",
    "        self.val = val\n",
    "        self.left = left\n",
    "        self.right = right\n",
    "class Solution:\n",
    "    def getInOrder(self,root):\n",
    "        if not(root):\n",
    "            return []\n",
    "        return self.getInOrder(root.left) + [root.val] + self.getInOrder(root.right)\n",
    "    \n",
    "    def getMinBST(self,root):\n",
    "        if root:\n",
    "            cx = self.getMinBST(root.left)\n",
    "            self.countMin -= 1\n",
    "            if self.countMin == 0:\n",
    "                self.resMax = root.val\n",
    "            if self.countMin > 0:\n",
    "                cx = self.getMinBST(root.right)\n",
    "            return cx\n",
    "\n",
    "    def kthSmallest(self, root: Optional[TreeNode], k: int) -> int:\n",
    "        self.countMin = k\n",
    "        self.resMax = float('inf')\n",
    "        self.getMinBST(root)\n",
    "        return self.resMax\n",
    "        "
   ]
  }
 ],
 "metadata": {
  "kernelspec": {
   "display_name": "Python 3 (ipykernel)",
   "language": "python",
   "name": "python3"
  },
  "language_info": {
   "codemirror_mode": {
    "name": "ipython",
    "version": 3
   },
   "file_extension": ".py",
   "mimetype": "text/x-python",
   "name": "python",
   "nbconvert_exporter": "python",
   "pygments_lexer": "ipython3",
   "version": "3.9.16"
  }
 },
 "nbformat": 4,
 "nbformat_minor": 5
}
