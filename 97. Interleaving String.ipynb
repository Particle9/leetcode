{
 "cells": [
  {
   "cell_type": "code",
   "execution_count": null,
   "id": "9bc35038-5a49-4fc4-979b-42dc384f36b7",
   "metadata": {},
   "outputs": [],
   "source": [
    "class Solution:\n",
    "    def printMat(self,mat,s1,s2):\n",
    "        for i in range(1,len(mat)-1):\n",
    "            print(s1[i-1], mat[i])\n",
    "\n",
    "    def isInterleave(self, s1: str, s2: str, s3: str) -> bool:\n",
    "        if len(s3) != len(s1) + len(s2):\n",
    "            return False\n",
    "        \n",
    "        # Initialize DP table dimensions\n",
    "        dp = [[False] * (len(s2) + 1) for _ in range(len(s1) + 1)]\n",
    "        dp[0][0] = True\n",
    "        \n",
    "        # Initialize base cases\n",
    "        for i in range(1, len(s1) + 1):\n",
    "            dp[i][0] = dp[i-1][0] and s1[i-1] == s3[i-1]\n",
    "        \n",
    "        for j in range(1, len(s2) + 1):\n",
    "            dp[0][j] = dp[0][j-1] and s2[j-1] == s3[j-1]\n",
    "        \n",
    "        # Fill the DP table\n",
    "        for i in range(1, len(s1) + 1):\n",
    "            for j in range(1, len(s2) + 1):\n",
    "                if s1[i-1] == s3[i+j-1]:\n",
    "                    dp[i][j] = dp[i][j] or dp[i-1][j]\n",
    "                if s2[j-1] == s3[i+j-1]:\n",
    "                    dp[i][j] = dp[i][j] or dp[i][j-1]\n",
    "        \n",
    "        # Return the final result\n",
    "        return dp[len(s1)][len(s2)]\n",
    "                    \n"
   ]
  }
 ],
 "metadata": {
  "kernelspec": {
   "display_name": "Python 3 (ipykernel)",
   "language": "python",
   "name": "python3"
  },
  "language_info": {
   "codemirror_mode": {
    "name": "ipython",
    "version": 3
   },
   "file_extension": ".py",
   "mimetype": "text/x-python",
   "name": "python",
   "nbconvert_exporter": "python",
   "pygments_lexer": "ipython3",
   "version": "3.9.16"
  }
 },
 "nbformat": 4,
 "nbformat_minor": 5
}
