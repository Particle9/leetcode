{
 "cells": [
  {
   "cell_type": "code",
   "execution_count": null,
   "id": "0b51a806-6e5d-48eb-8aaf-ad7e709a1324",
   "metadata": {},
   "outputs": [],
   "source": [
    "class Solution:\n",
    "    def minSubArrayLen(self, target: int, nums: List[int]) -> int:\n",
    "        n = len(nums)\n",
    "        i = 0\n",
    "        j = 0\n",
    "        currSum = nums[i]\n",
    "        minLen = float('inf')\n",
    "        while j < n:\n",
    "            if currSum >= target:\n",
    "                minLen = min(minLen, j-i+1)\n",
    "                currSum -= nums[i]\n",
    "                i += 1\n",
    "            else:\n",
    "                j += 1\n",
    "                if j < n:\n",
    "                    currSum += nums[j]\n",
    "        if minLen == float('inf'):\n",
    "            return 0\n",
    "        return minLen\n",
    "        "
   ]
  }
 ],
 "metadata": {
  "kernelspec": {
   "display_name": "Python 3 (ipykernel)",
   "language": "python",
   "name": "python3"
  },
  "language_info": {
   "codemirror_mode": {
    "name": "ipython",
    "version": 3
   },
   "file_extension": ".py",
   "mimetype": "text/x-python",
   "name": "python",
   "nbconvert_exporter": "python",
   "pygments_lexer": "ipython3",
   "version": "3.9.16"
  }
 },
 "nbformat": 4,
 "nbformat_minor": 5
}
