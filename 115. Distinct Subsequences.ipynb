{
 "cells": [
  {
   "cell_type": "code",
   "execution_count": 1,
   "id": "a5297a99-7bdf-404a-b656-fddb7c0b4a43",
   "metadata": {},
   "outputs": [],
   "source": [
    "class Solution:\n",
    "    def numDistinct(self, s: str, t: str) -> int:\n",
    "\n",
    "        dp = [[0] * (len(t)+1) for _ in range(0,len(s) +1)]\n",
    "        \n",
    "        dp[0][0] = 1\n",
    "\n",
    "        for i in range(1,len(s) + 1):\n",
    "            dp[i][0] = 1\n",
    "\n",
    "        for i in range(1,len(s) + 1):\n",
    "            for j in range(1,len(t) + 1):\n",
    "                if s[i-1] == t[j-1]:\n",
    "                    dp[i][j] = dp[i-1][j-1] + dp[i-1][j]\n",
    "                else:\n",
    "                    dp[i][j] = dp[i-1][j]\n",
    "        return dp[len(s)][len(t)]"
   ]
  },
  {
   "cell_type": "code",
   "execution_count": 2,
   "id": "de21788b-279c-40ba-8aae-0eac93626a6d",
   "metadata": {},
   "outputs": [],
   "source": [
    "sol = Solution()"
   ]
  },
  {
   "cell_type": "code",
   "execution_count": 3,
   "id": "ab206361-d9e5-468b-b8c3-2445af766b6b",
   "metadata": {},
   "outputs": [
    {
     "data": {
      "text/plain": [
       "5"
      ]
     },
     "execution_count": 3,
     "metadata": {},
     "output_type": "execute_result"
    }
   ],
   "source": [
    "sol.numDistinct(\"babgbag\", 'bag')"
   ]
  },
  {
   "cell_type": "code",
   "execution_count": null,
   "id": "4ea309c2-9f89-4fc7-92f6-bca23b5d0371",
   "metadata": {},
   "outputs": [],
   "source": []
  }
 ],
 "metadata": {
  "kernelspec": {
   "display_name": "Python 3 (ipykernel)",
   "language": "python",
   "name": "python3"
  },
  "language_info": {
   "codemirror_mode": {
    "name": "ipython",
    "version": 3
   },
   "file_extension": ".py",
   "mimetype": "text/x-python",
   "name": "python",
   "nbconvert_exporter": "python",
   "pygments_lexer": "ipython3",
   "version": "3.9.16"
  }
 },
 "nbformat": 4,
 "nbformat_minor": 5
}
