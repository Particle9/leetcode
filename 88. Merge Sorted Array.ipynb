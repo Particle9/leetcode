{
 "cells": [
  {
   "cell_type": "code",
   "execution_count": 2,
   "id": "34f776f2-b217-41af-8ce2-dc76b2a75c3c",
   "metadata": {},
   "outputs": [],
   "source": [
    "from typing import List\n",
    "\n",
    "class Solution:\n",
    "    def merge(self, nums1: List[int], m: int, nums2: List[int], n: int) -> None:\n",
    "        lst1 = nums1[:m]\n",
    "        lst2 = nums2\n",
    "\n",
    "        res_lst = []\n",
    "\n",
    "        i,j, k = 0,0,0\n",
    "        while (i  < m) and  (j < n):\n",
    "            if lst1[i] < lst2[j]:\n",
    "                nums1[k] = lst1[i]\n",
    "                i += 1\n",
    "                k += 1\n",
    "            else:\n",
    "                nums1[k] = lst2[j]\n",
    "                j += 1\n",
    "                k += 1\n",
    "\n",
    "        if i < m: \n",
    "            for x in range(i,m):\n",
    "               nums1[k] = lst1[x]\n",
    "               k += 1\n",
    "        else:\n",
    "            for x in range(j,len(lst2)):\n",
    "               nums1[k] = lst2[x]\n",
    "               k+= 1\n",
    "        return nums1\n",
    "        \n",
    "        "
   ]
  }
 ],
 "metadata": {
  "kernelspec": {
   "display_name": "Python 3 (ipykernel)",
   "language": "python",
   "name": "python3"
  },
  "language_info": {
   "codemirror_mode": {
    "name": "ipython",
    "version": 3
   },
   "file_extension": ".py",
   "mimetype": "text/x-python",
   "name": "python",
   "nbconvert_exporter": "python",
   "pygments_lexer": "ipython3",
   "version": "3.9.16"
  }
 },
 "nbformat": 4,
 "nbformat_minor": 5
}
