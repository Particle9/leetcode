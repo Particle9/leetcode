{
 "cells": [
  {
   "cell_type": "code",
   "execution_count": 2,
   "id": "5de138c1-654c-4ae3-81f0-69ebb8c0b0d2",
   "metadata": {},
   "outputs": [],
   "source": [
    "from typing import List\n",
    "\n",
    "class Solution:\n",
    "    def maxProduct(self, nums: List[int]) -> int:\n",
    "        maxProd = nums[0]\n",
    "        currMaxProd = nums[0]\n",
    "        currMinProd = nums[0]\n",
    "        for x in nums[1:]:\n",
    "            prevMaxProd = currMaxProd\n",
    "            currMaxProd = max(currMaxProd * x, x, currMinProd * x)\n",
    "            currMinProd = min(currMinProd * x, x, prevMaxProd * x)\n",
    "            maxProd = max(maxProd, currMaxProd)\n",
    "        return maxProd\n",
    "        "
   ]
  },
  {
   "cell_type": "code",
   "execution_count": null,
   "id": "f9d691af-82a1-42bd-b3b4-75eecb196516",
   "metadata": {},
   "outputs": [],
   "source": []
  }
 ],
 "metadata": {
  "kernelspec": {
   "display_name": "Python 3 (ipykernel)",
   "language": "python",
   "name": "python3"
  },
  "language_info": {
   "codemirror_mode": {
    "name": "ipython",
    "version": 3
   },
   "file_extension": ".py",
   "mimetype": "text/x-python",
   "name": "python",
   "nbconvert_exporter": "python",
   "pygments_lexer": "ipython3",
   "version": "3.9.16"
  }
 },
 "nbformat": 4,
 "nbformat_minor": 5
}
