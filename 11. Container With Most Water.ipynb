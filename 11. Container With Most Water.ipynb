{
 "cells": [
  {
   "cell_type": "code",
   "execution_count": 1,
   "id": "85a017cd-fb30-490a-a1cb-cd54a1acf5a8",
   "metadata": {},
   "outputs": [],
   "source": [
    "from typing import List\n",
    "\n",
    "class Solution:\n",
    "    def maxArea(self, height: List[int]) -> int:\n",
    "        i,j = 0, len(height)-1\n",
    "        max_water = 0\n",
    "        while i < j:\n",
    "            max_water = max(min(height[i],height[j]) * (j-i), max_water)\n",
    "            if height[i] < height[j]:\n",
    "                i += 1\n",
    "            else:\n",
    "                j -= 1\n",
    "        \n",
    "        return max_water\n",
    "        "
   ]
  },
  {
   "cell_type": "code",
   "execution_count": null,
   "id": "96866202-c605-4f8b-9cd6-efd0bc6599ad",
   "metadata": {},
   "outputs": [],
   "source": []
  }
 ],
 "metadata": {
  "kernelspec": {
   "display_name": "Python 3 (ipykernel)",
   "language": "python",
   "name": "python3"
  },
  "language_info": {
   "codemirror_mode": {
    "name": "ipython",
    "version": 3
   },
   "file_extension": ".py",
   "mimetype": "text/x-python",
   "name": "python",
   "nbconvert_exporter": "python",
   "pygments_lexer": "ipython3",
   "version": "3.9.16"
  }
 },
 "nbformat": 4,
 "nbformat_minor": 5
}
