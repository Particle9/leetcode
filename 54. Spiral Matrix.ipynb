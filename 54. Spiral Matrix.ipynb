{
 "cells": [
  {
   "cell_type": "code",
   "execution_count": 1,
   "id": "2a21cd3d-dec5-40ec-af2f-299fb588e27a",
   "metadata": {},
   "outputs": [],
   "source": [
    "from typing import Optional, List\n",
    "\n",
    "class Solution:\n",
    "    def spiralOrder(self, matrix: List[List[int]]) -> List[int]:\n",
    "        if not(matrix):\n",
    "            return []\n",
    "\n",
    "        m,n = len(matrix), len(matrix[0])\n",
    "        traversed_square = m * n\n",
    "        i_curr, j_curr = 0,0\n",
    "\n",
    "        visited = set()\n",
    "        lst = []\n",
    "        if (j_curr + 1 >= n):\n",
    "            move = 'd'\n",
    "        else:\n",
    "            move = 'r'\n",
    "        while traversed_square > 0:\n",
    "            lst += [matrix[i_curr][j_curr]]\n",
    "            visited.add((i_curr,j_curr))\n",
    "            if move == 'r':\n",
    "                j_curr += 1\n",
    "            elif move == 'l':\n",
    "                j_curr -=1\n",
    "            elif move == 'u':\n",
    "                i_curr -=1\n",
    "            elif move == 'd':\n",
    "                i_curr +=1\n",
    "            \n",
    "            traversed_square -= 1\n",
    "\n",
    "            if move == 'r' and (j_curr + 1 >= n or (i_curr, j_curr+1) in visited):\n",
    "                move = 'd'\n",
    "            elif move == 'l' and (j_curr - 1 < 0 or (i_curr, j_curr-1) in visited):\n",
    "                move = 'u'\n",
    "            elif move == 'd'and (i_curr + 1 >= m or (i_curr+1, j_curr) in visited):\n",
    "                move = 'l'\n",
    "            elif move == 'u'and (i_curr - 1 < 0 or (i_curr-1, j_curr) in visited):\n",
    "                move = 'r'\n",
    "\n",
    "        return lst"
   ]
  },
  {
   "cell_type": "code",
   "execution_count": null,
   "id": "18534d92-8745-4339-b5df-2d1d9aae3712",
   "metadata": {},
   "outputs": [],
   "source": []
  }
 ],
 "metadata": {
  "kernelspec": {
   "display_name": "Python 3 (ipykernel)",
   "language": "python",
   "name": "python3"
  },
  "language_info": {
   "codemirror_mode": {
    "name": "ipython",
    "version": 3
   },
   "file_extension": ".py",
   "mimetype": "text/x-python",
   "name": "python",
   "nbconvert_exporter": "python",
   "pygments_lexer": "ipython3",
   "version": "3.9.16"
  }
 },
 "nbformat": 4,
 "nbformat_minor": 5
}
