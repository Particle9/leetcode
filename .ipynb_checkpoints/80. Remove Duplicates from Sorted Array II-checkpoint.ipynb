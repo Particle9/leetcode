{
 "cells": [
  {
   "cell_type": "code",
   "execution_count": 1,
   "id": "ae571d8c-28f9-4dc9-99f3-a31ff69358f0",
   "metadata": {},
   "outputs": [],
   "source": [
    "from typing import List\n",
    "\n",
    "class Solution:\n",
    "    def removeDuplicates(self, nums: List[int]) -> int:\n",
    "        lst = []\n",
    "        dct = {}\n",
    "\n",
    "        for x in nums:\n",
    "            if x not in lst:\n",
    "                dct[x] = 1\n",
    "                lst += [x]\n",
    "            elif dct[x] == 1:\n",
    "                dct[x] = 2\n",
    "                lst += [x]\n",
    "        for i in range(0,len(lst)):\n",
    "            nums[i] = lst[i]\n",
    "        return len(lst)\n",
    "        "
   ]
  },
  {
   "cell_type": "code",
   "execution_count": null,
   "id": "472ab28a-7312-4ac9-860c-484c0014792a",
   "metadata": {},
   "outputs": [],
   "source": []
  }
 ],
 "metadata": {
  "kernelspec": {
   "display_name": "Python 3 (ipykernel)",
   "language": "python",
   "name": "python3"
  },
  "language_info": {
   "codemirror_mode": {
    "name": "ipython",
    "version": 3
   },
   "file_extension": ".py",
   "mimetype": "text/x-python",
   "name": "python",
   "nbconvert_exporter": "python",
   "pygments_lexer": "ipython3",
   "version": "3.9.16"
  }
 },
 "nbformat": 4,
 "nbformat_minor": 5
}
