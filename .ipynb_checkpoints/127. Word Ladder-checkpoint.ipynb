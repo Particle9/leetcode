{
 "cells": [
  {
   "cell_type": "code",
   "execution_count": null,
   "id": "44703167-f5d3-49b1-a2e9-60a54cce8044",
   "metadata": {},
   "outputs": [],
   "source": [
    "from collections import defaultdict, deque\n",
    "\n",
    "class Solution:\n",
    "    def ladderLength(self, beginWord: str, endWord: str, wordList: List[str]) -> int:\n",
    "        if endWord not in wordList:\n",
    "            return 0\n",
    "        \n",
    "        # Create a dictionary to hold all the patterns\n",
    "        pattern_dict = defaultdict(list)\n",
    "        wordList.append(beginWord)  # Include the beginWord in the wordList\n",
    "\n",
    "        for word in wordList:\n",
    "            for i in range(len(word)):\n",
    "                pattern = word[:i] + '*' + word[i+1:]\n",
    "                pattern_dict[pattern].append(word)\n",
    "        \n",
    "        # BFS to find the shortest path\n",
    "        queue = deque([(beginWord, 1)])  # Queue holds the word and the current step count\n",
    "        visited = set([beginWord])\n",
    "        \n",
    "        while queue:\n",
    "            current_word, level = queue.popleft()\n",
    "            \n",
    "            # For each possible pattern of the current word\n",
    "            for i in range(len(current_word)):\n",
    "                pattern = current_word[:i] + '*' + current_word[i+1:]\n",
    "                \n",
    "                # Explore all words with the same pattern\n",
    "                for adjacent_word in pattern_dict[pattern]:\n",
    "                    if adjacent_word == endWord:\n",
    "                        return level + 1\n",
    "                    if adjacent_word not in visited:\n",
    "                        visited.add(adjacent_word)\n",
    "                        queue.append((adjacent_word, level + 1))\n",
    "                \n",
    "                # Clear the list to prevent redundant exploration\n",
    "                pattern_dict[pattern] = []\n",
    "        \n",
    "        return 0\n",
    "\n",
    "        "
   ]
  }
 ],
 "metadata": {
  "kernelspec": {
   "display_name": "Python 3 (ipykernel)",
   "language": "python",
   "name": "python3"
  },
  "language_info": {
   "codemirror_mode": {
    "name": "ipython",
    "version": 3
   },
   "file_extension": ".py",
   "mimetype": "text/x-python",
   "name": "python",
   "nbconvert_exporter": "python",
   "pygments_lexer": "ipython3",
   "version": "3.9.16"
  }
 },
 "nbformat": 4,
 "nbformat_minor": 5
}
