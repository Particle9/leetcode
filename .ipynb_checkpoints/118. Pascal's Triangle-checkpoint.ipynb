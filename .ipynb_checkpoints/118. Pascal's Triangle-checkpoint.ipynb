{
 "cells": [
  {
   "cell_type": "code",
   "execution_count": 1,
   "id": "a6ef46cd-02aa-4f46-b603-0e0379054ad1",
   "metadata": {},
   "outputs": [],
   "source": [
    "from typing import List\n",
    "\n",
    "class Solution:\n",
    "    def generate(self, numRows: int) -> List[List[int]]:\n",
    "        if numRows == 1:\n",
    "            return [[1]]\n",
    "        dp = [[] for _ in range(numRows+1)]\n",
    "        dp[0] = []\n",
    "        dp[1] = [1]\n",
    "\n",
    "        for i in range(2,numRows+1):\n",
    "            lvlLst = [1]\n",
    "            for j in range(0,i-2):\n",
    "                lvlLst += [dp[i-1][j] + dp[i-1][j+1]]\n",
    "            lvlLst += [1]\n",
    "            dp[i] = lvlLst\n",
    "        return dp[1:]\n",
    "        "
   ]
  },
  {
   "cell_type": "code",
   "execution_count": 2,
   "id": "b29048f3-d38f-4f2f-9677-5ce35043f7c4",
   "metadata": {},
   "outputs": [],
   "source": [
    "sol = Solution()"
   ]
  },
  {
   "cell_type": "code",
   "execution_count": 3,
   "id": "7677d5bf-f196-43db-8a89-9a0f6ff8ee7c",
   "metadata": {},
   "outputs": [
    {
     "data": {
      "text/plain": [
       "[[1], [1, 1], [1, 2, 1], [1, 3, 3, 1], [1, 4, 6, 4, 1]]"
      ]
     },
     "execution_count": 3,
     "metadata": {},
     "output_type": "execute_result"
    }
   ],
   "source": [
    "sol.generate(5)"
   ]
  },
  {
   "cell_type": "code",
   "execution_count": null,
   "id": "ce2468be-dffa-4886-b5c9-02d4d81b1f33",
   "metadata": {},
   "outputs": [],
   "source": []
  }
 ],
 "metadata": {
  "kernelspec": {
   "display_name": "Python 3 (ipykernel)",
   "language": "python",
   "name": "python3"
  },
  "language_info": {
   "codemirror_mode": {
    "name": "ipython",
    "version": 3
   },
   "file_extension": ".py",
   "mimetype": "text/x-python",
   "name": "python",
   "nbconvert_exporter": "python",
   "pygments_lexer": "ipython3",
   "version": "3.9.16"
  }
 },
 "nbformat": 4,
 "nbformat_minor": 5
}
