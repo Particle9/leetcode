{
 "cells": [
  {
   "cell_type": "code",
   "execution_count": null,
   "id": "de6b262f-3cf3-4f29-ae5d-3a03e8657171",
   "metadata": {},
   "outputs": [],
   "source": [
    "class Solution:\n",
    "    def isValidDecoding(self,s):\n",
    "        if not(s):\n",
    "            return False\n",
    "        elif len(s) == 1:\n",
    "            return s[0] != '0'\n",
    "        elif len(s) == 2:\n",
    "            if s[0] == '1':\n",
    "                return True\n",
    "            elif s[0] == '2':\n",
    "                return s[1] in \"0123456\"\n",
    "            else:\n",
    "                return False\n",
    "\n",
    "    def decodeRecurse(self, s, dctx = {}):\n",
    "        if not(s):\n",
    "            return 0\n",
    "        elif s in dctx:\n",
    "            return dctx[s]\n",
    "        elif s[0] == \"0\":\n",
    "            return 0\n",
    "        elif len(s) == 1:\n",
    "            return 1\n",
    "        elif len(s) == 2:\n",
    "            if s[0] not in [\"1\",\"2\"]:\n",
    "                return 1\n",
    "            elif s[0] == \"2\" and s[1] not in \"0123456\":\n",
    "                return 1\n",
    "            elif s[1] == \"0\":\n",
    "                return 1\n",
    "            else:\n",
    "                return 2\n",
    "        countPossible = 0\n",
    "        print(s[0])\n",
    "        if self.isValidDecoding(s[0]):\n",
    "            countPossible += self.decodeRecurse(s[1:], dctx)\n",
    "        if self.isValidDecoding(s[0] + s[1]):\n",
    "            countPossible += self.decodeRecurse(s[2:], dctx)\n",
    "        dctx[s] = countPossible\n",
    "        return countPossible\n",
    "        \n",
    "            \n",
    "        \n",
    "    def numDecodings(self, s: str) -> int:\n",
    "        prev_s = \"0\"\n",
    "        for i in range(0,len(s)):\n",
    "            if s[i] == \"0\" and prev_s not in \"12\":\n",
    "                return 0\n",
    "            prev_s = s[i]\n",
    "        dctx = {}\n",
    "        return self.decodeRecurse(s,dctx)  \n",
    "             "
   ]
  }
 ],
 "metadata": {
  "kernelspec": {
   "display_name": "Python 3 (ipykernel)",
   "language": "python",
   "name": "python3"
  },
  "language_info": {
   "codemirror_mode": {
    "name": "ipython",
    "version": 3
   },
   "file_extension": ".py",
   "mimetype": "text/x-python",
   "name": "python",
   "nbconvert_exporter": "python",
   "pygments_lexer": "ipython3",
   "version": "3.9.16"
  }
 },
 "nbformat": 4,
 "nbformat_minor": 5
}
