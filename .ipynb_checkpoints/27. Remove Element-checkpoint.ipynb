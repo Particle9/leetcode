{
 "cells": [
  {
   "cell_type": "code",
   "execution_count": 1,
   "id": "eee1b896-a6c3-4a1a-99b4-99eb38668e8c",
   "metadata": {},
   "outputs": [],
   "source": [
    "from typing import List\n",
    "\n",
    "class Solution:\n",
    "    def removeElement(self, nums: List[int], val: int) -> int:\n",
    "        count_val = 0\n",
    "\n",
    "        for i in range(0,len(nums)):\n",
    "            if nums[i] == val:\n",
    "                for j in reversed(range(0, len(nums))):\n",
    "                    if j < i:\n",
    "                        break\n",
    "                    if nums[j] != val:\n",
    "                        nums[i] = nums[j]\n",
    "                        nums[j] = val\n",
    "                        count_val += 1\n",
    "                        break\n",
    "            else:\n",
    "                count_val += 1\n",
    "        return count_val\n",
    "                "
   ]
  },
  {
   "cell_type": "code",
   "execution_count": null,
   "id": "ab8bbc8a-22f1-44db-9d7c-27197ff91724",
   "metadata": {},
   "outputs": [],
   "source": []
  }
 ],
 "metadata": {
  "kernelspec": {
   "display_name": "Python 3 (ipykernel)",
   "language": "python",
   "name": "python3"
  },
  "language_info": {
   "codemirror_mode": {
    "name": "ipython",
    "version": 3
   },
   "file_extension": ".py",
   "mimetype": "text/x-python",
   "name": "python",
   "nbconvert_exporter": "python",
   "pygments_lexer": "ipython3",
   "version": "3.9.16"
  }
 },
 "nbformat": 4,
 "nbformat_minor": 5
}
