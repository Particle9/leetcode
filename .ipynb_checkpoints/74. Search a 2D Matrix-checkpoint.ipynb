{
 "cells": [
  {
   "cell_type": "code",
   "execution_count": null,
   "id": "00fba349-cfb9-45d1-b227-c60867efb6e0",
   "metadata": {},
   "outputs": [],
   "source": [
    "class Solution:\n",
    "    def searchMatrix(self, matrix: List[List[int]], target: int) -> bool:\n",
    "        if not(matrix):\n",
    "            return False\n",
    "        if len(matrix) == 1 and len(matrix[0]) == 1:\n",
    "            return matrix[0][0] == target\n",
    "        n, m = len(matrix), len(matrix[0])\n",
    "        lower, upper = 0, (n*m)-1\n",
    "        while lower < upper:\n",
    "            mid = (upper + lower) // 2\n",
    "            upper_i, upper_j = upper // m, upper % m\n",
    "            lower_i, lower_j = lower // m, lower % m\n",
    "            mid_i, mid_j = mid // m, mid % m\n",
    "\n",
    "            if target in [matrix[mid_i][mid_j], matrix[lower_i][lower_j], matrix[upper_i][upper_j]]:\n",
    "                return True\n",
    "            elif target > matrix[mid_i][mid_j]:\n",
    "                lower = mid+1\n",
    "            else:\n",
    "                upper = mid-1\n",
    "        return False\n",
    "        "
   ]
  }
 ],
 "metadata": {
  "kernelspec": {
   "display_name": "Python 3 (ipykernel)",
   "language": "python",
   "name": "python3"
  },
  "language_info": {
   "codemirror_mode": {
    "name": "ipython",
    "version": 3
   },
   "file_extension": ".py",
   "mimetype": "text/x-python",
   "name": "python",
   "nbconvert_exporter": "python",
   "pygments_lexer": "ipython3",
   "version": "3.9.16"
  }
 },
 "nbformat": 4,
 "nbformat_minor": 5
}
