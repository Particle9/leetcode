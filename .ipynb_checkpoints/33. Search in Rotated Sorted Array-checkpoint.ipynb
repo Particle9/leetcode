{
 "cells": [
  {
   "cell_type": "code",
   "execution_count": null,
   "id": "71ffbb0f-eb5f-4f1d-9d63-8994661764c3",
   "metadata": {},
   "outputs": [],
   "source": [
    "class Solution:\n",
    "    def search(self, nums: List[int], target: int) -> int:\n",
    "        if not(nums):\n",
    "            return -1\n",
    "        elif len(nums) == 1:\n",
    "            return 0 if nums[0] == target else -1\n",
    "        lower, upper = 0, len(nums) -1\n",
    "        while lower < upper:\n",
    "            print(lower,upper)\n",
    "            mid = (upper + lower) // 2\n",
    "            if nums[mid] == target:\n",
    "                return mid\n",
    "            elif nums[upper] == target:\n",
    "                return upper\n",
    "            elif nums[lower] == target:\n",
    "                return lower\n",
    "\n",
    "            if nums[lower] <= nums[mid]:  # Left side is sorted\n",
    "                if nums[lower] <= target < nums[mid]:\n",
    "                    upper = mid - 1  # Search in the left sorted part\n",
    "                else:\n",
    "                    lower = mid + 1  # Search in the right part\n",
    "            else:  # Right side is sorted\n",
    "                if nums[mid] < target <= nums[upper]:\n",
    "                    lower = mid + 1  # Search in the right sorted part\n",
    "                else:\n",
    "                    upper = mid - 1  # Search in the left part\n",
    "        return -1\n",
    "\n",
    "        "
   ]
  }
 ],
 "metadata": {
  "kernelspec": {
   "display_name": "Python 3 (ipykernel)",
   "language": "python",
   "name": "python3"
  },
  "language_info": {
   "codemirror_mode": {
    "name": "ipython",
    "version": 3
   },
   "file_extension": ".py",
   "mimetype": "text/x-python",
   "name": "python",
   "nbconvert_exporter": "python",
   "pygments_lexer": "ipython3",
   "version": "3.9.16"
  }
 },
 "nbformat": 4,
 "nbformat_minor": 5
}
