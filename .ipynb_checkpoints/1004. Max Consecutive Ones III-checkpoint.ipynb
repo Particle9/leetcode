{
 "cells": [
  {
   "cell_type": "code",
   "execution_count": 1,
   "id": "d5526b43-da37-4ce7-85c8-5bfc2a214727",
   "metadata": {},
   "outputs": [],
   "source": [
    "from typing import List\n",
    "\n",
    "class Solution:\n",
    "    def longestOnes(self, nums: List[int], k: int) -> int:\n",
    "        n = len(nums)\n",
    "        curr1 = 0\n",
    "        curr0 = 0\n",
    "        max1 = curr1\n",
    "        i,j = 0, 0\n",
    "        while j < n:\n",
    "            if nums[j] == 1:\n",
    "                curr1 += 1\n",
    "                j += 1\n",
    "            elif curr0 < k:\n",
    "                curr0 += 1\n",
    "                j+= 1\n",
    "            elif nums[i] == 1:\n",
    "                curr1 -= 1\n",
    "                i += 1\n",
    "            else:\n",
    "                curr0 -= 1\n",
    "                i += 1\n",
    "            max1 = max(max1, j-i)\n",
    "        return max1\n",
    "        "
   ]
  },
  {
   "cell_type": "code",
   "execution_count": null,
   "id": "8a4fbd47-3156-46dc-bdff-2f5c80c17aad",
   "metadata": {},
   "outputs": [],
   "source": []
  }
 ],
 "metadata": {
  "kernelspec": {
   "display_name": "Python 3 (ipykernel)",
   "language": "python",
   "name": "python3"
  },
  "language_info": {
   "codemirror_mode": {
    "name": "ipython",
    "version": 3
   },
   "file_extension": ".py",
   "mimetype": "text/x-python",
   "name": "python",
   "nbconvert_exporter": "python",
   "pygments_lexer": "ipython3",
   "version": "3.9.16"
  }
 },
 "nbformat": 4,
 "nbformat_minor": 5
}
