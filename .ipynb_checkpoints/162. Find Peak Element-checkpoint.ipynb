{
 "cells": [
  {
   "cell_type": "code",
   "execution_count": null,
   "id": "406fef98-02f6-4238-90c6-36e992ebb6f5",
   "metadata": {},
   "outputs": [],
   "source": [
    "class Solution:\n",
    "    def findPeakElement(self, nums: List[int]) -> int:\n",
    "        if not(nums):\n",
    "            return -1\n",
    "\n",
    "        nums = [-float('inf')] +nums + [-float('inf')]\n",
    "        lower, upper = 0, len(nums) - 1\n",
    "        while lower < upper:\n",
    "            mid = (upper + lower) // 2\n",
    "            if nums[mid+1] < nums[mid] > nums[mid-1]:\n",
    "                return mid-1\n",
    "            elif nums[mid-1] > nums[mid]:\n",
    "                upper = mid\n",
    "            else:\n",
    "                lower = mid\n",
    "        return -1\n"
   ]
  }
 ],
 "metadata": {
  "kernelspec": {
   "display_name": "Python 3 (ipykernel)",
   "language": "python",
   "name": "python3"
  },
  "language_info": {
   "codemirror_mode": {
    "name": "ipython",
    "version": 3
   },
   "file_extension": ".py",
   "mimetype": "text/x-python",
   "name": "python",
   "nbconvert_exporter": "python",
   "pygments_lexer": "ipython3",
   "version": "3.9.16"
  }
 },
 "nbformat": 4,
 "nbformat_minor": 5
}
