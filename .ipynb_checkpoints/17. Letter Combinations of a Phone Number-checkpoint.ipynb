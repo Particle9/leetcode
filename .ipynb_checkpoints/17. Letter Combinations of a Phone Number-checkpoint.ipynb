{
 "cells": [
  {
   "cell_type": "code",
   "execution_count": null,
   "id": "8a225c07-bda0-4191-9ebe-e79e907fdb88",
   "metadata": {},
   "outputs": [],
   "source": [
    "class Solution:\n",
    "    def letterCombinations(self, digits: str) -> List[str]:\n",
    "        digitDct = {\n",
    "            '2': 'abc',\n",
    "            '3': 'def',\n",
    "            '4': 'ghi',\n",
    "            '5': 'jkl',\n",
    "            '6': 'mno',\n",
    "            '7': 'pqrs',\n",
    "            '8': 'tuv',\n",
    "            '9': 'wxyz'\n",
    "        }\n",
    "        if not(digits):\n",
    "            return []\n",
    "        elif len(digits) == 1:\n",
    "            if digits not in digitDct:\n",
    "                return []\n",
    "            else:\n",
    "                return [x for x in digitDct[digits]]\n",
    "           \n",
    "        possLetters = self.letterCombinations(digits[1:])\n",
    "        if digits[0] in digitDct:\n",
    "            newPoss = []\n",
    "            for x in possLetters:\n",
    "                for c in digitDct[digits[0]]:\n",
    "                    newPoss += [c+x]\n",
    "            possLetters = newPoss\n",
    "        return possLetters\n",
    "        "
   ]
  }
 ],
 "metadata": {
  "kernelspec": {
   "display_name": "Python 3 (ipykernel)",
   "language": "python",
   "name": "python3"
  },
  "language_info": {
   "codemirror_mode": {
    "name": "ipython",
    "version": 3
   },
   "file_extension": ".py",
   "mimetype": "text/x-python",
   "name": "python",
   "nbconvert_exporter": "python",
   "pygments_lexer": "ipython3",
   "version": "3.9.16"
  }
 },
 "nbformat": 4,
 "nbformat_minor": 5
}
