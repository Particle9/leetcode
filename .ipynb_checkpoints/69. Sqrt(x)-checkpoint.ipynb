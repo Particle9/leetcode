{
 "cells": [
  {
   "cell_type": "code",
   "execution_count": 16,
   "id": "84c004a6-8513-4091-8da1-89edc53a87ee",
   "metadata": {},
   "outputs": [],
   "source": [
    "class Solution:\n",
    "    def mySqrt(self, x: int) -> int:\n",
    "        if not(x):\n",
    "            return 0\n",
    "        if x == 1:\n",
    "            return 1\n",
    "\n",
    "        upper_limit = x\n",
    "        lower_limit = 1\n",
    "\n",
    "        m = x\n",
    "        while m*m != x:\n",
    "            m = lower_limit + (upper_limit-lower_limit)//2\n",
    "\n",
    "            if upper_limit - lower_limit <= 1:\n",
    "                return lower_limit\n",
    "            if m*m > x:\n",
    "                upper_limit = m\n",
    "            if m*m < x:\n",
    "                lower_limit = m\n",
    "                \n",
    "        return m"
   ]
  },
  {
   "cell_type": "code",
   "execution_count": null,
   "id": "c11e597f-0d39-4120-8bad-de8a3ed7239a",
   "metadata": {},
   "outputs": [],
   "source": []
  }
 ],
 "metadata": {
  "kernelspec": {
   "display_name": "Python 3 (ipykernel)",
   "language": "python",
   "name": "python3"
  },
  "language_info": {
   "codemirror_mode": {
    "name": "ipython",
    "version": 3
   },
   "file_extension": ".py",
   "mimetype": "text/x-python",
   "name": "python",
   "nbconvert_exporter": "python",
   "pygments_lexer": "ipython3",
   "version": "3.9.16"
  }
 },
 "nbformat": 4,
 "nbformat_minor": 5
}
