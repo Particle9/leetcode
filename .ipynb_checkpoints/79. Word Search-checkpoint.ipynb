{
 "cells": [
  {
   "cell_type": "code",
   "execution_count": null,
   "id": "8d718eaa-5e0f-426f-a69d-42f44dbfe72f",
   "metadata": {},
   "outputs": [],
   "source": [
    "class Solution:\n",
    "    def checkWord(self, i, j, word, board):\n",
    "        m, n = len(board), len(board[0])\n",
    "        stack = [(i, j, 0, set())]\n",
    "        while stack:\n",
    "            bi, bj, wi, visited = stack.pop()\n",
    "            if wi == len(word):\n",
    "                return True\n",
    "            if 0 <= bi < m and 0 <= bj < n and board[bi][bj] == word[wi] and (bi, bj) not in visited:\n",
    "                new_visited = visited | {(bi, bj)}\n",
    "                for x, y in [(bi + 1, bj), (bi, bj + 1), (bi - 1, bj), (bi, bj - 1)]:\n",
    "                    stack.append((x, y, wi + 1, new_visited))\n",
    "        return False\n",
    "\n",
    "    def exist(self, board: List[List[str]], word: str) -> bool:\n",
    "        for i in range(len(board)):\n",
    "            for j in range(len(board[0])):\n",
    "                if board[i][j] == word[0] and self.checkWord(i, j, word, board):\n",
    "                    return True\n",
    "        return False\n"
   ]
  }
 ],
 "metadata": {
  "kernelspec": {
   "display_name": "Python 3 (ipykernel)",
   "language": "python",
   "name": "python3"
  },
  "language_info": {
   "codemirror_mode": {
    "name": "ipython",
    "version": 3
   },
   "file_extension": ".py",
   "mimetype": "text/x-python",
   "name": "python",
   "nbconvert_exporter": "python",
   "pygments_lexer": "ipython3",
   "version": "3.9.16"
  }
 },
 "nbformat": 4,
 "nbformat_minor": 5
}
