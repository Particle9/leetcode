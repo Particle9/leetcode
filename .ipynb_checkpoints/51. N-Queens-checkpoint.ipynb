{
 "cells": [
  {
   "cell_type": "code",
   "execution_count": null,
   "id": "da0f59b7-1097-431a-8672-bba7989b18eb",
   "metadata": {},
   "outputs": [],
   "source": [
    "class Solution:\n",
    "    def isCoorValid(self, qCoor, currQueens):\n",
    "        q1, q2 = qCoor \n",
    "        for t1,t2 in currQueens:\n",
    "            if q1 == t1:\n",
    "                return False\n",
    "            if q2 == t2:\n",
    "                return False\n",
    "            if abs(q2-t2) == abs(q1-t1):\n",
    "                return False\n",
    "        return True\n",
    "\n",
    "    def nQueensRecurse(self, qi, k, currQueens):\n",
    "        if qi >= k:\n",
    "            return [currQueens]\n",
    "        \n",
    "        possLst = []\n",
    "        for j in range(0, k):\n",
    "            qCoor = (qi, j)\n",
    "            if self.isCoorValid(qCoor, currQueens):\n",
    "                nextQueenCoors = self.nQueensRecurse(qi + 1, k, currQueens + [qCoor])\n",
    "                possLst += nextQueenCoors\n",
    "        return possLst\n",
    "            \n",
    "\n",
    "\n",
    "    def solveNQueens(self, n: int) -> List[List[str]]:\n",
    "        nQueen = self.nQueensRecurse(0,n,[])\n",
    "        matX = [[['.' for _ in range(n)] for _ in range(n)] for _ in range(len(nQueen))]\n",
    "        for i, lc in enumerate(nQueen):\n",
    "            for coor in lc:\n",
    "                x, y = coor\n",
    "                matX[i][x][y] = 'Q'\n",
    "            \n",
    "        matX = [[''.join(x) for x in px] for px in matX]\n",
    "\n",
    "        return matX\n",
    "        "
   ]
  }
 ],
 "metadata": {
  "kernelspec": {
   "display_name": "Python 3 (ipykernel)",
   "language": "python",
   "name": "python3"
  },
  "language_info": {
   "codemirror_mode": {
    "name": "ipython",
    "version": 3
   },
   "file_extension": ".py",
   "mimetype": "text/x-python",
   "name": "python",
   "nbconvert_exporter": "python",
   "pygments_lexer": "ipython3",
   "version": "3.9.16"
  }
 },
 "nbformat": 4,
 "nbformat_minor": 5
}
