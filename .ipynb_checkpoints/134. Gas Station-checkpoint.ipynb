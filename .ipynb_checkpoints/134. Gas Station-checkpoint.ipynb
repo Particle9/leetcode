{
 "cells": [
  {
   "cell_type": "code",
   "execution_count": 1,
   "id": "aed390c9-d55e-4ec2-a26a-b93c6b39262a",
   "metadata": {},
   "outputs": [],
   "source": [
    "from typing import List\n",
    "\n",
    "class Solution:\n",
    "    def canCompleteCircuit(self, gas: List[int], cost: List[int]) -> int:\n",
    "        n, total_surplus, curr_gas, start_station = len(gas), 0, 0, 0\n",
    "\n",
    "        for i in range(n):\n",
    "            total_surplus += gas[i] - cost[i]\n",
    "            curr_gas += gas[i] - cost[i]\n",
    "\n",
    "            if curr_gas < 0:\n",
    "                curr_gas = 0\n",
    "                start_station = i+1\n",
    "\n",
    "        return -1 if (total_surplus < 0) else start_station "
   ]
  },
  {
   "cell_type": "code",
   "execution_count": null,
   "id": "5f366add-db7d-4ff5-908b-fe3a84b2f028",
   "metadata": {},
   "outputs": [],
   "source": []
  }
 ],
 "metadata": {
  "kernelspec": {
   "display_name": "Python 3 (ipykernel)",
   "language": "python",
   "name": "python3"
  },
  "language_info": {
   "codemirror_mode": {
    "name": "ipython",
    "version": 3
   },
   "file_extension": ".py",
   "mimetype": "text/x-python",
   "name": "python",
   "nbconvert_exporter": "python",
   "pygments_lexer": "ipython3",
   "version": "3.9.16"
  }
 },
 "nbformat": 4,
 "nbformat_minor": 5
}
