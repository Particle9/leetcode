{
 "cells": [
  {
   "cell_type": "code",
   "execution_count": null,
   "id": "0d58065d-90f0-4bd4-883e-4ece83fca9c4",
   "metadata": {},
   "outputs": [],
   "source": [
    "class Solution:\n",
    "    def findMin(self, nums: List[int]) -> int:\n",
    "        lower, upper = 0, len(nums) - 1\n",
    "        minRes = nums[0]\n",
    "        while lower < upper:\n",
    "            mid = (upper + lower)//2\n",
    "            if nums[lower] < nums[mid] < nums[upper]:\n",
    "                return nums[lower]\n",
    "            elif nums[mid] < nums[lower] and nums[mid] < nums[upper] and nums[mid] < nums[mid-1]:\n",
    "                return nums[mid]\n",
    "            elif nums[upper] < nums[upper-1]:\n",
    "                return nums[upper]\n",
    "            \n",
    "            minRes = min([minRes, nums[mid], nums[lower] , nums[upper]])\n",
    "            \n",
    "            if nums[lower] <= nums[mid]:\n",
    "                if nums[lower] < nums[mid] > nums[upper]:\n",
    "                    lower = mid + 1\n",
    "                else:\n",
    "                    upper = mid - 1\n",
    "            else:\n",
    "                upper = mid - 1\n",
    "        return minRes\n",
    "            \n",
    "            "
   ]
  }
 ],
 "metadata": {
  "kernelspec": {
   "display_name": "Python 3 (ipykernel)",
   "language": "python",
   "name": "python3"
  },
  "language_info": {
   "codemirror_mode": {
    "name": "ipython",
    "version": 3
   },
   "file_extension": ".py",
   "mimetype": "text/x-python",
   "name": "python",
   "nbconvert_exporter": "python",
   "pygments_lexer": "ipython3",
   "version": "3.9.16"
  }
 },
 "nbformat": 4,
 "nbformat_minor": 5
}
