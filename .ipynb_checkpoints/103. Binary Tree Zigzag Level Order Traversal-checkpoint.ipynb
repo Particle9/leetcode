{
 "cells": [
  {
   "cell_type": "code",
   "execution_count": null,
   "id": "c090a6ad-d701-45ab-9424-bb0824022e1d",
   "metadata": {},
   "outputs": [],
   "source": [
    "# Definition for a binary tree node.\n",
    "class TreeNode:\n",
    "    def __init__(self, val=0, left=None, right=None):\n",
    "        self.val = val\n",
    "        self.left = left\n",
    "        self.right = right\n",
    "class Solution:\n",
    "    def zigzagLevelOrder(self, root: Optional[TreeNode]) -> List[List[int]]:\n",
    "        stack = [(root,0)]\n",
    "        dctx = {}\n",
    "        while stack:\n",
    "            x,lvl = stack.pop()\n",
    "            if x:\n",
    "                if lvl in dctx:\n",
    "                    dctx[lvl] += [x.val]\n",
    "                else:\n",
    "                    dctx[lvl] = [x.val]\n",
    "                stack += [(x.left,lvl+1)]\n",
    "                stack += [(x.right, lvl+1)]\n",
    "        lst = []\n",
    "        for k,lv in dctx.items():\n",
    "            if k % 2 == 0:\n",
    "                lst += [list(reversed(lv))]\n",
    "            else:\n",
    "                lst += [lv]\n",
    "        return lst\n",
    "        "
   ]
  }
 ],
 "metadata": {
  "kernelspec": {
   "display_name": "Python 3 (ipykernel)",
   "language": "python",
   "name": "python3"
  },
  "language_info": {
   "codemirror_mode": {
    "name": "ipython",
    "version": 3
   },
   "file_extension": ".py",
   "mimetype": "text/x-python",
   "name": "python",
   "nbconvert_exporter": "python",
   "pygments_lexer": "ipython3",
   "version": "3.9.16"
  }
 },
 "nbformat": 4,
 "nbformat_minor": 5
}
