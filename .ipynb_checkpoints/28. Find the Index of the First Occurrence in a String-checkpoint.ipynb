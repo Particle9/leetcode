{
 "cells": [
  {
   "cell_type": "code",
   "execution_count": 1,
   "id": "9bf830ab-85f8-4e42-9cee-3db58687e4ac",
   "metadata": {},
   "outputs": [],
   "source": [
    "class Solution:\n",
    "    def strStr(self, haystack: str, needle: str) -> int:\n",
    "        for i in range(0, len(haystack) - len(needle)+ 1):\n",
    "            if needle[0] == haystack[i]:\n",
    "                is_same = True\n",
    "                for j in range(0,len(needle)):\n",
    "                    if needle[j] != haystack[i+j]:\n",
    "                        is_same = False\n",
    "                        break\n",
    "                if is_same:\n",
    "                    return i\n",
    "\n",
    "        return -1\n",
    "        "
   ]
  },
  {
   "cell_type": "code",
   "execution_count": null,
   "id": "9281afc8-783b-45d2-b222-fcee8fec6a66",
   "metadata": {},
   "outputs": [],
   "source": []
  }
 ],
 "metadata": {
  "kernelspec": {
   "display_name": "Python 3 (ipykernel)",
   "language": "python",
   "name": "python3"
  },
  "language_info": {
   "codemirror_mode": {
    "name": "ipython",
    "version": 3
   },
   "file_extension": ".py",
   "mimetype": "text/x-python",
   "name": "python",
   "nbconvert_exporter": "python",
   "pygments_lexer": "ipython3",
   "version": "3.9.16"
  }
 },
 "nbformat": 4,
 "nbformat_minor": 5
}
