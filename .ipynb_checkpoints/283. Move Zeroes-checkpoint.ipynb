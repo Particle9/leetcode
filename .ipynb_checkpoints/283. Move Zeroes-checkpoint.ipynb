{
 "cells": [
  {
   "cell_type": "code",
   "execution_count": null,
   "id": "8d7df1a2-81ab-4e31-8ee5-16952fc76af9",
   "metadata": {},
   "outputs": [],
   "source": [
    "from typing import List\n",
    "\n",
    "class Solution:\n",
    "    def moveZeroes(self, nums: List[int]) -> None:\n",
    "        \"\"\"\n",
    "        Do not return anything, modify nums in-place instead.\n",
    "        \"\"\"\n",
    "        n = len(nums)\n",
    "        i,j = 0, 0\n",
    "        while j < n and i < n:\n",
    "            if nums[i] != 0:\n",
    "                i += 1\n",
    "                if i >= j:\n",
    "                    j+= 1\n",
    "            else:\n",
    "                while j < n and nums[j] == 0:\n",
    "                    j+= 1\n",
    "                if j < n:\n",
    "                    nums[i] = nums[j]\n",
    "                    nums[j] = 0\n",
    "        \n",
    "        "
   ]
  }
 ],
 "metadata": {
  "kernelspec": {
   "display_name": "Python 3 (ipykernel)",
   "language": "python",
   "name": "python3"
  },
  "language_info": {
   "codemirror_mode": {
    "name": "ipython",
    "version": 3
   },
   "file_extension": ".py",
   "mimetype": "text/x-python",
   "name": "python",
   "nbconvert_exporter": "python",
   "pygments_lexer": "ipython3",
   "version": "3.9.16"
  }
 },
 "nbformat": 4,
 "nbformat_minor": 5
}
