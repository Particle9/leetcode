{
 "cells": [
  {
   "cell_type": "code",
   "execution_count": null,
   "id": "fc8a7cfd-dade-46af-93b7-d7079c4f25ae",
   "metadata": {},
   "outputs": [],
   "source": [
    "class Solution:\n",
    "    def increasingTriplet(self, nums: List[int]) -> bool:\n",
    "        currMin1, currMin2 = float('inf'), float('inf')\n",
    "        for x in nums:\n",
    "            if currMin1 >= x:\n",
    "                currMin1 = x\n",
    "            elif currMin2 >= x:\n",
    "                currMin2 = x\n",
    "            else:\n",
    "                return True\n",
    "        return False"
   ]
  }
 ],
 "metadata": {
  "kernelspec": {
   "display_name": "Python 3 (ipykernel)",
   "language": "python",
   "name": "python3"
  },
  "language_info": {
   "codemirror_mode": {
    "name": "ipython",
    "version": 3
   },
   "file_extension": ".py",
   "mimetype": "text/x-python",
   "name": "python",
   "nbconvert_exporter": "python",
   "pygments_lexer": "ipython3",
   "version": "3.9.16"
  }
 },
 "nbformat": 4,
 "nbformat_minor": 5
}
