{
 "cells": [
  {
   "cell_type": "code",
   "execution_count": null,
   "id": "bab90600-521a-44b0-8334-12c80290db22",
   "metadata": {},
   "outputs": [],
   "source": [
    "class Solution:\n",
    "    def countSubstrings(self, s: str) -> int:\n",
    "        n = len(s)\n",
    "        setSubstring = set()\n",
    "        for i in range(0,len(s)):\n",
    "            j,k = i-1, i+1\n",
    "            strx1 = s[i]\n",
    "            tup1 = (i,i)\n",
    "            setSubstring.add(tup1)\n",
    "            while j >= 0 and k < n:\n",
    "                if s[j] != s[k]:\n",
    "                    break\n",
    "                strx1 = s[j] + strx1 + s[k]\n",
    "                tup1 = (j,k)\n",
    "                setSubstring.add(tup1)\n",
    "                j -= 1\n",
    "                k += 1\n",
    "\n",
    "            j,k = i-1, i\n",
    "            strx2 = \"\"\n",
    "            tup2 = (i,i)\n",
    "            while j >= 0 and k < n:\n",
    "                if s[j] != s[k]:\n",
    "                    break\n",
    "                strx2 = s[j] + strx2 + s[k]\n",
    "                tup2 = (j,k)\n",
    "                setSubstring.add(tup2)\n",
    "                j -= 1\n",
    "                k += 1\n",
    "\n",
    "            j,k = i, i+1\n",
    "            strx3 = \"\"\n",
    "            tup3 = (i,i)\n",
    "            while j >= 0 and k < n:\n",
    "                if s[j] != s[k]:\n",
    "                    break\n",
    "                strx3 = s[j] + strx3 + s[k]\n",
    "                tup3 = (j,k)\n",
    "                setSubstring.add(tup3)\n",
    "                j -= 1\n",
    "                k += 1\n",
    "        \n",
    "        return len(setSubstring)\n",
    "        \n",
    "        "
   ]
  }
 ],
 "metadata": {
  "kernelspec": {
   "display_name": "Python 3 (ipykernel)",
   "language": "python",
   "name": "python3"
  },
  "language_info": {
   "codemirror_mode": {
    "name": "ipython",
    "version": 3
   },
   "file_extension": ".py",
   "mimetype": "text/x-python",
   "name": "python",
   "nbconvert_exporter": "python",
   "pygments_lexer": "ipython3",
   "version": "3.9.16"
  }
 },
 "nbformat": 4,
 "nbformat_minor": 5
}
