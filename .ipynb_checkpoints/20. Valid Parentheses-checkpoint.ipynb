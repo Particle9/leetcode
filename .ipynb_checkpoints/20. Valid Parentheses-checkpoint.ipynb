{
 "cells": [
  {
   "cell_type": "code",
   "execution_count": null,
   "id": "bba4de6c-5045-4786-844e-ea4ef471ae44",
   "metadata": {},
   "outputs": [],
   "source": [
    "class Solution:\n",
    "    def isValid(self, s: str) -> bool:\n",
    "        stack = []\n",
    "        for c in s:\n",
    "            if c in ['(','{', '[']:\n",
    "                stack += [c]\n",
    "            else:\n",
    "                if not(stack):\n",
    "                    return False\n",
    "                x = stack.pop()\n",
    "                if x == '(' and c != ')':\n",
    "                    return False\n",
    "                elif x == '[' and c!= ']':\n",
    "                    return False\n",
    "                elif x == '{' and c != '}':\n",
    "                    return False\n",
    "\n",
    "        if not(stack):\n",
    "            return True\n",
    "        else:\n",
    "            return False\n",
    "        "
   ]
  }
 ],
 "metadata": {
  "kernelspec": {
   "display_name": "Python 3 (ipykernel)",
   "language": "python",
   "name": "python3"
  },
  "language_info": {
   "codemirror_mode": {
    "name": "ipython",
    "version": 3
   },
   "file_extension": ".py",
   "mimetype": "text/x-python",
   "name": "python",
   "nbconvert_exporter": "python",
   "pygments_lexer": "ipython3",
   "version": "3.9.16"
  }
 },
 "nbformat": 4,
 "nbformat_minor": 5
}
