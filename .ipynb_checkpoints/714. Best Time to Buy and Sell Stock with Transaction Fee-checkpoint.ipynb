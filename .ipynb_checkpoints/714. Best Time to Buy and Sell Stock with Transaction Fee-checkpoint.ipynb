{
 "cells": [
  {
   "cell_type": "code",
   "execution_count": 5,
   "id": "73b71b6e-e103-46f8-8ea5-1a23dd6ee13e",
   "metadata": {},
   "outputs": [],
   "source": [
    "from typing import List\n",
    "\n",
    "class Solution:\n",
    "    def maxProfit(self, prices: List[int], fee: int) -> int:\n",
    "        profit = 0\n",
    "        noStockMax = 0\n",
    "        withStockMax = - float('inf')\n",
    "        for price in prices:\n",
    "            temp = noStockMax\n",
    "            noStockMax = max(noStockMax, withStockMax + price - fee)\n",
    "            withStockMax = max(noStockMax - price, withStockMax)\n",
    "        return noStockMax\n"
   ]
  },
  {
   "cell_type": "code",
   "execution_count": 6,
   "id": "f40d0b56-484f-4a98-b478-7f79d75a1722",
   "metadata": {},
   "outputs": [],
   "source": [
    "sol = Solution()"
   ]
  },
  {
   "cell_type": "code",
   "execution_count": 9,
   "id": "d883dcc2-a396-44e3-b52c-04896c8b0dd7",
   "metadata": {},
   "outputs": [
    {
     "data": {
      "text/plain": [
       "2"
      ]
     },
     "execution_count": 9,
     "metadata": {},
     "output_type": "execute_result"
    }
   ],
   "source": [
    "sol.maxProfit([1,2,3,0,2], 1)"
   ]
  },
  {
   "cell_type": "code",
   "execution_count": null,
   "id": "ecdfc698-14f9-4f9d-8e3b-bdaa49ad81d4",
   "metadata": {},
   "outputs": [],
   "source": []
  }
 ],
 "metadata": {
  "kernelspec": {
   "display_name": "Python 3 (ipykernel)",
   "language": "python",
   "name": "python3"
  },
  "language_info": {
   "codemirror_mode": {
    "name": "ipython",
    "version": 3
   },
   "file_extension": ".py",
   "mimetype": "text/x-python",
   "name": "python",
   "nbconvert_exporter": "python",
   "pygments_lexer": "ipython3",
   "version": "3.9.16"
  }
 },
 "nbformat": 4,
 "nbformat_minor": 5
}
