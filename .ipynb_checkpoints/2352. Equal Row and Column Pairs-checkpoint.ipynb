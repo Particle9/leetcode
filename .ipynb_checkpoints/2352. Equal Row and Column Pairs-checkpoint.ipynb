{
 "cells": [
  {
   "cell_type": "code",
   "execution_count": null,
   "id": "fecfcd2a-4576-40d2-841f-da04c0b8f623",
   "metadata": {},
   "outputs": [],
   "source": [
    "class Solution:\n",
    "    def equalPairs(self, grid: List[List[int]]) -> int:\n",
    "        if not(grid):\n",
    "            return 0\n",
    "        dctRow = {}\n",
    "        for row in grid:\n",
    "            t = tuple(row)\n",
    "            dctRow[t] = dctRow.get(t,0) + 1\n",
    "        \n",
    "        outCount = 0\n",
    "        \n",
    "        for j in range(0,len(grid[0])):\n",
    "            colLst = [grid[i][j] for i in range(0,len(grid))]\n",
    "            t = tuple(colLst) \n",
    "            if t in dctRow:\n",
    "                outCount += dctRow[t]\n",
    "        return outCount\n",
    "        "
   ]
  }
 ],
 "metadata": {
  "kernelspec": {
   "display_name": "Python 3 (ipykernel)",
   "language": "python",
   "name": "python3"
  },
  "language_info": {
   "codemirror_mode": {
    "name": "ipython",
    "version": 3
   },
   "file_extension": ".py",
   "mimetype": "text/x-python",
   "name": "python",
   "nbconvert_exporter": "python",
   "pygments_lexer": "ipython3",
   "version": "3.9.16"
  }
 },
 "nbformat": 4,
 "nbformat_minor": 5
}
