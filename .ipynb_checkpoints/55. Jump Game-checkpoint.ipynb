{
 "cells": [
  {
   "cell_type": "code",
   "execution_count": null,
   "id": "6f29c7b8-09ca-49fe-a620-d684068cdb69",
   "metadata": {},
   "outputs": [],
   "source": [
    "from typing import List\n",
    "\n",
    "class Solution:\n",
    "    def canJumpRecursive(self, nums, i, dct_memo):\n",
    "        if i in dct_memo:\n",
    "            return dct_memo[i]\n",
    "        if i == len(nums)-1:\n",
    "            dct_memo[i] = True\n",
    "            return True\n",
    "        if i >= len(nums):\n",
    "            dct_memo[i] = False\n",
    "            return False\n",
    "        if nums[i] == 0:\n",
    "            dct_memo[i] = False\n",
    "            return False\n",
    "\n",
    "        for k in reversed(range(1,nums[i]+1)):\n",
    "            can_jump = self.canJumpRecursive(nums, i+k, dct_memo)\n",
    "            if can_jump:\n",
    "                dct_memo[i] = True\n",
    "                return True\n",
    "        \n",
    "        dct_memo[i] = False\n",
    "        return False\n",
    "        \n",
    "\n",
    "    def canJump(self, nums: List[int]) -> bool:\n",
    "        dct_memo = {}\n",
    "\n",
    "        return self.canJumpRecursive(nums,0, dct_memo)\n",
    "\n",
    "        "
   ]
  }
 ],
 "metadata": {
  "kernelspec": {
   "display_name": "Python 3 (ipykernel)",
   "language": "python",
   "name": "python3"
  },
  "language_info": {
   "codemirror_mode": {
    "name": "ipython",
    "version": 3
   },
   "file_extension": ".py",
   "mimetype": "text/x-python",
   "name": "python",
   "nbconvert_exporter": "python",
   "pygments_lexer": "ipython3",
   "version": "3.9.16"
  }
 },
 "nbformat": 4,
 "nbformat_minor": 5
}
