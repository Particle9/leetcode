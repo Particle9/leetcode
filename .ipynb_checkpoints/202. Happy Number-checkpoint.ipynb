{
 "cells": [
  {
   "cell_type": "code",
   "execution_count": null,
   "id": "d8b2259e-1994-481a-ad77-e86f66b6d1ad",
   "metadata": {},
   "outputs": [],
   "source": [
    "class Solution:\n",
    "\n",
    "    def isHappyRecurse(self, n, set_s):\n",
    "        if n == 1:\n",
    "            return True\n",
    "        elif n in set_s:\n",
    "            return False\n",
    "\n",
    "        set_s.add(n)\n",
    "        numstr = str(n)\n",
    "        sumnum = 0\n",
    "        for c in numstr:\n",
    "            x = int(c)\n",
    "            sumnum += x*x\n",
    "        \n",
    "        return self.isHappyRecurse(sumnum,set_s)\n",
    "\n",
    "    def isHappy(self, n: int) -> bool:\n",
    "        if n == 1:\n",
    "            return True\n",
    "        numstr = str(n)\n",
    "        sumnum = 0\n",
    "        for c in numstr:\n",
    "            x = int(c)\n",
    "            sumnum += x*x\n",
    "\n",
    "        set_s = set()\n",
    "        \n",
    "        return self.isHappyRecurse(sumnum,set_s)\n"
   ]
  }
 ],
 "metadata": {
  "kernelspec": {
   "display_name": "Python 3 (ipykernel)",
   "language": "python",
   "name": "python3"
  },
  "language_info": {
   "codemirror_mode": {
    "name": "ipython",
    "version": 3
   },
   "file_extension": ".py",
   "mimetype": "text/x-python",
   "name": "python",
   "nbconvert_exporter": "python",
   "pygments_lexer": "ipython3",
   "version": "3.9.16"
  }
 },
 "nbformat": 4,
 "nbformat_minor": 5
}
