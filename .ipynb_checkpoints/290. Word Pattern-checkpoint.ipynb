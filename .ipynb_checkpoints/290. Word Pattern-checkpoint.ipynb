{
 "cells": [
  {
   "cell_type": "code",
   "execution_count": null,
   "id": "d90dd892-c7ef-4e88-aab4-6dc208658c90",
   "metadata": {},
   "outputs": [],
   "source": [
    "class Solution:\n",
    "    def wordPattern(self, pattern: str, s: str) -> bool:\n",
    "        lst = s.split()\n",
    "        dctx = []\n",
    "\n",
    "        if len(pattern) != len(lst):\n",
    "            return False\n",
    "\n",
    "        dctx = {}\n",
    "        mapped_t = set()\n",
    "\n",
    "        for i in range(0,len(lst)):\n",
    "            if pattern[i] not in dctx:\n",
    "                if lst[i] in mapped_t:\n",
    "                    return False\n",
    "                dctx[pattern[i]] = lst[i]\n",
    "                mapped_t.add(lst[i])\n",
    "            elif dctx[pattern[i]] != lst[i]:\n",
    "                return False\n",
    "\n",
    "        return True"
   ]
  }
 ],
 "metadata": {
  "kernelspec": {
   "display_name": "Python 3 (ipykernel)",
   "language": "python",
   "name": "python3"
  },
  "language_info": {
   "codemirror_mode": {
    "name": "ipython",
    "version": 3
   },
   "file_extension": ".py",
   "mimetype": "text/x-python",
   "name": "python",
   "nbconvert_exporter": "python",
   "pygments_lexer": "ipython3",
   "version": "3.9.16"
  }
 },
 "nbformat": 4,
 "nbformat_minor": 5
}
