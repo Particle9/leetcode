{
 "cells": [
  {
   "cell_type": "code",
   "execution_count": null,
   "id": "cada148b-7bcf-4eac-a262-5fb0c07a99f4",
   "metadata": {},
   "outputs": [],
   "source": [
    "class Solution:\n",
    "    def insert(self, intervals: List[List[int]], newInterval: List[int]) -> List[List[int]]:\n",
    "        lst = []\n",
    "        new_x, new_y = newInterval\n",
    "        prev_x,prev_y = newInterval\n",
    "        isFound = False\n",
    "        for i in range(0,len(intervals)):\n",
    "            x,y = intervals[i]\n",
    "            print(x,y)\n",
    "            if not(isFound):\n",
    "                if (y < new_x):\n",
    "                    lst += [(x,y)]\n",
    "                elif (x > new_y):\n",
    "                    lst += [(new_x,new_y)] + intervals[i:]\n",
    "                    return lst\n",
    "                else:\n",
    "                    prev_x = min(x,new_x)\n",
    "                    prev_y = max(y,new_y)\n",
    "                    isFound = True\n",
    "            else:\n",
    "                if (x > prev_y):\n",
    "                    lst += [(prev_x,prev_y)] + intervals[i:]\n",
    "                    return lst\n",
    "                else:\n",
    "                    prev_y = max(y,prev_y)\n",
    "            \n",
    "        return lst + [(prev_x,prev_y)]\n",
    "\n",
    "\n",
    "                \n",
    "\n",
    "\n",
    "        "
   ]
  }
 ],
 "metadata": {
  "kernelspec": {
   "display_name": "Python 3 (ipykernel)",
   "language": "python",
   "name": "python3"
  },
  "language_info": {
   "codemirror_mode": {
    "name": "ipython",
    "version": 3
   },
   "file_extension": ".py",
   "mimetype": "text/x-python",
   "name": "python",
   "nbconvert_exporter": "python",
   "pygments_lexer": "ipython3",
   "version": "3.9.16"
  }
 },
 "nbformat": 4,
 "nbformat_minor": 5
}
