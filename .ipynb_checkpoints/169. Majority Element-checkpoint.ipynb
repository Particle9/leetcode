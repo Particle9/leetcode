{
 "cells": [
  {
   "cell_type": "code",
   "execution_count": null,
   "id": "69434d04-e9ec-4988-8a56-6c2e62e0a26b",
   "metadata": {},
   "outputs": [],
   "source": [
    "from typing import List\n",
    "\n",
    "class Solution:\n",
    "    def majorityElement(self, nums: List[int]) -> int:\n",
    "        dctx = {}\n",
    "        mode = 0\n",
    "        n_mode = nums[0]\n",
    "\n",
    "        for x in nums:\n",
    "            if x in dctx:\n",
    "                dctx[x] += 1\n",
    "            else:\n",
    "                dctx[x] = 1\n",
    "            if mode < dctx[x]:\n",
    "                mode = dctx[x]\n",
    "                n_mode = x\n",
    "        return n_mode\n",
    "        "
   ]
  }
 ],
 "metadata": {
  "kernelspec": {
   "display_name": "Python 3 (ipykernel)",
   "language": "python",
   "name": "python3"
  },
  "language_info": {
   "codemirror_mode": {
    "name": "ipython",
    "version": 3
   },
   "file_extension": ".py",
   "mimetype": "text/x-python",
   "name": "python",
   "nbconvert_exporter": "python",
   "pygments_lexer": "ipython3",
   "version": "3.9.16"
  }
 },
 "nbformat": 4,
 "nbformat_minor": 5
}
