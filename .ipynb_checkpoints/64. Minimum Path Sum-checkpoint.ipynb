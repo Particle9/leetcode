{
 "cells": [
  {
   "cell_type": "code",
   "execution_count": 1,
   "id": "67631665-d1b5-4678-80d4-74c6d1688c5c",
   "metadata": {},
   "outputs": [],
   "source": [
    "from typing import Optional, List\n",
    "\n",
    "\n",
    "class Solution:\n",
    "    def printMat(self, mtrx):\n",
    "        for lx in mtrx:\n",
    "            print(lx)\n",
    "\n",
    "    def minPathSum(self, grid: List[List[int]]) -> int:\n",
    "        n = len(grid)\n",
    "        if n == 0:\n",
    "            return 0\n",
    "\n",
    "        m = len(grid[0])\n",
    "        tab = [[0] *  (m+2) for _ in range(0,n+2)]\n",
    "\n",
    "        tab[0][0] = 0\n",
    "        tab[1][1] = grid[0][0]\n",
    "\n",
    "        for i in range(1, n+1):\n",
    "            for j in range(1,m+1):\n",
    "                if i-1 != 0 and j-1 !=0:\n",
    "                    tab[i][j] = min(tab[i-1][j], tab[i][j-1]) + grid[i-1][j-1]\n",
    "                elif i-1 != 0:\n",
    "                    tab[i][j] = tab[i-1][j] + grid[i-1][j-1]\n",
    "                elif j-1 != 0:\n",
    "                    tab[i][j] = tab[i][j-1] + grid[i-1][j-1]\n",
    "        \n",
    "        return tab[n][m]"
   ]
  },
  {
   "cell_type": "code",
   "execution_count": null,
   "id": "7c903e19-ceb9-4b82-b0bf-67e6a7ac71ea",
   "metadata": {},
   "outputs": [],
   "source": []
  }
 ],
 "metadata": {
  "kernelspec": {
   "display_name": "Python 3 (ipykernel)",
   "language": "python",
   "name": "python3"
  },
  "language_info": {
   "codemirror_mode": {
    "name": "ipython",
    "version": 3
   },
   "file_extension": ".py",
   "mimetype": "text/x-python",
   "name": "python",
   "nbconvert_exporter": "python",
   "pygments_lexer": "ipython3",
   "version": "3.9.16"
  }
 },
 "nbformat": 4,
 "nbformat_minor": 5
}
