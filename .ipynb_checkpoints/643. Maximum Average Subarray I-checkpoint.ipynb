{
 "cells": [
  {
   "cell_type": "code",
   "execution_count": 1,
   "id": "a3193007-3704-4833-8fa2-d2236e412932",
   "metadata": {},
   "outputs": [],
   "source": [
    "from typing import List\n",
    "\n",
    "class Solution:\n",
    "    def findMaxAverage(self, nums: List[int], k: int) -> float:\n",
    "        if len(nums) == k:\n",
    "            return sum(nums) / len(nums)\n",
    "        maxSum = -float('inf')\n",
    "        currSum = sum(nums[:k])\n",
    "        for i in range(0,len(nums)-k):\n",
    "            maxSum = max(maxSum, currSum)\n",
    "            currSum -= nums[i]\n",
    "            currSum += nums[i+k]\n",
    "        \n",
    "        maxSum = max(maxSum, currSum)\n",
    "        return maxSum /k\n",
    "        "
   ]
  },
  {
   "cell_type": "code",
   "execution_count": null,
   "id": "f167482e-39e0-4719-b538-acd89022abd3",
   "metadata": {},
   "outputs": [],
   "source": []
  }
 ],
 "metadata": {
  "kernelspec": {
   "display_name": "Python 3 (ipykernel)",
   "language": "python",
   "name": "python3"
  },
  "language_info": {
   "codemirror_mode": {
    "name": "ipython",
    "version": 3
   },
   "file_extension": ".py",
   "mimetype": "text/x-python",
   "name": "python",
   "nbconvert_exporter": "python",
   "pygments_lexer": "ipython3",
   "version": "3.9.16"
  }
 },
 "nbformat": 4,
 "nbformat_minor": 5
}
