{
 "cells": [
  {
   "cell_type": "code",
   "execution_count": null,
   "id": "22624bb6-e267-439c-a67f-34552b0b339d",
   "metadata": {},
   "outputs": [],
   "source": [
    "class Solution:\n",
    "    def longestMountain(self, arr: List[int]) -> int:\n",
    "        maxLength = 0\n",
    "        n = len(arr)\n",
    "        for k in range(0,n):\n",
    "            i, j = k-1, k+1\n",
    "            prev_i, prev_j = k,k\n",
    "            if i >= 0 and j < n and arr[i] < arr[k] and arr[j] < arr[k]:\n",
    "                while i < prev_i and i >= 0 :\n",
    "                    if arr[i] < arr[prev_i]:\n",
    "                        prev_i = i\n",
    "                        i -= 1\n",
    "                        maxLength = max(maxLength, k-i)\n",
    "                    else:\n",
    "                        break\n",
    "                while j > prev_j and j < n:\n",
    "                    if arr[j] < arr[prev_j]:\n",
    "                        prev_j = j\n",
    "                        j += 1\n",
    "                        maxLength = max(maxLength, j-prev_i)\n",
    "                    else:\n",
    "                        break\n",
    "        return maxLength if maxLength >= 3 else 0\n"
   ]
  }
 ],
 "metadata": {
  "kernelspec": {
   "display_name": "Python 3 (ipykernel)",
   "language": "python",
   "name": "python3"
  },
  "language_info": {
   "codemirror_mode": {
    "name": "ipython",
    "version": 3
   },
   "file_extension": ".py",
   "mimetype": "text/x-python",
   "name": "python",
   "nbconvert_exporter": "python",
   "pygments_lexer": "ipython3",
   "version": "3.9.16"
  }
 },
 "nbformat": 4,
 "nbformat_minor": 5
}
