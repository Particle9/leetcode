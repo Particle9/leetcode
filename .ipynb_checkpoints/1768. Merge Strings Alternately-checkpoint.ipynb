{
 "cells": [
  {
   "cell_type": "code",
   "execution_count": null,
   "id": "6e8e3f44-3f6a-4b4a-9d3f-8f7a9bb96767",
   "metadata": {},
   "outputs": [],
   "source": [
    "class Solution:\n",
    "    def mergeAlternately(self, word1: str, word2: str) -> str:\n",
    "        i, j = 0, 0\n",
    "        newStr = \"\"\n",
    "        while i < len(word1) and j < len(word2):\n",
    "            if i > j:\n",
    "                newStr += word2[j]\n",
    "                j += 1\n",
    "            else:\n",
    "                newStr += word1[i]\n",
    "                i+= 1\n",
    "        if i < len(word1):\n",
    "            newStr += word1[i:]\n",
    "        else:\n",
    "            newStr += word2[j:]\n",
    "        return newStr"
   ]
  }
 ],
 "metadata": {
  "kernelspec": {
   "display_name": "Python 3 (ipykernel)",
   "language": "python",
   "name": "python3"
  },
  "language_info": {
   "codemirror_mode": {
    "name": "ipython",
    "version": 3
   },
   "file_extension": ".py",
   "mimetype": "text/x-python",
   "name": "python",
   "nbconvert_exporter": "python",
   "pygments_lexer": "ipython3",
   "version": "3.9.16"
  }
 },
 "nbformat": 4,
 "nbformat_minor": 5
}
