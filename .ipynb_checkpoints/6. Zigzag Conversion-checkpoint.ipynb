{
 "cells": [
  {
   "cell_type": "code",
   "execution_count": 1,
   "id": "d5acaa07-b4d1-4b34-bfeb-dcdecf289c07",
   "metadata": {},
   "outputs": [],
   "source": [
    "class Solution:\n",
    "    def convert(self, s: str, numRows: int) -> str:\n",
    "        if numRows == 1:\n",
    "            return s\n",
    "        \n",
    "        strx = [\"\" for _ in range(numRows)]\n",
    "        \n",
    "        loc_lst = []\n",
    "        i = 0\n",
    "        k = 1\n",
    "        for x in s:\n",
    "            loc_lst += [i]\n",
    "            if i == numRows-1:\n",
    "                k = -1\n",
    "            elif i == 0:\n",
    "                k = 1\n",
    "            strx[i] += x\n",
    "            i += k\n",
    "        \n",
    "        return \"\".join(strx)"
   ]
  },
  {
   "cell_type": "code",
   "execution_count": null,
   "id": "93ab8c69-d1a9-4204-828c-aaf7fe7c0ede",
   "metadata": {},
   "outputs": [],
   "source": []
  }
 ],
 "metadata": {
  "kernelspec": {
   "display_name": "Python 3 (ipykernel)",
   "language": "python",
   "name": "python3"
  },
  "language_info": {
   "codemirror_mode": {
    "name": "ipython",
    "version": 3
   },
   "file_extension": ".py",
   "mimetype": "text/x-python",
   "name": "python",
   "nbconvert_exporter": "python",
   "pygments_lexer": "ipython3",
   "version": "3.9.16"
  }
 },
 "nbformat": 4,
 "nbformat_minor": 5
}
