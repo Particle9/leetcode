{
 "cells": [
  {
   "cell_type": "code",
   "execution_count": 1,
   "id": "3a1763f0-363a-49e3-8b67-eacf43d44cf4",
   "metadata": {},
   "outputs": [],
   "source": [
    "from typing import Optional, List\n",
    "\n",
    "\n",
    "class Solution:\n",
    "    def printMat(self, mtrx):\n",
    "        for lx in mtrx:\n",
    "            print(lx)\n",
    "\n",
    "    def uniquePathsWithObstacles(self, obstacleGrid: List[List[int]]) -> int:\n",
    "        ln = len(obstacleGrid)\n",
    "        if not(ln):\n",
    "            return 0\n",
    "        lm = len(obstacleGrid[0])\n",
    "\n",
    "        dp = [[0 for j in range(0,lm+2)] for i in range(0,ln +2)]\n",
    "        dp[1][1] = 1\n",
    "        for i in range(1, ln+1):\n",
    "            for j in range(1, lm+1):\n",
    "                if obstacleGrid[i-1][j-1] != 1:\n",
    "                    dp[i+1][j] += dp[i][j]\n",
    "                    dp[i][j+1] += dp[i][j]\n",
    "                else:\n",
    "                    dp[i][j] = 0\n",
    "\n",
    "        return dp[ln][lm]\n",
    "\n",
    "\n",
    "\n",
    "        "
   ]
  },
  {
   "cell_type": "code",
   "execution_count": null,
   "id": "b1843465-fc01-45c9-9392-0314e1eaed83",
   "metadata": {},
   "outputs": [],
   "source": []
  }
 ],
 "metadata": {
  "kernelspec": {
   "display_name": "Python 3 (ipykernel)",
   "language": "python",
   "name": "python3"
  },
  "language_info": {
   "codemirror_mode": {
    "name": "ipython",
    "version": 3
   },
   "file_extension": ".py",
   "mimetype": "text/x-python",
   "name": "python",
   "nbconvert_exporter": "python",
   "pygments_lexer": "ipython3",
   "version": "3.9.16"
  }
 },
 "nbformat": 4,
 "nbformat_minor": 5
}
