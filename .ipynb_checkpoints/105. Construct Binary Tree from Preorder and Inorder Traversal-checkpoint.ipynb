{
 "cells": [
  {
   "cell_type": "code",
   "execution_count": 3,
   "id": "071d04b7-35ae-486d-b3f2-91b21fdcad40",
   "metadata": {},
   "outputs": [],
   "source": [
    "from typing import Optional, List\n",
    "\n",
    "class TreeNode:\n",
    "    def __init__(self, val=0, left=None, right=None):\n",
    "        self.val = val\n",
    "        self.left = left\n",
    "        self.right = right"
   ]
  },
  {
   "cell_type": "code",
   "execution_count": 4,
   "id": "84e38f24-9f8c-49bf-b577-2cdaad5a6a53",
   "metadata": {},
   "outputs": [],
   "source": [
    "class Solution:\n",
    "    def split_tree(self, preorder, inorder):\n",
    "        root_val = preorder[0]\n",
    "        root_inorder_idx = 0\n",
    "        for i in range(0,len(inorder)):\n",
    "            if root_val == inorder[i]:\n",
    "                root_inorder_idx = i\n",
    "                break\n",
    "        left_inorder = inorder[:root_inorder_idx]\n",
    "        right_inorder = inorder[root_inorder_idx+1:]\n",
    "\n",
    "        left_preorder = []\n",
    "        right_preorder = []\n",
    "        for i in range(0,len(preorder)):\n",
    "            if preorder[i] in left_inorder:\n",
    "                left_preorder += [preorder[i]]\n",
    "            elif preorder[i] in right_inorder:\n",
    "                right_preorder += [preorder[i]]\n",
    "        \n",
    "        return root_val, left_preorder, right_preorder, left_inorder, right_inorder\n",
    "\n",
    "    def buildTree_long(self, preorder: List[int], inorder: List[int]) -> Optional[TreeNode]:\n",
    "        if not(preorder):\n",
    "            return None\n",
    "        if len(preorder) == 1:\n",
    "            return TreeNode(preorder[0])\n",
    "        \n",
    "        val, left_preorder, right_preorder, left_inorder, right_inorder = self.split_tree(preorder,inorder)\n",
    "\n",
    "        left_tree = self.buildTree(left_preorder,left_inorder)\n",
    "        right_tree = self.buildTree(right_preorder,right_inorder)\n",
    "\n",
    "        tree = TreeNode(val = val, left = left_tree, right = right_tree)\n",
    "        return tree\n",
    "\n",
    "    def buildTree(self,preorder,inorder):\n",
    "        if inorder:\n",
    "            root_inorder_idx = 0\n",
    "            root_val = preorder.pop(0)\n",
    "            for i in range(0,len(inorder)):\n",
    "                if root_val == inorder[i]:\n",
    "                    root_inorder_idx = i\n",
    "                    break\n",
    "            root = TreeNode(root_val)\n",
    "            root.left = self.buildTree(preorder, inorder[:root_inorder_idx])\n",
    "            root.right = self.buildTree(preorder, inorder[root_inorder_idx+1:])\n",
    "            return root\n",
    "        return None\n",
    "        "
   ]
  },
  {
   "cell_type": "code",
   "execution_count": null,
   "id": "c1223182-ee61-47e0-a045-063c3f0715ed",
   "metadata": {},
   "outputs": [],
   "source": []
  }
 ],
 "metadata": {
  "kernelspec": {
   "display_name": "Python 3 (ipykernel)",
   "language": "python",
   "name": "python3"
  },
  "language_info": {
   "codemirror_mode": {
    "name": "ipython",
    "version": 3
   },
   "file_extension": ".py",
   "mimetype": "text/x-python",
   "name": "python",
   "nbconvert_exporter": "python",
   "pygments_lexer": "ipython3",
   "version": "3.9.16"
  }
 },
 "nbformat": 4,
 "nbformat_minor": 5
}
