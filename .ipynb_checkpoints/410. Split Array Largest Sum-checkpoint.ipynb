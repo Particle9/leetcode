{
 "cells": [
  {
   "cell_type": "code",
   "execution_count": null,
   "id": "f7e48efa-5021-4373-a093-4128402e2f6c",
   "metadata": {},
   "outputs": [],
   "source": [
    "class Solution:\n",
    "\n",
    "    def isSubarrayPossible(self, nums, candidate, k):\n",
    "        numSubArrays = 1\n",
    "        maxSubSums = 0\n",
    "        for n in nums:\n",
    "            if maxSubSums + n <= candidate:\n",
    "                maxSubSums += n\n",
    "            else:\n",
    "                maxSubSums = n\n",
    "                numSubArrays += 1\n",
    "        return numSubArrays <= k\n",
    "\n",
    "\n",
    "    def splitArray(self, nums: List[int], k: int) -> int:\n",
    "        sumNums = sum(nums)\n",
    "        balancedSum = sumNums // k\n",
    "        ratio = len(nums) // k\n",
    "        lstx = []\n",
    "        lstx_sum = []\n",
    "        max_idx = 0\n",
    "        max_sum = sumNums\n",
    "\n",
    "        for i in range(0,k):\n",
    "            sublist = nums[i*ratio:(i+1)*ratio]\n",
    "            sumSublist = sum(sublist)\n",
    "            lstx += [sublist]\n",
    "            lstx_sum += [sumSublist]\n",
    "            if max_sum > sumSublist:\n",
    "                max_sum = sumNums\n",
    "                max_idx = i\n",
    "        \n",
    "        min_poss = max(balancedSum, max(nums))\n",
    "        max_poss = max_sum\n",
    "\n",
    "\n",
    "        if min_poss == max_poss:\n",
    "            return min_poss\n",
    "\n",
    "        res = sumNums\n",
    "        while max_poss >= min_poss:\n",
    "            mid_poss = (max_poss + min_poss) // 2\n",
    "            if self.isSubarrayPossible(nums, mid_poss, k):\n",
    "                res = mid_poss\n",
    "                max_poss = mid_poss - 1\n",
    "            else:\n",
    "                min_poss = mid_poss + 1\n",
    "        return res"
   ]
  }
 ],
 "metadata": {
  "kernelspec": {
   "display_name": "Python 3 (ipykernel)",
   "language": "python",
   "name": "python3"
  },
  "language_info": {
   "codemirror_mode": {
    "name": "ipython",
    "version": 3
   },
   "file_extension": ".py",
   "mimetype": "text/x-python",
   "name": "python",
   "nbconvert_exporter": "python",
   "pygments_lexer": "ipython3",
   "version": "3.9.16"
  }
 },
 "nbformat": 4,
 "nbformat_minor": 5
}
