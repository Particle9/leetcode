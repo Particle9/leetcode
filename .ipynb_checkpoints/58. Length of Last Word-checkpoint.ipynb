{
 "cells": [
  {
   "cell_type": "code",
   "execution_count": 1,
   "id": "4918fe5c-79b6-42a2-a3ec-b945d8184109",
   "metadata": {},
   "outputs": [],
   "source": [
    "class Solution:\n",
    "    def lengthOfLastWord(self, s: str) -> int:\n",
    "        last_word = s.split()[-1]\n",
    "        return len(last_word)\n",
    "\n",
    "    def lengthOfLastWord_nolib(self, s: str) -> int:\n",
    "        is_found = False\n",
    "        count_num = 0\n",
    "        for c in reversed(s):\n",
    "            if c == \" \" and is_found:\n",
    "                return count_num\n",
    "            elif c != \" \" and not(is_found):\n",
    "                is_found = True\n",
    "                count_num += 1\n",
    "            elif is_found:\n",
    "                count_num += 1\n",
    "        return count_num"
   ]
  },
  {
   "cell_type": "code",
   "execution_count": null,
   "id": "c4f15dc9-3185-49cb-a409-94c9cb82be54",
   "metadata": {},
   "outputs": [],
   "source": []
  }
 ],
 "metadata": {
  "kernelspec": {
   "display_name": "Python 3 (ipykernel)",
   "language": "python",
   "name": "python3"
  },
  "language_info": {
   "codemirror_mode": {
    "name": "ipython",
    "version": 3
   },
   "file_extension": ".py",
   "mimetype": "text/x-python",
   "name": "python",
   "nbconvert_exporter": "python",
   "pygments_lexer": "ipython3",
   "version": "3.9.16"
  }
 },
 "nbformat": 4,
 "nbformat_minor": 5
}
