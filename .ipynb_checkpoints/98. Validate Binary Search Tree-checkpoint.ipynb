{
 "cells": [
  {
   "cell_type": "code",
   "execution_count": null,
   "id": "2652e2af-e5c7-4d98-8a5a-e1c72c5ccaf6",
   "metadata": {},
   "outputs": [],
   "source": [
    "# Definition for a binary tree node.\n",
    "class TreeNode:\n",
    "    def __init__(self, val=0, left=None, right=None):\n",
    "        self.val = val\n",
    "        self.left = left\n",
    "        self.right = right\n",
    "        \n",
    "class Solution:\n",
    "    def isValidBSTRecurse(self, root: Optional[TreeNode]) -> bool:\n",
    "        if not(root):\n",
    "            return (float('inf'), -float('inf'), True)\n",
    "        elif not(root.left) and not(root.right):\n",
    "            return (root.val, root.val, True)\n",
    "        \n",
    "        cond = True\n",
    "        if root.left:\n",
    "            cond = cond and root.left.val < root.val\n",
    "        if root.right:\n",
    "            cond = cond and root.right.val > root.val\n",
    "        \n",
    "        if not(cond):\n",
    "            return (root.val, root.val, False)\n",
    "\n",
    "        lmin, lmax, lcond = self.isValidBSTRecurse(root.left)\n",
    "        if not(lcond):\n",
    "            return (root.val, root.val, False)\n",
    "        rmin, rmax, rcond = self.isValidBSTRecurse(root.right)\n",
    "        if not(rcond):\n",
    "            return (root.val, root.val, False)\n",
    "\n",
    "        maxVal = max(lmax, rmax, root.val)\n",
    "        minVal = min(lmin, rmin, root.val)\n",
    "\n",
    "        if root.val <= lmax:\n",
    "            return (minVal, maxVal, False)\n",
    "        if root.val >= rmin:\n",
    "            return (minVal, maxVal, False)\n",
    "        return (minVal, maxVal, lcond and rcond and cond)\n",
    "\n",
    "\n",
    "    def isValidBST(self, root: Optional[TreeNode]) -> bool:\n",
    "        vmax, vmin, boo = self.isValidBSTRecurse(root)\n",
    "        return boo\n",
    "\n",
    "        "
   ]
  }
 ],
 "metadata": {
  "kernelspec": {
   "display_name": "Python 3 (ipykernel)",
   "language": "python",
   "name": "python3"
  },
  "language_info": {
   "codemirror_mode": {
    "name": "ipython",
    "version": 3
   },
   "file_extension": ".py",
   "mimetype": "text/x-python",
   "name": "python",
   "nbconvert_exporter": "python",
   "pygments_lexer": "ipython3",
   "version": "3.9.16"
  }
 },
 "nbformat": 4,
 "nbformat_minor": 5
}
