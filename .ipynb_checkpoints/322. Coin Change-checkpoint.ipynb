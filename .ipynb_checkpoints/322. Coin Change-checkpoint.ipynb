{
 "cells": [
  {
   "cell_type": "code",
   "execution_count": 1,
   "id": "dcde6f67-38f1-4192-9063-96e2820eeac8",
   "metadata": {},
   "outputs": [],
   "source": [
    "from typing import Optional, List\n",
    "\n",
    "class Solution:\n",
    "    def coinChange(self, coins: List[int], amount: int) -> int:\n",
    "        lc = len(coins)\n",
    "        dp = [amount+1000] * (amount + 2)\n",
    "        dp[0] = 0\n",
    "        for i in range(0, amount+1):\n",
    "            if dp[i] != -1:\n",
    "                for coin in coins:\n",
    "                    if i + coin < amount+2:\n",
    "                        dp[i+coin] = min(dp[i] + 1, dp[i+coin])\n",
    "        \n",
    "        min_coin = dp[amount]\n",
    "        if min_coin > amount:\n",
    "            return -1\n",
    "        else:\n",
    "            return min_coin\n",
    "        \n",
    "        "
   ]
  },
  {
   "cell_type": "code",
   "execution_count": null,
   "id": "fc9a2b41-6944-4b16-8614-93a9fcc1838d",
   "metadata": {},
   "outputs": [],
   "source": []
  }
 ],
 "metadata": {
  "kernelspec": {
   "display_name": "Python 3 (ipykernel)",
   "language": "python",
   "name": "python3"
  },
  "language_info": {
   "codemirror_mode": {
    "name": "ipython",
    "version": 3
   },
   "file_extension": ".py",
   "mimetype": "text/x-python",
   "name": "python",
   "nbconvert_exporter": "python",
   "pygments_lexer": "ipython3",
   "version": "3.9.16"
  }
 },
 "nbformat": 4,
 "nbformat_minor": 5
}
