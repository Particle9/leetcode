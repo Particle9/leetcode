{
 "cells": [
  {
   "cell_type": "code",
   "execution_count": null,
   "id": "26b1d09e-e5fb-4768-8c81-ac07ba8398fe",
   "metadata": {},
   "outputs": [],
   "source": [
    "# Definition for a binary tree node.\n",
    "class TreeNode:\n",
    "    def __init__(self, val=0, left=None, right=None):\n",
    "        self.val = val\n",
    "        self.left = left\n",
    "        self.right = right\n",
    "class Solution:\n",
    "    def averageOfLevels(self, root: Optional[TreeNode]) -> List[float]:\n",
    "        stack = [(root,0)]\n",
    "        dctx = {}\n",
    "        while stack:\n",
    "            x,lvl = stack.pop()\n",
    "            if x:\n",
    "                if lvl in dctx:\n",
    "                    dctx[lvl] += [x.val]\n",
    "                else:\n",
    "                    dctx[lvl] = [x.val]\n",
    "                stack += [(x.right, lvl+1)]\n",
    "                stack += [(x.left,lvl+1)]\n",
    "        \n",
    "        lst = []\n",
    "        for k,lv in dctx.items():\n",
    "            lst += [sum(lv)/len(lv)]\n",
    "        return lst\n",
    "\n",
    "        "
   ]
  }
 ],
 "metadata": {
  "kernelspec": {
   "display_name": "Python 3 (ipykernel)",
   "language": "python",
   "name": "python3"
  },
  "language_info": {
   "codemirror_mode": {
    "name": "ipython",
    "version": 3
   },
   "file_extension": ".py",
   "mimetype": "text/x-python",
   "name": "python",
   "nbconvert_exporter": "python",
   "pygments_lexer": "ipython3",
   "version": "3.9.16"
  }
 },
 "nbformat": 4,
 "nbformat_minor": 5
}
