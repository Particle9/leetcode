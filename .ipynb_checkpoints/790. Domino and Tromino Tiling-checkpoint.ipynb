{
 "cells": [
  {
   "cell_type": "code",
   "execution_count": null,
   "id": "130a3497-caa7-45d9-81a0-13dc5f7584db",
   "metadata": {},
   "outputs": [],
   "source": [
    "class Solution:\n",
    "    def numTilings(self, n: int) -> int:\n",
    "        dp = [0] * max((n+1), 3)\n",
    "        dp[0] = 1\n",
    "        dp[1] = 1\n",
    "        dp[2] = 2\n",
    "        for i in range(3,n+1):\n",
    "            dp[i] = dp[i-1] * 2 + dp[i-3]\n",
    "        return dp[n] % (10**9 + 7)\n",
    "        "
   ]
  }
 ],
 "metadata": {
  "kernelspec": {
   "display_name": "Python 3 (ipykernel)",
   "language": "python",
   "name": "python3"
  },
  "language_info": {
   "codemirror_mode": {
    "name": "ipython",
    "version": 3
   },
   "file_extension": ".py",
   "mimetype": "text/x-python",
   "name": "python",
   "nbconvert_exporter": "python",
   "pygments_lexer": "ipython3",
   "version": "3.9.16"
  }
 },
 "nbformat": 4,
 "nbformat_minor": 5
}
