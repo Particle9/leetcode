{
 "cells": [
  {
   "cell_type": "code",
   "execution_count": null,
   "id": "4b80a04e-4ae1-425b-bf0f-043210eb95a0",
   "metadata": {},
   "outputs": [],
   "source": [
    "class Solution:\n",
    "    def getPathFrom(self, a, b, graph, visited):\n",
    "        if a not in graph:\n",
    "            return float('inf')\n",
    "        elif a == b:\n",
    "            return 1.0\n",
    "        \n",
    "        visited.add(a)\n",
    "        for neighbor, value in graph[a].items():\n",
    "            if neighbor not in visited:\n",
    "                path = self.getPathFrom(neighbor, b, graph, visited)\n",
    "                if path != float('inf'):\n",
    "                    return path * value\n",
    "\n",
    "        return float('inf')\n",
    "\n",
    "    def calcEquation(self, equations: List[List[str]], values: List[float], queries: List[List[str]]) -> List[float]:\n",
    "        graph = {}\n",
    "        \n",
    "        # Build the graph\n",
    "        for i, (equation, value) in enumerate(zip(equations, values)):\n",
    "            x, y = equation\n",
    "            if x not in graph:\n",
    "                graph[x] = {}\n",
    "            if y not in graph:\n",
    "                graph[y] = {}\n",
    "            \n",
    "            graph[x][y] = value  # x / y = value\n",
    "            graph[y][x] = 1 / value  # y / x = 1 / value\n",
    "        \n",
    "        # Process the queries\n",
    "        output = []\n",
    "        for x, y in queries:\n",
    "            if x not in graph or y not in graph:\n",
    "                output.append(-1.0)\n",
    "            else:\n",
    "                visited = set()\n",
    "                result = self.getPathFrom(x, y, graph, visited)\n",
    "                output.append(result if result != float('inf') else -1.0)\n",
    "        \n",
    "        return output\n"
   ]
  }
 ],
 "metadata": {
  "kernelspec": {
   "display_name": "Python 3 (ipykernel)",
   "language": "python",
   "name": "python3"
  },
  "language_info": {
   "codemirror_mode": {
    "name": "ipython",
    "version": 3
   },
   "file_extension": ".py",
   "mimetype": "text/x-python",
   "name": "python",
   "nbconvert_exporter": "python",
   "pygments_lexer": "ipython3",
   "version": "3.9.16"
  }
 },
 "nbformat": 4,
 "nbformat_minor": 5
}
