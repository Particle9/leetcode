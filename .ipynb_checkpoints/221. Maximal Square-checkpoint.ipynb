{
 "cells": [
  {
   "cell_type": "code",
   "execution_count": 2,
   "id": "879981c4-20ea-4d78-88bb-1bd3fcc07c8b",
   "metadata": {},
   "outputs": [],
   "source": [
    "from typing import List\n",
    "\n",
    "class Solution:\n",
    "    def maximalSquare(self, matrix: List[List[str]]) -> int:\n",
    "        if not(matrix):\n",
    "            return 0\n",
    "        m, n = len(matrix), len(matrix[0])\n",
    "        \n",
    "        dp = [[0] * (n+2) for _ in range(m+2)]\n",
    "        \n",
    "        for i in range(1,m+1):\n",
    "            for j in range(1,n+1):\n",
    "                dp[i][j] = int(matrix[i-1][j-1])\n",
    "        \n",
    "        for i in range(1,m+1):\n",
    "            for j in range(1,n+1):\n",
    "                if dp[i][j]:\n",
    "                    dp[i][j] = dp[i][j] + min(dp[i-1][j], dp[i][j-1], dp[i-1][j-1])\n",
    "        \n",
    "        max_square_side = 0\n",
    "        for i in range(1,m+1):\n",
    "            for j in range(1,n+1):\n",
    "                if dp[i][j] > max_square_side:\n",
    "                    max_square_side = dp[i][j]\n",
    "        return max_square_side * max_square_side"
   ]
  },
  {
   "cell_type": "code",
   "execution_count": null,
   "id": "ccb70191-3de4-48a6-b18f-58a22b47bb37",
   "metadata": {},
   "outputs": [],
   "source": []
  }
 ],
 "metadata": {
  "kernelspec": {
   "display_name": "Python 3 (ipykernel)",
   "language": "python",
   "name": "python3"
  },
  "language_info": {
   "codemirror_mode": {
    "name": "ipython",
    "version": 3
   },
   "file_extension": ".py",
   "mimetype": "text/x-python",
   "name": "python",
   "nbconvert_exporter": "python",
   "pygments_lexer": "ipython3",
   "version": "3.9.16"
  }
 },
 "nbformat": 4,
 "nbformat_minor": 5
}
