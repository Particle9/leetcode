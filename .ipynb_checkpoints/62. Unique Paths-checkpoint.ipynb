{
 "cells": [
  {
   "cell_type": "code",
   "execution_count": null,
   "id": "63c28773-fd08-43bc-9efc-a5a8bfa722b8",
   "metadata": {},
   "outputs": [],
   "source": [
    "class Solution:\n",
    "    def uniquePaths(self, m: int, n: int) -> int:\n",
    "        dp = [[0] * (n+2) for _ in range(m+2)]\n",
    "        dp[1][1] = 1\n",
    "\n",
    "        for i in range(0,m+1):\n",
    "            for j in range(0,n+1):\n",
    "                dp[i+1][j] += dp[i][j]\n",
    "                dp[i][j+1] += dp[i][j]\n",
    "        return dp[m][n]"
   ]
  }
 ],
 "metadata": {
  "kernelspec": {
   "display_name": "Python 3 (ipykernel)",
   "language": "python",
   "name": "python3"
  },
  "language_info": {
   "codemirror_mode": {
    "name": "ipython",
    "version": 3
   },
   "file_extension": ".py",
   "mimetype": "text/x-python",
   "name": "python",
   "nbconvert_exporter": "python",
   "pygments_lexer": "ipython3",
   "version": "3.9.16"
  }
 },
 "nbformat": 4,
 "nbformat_minor": 5
}
