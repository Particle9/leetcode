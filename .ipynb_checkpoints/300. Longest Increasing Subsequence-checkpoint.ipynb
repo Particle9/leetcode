{
 "cells": [
  {
   "cell_type": "code",
   "execution_count": 1,
   "id": "cfd37906-4cba-4d42-b71a-ba81657fe539",
   "metadata": {},
   "outputs": [],
   "source": [
    "from typing import Optional, List\n",
    "\n",
    "class Solution:\n",
    "    def lengthOfLIS(self, nums: List[int]) -> int:\n",
    "        ln = len(nums)\n",
    "        dp = [1 for _ in range(ln+2)]\n",
    "        dp[0] = 0\n",
    "        dp[1] = 1\n",
    "        for i in range(1, ln+1):\n",
    "            for j in range(0,i-1):\n",
    "                if (nums[i-1] > nums[j]):\n",
    "                    dp[i] = max(dp[i], dp[j+1]+1)\n",
    "        \n",
    "        return max(dp)\n",
    "        "
   ]
  },
  {
   "cell_type": "code",
   "execution_count": null,
   "id": "e99e8d17-8236-4503-b237-d477ea09dab7",
   "metadata": {},
   "outputs": [],
   "source": []
  }
 ],
 "metadata": {
  "kernelspec": {
   "display_name": "Python 3 (ipykernel)",
   "language": "python",
   "name": "python3"
  },
  "language_info": {
   "codemirror_mode": {
    "name": "ipython",
    "version": 3
   },
   "file_extension": ".py",
   "mimetype": "text/x-python",
   "name": "python",
   "nbconvert_exporter": "python",
   "pygments_lexer": "ipython3",
   "version": "3.9.16"
  }
 },
 "nbformat": 4,
 "nbformat_minor": 5
}
