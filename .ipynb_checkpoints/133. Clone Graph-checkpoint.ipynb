{
 "cells": [
  {
   "cell_type": "code",
   "execution_count": 1,
   "id": "1bed08fb-339b-49a1-8121-6ac9dae1b9f9",
   "metadata": {},
   "outputs": [],
   "source": [
    "\"\"\"\n",
    "# Definition for a Node.\n",
    "class Node:\n",
    "    def __init__(self, val = 0, neighbors = None):\n",
    "        self.val = val\n",
    "        self.neighbors = neighbors if neighbors is not None else []\n",
    "\"\"\"\n",
    "from typing import Optional\n",
    "\n",
    "class Node:\n",
    "    def __init__(self, val = 0, neighbors = None):\n",
    "        self.val = val\n",
    "        self.neighbors = neighbors if neighbors is not None else []\n",
    "\n",
    "class Solution:\n",
    "    def cloneGraphHelper(self,node,createdDct):\n",
    "        if not(node):\n",
    "            return None\n",
    "        elif not(node.neighbors):\n",
    "            return Node(node.val)\n",
    "        elif node in createdDct:\n",
    "            return createdDct[node]\n",
    "        \n",
    "        newNode = Node(node.val, [])\n",
    "        createdDct[node] = newNode\n",
    "        for x in node.neighbors:\n",
    "            if x not in createdDct:\n",
    "                newNode.neighbors += [self.cloneGraphHelper(x, createdDct)]\n",
    "            else:\n",
    "                newNode.neighbors += [createdDct[x]]\n",
    "        return newNode\n",
    "    def cloneGraph(self, node: Optional['Node']) -> Optional['Node']:\n",
    "        return self.cloneGraphHelper(node,{})\n",
    "        "
   ]
  },
  {
   "cell_type": "code",
   "execution_count": null,
   "id": "28dfa343-0957-4ae2-97a8-4ecf114be79e",
   "metadata": {},
   "outputs": [],
   "source": []
  }
 ],
 "metadata": {
  "kernelspec": {
   "display_name": "Python 3 (ipykernel)",
   "language": "python",
   "name": "python3"
  },
  "language_info": {
   "codemirror_mode": {
    "name": "ipython",
    "version": 3
   },
   "file_extension": ".py",
   "mimetype": "text/x-python",
   "name": "python",
   "nbconvert_exporter": "python",
   "pygments_lexer": "ipython3",
   "version": "3.9.16"
  }
 },
 "nbformat": 4,
 "nbformat_minor": 5
}
