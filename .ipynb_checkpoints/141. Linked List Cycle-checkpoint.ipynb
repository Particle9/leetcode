{
 "cells": [
  {
   "cell_type": "code",
   "execution_count": null,
   "id": "62f7a68b-7dff-49fd-9f8a-e0e01e2119aa",
   "metadata": {},
   "outputs": [],
   "source": [
    "# Definition for singly-linked list.\n",
    "class ListNode:\n",
    "    def __init__(self, x):\n",
    "        self.val = x\n",
    "        self.next = None\n",
    "\n",
    "class Solution:\n",
    "    def hasCycleRecurse(self,head, visited):\n",
    "        if not(head):\n",
    "            return False\n",
    "        elif head in visited:\n",
    "            return True\n",
    "        else:\n",
    "            visited.add(head)\n",
    "            return self.hasCycleRecurse(head.next, visited)\n",
    "\n",
    "    def hasCycle(self, head: Optional[ListNode]) -> bool:\n",
    "        visited = set()\n",
    "        return self.hasCycleRecurse(head, visited)\n"
   ]
  }
 ],
 "metadata": {
  "kernelspec": {
   "display_name": "Python 3 (ipykernel)",
   "language": "python",
   "name": "python3"
  },
  "language_info": {
   "codemirror_mode": {
    "name": "ipython",
    "version": 3
   },
   "file_extension": ".py",
   "mimetype": "text/x-python",
   "name": "python",
   "nbconvert_exporter": "python",
   "pygments_lexer": "ipython3",
   "version": "3.9.16"
  }
 },
 "nbformat": 4,
 "nbformat_minor": 5
}
