{
 "cells": [
  {
   "cell_type": "code",
   "execution_count": null,
   "id": "5b36ad65-f204-4a22-bd44-78b4c7163d77",
   "metadata": {},
   "outputs": [],
   "source": [
    "class Solution:\n",
    "    def rightSideView(self, root: Optional[TreeNode]) -> List[int]:\n",
    "\n",
    "        stack = [(root, 0)]\n",
    "        lstVal = []\n",
    "        visitedLevel = set()\n",
    "        while stack:\n",
    "            curr, lvl = stack.pop()\n",
    "            if curr:\n",
    "                if lvl not in visitedLevel:\n",
    "                    lstVal += [curr.val]\n",
    "                    visitedLevel.add(lvl)\n",
    "                stack += [(curr.left, lvl+1)]\n",
    "                stack += [(curr.right, lvl+1)]\n",
    "        return lstVal\n",
    "        "
   ]
  }
 ],
 "metadata": {
  "kernelspec": {
   "display_name": "Python 3 (ipykernel)",
   "language": "python",
   "name": "python3"
  },
  "language_info": {
   "codemirror_mode": {
    "name": "ipython",
    "version": 3
   },
   "file_extension": ".py",
   "mimetype": "text/x-python",
   "name": "python",
   "nbconvert_exporter": "python",
   "pygments_lexer": "ipython3",
   "version": "3.9.16"
  }
 },
 "nbformat": 4,
 "nbformat_minor": 5
}
