{
 "cells": [
  {
   "cell_type": "code",
   "execution_count": null,
   "id": "1107ad78-c10c-40d8-9377-ee4af7d10d3b",
   "metadata": {},
   "outputs": [],
   "source": [
    "class Solution:\n",
    "    def lengthOfLongestSubstring(self, s: str) -> int:\n",
    "        if not(s):\n",
    "            return 0\n",
    "\n",
    "        n = len(s)\n",
    "        i, j = 0,0\n",
    "        maxSeq = 1\n",
    "        setX = set()\n",
    "        while j < n:\n",
    "            if s[j] not in setX:\n",
    "                setX.add(s[j])\n",
    "                maxSeq = max(maxSeq, j-i+1)\n",
    "                j+= 1\n",
    "            else:\n",
    "                setX.remove(s[i])\n",
    "                i += 1\n",
    "        return maxSeq\n",
    "        "
   ]
  }
 ],
 "metadata": {
  "kernelspec": {
   "display_name": "Python 3 (ipykernel)",
   "language": "python",
   "name": "python3"
  },
  "language_info": {
   "codemirror_mode": {
    "name": "ipython",
    "version": 3
   },
   "file_extension": ".py",
   "mimetype": "text/x-python",
   "name": "python",
   "nbconvert_exporter": "python",
   "pygments_lexer": "ipython3",
   "version": "3.9.16"
  }
 },
 "nbformat": 4,
 "nbformat_minor": 5
}
