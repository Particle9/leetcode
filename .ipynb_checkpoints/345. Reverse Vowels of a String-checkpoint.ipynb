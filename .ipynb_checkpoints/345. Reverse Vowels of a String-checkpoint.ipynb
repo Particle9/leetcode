{
 "cells": [
  {
   "cell_type": "code",
   "execution_count": null,
   "id": "21d86190-7afe-4dbc-a710-8cdc575c50d8",
   "metadata": {},
   "outputs": [],
   "source": [
    "class Solution:\n",
    "    def reverseVowels(self, s: str) -> str:\n",
    "        possVowels = set(\"aiueoAIUEO\")\n",
    "        vowelsList = []\n",
    "        for i in range(0,len(s)):\n",
    "            if s[i] in possVowels:\n",
    "                vowelsList = [s[i]] + vowelsList\n",
    "        \n",
    "        j = 0\n",
    "        newStr = \"\"\n",
    "        for i in range(0,len(s)):\n",
    "            if s[i] in possVowels:\n",
    "                newStr += vowelsList[j]\n",
    "                j+= 1\n",
    "            else:\n",
    "                newStr += s[i]\n",
    "        return newStr\n",
    "        "
   ]
  }
 ],
 "metadata": {
  "kernelspec": {
   "display_name": "Python 3 (ipykernel)",
   "language": "python",
   "name": "python3"
  },
  "language_info": {
   "codemirror_mode": {
    "name": "ipython",
    "version": 3
   },
   "file_extension": ".py",
   "mimetype": "text/x-python",
   "name": "python",
   "nbconvert_exporter": "python",
   "pygments_lexer": "ipython3",
   "version": "3.9.16"
  }
 },
 "nbformat": 4,
 "nbformat_minor": 5
}
