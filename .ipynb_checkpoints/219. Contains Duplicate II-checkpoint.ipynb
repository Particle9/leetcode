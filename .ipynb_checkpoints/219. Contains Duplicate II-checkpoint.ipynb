{
 "cells": [
  {
   "cell_type": "code",
   "execution_count": null,
   "id": "5c9e6399-4f6a-46cd-94cd-c5582bd28d36",
   "metadata": {},
   "outputs": [],
   "source": [
    "class Solution:\n",
    "    def containsNearbyDuplicate(self, nums: List[int], k: int) -> bool:\n",
    "        dctx = {}\n",
    "        for i in range(0,len(nums)):\n",
    "            if nums[i] not in dctx:\n",
    "                dctx[nums[i]] = i\n",
    "            else:\n",
    "                if abs(i - dctx[nums[i]]) <= k:\n",
    "                    return True\n",
    "                dctx[nums[i]] = i\n",
    "        return False"
   ]
  }
 ],
 "metadata": {
  "kernelspec": {
   "display_name": "Python 3 (ipykernel)",
   "language": "python",
   "name": "python3"
  },
  "language_info": {
   "codemirror_mode": {
    "name": "ipython",
    "version": 3
   },
   "file_extension": ".py",
   "mimetype": "text/x-python",
   "name": "python",
   "nbconvert_exporter": "python",
   "pygments_lexer": "ipython3",
   "version": "3.9.16"
  }
 },
 "nbformat": 4,
 "nbformat_minor": 5
}
