{
 "cells": [
  {
   "cell_type": "code",
   "execution_count": null,
   "id": "55c8dfb0-7276-4995-8499-dd2abc8c109f",
   "metadata": {},
   "outputs": [],
   "source": [
    "class Solution:\n",
    "    def findDifference(self, nums1: List[int], nums2: List[int]) -> List[List[int]]:\n",
    "        set1, set2 = set(nums1), set(nums2)\n",
    "        out1, out2 = [], []\n",
    "        for x in set1:\n",
    "            if x not in set2:\n",
    "                out1 += [x]\n",
    "        \n",
    "        for x in set2:\n",
    "            if x not in set1:\n",
    "                out2 += [x]\n",
    "        \n",
    "        return [out1,out2]\n",
    "        "
   ]
  }
 ],
 "metadata": {
  "kernelspec": {
   "display_name": "Python 3 (ipykernel)",
   "language": "python",
   "name": "python3"
  },
  "language_info": {
   "codemirror_mode": {
    "name": "ipython",
    "version": 3
   },
   "file_extension": ".py",
   "mimetype": "text/x-python",
   "name": "python",
   "nbconvert_exporter": "python",
   "pygments_lexer": "ipython3",
   "version": "3.9.16"
  }
 },
 "nbformat": 4,
 "nbformat_minor": 5
}
