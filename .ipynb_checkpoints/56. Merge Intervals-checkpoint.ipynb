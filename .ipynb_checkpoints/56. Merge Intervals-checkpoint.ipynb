{
 "cells": [
  {
   "cell_type": "code",
   "execution_count": null,
   "id": "a9adc87e-f7a8-4fb5-a60b-d001ba092692",
   "metadata": {},
   "outputs": [],
   "source": [
    "class Solution:\n",
    "    def merge(self, intervals: List[List[int]]) -> List[List[int]]:\n",
    "        sorted_intervals = sorted(intervals, key = lambda x: x[0])\n",
    "\n",
    "        lst = []\n",
    "        prev_x, prev_y = sorted_intervals[0]\n",
    "        for i in range(1,len(sorted_intervals)):\n",
    "            x,y = sorted_intervals[i]\n",
    "            if (prev_y >= x):\n",
    "                prev_y = max(prev_y,y)\n",
    "            else:\n",
    "                lst += [(prev_x,prev_y)]\n",
    "                prev_x = x\n",
    "                prev_y = y\n",
    "        lst += [(prev_x, prev_y)]\n",
    "        return lst\n",
    "                \n",
    "            \n",
    "        "
   ]
  }
 ],
 "metadata": {
  "kernelspec": {
   "display_name": "Python 3 (ipykernel)",
   "language": "python",
   "name": "python3"
  },
  "language_info": {
   "codemirror_mode": {
    "name": "ipython",
    "version": 3
   },
   "file_extension": ".py",
   "mimetype": "text/x-python",
   "name": "python",
   "nbconvert_exporter": "python",
   "pygments_lexer": "ipython3",
   "version": "3.9.16"
  }
 },
 "nbformat": 4,
 "nbformat_minor": 5
}
