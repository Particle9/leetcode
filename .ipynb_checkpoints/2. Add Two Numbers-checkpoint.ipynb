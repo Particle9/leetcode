{
 "cells": [
  {
   "cell_type": "code",
   "execution_count": null,
   "id": "449a40ee-f4f4-4fa9-a739-5b1eb0a8e0fc",
   "metadata": {},
   "outputs": [],
   "source": [
    "# Definition for singly-linked list.\n",
    "class ListNode:\n",
    "    def __init__(self, val=0, next=None):\n",
    "        self.val = val\n",
    "        self.next = next\n",
    "class Solution:\n",
    "    def addTwoNumbers(self, l1: Optional[ListNode], l2: Optional[ListNode], prev_val = 0) -> Optional[ListNode]:\n",
    "\n",
    "        if not(l1) and not(l2):\n",
    "            if prev_val == 0:\n",
    "                return None\n",
    "            else:\n",
    "                return ListNode(val=prev_val, next = None)\n",
    "\n",
    "        l1_val = 0 if not(l1) else l1.val\n",
    "        l2_val = 0 if not(l2) else l2.val\n",
    "\n",
    "        val = (l1_val + l2_val + prev_val) % 10\n",
    "        next_val = (l1_val + l2_val + prev_val) // 10\n",
    "        if l1 and l2:\n",
    "            trail = self.addTwoNumbers(l1.next, l2.next,next_val)\n",
    "        elif l1:\n",
    "            trail = self.addTwoNumbers(l1.next, None,next_val)\n",
    "        elif l2:\n",
    "            trail = self.addTwoNumbers(None, l2.next,next_val)\n",
    "        newList = ListNode(val = val, next = trail)\n",
    "        return newList\n",
    "        "
   ]
  }
 ],
 "metadata": {
  "kernelspec": {
   "display_name": "Python 3 (ipykernel)",
   "language": "python",
   "name": "python3"
  },
  "language_info": {
   "codemirror_mode": {
    "name": "ipython",
    "version": 3
   },
   "file_extension": ".py",
   "mimetype": "text/x-python",
   "name": "python",
   "nbconvert_exporter": "python",
   "pygments_lexer": "ipython3",
   "version": "3.9.16"
  }
 },
 "nbformat": 4,
 "nbformat_minor": 5
}
