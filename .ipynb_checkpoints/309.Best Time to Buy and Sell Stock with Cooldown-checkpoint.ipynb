{
 "cells": [
  {
   "cell_type": "code",
   "execution_count": 2,
   "id": "02a06fa4-f90d-4efe-bb4f-014d069aea1e",
   "metadata": {},
   "outputs": [],
   "source": [
    "from typing import List\n",
    "\n",
    "class Solution:\n",
    "\n",
    "    def maxProfit(self, prices: List[int]) -> int:\n",
    "\n",
    "        dct = {}\n",
    "        def getMaxProfitDFS(i, buy):\n",
    "            if i >= len(prices):\n",
    "                return 0\n",
    "            elif (i,buy) in dct:\n",
    "                return dct[(i,buy)]\n",
    "            \n",
    "            if buy:\n",
    "                change = getMaxProfitDFS(i+1, not(buy)) - prices[i]\n",
    "                cd = getMaxProfitDFS(i+1, buy)\n",
    "            else:\n",
    "                change = getMaxProfitDFS(i+2, not(buy)) + prices[i]\n",
    "                cd = getMaxProfitDFS(i+1, buy)\n",
    "            \n",
    "            dct[(i,buy)] = max(change,cd)\n",
    "            return max(change,cd)\n",
    "        \n",
    "        return getMaxProfitDFS(0,'cooldown')\n",
    "                \n",
    "        "
   ]
  },
  {
   "cell_type": "code",
   "execution_count": 3,
   "id": "5fbcd4f6-3ecc-4935-8ff2-028c349a3b70",
   "metadata": {},
   "outputs": [],
   "source": [
    "sol = Solution()"
   ]
  },
  {
   "cell_type": "code",
   "execution_count": 4,
   "id": "f56c03b4-0f3e-4d83-8426-477261b1581e",
   "metadata": {},
   "outputs": [
    {
     "data": {
      "text/plain": [
       "3"
      ]
     },
     "execution_count": 4,
     "metadata": {},
     "output_type": "execute_result"
    }
   ],
   "source": [
    "sol.maxProfit([1,2,3,0,2])"
   ]
  },
  {
   "cell_type": "code",
   "execution_count": null,
   "id": "ce7ec371-12fa-45bd-857a-0913c806f3da",
   "metadata": {},
   "outputs": [],
   "source": []
  }
 ],
 "metadata": {
  "kernelspec": {
   "display_name": "Python 3 (ipykernel)",
   "language": "python",
   "name": "python3"
  },
  "language_info": {
   "codemirror_mode": {
    "name": "ipython",
    "version": 3
   },
   "file_extension": ".py",
   "mimetype": "text/x-python",
   "name": "python",
   "nbconvert_exporter": "python",
   "pygments_lexer": "ipython3",
   "version": "3.9.16"
  }
 },
 "nbformat": 4,
 "nbformat_minor": 5
}
