{
 "cells": [
  {
   "cell_type": "code",
   "execution_count": null,
   "id": "5ac7f54f-7290-4f90-bac6-8aac0bf65fba",
   "metadata": {},
   "outputs": [],
   "source": [
    "class Solution:\n",
    "    def maxSubArray(self, nums: List[int]) -> int:\n",
    "        currMax = nums[0]\n",
    "        maxRes = nums[0]\n",
    "        for x in nums[1:]:\n",
    "            currMax = max(currMax + x, x)\n",
    "            maxRes = max(maxRes, currMax)\n",
    "        \n",
    "        return maxRes\n"
   ]
  }
 ],
 "metadata": {
  "kernelspec": {
   "display_name": "Python 3 (ipykernel)",
   "language": "python",
   "name": "python3"
  },
  "language_info": {
   "codemirror_mode": {
    "name": "ipython",
    "version": 3
   },
   "file_extension": ".py",
   "mimetype": "text/x-python",
   "name": "python",
   "nbconvert_exporter": "python",
   "pygments_lexer": "ipython3",
   "version": "3.9.16"
  }
 },
 "nbformat": 4,
 "nbformat_minor": 5
}
