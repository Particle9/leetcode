{
 "cells": [
  {
   "cell_type": "code",
   "execution_count": 1,
   "id": "95448e2c-c430-49d7-8610-458866608ca5",
   "metadata": {},
   "outputs": [],
   "source": [
    "from typing import Optional, List\n",
    "\n",
    "class TreeNode:\n",
    "    def __init__(self, val=0, left=None, right=None):\n",
    "        self.val = val\n",
    "        self.left = left\n",
    "        self.right = right"
   ]
  },
  {
   "cell_type": "code",
   "execution_count": 2,
   "id": "33c3cbaf-7b0e-4665-b6be-d03661c121a3",
   "metadata": {},
   "outputs": [],
   "source": [
    "class Solution:\n",
    "\n",
    "    def hasPathSumRecurse(self, root: Optional[TreeNode], targetSum: int) -> bool:\n",
    "        newSum = targetSum-root.val\n",
    "        if newSum == 0:\n",
    "            if not(root.left) and not(root.right):\n",
    "                return True\n",
    "        elif not(root):\n",
    "            return False\n",
    "        \n",
    "        if (root.left) and (root.right):\n",
    "            return self.hasPathSumRecurse(root.left,newSum) or self.hasPathSumRecurse(root.right,newSum)\n",
    "        elif (root.left):\n",
    "            return self.hasPathSumRecurse(root.left, newSum)\n",
    "        elif (root.right):\n",
    "            return self.hasPathSumRecurse(root.right, newSum)\n",
    "\n",
    "    def hasPathSum(self, root: Optional[TreeNode], targetSum: int) -> bool:\n",
    "        if not(root):\n",
    "            return False\n",
    "        \n",
    "        return self.hasPathSumRecurse(root,targetSum)\n",
    "        \n",
    "        "
   ]
  },
  {
   "cell_type": "code",
   "execution_count": null,
   "id": "fef1e48d-8ed3-453d-8df6-506f8f7c388e",
   "metadata": {},
   "outputs": [],
   "source": []
  }
 ],
 "metadata": {
  "kernelspec": {
   "display_name": "Python 3 (ipykernel)",
   "language": "python",
   "name": "python3"
  },
  "language_info": {
   "codemirror_mode": {
    "name": "ipython",
    "version": 3
   },
   "file_extension": ".py",
   "mimetype": "text/x-python",
   "name": "python",
   "nbconvert_exporter": "python",
   "pygments_lexer": "ipython3",
   "version": "3.9.16"
  }
 },
 "nbformat": 4,
 "nbformat_minor": 5
}
