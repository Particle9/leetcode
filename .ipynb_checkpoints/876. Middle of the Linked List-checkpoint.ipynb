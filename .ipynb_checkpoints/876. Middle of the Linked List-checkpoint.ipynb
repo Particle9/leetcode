{
 "cells": [
  {
   "cell_type": "code",
   "execution_count": 1,
   "id": "32972eb6-96ec-4880-9ce2-179b18b28681",
   "metadata": {},
   "outputs": [],
   "source": [
    "from typing import List, Optional\n",
    "\n",
    "# Definition for singly-linked list.\n",
    "class ListNode:\n",
    "    def __init__(self, val=0, next=None):\n",
    "        self.val = val\n",
    "        self.next = next\n",
    "class Solution:\n",
    "    def middleNode(self, head: Optional[ListNode]) -> Optional[ListNode]:\n",
    "        if not(head):\n",
    "            return None\n",
    "        if not(head.next):\n",
    "            return head\n",
    "        slowNode = head\n",
    "        fastNode = head.next\n",
    "        ind = 0\n",
    "        while fastNode:\n",
    "            slowNode = slowNode.next\n",
    "            fastNode = fastNode.next\n",
    "            if fastNode:\n",
    "                fastNode = fastNode.next\n",
    "        \n",
    "        return slowNode\n",
    "        "
   ]
  },
  {
   "cell_type": "code",
   "execution_count": null,
   "id": "f86c3a16-f347-4cfe-8174-ba0a1702422d",
   "metadata": {},
   "outputs": [],
   "source": []
  }
 ],
 "metadata": {
  "kernelspec": {
   "display_name": "Python 3 (ipykernel)",
   "language": "python",
   "name": "python3"
  },
  "language_info": {
   "codemirror_mode": {
    "name": "ipython",
    "version": 3
   },
   "file_extension": ".py",
   "mimetype": "text/x-python",
   "name": "python",
   "nbconvert_exporter": "python",
   "pygments_lexer": "ipython3",
   "version": "3.9.16"
  }
 },
 "nbformat": 4,
 "nbformat_minor": 5
}
