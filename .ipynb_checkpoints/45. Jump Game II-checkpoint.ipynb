{
 "cells": [
  {
   "cell_type": "code",
   "execution_count": null,
   "id": "0867f144-36d8-4699-9707-5237a47f463c",
   "metadata": {},
   "outputs": [],
   "source": [
    "from typing import List\n",
    "\n",
    "class Solution:\n",
    "    def jumpDP(self, nums):\n",
    "        n = len(nums) \n",
    "        dp = [n] * (n+2)\n",
    "\n",
    "        dp[0] = 0\n",
    "        for i in range(0, n):\n",
    "            for k in range(1, min(nums[i]+1, n-i+ 1)):\n",
    "                dp[i+k] = min(dp[i] + 1, dp[i+k])\n",
    "        return dp[n-1]\n",
    "\n",
    "\n",
    "    def jumpRecursive(self, nums, i, dct_memo):\n",
    "        if i in dct_memo:\n",
    "            return dct_memo[i]\n",
    "        if i == len(nums)-1:\n",
    "            return 0\n",
    "        if i >= len(nums):\n",
    "            dct_memo[i] = len(nums)\n",
    "            return len(nums)\n",
    "        if nums[i] == 0:\n",
    "            dct_memo[i] = len(nums)\n",
    "            return len(nums)\n",
    "\n",
    "        num_jumps = 1 + min([self.jumpRecursive(nums, i+k, dct_memo) for k in reversed(range(1,nums[i]+1))])\n",
    "        \n",
    "        dct_memo[i] = num_jumps\n",
    "        return num_jumps\n",
    "\n",
    "    def jump(self, nums: List[int]) -> int:\n",
    "        return self.jumpDP(nums)\n",
    "\n",
    "        dct_memo = {}\n",
    "        return self.jumpRecursive(nums, 0, dct_memo)\n",
    "        "
   ]
  }
 ],
 "metadata": {
  "kernelspec": {
   "display_name": "Python 3 (ipykernel)",
   "language": "python",
   "name": "python3"
  },
  "language_info": {
   "codemirror_mode": {
    "name": "ipython",
    "version": 3
   },
   "file_extension": ".py",
   "mimetype": "text/x-python",
   "name": "python",
   "nbconvert_exporter": "python",
   "pygments_lexer": "ipython3",
   "version": "3.9.16"
  }
 },
 "nbformat": 4,
 "nbformat_minor": 5
}
