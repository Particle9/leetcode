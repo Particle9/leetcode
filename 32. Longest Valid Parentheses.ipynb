{
 "cells": [
  {
   "cell_type": "code",
   "execution_count": 1,
   "id": "7de50016-dd48-4d3e-80b6-7e8c13abd68b",
   "metadata": {},
   "outputs": [],
   "source": [
    "class Solution:\n",
    "    def longestValidParentheses(self, s: str) -> int:\n",
    "        stack = [-1]  # Initialize stack with -1 to handle the base case\n",
    "        maxValid = 0\n",
    "\n",
    "        for i, x in enumerate(s):\n",
    "            if x == '(':\n",
    "                # Push the index of '(' onto the stack\n",
    "                stack.append(i)\n",
    "            else:\n",
    "                # Pop the stack when encountering ')'\n",
    "                stack.pop()\n",
    "                if stack:\n",
    "                    # Calculate the length of the current valid substring\n",
    "                    maxValid = max(maxValid, i - stack[-1])\n",
    "                else:\n",
    "                    # If stack is empty, push the current index as the base for future calculations\n",
    "                    stack.append(i)\n",
    "\n",
    "        return maxValid"
   ]
  },
  {
   "cell_type": "code",
   "execution_count": 2,
   "id": "9e41ba0d-bcd2-4138-b9d8-9e790fe58253",
   "metadata": {},
   "outputs": [],
   "source": [
    "sol = Solution()"
   ]
  },
  {
   "cell_type": "code",
   "execution_count": 3,
   "id": "d4ccd42c-da32-4f71-9bd3-b7ac489a441c",
   "metadata": {},
   "outputs": [
    {
     "data": {
      "text/plain": [
       "4"
      ]
     },
     "execution_count": 3,
     "metadata": {},
     "output_type": "execute_result"
    }
   ],
   "source": [
    "sol.longestValidParentheses(\")()())\")"
   ]
  },
  {
   "cell_type": "code",
   "execution_count": null,
   "id": "fc68f988-4462-4501-abfd-663e31dfe182",
   "metadata": {},
   "outputs": [],
   "source": []
  }
 ],
 "metadata": {
  "kernelspec": {
   "display_name": "Python 3 (ipykernel)",
   "language": "python",
   "name": "python3"
  },
  "language_info": {
   "codemirror_mode": {
    "name": "ipython",
    "version": 3
   },
   "file_extension": ".py",
   "mimetype": "text/x-python",
   "name": "python",
   "nbconvert_exporter": "python",
   "pygments_lexer": "ipython3",
   "version": "3.9.16"
  }
 },
 "nbformat": 4,
 "nbformat_minor": 5
}
