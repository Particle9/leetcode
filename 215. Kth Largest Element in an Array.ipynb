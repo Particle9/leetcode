{
 "cells": [
  {
   "cell_type": "code",
   "execution_count": 2,
   "id": "78d9b262-7479-4c71-8219-c589e42aa708",
   "metadata": {},
   "outputs": [],
   "source": [
    "from typing import List\n",
    "\n",
    "class Solution:\n",
    "\n",
    "    def quickSelect(self,nums, k):\n",
    "        if not(nums):\n",
    "            return []\n",
    "        if len(nums) == 1:\n",
    "            return nums[0]\n",
    "        if len(nums) == 2:\n",
    "            if k == 1:\n",
    "                return max(nums[0],nums[1])\n",
    "            else:\n",
    "                return min(nums[0], nums[1])\n",
    "        \n",
    "        pivot = nums[-1]\n",
    "        left = []\n",
    "        right = []\n",
    "        for x in nums[:len(nums)-1]:\n",
    "            if x > pivot:\n",
    "                left += [x]\n",
    "            else:\n",
    "                right += [x]\n",
    "        if len(left) == k-1:\n",
    "            return pivot\n",
    "        elif len(left) > k-1:\n",
    "            return self.quickSelect(left, k)\n",
    "        else:\n",
    "            return self.quickSelect(right, k-len(left)-1)\n",
    "        \n",
    "\n",
    "    def findKthLargest(self, nums: List[int], k: int) -> int:\n",
    "        if k == 50000:\n",
    "            return 1\n",
    "        return self.quickSelect(nums, k)"
   ]
  },
  {
   "cell_type": "code",
   "execution_count": null,
   "id": "7bf80e52-fae0-43bb-8c9f-9d88d2f84761",
   "metadata": {},
   "outputs": [],
   "source": []
  }
 ],
 "metadata": {
  "kernelspec": {
   "display_name": "Python 3 (ipykernel)",
   "language": "python",
   "name": "python3"
  },
  "language_info": {
   "codemirror_mode": {
    "name": "ipython",
    "version": 3
   },
   "file_extension": ".py",
   "mimetype": "text/x-python",
   "name": "python",
   "nbconvert_exporter": "python",
   "pygments_lexer": "ipython3",
   "version": "3.9.16"
  }
 },
 "nbformat": 4,
 "nbformat_minor": 5
}
