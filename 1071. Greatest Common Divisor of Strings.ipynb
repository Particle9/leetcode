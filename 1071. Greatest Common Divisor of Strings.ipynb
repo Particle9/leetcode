{
 "cells": [
  {
   "cell_type": "code",
   "execution_count": null,
   "id": "39f51c42-3be3-4849-aa1f-a34ba7b44faf",
   "metadata": {},
   "outputs": [],
   "source": [
    "class Solution:\n",
    "    def gcdOfStrings(self, str1: str, str2: str) -> str:\n",
    "        if len(str1) < len(str2):\n",
    "            smallPatt = str1\n",
    "            largeStr = str2\n",
    "        else:\n",
    "            smallPatt = str2\n",
    "            largeStr = str1\n",
    "        \n",
    "        n = len(smallPatt)\n",
    "        \n",
    "        for i in range(1,len(smallPatt)+1):\n",
    "            if n % i == 0:\n",
    "                possPatt = smallPatt[:n//i]\n",
    "                if possPatt * i != smallPatt:\n",
    "                    continue\n",
    "                currStr = \"\"\n",
    "                while len(currStr) < len(largeStr):\n",
    "                    currStr = currStr + possPatt\n",
    "\n",
    "                if currStr == largeStr:\n",
    "                    return possPatt   \n",
    "\n",
    "        return \"\"  "
   ]
  }
 ],
 "metadata": {
  "kernelspec": {
   "display_name": "Python 3 (ipykernel)",
   "language": "python",
   "name": "python3"
  },
  "language_info": {
   "codemirror_mode": {
    "name": "ipython",
    "version": 3
   },
   "file_extension": ".py",
   "mimetype": "text/x-python",
   "name": "python",
   "nbconvert_exporter": "python",
   "pygments_lexer": "ipython3",
   "version": "3.9.16"
  }
 },
 "nbformat": 4,
 "nbformat_minor": 5
}
