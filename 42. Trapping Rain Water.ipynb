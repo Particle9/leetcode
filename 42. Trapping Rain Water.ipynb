{
 "cells": [
  {
   "cell_type": "code",
   "execution_count": 4,
   "id": "d1d2d4a3-528d-4570-93ea-15b2b07ba763",
   "metadata": {},
   "outputs": [],
   "source": [
    "from typing import List\n",
    "\n",
    "class Solution:\n",
    "    def check_decreasing(self, lst, side):\n",
    "        if side == 'left':\n",
    "            index_lst = reversed(range(0,len(lst)))\n",
    "        else:\n",
    "            index_lst = range(0,len(lst))\n",
    "\n",
    "        prev_x = lst[0]\n",
    "        for i in index_lst:\n",
    "            if lst[i] > prev_x:\n",
    "                return False\n",
    "            else:\n",
    "                prev_x = lst[i]\n",
    "        return True\n",
    "\n",
    "    def trapRecurse(self, border_height, lst, side):\n",
    "        if border_height == 0:\n",
    "            return 0\n",
    "        elif not(lst):\n",
    "            return 0\n",
    "        elif self.check_decreasing(lst, side):\n",
    "            return 0\n",
    "        \n",
    "        n = len(lst)\n",
    "\n",
    "        \n",
    "\n",
    "        water = 0\n",
    "\n",
    "        if side == 'left':\n",
    "            height_idx = sorted([[i,lst[i]] for i in range(0,n)], key=lambda x: (x[1], x[0]), reverse = True)\n",
    "            furthest_border_index = n\n",
    "            furthest_border_height = border_height\n",
    "            for x_border_index,x_border_height in height_idx:\n",
    "                if furthest_border_index > x_border_index:\n",
    "                    for i in reversed(range(x_border_index+1, furthest_border_index)):\n",
    "                        water += x_border_height - lst[i]\n",
    "                    furthest_border_index = x_border_index\n",
    "                    furthest_border_height = x_border_height\n",
    "        else:\n",
    "            height_idx = sorted([[i,lst[i]] for i in range(0,n)], key=lambda x: (x[1], -x[0]), reverse = True)\n",
    "            furthest_border_index = -1\n",
    "            furthest_border_height = border_height\n",
    "            for x_border_index,x_border_height in height_idx:\n",
    "                if furthest_border_index < x_border_index:\n",
    "                    for i in range(furthest_border_index+1,x_border_index):\n",
    "                        water += x_border_height - lst[i]\n",
    "                    furthest_border_index = x_border_index\n",
    "                    furthest_border_height = x_border_height\n",
    "        \n",
    "        return water\n",
    "\n",
    "\n",
    "    def trap(self, height: List[int]) -> int:\n",
    "        n = len(height)\n",
    "        height_idx = sorted([[i,height[i]] for i in range(0,n)], key=lambda x: x[1], reverse = True)\n",
    "\n",
    "        \n",
    "\n",
    "        max_height = height_idx[0][1]\n",
    "        max_idx = height_idx[0][0]\n",
    "\n",
    "        left_board = height[:max_idx]\n",
    "        right_board = height[max_idx+1:]\n",
    "\n",
    "        return self.trapRecurse(max_height,left_board, 'left') + self.trapRecurse(max_height,right_board, 'right')\n",
    "\n",
    "\n",
    "        "
   ]
  },
  {
   "cell_type": "code",
   "execution_count": 5,
   "id": "fb431631-438c-445b-a63f-26fc0fb590ab",
   "metadata": {},
   "outputs": [],
   "source": [
    "sol = Solution()"
   ]
  },
  {
   "cell_type": "code",
   "execution_count": 6,
   "id": "f6ebeedd-1544-464e-a41a-7e9b842e3060",
   "metadata": {},
   "outputs": [
    {
     "data": {
      "text/plain": [
       "6"
      ]
     },
     "execution_count": 6,
     "metadata": {},
     "output_type": "execute_result"
    }
   ],
   "source": [
    "sol.trap([0,1,0,2,1,0,1,3,2,1,2,1])"
   ]
  },
  {
   "cell_type": "code",
   "execution_count": 7,
   "id": "47d9723a-d448-431e-8557-39d21afb38ea",
   "metadata": {},
   "outputs": [
    {
     "data": {
      "text/plain": [
       "9"
      ]
     },
     "execution_count": 7,
     "metadata": {},
     "output_type": "execute_result"
    }
   ],
   "source": [
    "sol.trap([4,2,0,3,2,5])"
   ]
  },
  {
   "cell_type": "code",
   "execution_count": null,
   "id": "6b571862-c759-43c0-9e1c-ab48c9bed962",
   "metadata": {},
   "outputs": [],
   "source": []
  }
 ],
 "metadata": {
  "kernelspec": {
   "display_name": "Python 3 (ipykernel)",
   "language": "python",
   "name": "python3"
  },
  "language_info": {
   "codemirror_mode": {
    "name": "ipython",
    "version": 3
   },
   "file_extension": ".py",
   "mimetype": "text/x-python",
   "name": "python",
   "nbconvert_exporter": "python",
   "pygments_lexer": "ipython3",
   "version": "3.9.16"
  }
 },
 "nbformat": 4,
 "nbformat_minor": 5
}
