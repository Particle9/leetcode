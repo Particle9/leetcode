{
 "cells": [
  {
   "cell_type": "code",
   "execution_count": 2,
   "id": "5ff3ba14-a56f-4957-8bb5-8b4062ac2440",
   "metadata": {},
   "outputs": [],
   "source": [
    "from typing import List\n",
    "\n",
    "class Solution:\n",
    "    def lemonadeChange(self, bills: List[int]) -> bool:\n",
    "        if not(bills):\n",
    "            return True\n",
    "        elif bills[0] != 5:\n",
    "            return False\n",
    "\n",
    "        dctBills = {5:0, 10:0, 20:0}\n",
    "        for s in bills:\n",
    "            if s == 5:\n",
    "                dctBills[5] += 1\n",
    "            elif s == 10:\n",
    "                dctBills[5] -= 1\n",
    "                dctBills[10] += 1\n",
    "            else:\n",
    "                if (dctBills[10]):\n",
    "                    dctBills[10] -= 1\n",
    "                    dctBills[5] -= 1\n",
    "                else:\n",
    "                    dctBills[5] -= 3\n",
    "            if dctBills[5] < 0:\n",
    "                return False\n",
    "\n",
    "        return True"
   ]
  },
  {
   "cell_type": "code",
   "execution_count": 3,
   "id": "b5f01431-57ce-4979-b32e-a30b0cb40f8e",
   "metadata": {},
   "outputs": [],
   "source": [
    "sol = Solution()"
   ]
  },
  {
   "cell_type": "code",
   "execution_count": 4,
   "id": "0a87790d-9f6d-4db8-a8e3-e205ff1a22fb",
   "metadata": {},
   "outputs": [
    {
     "data": {
      "text/plain": [
       "False"
      ]
     },
     "execution_count": 4,
     "metadata": {},
     "output_type": "execute_result"
    }
   ],
   "source": [
    "sol.lemonadeChange([5,5,10,10,20])"
   ]
  },
  {
   "cell_type": "code",
   "execution_count": 5,
   "id": "dac69621-5141-466c-876d-c84ce7f3094d",
   "metadata": {},
   "outputs": [
    {
     "data": {
      "text/plain": [
       "True"
      ]
     },
     "execution_count": 5,
     "metadata": {},
     "output_type": "execute_result"
    }
   ],
   "source": [
    "sol.lemonadeChange([5,5,5,10,20])"
   ]
  },
  {
   "cell_type": "code",
   "execution_count": null,
   "id": "b09f4105-5c97-4f7d-aa7a-9e29ff110b7c",
   "metadata": {},
   "outputs": [],
   "source": []
  }
 ],
 "metadata": {
  "kernelspec": {
   "display_name": "Python 3 (ipykernel)",
   "language": "python",
   "name": "python3"
  },
  "language_info": {
   "codemirror_mode": {
    "name": "ipython",
    "version": 3
   },
   "file_extension": ".py",
   "mimetype": "text/x-python",
   "name": "python",
   "nbconvert_exporter": "python",
   "pygments_lexer": "ipython3",
   "version": "3.9.16"
  }
 },
 "nbformat": 4,
 "nbformat_minor": 5
}
