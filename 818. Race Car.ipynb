{
 "cells": [
  {
   "cell_type": "code",
   "execution_count": 16,
   "id": "30c14c41-307c-4a15-9987-56c540de01d6",
   "metadata": {},
   "outputs": [],
   "source": [
    "class Solution:\n",
    "    def racecar(self, target: int) -> int:\n",
    "        queue = [(0, 1, 0)]\n",
    "        visited = set((0, 1))\n",
    "\n",
    "        while queue:\n",
    "            pos, speed, moves = queue.pop(0)\n",
    "\n",
    "            if pos == target:\n",
    "                return moves\n",
    "\n",
    "            newPos = pos + speed\n",
    "            newSpeed = speed * 2\n",
    "            if (newPos, newSpeed) not in visited and abs(newPos) <= 2 * target:\n",
    "                visited.add((newPos, newSpeed))\n",
    "                queue += [(newPos, newSpeed, moves + 1)]\n",
    "\n",
    "            newPos = pos\n",
    "            newSpeed = -1 if speed > 0 else 1\n",
    "            if (newPos, newSpeed) not in visited:\n",
    "                visited.add((newPos, newSpeed))\n",
    "                queue += [(newPos, newSpeed, moves + 1)]\n"
   ]
  },
  {
   "cell_type": "code",
   "execution_count": 17,
   "id": "2ae3b382-4b11-4679-9b39-fcca784f96b3",
   "metadata": {},
   "outputs": [],
   "source": [
    "sol = Solution()"
   ]
  },
  {
   "cell_type": "code",
   "execution_count": 20,
   "id": "85239596-f4b6-41e3-a973-6a9f0d59ded8",
   "metadata": {},
   "outputs": [
    {
     "data": {
      "text/plain": [
       "19"
      ]
     },
     "execution_count": 20,
     "metadata": {},
     "output_type": "execute_result"
    }
   ],
   "source": [
    "sol.racecar(100)"
   ]
  },
  {
   "cell_type": "code",
   "execution_count": null,
   "id": "43c70eb7-e7f3-4892-b970-f3be53f535e4",
   "metadata": {},
   "outputs": [],
   "source": []
  }
 ],
 "metadata": {
  "kernelspec": {
   "display_name": "Python 3 (ipykernel)",
   "language": "python",
   "name": "python3"
  },
  "language_info": {
   "codemirror_mode": {
    "name": "ipython",
    "version": 3
   },
   "file_extension": ".py",
   "mimetype": "text/x-python",
   "name": "python",
   "nbconvert_exporter": "python",
   "pygments_lexer": "ipython3",
   "version": "3.9.16"
  }
 },
 "nbformat": 4,
 "nbformat_minor": 5
}
