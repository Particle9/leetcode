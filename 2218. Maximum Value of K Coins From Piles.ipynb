{
 "cells": [
  {
   "cell_type": "code",
   "execution_count": null,
   "id": "4cdde987-d683-479e-88de-280222843d52",
   "metadata": {},
   "outputs": [],
   "source": [
    "class Solution:\n",
    "    def maxValueOfCoins(self, piles: List[List[int]], k: int) -> int:\n",
    "        # Prefix sums for each pile\n",
    "        prefix_sums = []\n",
    "        for pile in piles:\n",
    "            prefix = [0]\n",
    "            for coin in pile:\n",
    "                prefix.append(prefix[-1] + coin)\n",
    "            prefix_sums.append(prefix)\n",
    "        \n",
    "        dp = [0] * (k + 1)\n",
    "        \n",
    "        for pile in prefix_sums:\n",
    "            next_dp = dp[:]\n",
    "            \n",
    "            for j in range(1, k + 1):\n",
    "                for x in range(min(j, len(pile) - 1) + 1):\n",
    "                    next_dp[j] = max(next_dp[j], dp[j - x] + pile[x])\n",
    "            \n",
    "            dp = next_dp\n",
    "        \n",
    "        return dp[k]"
   ]
  }
 ],
 "metadata": {
  "kernelspec": {
   "display_name": "Python 3 (ipykernel)",
   "language": "python",
   "name": "python3"
  },
  "language_info": {
   "codemirror_mode": {
    "name": "ipython",
    "version": 3
   },
   "file_extension": ".py",
   "mimetype": "text/x-python",
   "name": "python",
   "nbconvert_exporter": "python",
   "pygments_lexer": "ipython3",
   "version": "3.9.16"
  }
 },
 "nbformat": 4,
 "nbformat_minor": 5
}
