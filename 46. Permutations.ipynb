{
 "cells": [
  {
   "cell_type": "code",
   "execution_count": null,
   "id": "1560aca6-90d1-476e-b91e-402689bc6299",
   "metadata": {},
   "outputs": [],
   "source": [
    "class Solution:\n",
    "    def permute(self, nums: List[int]) -> List[List[int]]:\n",
    "        if not(nums):\n",
    "            return []\n",
    "        elif len(nums) == 1:\n",
    "            return [[nums[0]]]\n",
    "\n",
    "        possLst =[]\n",
    "        for i in range(0,len(nums)):\n",
    "            prevPoss = self.permute(nums[:i] + nums[i+1:])\n",
    "            for lv in prevPoss:\n",
    "                possLst += [[nums[i]] + lv]\n",
    "            \n",
    "        return possLst\n",
    "        "
   ]
  }
 ],
 "metadata": {
  "kernelspec": {
   "display_name": "Python 3 (ipykernel)",
   "language": "python",
   "name": "python3"
  },
  "language_info": {
   "codemirror_mode": {
    "name": "ipython",
    "version": 3
   },
   "file_extension": ".py",
   "mimetype": "text/x-python",
   "name": "python",
   "nbconvert_exporter": "python",
   "pygments_lexer": "ipython3",
   "version": "3.9.16"
  }
 },
 "nbformat": 4,
 "nbformat_minor": 5
}
