{
 "cells": [
  {
   "cell_type": "code",
   "execution_count": 1,
   "id": "982000f5-c71f-4ea6-a615-fb341f56f163",
   "metadata": {},
   "outputs": [],
   "source": [
    "class Solution:\n",
    "    def romanToInt(self, s: str) -> int:\n",
    "        dctx = {\n",
    "            'I':1,\n",
    "            'V':5,\n",
    "            'X':10,\n",
    "            'L':50,\n",
    "            'C':100,\n",
    "            'D':500,\n",
    "            'M':1000\n",
    "        }\n",
    "        sum_all = 0\n",
    "        largest = 0\n",
    "        for c in reversed(s):\n",
    "            val = dctx[c]\n",
    "            if val < largest:\n",
    "                val = -val\n",
    "            else:\n",
    "                largest = val\n",
    "            sum_all += val\n",
    "        return sum_all\n",
    "            "
   ]
  },
  {
   "cell_type": "code",
   "execution_count": 3,
   "id": "acda233c-c305-4cec-b474-6b1fd671675b",
   "metadata": {},
   "outputs": [],
   "source": [
    "sol = Solution()"
   ]
  },
  {
   "cell_type": "code",
   "execution_count": 5,
   "id": "46cde725-efc3-41c8-adc3-5896e330ebc2",
   "metadata": {},
   "outputs": [
    {
     "data": {
      "text/plain": [
       "14"
      ]
     },
     "execution_count": 5,
     "metadata": {},
     "output_type": "execute_result"
    }
   ],
   "source": [
    "sol.romanToInt('XIV')"
   ]
  },
  {
   "cell_type": "code",
   "execution_count": 6,
   "id": "3f7ca351-2bdb-424a-8e0b-a17e5cacde7a",
   "metadata": {},
   "outputs": [
    {
     "data": {
      "text/plain": [
       "58"
      ]
     },
     "execution_count": 6,
     "metadata": {},
     "output_type": "execute_result"
    }
   ],
   "source": [
    "sol.romanToInt(\"LVIII\")"
   ]
  },
  {
   "cell_type": "code",
   "execution_count": null,
   "id": "19110f2a-a29d-4aa0-be09-691cb274e809",
   "metadata": {},
   "outputs": [],
   "source": []
  }
 ],
 "metadata": {
  "kernelspec": {
   "display_name": "Python 3 (ipykernel)",
   "language": "python",
   "name": "python3"
  },
  "language_info": {
   "codemirror_mode": {
    "name": "ipython",
    "version": 3
   },
   "file_extension": ".py",
   "mimetype": "text/x-python",
   "name": "python",
   "nbconvert_exporter": "python",
   "pygments_lexer": "ipython3",
   "version": "3.9.16"
  }
 },
 "nbformat": 4,
 "nbformat_minor": 5
}
