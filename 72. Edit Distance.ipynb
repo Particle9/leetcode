{
 "cells": [
  {
   "cell_type": "code",
   "execution_count": null,
   "id": "7f2049c5-2fcb-4861-8f54-cf60cceea112",
   "metadata": {},
   "outputs": [],
   "source": [
    "class Solution:\n",
    "    def minDistance(self, word1: str, word2: str) -> int:\n",
    "        dp = [[0] * (len(word2) + 2) for _ in range(0,len(word1) + 2)]\n",
    "\n",
    "        dp[0][0] = 0\n",
    "        for i in range(1,len(word1)+1):\n",
    "            dp[i][0] = dp[i-1][0] + 1\n",
    "        for j in range(1,len(word2)+1):\n",
    "            dp[0][j] = dp[0][j-1] + 1\n",
    "        \n",
    "        for i in range(1,len(word1)+1):\n",
    "            for j in range(1,len(word2)+1):\n",
    "                if word1[i-1] == word2[j-1]:\n",
    "                    dp[i][j] = dp[i-1][j-1]\n",
    "                else:\n",
    "                    delete1_dis = dp[i-1][j] + 1\n",
    "                    delete2_dis = dp[i][j-1] + 1\n",
    "                    subtitute_dis = dp[i-1][j-1] + 1\n",
    "                    dp[i][j] = min(delete1_dis,delete2_dis, subtitute_dis)\n",
    "        \n",
    "        return dp[len(word1)][len(word2)]\n",
    "        "
   ]
  }
 ],
 "metadata": {
  "kernelspec": {
   "display_name": "Python 3 (ipykernel)",
   "language": "python",
   "name": "python3"
  },
  "language_info": {
   "codemirror_mode": {
    "name": "ipython",
    "version": 3
   },
   "file_extension": ".py",
   "mimetype": "text/x-python",
   "name": "python",
   "nbconvert_exporter": "python",
   "pygments_lexer": "ipython3",
   "version": "3.9.16"
  }
 },
 "nbformat": 4,
 "nbformat_minor": 5
}
